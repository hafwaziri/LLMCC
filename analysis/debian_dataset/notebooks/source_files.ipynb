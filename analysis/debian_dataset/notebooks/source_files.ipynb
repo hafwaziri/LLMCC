{
 "cells": [
  {
   "cell_type": "code",
   "execution_count": 5,
   "id": "d5994256",
   "metadata": {},
   "outputs": [],
   "source": [
    "import polars as pl\n",
    "from rich.console import  Console\n",
    "from rich.table import Table\n",
    "console = Console()"
   ]
  },
  {
   "cell_type": "code",
   "execution_count": null,
   "id": "3283d382",
   "metadata": {},
   "outputs": [],
   "source": [
    "dataset_path = \"\"\n",
    "df = pl.read_parquet(dataset_path)\n",
    "packages_dataset_path = \"\"\n",
    "df_packages = pl.read_parquet(packages_dataset_path)"
   ]
  },
  {
   "cell_type": "code",
   "execution_count": 9,
   "id": "e267cebd",
   "metadata": {},
   "outputs": [
    {
     "data": {
      "text/html": [
       "<pre style=\"white-space:pre;overflow-x:auto;line-height:normal;font-family:Menlo,'DejaVu Sans Mono',consolas,'Courier New',monospace\"><span style=\"font-weight: bold\">Schema Inspection:</span>\n",
       "</pre>\n"
      ],
      "text/plain": [
       "\u001b[1mSchema Inspection:\u001b[0m\n"
      ]
     },
     "metadata": {},
     "output_type": "display_data"
    },
    {
     "data": {
      "text/html": [
       "<pre style=\"white-space:pre;overflow-x:auto;line-height:normal;font-family:Menlo,'DejaVu Sans Mono',consolas,'Courier New',monospace\"><span style=\"font-style: italic\">                                                 DataFrame Schema                                                  </span>\n",
       "┏━━━━━━━━━━━━━━━━━━━━━━━━━━━━━━━━━━━━━━━━━━━━━┳━━━━━━━━━━━━━━━━━━━━━━━━━━━━━━━━━━━━━━━━━━━━━━━━━━━━━━━━━━━━━━━━━━━┓\n",
       "┃<span style=\"color: #800080; text-decoration-color: #800080; font-weight: bold\"> Column Name                                 </span>┃<span style=\"color: #800080; text-decoration-color: #800080; font-weight: bold\"> Data Type                                                         </span>┃\n",
       "┡━━━━━━━━━━━━━━━━━━━━━━━━━━━━━━━━━━━━━━━━━━━━━╇━━━━━━━━━━━━━━━━━━━━━━━━━━━━━━━━━━━━━━━━━━━━━━━━━━━━━━━━━━━━━━━━━━━┩\n",
       "│<span style=\"color: #008080; text-decoration-color: #008080\"> file_path                                   </span>│<span style=\"color: #008000; text-decoration-color: #008000\"> String                                                            </span>│\n",
       "│<span style=\"color: #008080; text-decoration-color: #008080\"> package_name                                </span>│<span style=\"color: #008000; text-decoration-color: #008000\"> String                                                            </span>│\n",
       "│<span style=\"color: #008080; text-decoration-color: #008080\"> compilation_command                         </span>│<span style=\"color: #008000; text-decoration-color: #008000\"> String                                                            </span>│\n",
       "│<span style=\"color: #008080; text-decoration-color: #008080\"> output_file                                 </span>│<span style=\"color: #008000; text-decoration-color: #008000\"> String                                                            </span>│\n",
       "│<span style=\"color: #008080; text-decoration-color: #008080\"> src_functions                               </span>│<span style=\"color: #008000; text-decoration-color: #008000\"> List(Struct({'name': String, 'return_type': String, 'arguments':  </span>│\n",
       "│<span style=\"color: #008080; text-decoration-color: #008080\">                                             </span>│<span style=\"color: #008000; text-decoration-color: #008000\"> List(String)}))                                                   </span>│\n",
       "│<span style=\"color: #008080; text-decoration-color: #008080\"> ir_functions                                </span>│<span style=\"color: #008000; text-decoration-color: #008000\"> List(Struct({'name': String, 'return_type': String, 'arguments':  </span>│\n",
       "│<span style=\"color: #008080; text-decoration-color: #008080\">                                             </span>│<span style=\"color: #008000; text-decoration-color: #008000\"> List(String)}))                                                   </span>│\n",
       "│<span style=\"color: #008080; text-decoration-color: #008080\"> random_function                             </span>│<span style=\"color: #008000; text-decoration-color: #008000\"> Struct({'name': String, 'return_type': String, 'arguments':       </span>│\n",
       "│<span style=\"color: #008080; text-decoration-color: #008080\">                                             </span>│<span style=\"color: #008000; text-decoration-color: #008000\"> List(String)})                                                    </span>│\n",
       "│<span style=\"color: #008080; text-decoration-color: #008080\"> random_function_mangled                     </span>│<span style=\"color: #008000; text-decoration-color: #008000\"> String                                                            </span>│\n",
       "│<span style=\"color: #008080; text-decoration-color: #008080\"> IR_generation_return_code                   </span>│<span style=\"color: #008000; text-decoration-color: #008000\"> Int64                                                             </span>│\n",
       "│<span style=\"color: #008080; text-decoration-color: #008080\"> LLVM_IR                                     </span>│<span style=\"color: #008000; text-decoration-color: #008000\"> String                                                            </span>│\n",
       "│<span style=\"color: #008080; text-decoration-color: #008080\"> IR_generation_stderr                        </span>│<span style=\"color: #008000; text-decoration-color: #008000\"> String                                                            </span>│\n",
       "│<span style=\"color: #008080; text-decoration-color: #008080\"> random_function_IR_generation_return_code   </span>│<span style=\"color: #008000; text-decoration-color: #008000\"> Int64                                                             </span>│\n",
       "│<span style=\"color: #008080; text-decoration-color: #008080\"> random_function_IR                          </span>│<span style=\"color: #008000; text-decoration-color: #008000\"> String                                                            </span>│\n",
       "│<span style=\"color: #008080; text-decoration-color: #008080\"> random_function_IR_stderr                   </span>│<span style=\"color: #008000; text-decoration-color: #008000\"> String                                                            </span>│\n",
       "│<span style=\"color: #008080; text-decoration-color: #008080\"> object_file_generation_return_code          </span>│<span style=\"color: #008000; text-decoration-color: #008000\"> Int64                                                             </span>│\n",
       "│<span style=\"color: #008080; text-decoration-color: #008080\"> timestamp_check                             </span>│<span style=\"color: #008000; text-decoration-color: #008000\"> Boolean                                                           </span>│\n",
       "│<span style=\"color: #008080; text-decoration-color: #008080\"> relinked_llvm_ir                            </span>│<span style=\"color: #008000; text-decoration-color: #008000\"> String                                                            </span>│\n",
       "│<span style=\"color: #008080; text-decoration-color: #008080\"> modified_object_file_generation_return_code </span>│<span style=\"color: #008000; text-decoration-color: #008000\"> Int64                                                             </span>│\n",
       "│<span style=\"color: #008080; text-decoration-color: #008080\"> modified_object_file_timestamp_check        </span>│<span style=\"color: #008000; text-decoration-color: #008000\"> Int64                                                             </span>│\n",
       "└─────────────────────────────────────────────┴───────────────────────────────────────────────────────────────────┘\n",
       "</pre>\n"
      ],
      "text/plain": [
       "\u001b[3m                                                 DataFrame Schema                                                  \u001b[0m\n",
       "┏━━━━━━━━━━━━━━━━━━━━━━━━━━━━━━━━━━━━━━━━━━━━━┳━━━━━━━━━━━━━━━━━━━━━━━━━━━━━━━━━━━━━━━━━━━━━━━━━━━━━━━━━━━━━━━━━━━┓\n",
       "┃\u001b[1;35m \u001b[0m\u001b[1;35mColumn Name                                \u001b[0m\u001b[1;35m \u001b[0m┃\u001b[1;35m \u001b[0m\u001b[1;35mData Type                                                        \u001b[0m\u001b[1;35m \u001b[0m┃\n",
       "┡━━━━━━━━━━━━━━━━━━━━━━━━━━━━━━━━━━━━━━━━━━━━━╇━━━━━━━━━━━━━━━━━━━━━━━━━━━━━━━━━━━━━━━━━━━━━━━━━━━━━━━━━━━━━━━━━━━┩\n",
       "│\u001b[36m \u001b[0m\u001b[36mfile_path                                  \u001b[0m\u001b[36m \u001b[0m│\u001b[32m \u001b[0m\u001b[32mString                                                           \u001b[0m\u001b[32m \u001b[0m│\n",
       "│\u001b[36m \u001b[0m\u001b[36mpackage_name                               \u001b[0m\u001b[36m \u001b[0m│\u001b[32m \u001b[0m\u001b[32mString                                                           \u001b[0m\u001b[32m \u001b[0m│\n",
       "│\u001b[36m \u001b[0m\u001b[36mcompilation_command                        \u001b[0m\u001b[36m \u001b[0m│\u001b[32m \u001b[0m\u001b[32mString                                                           \u001b[0m\u001b[32m \u001b[0m│\n",
       "│\u001b[36m \u001b[0m\u001b[36moutput_file                                \u001b[0m\u001b[36m \u001b[0m│\u001b[32m \u001b[0m\u001b[32mString                                                           \u001b[0m\u001b[32m \u001b[0m│\n",
       "│\u001b[36m \u001b[0m\u001b[36msrc_functions                              \u001b[0m\u001b[36m \u001b[0m│\u001b[32m \u001b[0m\u001b[32mList(Struct({'name': String, 'return_type': String, 'arguments': \u001b[0m\u001b[32m \u001b[0m│\n",
       "│\u001b[36m                                             \u001b[0m│\u001b[32m \u001b[0m\u001b[32mList(String)}))                                                  \u001b[0m\u001b[32m \u001b[0m│\n",
       "│\u001b[36m \u001b[0m\u001b[36mir_functions                               \u001b[0m\u001b[36m \u001b[0m│\u001b[32m \u001b[0m\u001b[32mList(Struct({'name': String, 'return_type': String, 'arguments': \u001b[0m\u001b[32m \u001b[0m│\n",
       "│\u001b[36m                                             \u001b[0m│\u001b[32m \u001b[0m\u001b[32mList(String)}))                                                  \u001b[0m\u001b[32m \u001b[0m│\n",
       "│\u001b[36m \u001b[0m\u001b[36mrandom_function                            \u001b[0m\u001b[36m \u001b[0m│\u001b[32m \u001b[0m\u001b[32mStruct({'name': String, 'return_type': String, 'arguments':      \u001b[0m\u001b[32m \u001b[0m│\n",
       "│\u001b[36m                                             \u001b[0m│\u001b[32m \u001b[0m\u001b[32mList(String)})                                                   \u001b[0m\u001b[32m \u001b[0m│\n",
       "│\u001b[36m \u001b[0m\u001b[36mrandom_function_mangled                    \u001b[0m\u001b[36m \u001b[0m│\u001b[32m \u001b[0m\u001b[32mString                                                           \u001b[0m\u001b[32m \u001b[0m│\n",
       "│\u001b[36m \u001b[0m\u001b[36mIR_generation_return_code                  \u001b[0m\u001b[36m \u001b[0m│\u001b[32m \u001b[0m\u001b[32mInt64                                                            \u001b[0m\u001b[32m \u001b[0m│\n",
       "│\u001b[36m \u001b[0m\u001b[36mLLVM_IR                                    \u001b[0m\u001b[36m \u001b[0m│\u001b[32m \u001b[0m\u001b[32mString                                                           \u001b[0m\u001b[32m \u001b[0m│\n",
       "│\u001b[36m \u001b[0m\u001b[36mIR_generation_stderr                       \u001b[0m\u001b[36m \u001b[0m│\u001b[32m \u001b[0m\u001b[32mString                                                           \u001b[0m\u001b[32m \u001b[0m│\n",
       "│\u001b[36m \u001b[0m\u001b[36mrandom_function_IR_generation_return_code  \u001b[0m\u001b[36m \u001b[0m│\u001b[32m \u001b[0m\u001b[32mInt64                                                            \u001b[0m\u001b[32m \u001b[0m│\n",
       "│\u001b[36m \u001b[0m\u001b[36mrandom_function_IR                         \u001b[0m\u001b[36m \u001b[0m│\u001b[32m \u001b[0m\u001b[32mString                                                           \u001b[0m\u001b[32m \u001b[0m│\n",
       "│\u001b[36m \u001b[0m\u001b[36mrandom_function_IR_stderr                  \u001b[0m\u001b[36m \u001b[0m│\u001b[32m \u001b[0m\u001b[32mString                                                           \u001b[0m\u001b[32m \u001b[0m│\n",
       "│\u001b[36m \u001b[0m\u001b[36mobject_file_generation_return_code         \u001b[0m\u001b[36m \u001b[0m│\u001b[32m \u001b[0m\u001b[32mInt64                                                            \u001b[0m\u001b[32m \u001b[0m│\n",
       "│\u001b[36m \u001b[0m\u001b[36mtimestamp_check                            \u001b[0m\u001b[36m \u001b[0m│\u001b[32m \u001b[0m\u001b[32mBoolean                                                          \u001b[0m\u001b[32m \u001b[0m│\n",
       "│\u001b[36m \u001b[0m\u001b[36mrelinked_llvm_ir                           \u001b[0m\u001b[36m \u001b[0m│\u001b[32m \u001b[0m\u001b[32mString                                                           \u001b[0m\u001b[32m \u001b[0m│\n",
       "│\u001b[36m \u001b[0m\u001b[36mmodified_object_file_generation_return_code\u001b[0m\u001b[36m \u001b[0m│\u001b[32m \u001b[0m\u001b[32mInt64                                                            \u001b[0m\u001b[32m \u001b[0m│\n",
       "│\u001b[36m \u001b[0m\u001b[36mmodified_object_file_timestamp_check       \u001b[0m\u001b[36m \u001b[0m│\u001b[32m \u001b[0m\u001b[32mInt64                                                            \u001b[0m\u001b[32m \u001b[0m│\n",
       "└─────────────────────────────────────────────┴───────────────────────────────────────────────────────────────────┘\n"
      ]
     },
     "metadata": {},
     "output_type": "display_data"
    },
    {
     "data": {
      "text/html": [
       "<pre style=\"white-space:pre;overflow-x:auto;line-height:normal;font-family:Menlo,'DejaVu Sans Mono',consolas,'Courier New',monospace\">\n",
       "<span style=\"font-weight: bold\">DataFrame Shape:</span> <span style=\"color: #008080; text-decoration-color: #008080; font-weight: bold\">(</span><span style=\"color: #008080; text-decoration-color: #008080; font-weight: bold\">4612</span><span style=\"color: #008080; text-decoration-color: #008080\">, </span><span style=\"color: #008080; text-decoration-color: #008080; font-weight: bold\">19</span><span style=\"color: #008080; text-decoration-color: #008080; font-weight: bold\">)</span>\n",
       "<span style=\"font-weight: bold\">Number of source files:</span> <span style=\"color: #008000; text-decoration-color: #008000; font-weight: bold\">4612</span>\n",
       "<span style=\"font-weight: bold\">Number of columns:</span> <span style=\"color: #008000; text-decoration-color: #008000; font-weight: bold\">19</span>\n",
       "\n",
       "</pre>\n"
      ],
      "text/plain": [
       "\n",
       "\u001b[1mDataFrame Shape:\u001b[0m \u001b[1;36m(\u001b[0m\u001b[1;36m4612\u001b[0m\u001b[36m, \u001b[0m\u001b[1;36m19\u001b[0m\u001b[1;36m)\u001b[0m\n",
       "\u001b[1mNumber of source files:\u001b[0m \u001b[1;32m4612\u001b[0m\n",
       "\u001b[1mNumber of columns:\u001b[0m \u001b[1;32m19\u001b[0m\n",
       "\n"
      ]
     },
     "metadata": {},
     "output_type": "display_data"
    }
   ],
   "source": [
    "# Schema Inspection\n",
    "\n",
    "console.print(\"[bold]Schema Inspection:[/bold]\", style=\"bold\")\n",
    "table = Table(title=\"DataFrame Schema\", show_header=True, header_style=\"bold magenta\")\n",
    "table.add_column(\"Column Name\", style=\"cyan\", no_wrap=True)\n",
    "table.add_column(\"Data Type\", style=\"green\")\n",
    "\n",
    "for name, dtype in df.schema.items():\n",
    "    table.add_row(name, str(dtype))\n",
    "\n",
    "console.print(table)\n",
    "\n",
    "\n",
    "shape_info = f\"\"\"\n",
    "[bold]DataFrame Shape:[/bold] [cyan]({df.shape[0]}, {df.shape[1]})[/cyan]\n",
    "[bold]Number of source files:[/bold] [green]{df.shape[0]}[/green]\n",
    "[bold]Number of columns:[/bold] [green]{df.shape[1]}[/green]\n",
    "\"\"\"\n",
    "\n",
    "console.print(shape_info)"
   ]
  },
  {
   "cell_type": "code",
   "execution_count": 12,
   "id": "e92204ae",
   "metadata": {},
   "outputs": [
    {
     "data": {
      "text/html": [
       "<pre style=\"white-space:pre;overflow-x:auto;line-height:normal;font-family:Menlo,'DejaVu Sans Mono',consolas,'Courier New',monospace\">\n",
       "<span style=\"color: #008080; text-decoration-color: #008080; font-weight: bold\">Source Files per Package Analysis:</span>\n",
       "</pre>\n"
      ],
      "text/plain": [
       "\n",
       "\u001b[1;36mSource Files per Package Analysis:\u001b[0m\n"
      ]
     },
     "metadata": {},
     "output_type": "display_data"
    },
    {
     "data": {
      "text/html": [
       "<pre style=\"white-space:pre;overflow-x:auto;line-height:normal;font-family:Menlo,'DejaVu Sans Mono',consolas,'Courier New',monospace\"><span style=\"font-style: italic\">  Source Files per Package Summary   </span>\n",
       "┏━━━━━━━━━━━━━━━━━━━━━━━━━━━┳━━━━━━━┓\n",
       "┃<span style=\"color: #800080; text-decoration-color: #800080; font-weight: bold\"> Metric                    </span>┃<span style=\"color: #800080; text-decoration-color: #800080; font-weight: bold\"> Value </span>┃\n",
       "┡━━━━━━━━━━━━━━━━━━━━━━━━━━━╇━━━━━━━┩\n",
       "│<span style=\"color: #008080; text-decoration-color: #008080\"> Total Packages            </span>│<span style=\"color: #008000; text-decoration-color: #008000\">    86 </span>│\n",
       "│<span style=\"color: #008080; text-decoration-color: #008080\"> Total Source Files        </span>│<span style=\"color: #008000; text-decoration-color: #008000\">  4612 </span>│\n",
       "│<span style=\"color: #008080; text-decoration-color: #008080\"> Average Files per Package </span>│<span style=\"color: #008000; text-decoration-color: #008000\"> 53.63 </span>│\n",
       "│<span style=\"color: #008080; text-decoration-color: #008080\"> Median Files per Package  </span>│<span style=\"color: #008000; text-decoration-color: #008000\">  23.5 </span>│\n",
       "│<span style=\"color: #008080; text-decoration-color: #008080\"> Min Files per Package     </span>│<span style=\"color: #008000; text-decoration-color: #008000\">     1 </span>│\n",
       "│<span style=\"color: #008080; text-decoration-color: #008080\"> Max Files per Package     </span>│<span style=\"color: #008000; text-decoration-color: #008000\">   393 </span>│\n",
       "└───────────────────────────┴───────┘\n",
       "</pre>\n"
      ],
      "text/plain": [
       "\u001b[3m  Source Files per Package Summary   \u001b[0m\n",
       "┏━━━━━━━━━━━━━━━━━━━━━━━━━━━┳━━━━━━━┓\n",
       "┃\u001b[1;35m \u001b[0m\u001b[1;35mMetric                   \u001b[0m\u001b[1;35m \u001b[0m┃\u001b[1;35m \u001b[0m\u001b[1;35mValue\u001b[0m\u001b[1;35m \u001b[0m┃\n",
       "┡━━━━━━━━━━━━━━━━━━━━━━━━━━━╇━━━━━━━┩\n",
       "│\u001b[36m \u001b[0m\u001b[36mTotal Packages           \u001b[0m\u001b[36m \u001b[0m│\u001b[32m \u001b[0m\u001b[32m   86\u001b[0m\u001b[32m \u001b[0m│\n",
       "│\u001b[36m \u001b[0m\u001b[36mTotal Source Files       \u001b[0m\u001b[36m \u001b[0m│\u001b[32m \u001b[0m\u001b[32m 4612\u001b[0m\u001b[32m \u001b[0m│\n",
       "│\u001b[36m \u001b[0m\u001b[36mAverage Files per Package\u001b[0m\u001b[36m \u001b[0m│\u001b[32m \u001b[0m\u001b[32m53.63\u001b[0m\u001b[32m \u001b[0m│\n",
       "│\u001b[36m \u001b[0m\u001b[36mMedian Files per Package \u001b[0m\u001b[36m \u001b[0m│\u001b[32m \u001b[0m\u001b[32m 23.5\u001b[0m\u001b[32m \u001b[0m│\n",
       "│\u001b[36m \u001b[0m\u001b[36mMin Files per Package    \u001b[0m\u001b[36m \u001b[0m│\u001b[32m \u001b[0m\u001b[32m    1\u001b[0m\u001b[32m \u001b[0m│\n",
       "│\u001b[36m \u001b[0m\u001b[36mMax Files per Package    \u001b[0m\u001b[36m \u001b[0m│\u001b[32m \u001b[0m\u001b[32m  393\u001b[0m\u001b[32m \u001b[0m│\n",
       "└───────────────────────────┴───────┘\n"
      ]
     },
     "metadata": {},
     "output_type": "display_data"
    },
    {
     "data": {
      "text/html": [
       "<pre style=\"white-space:pre;overflow-x:auto;line-height:normal;font-family:Menlo,'DejaVu Sans Mono',consolas,'Courier New',monospace\">\n",
       "<span style=\"color: #008080; text-decoration-color: #008080; font-weight: bold\">Top </span><span style=\"color: #008080; text-decoration-color: #008080; font-weight: bold\">10</span><span style=\"color: #008080; text-decoration-color: #008080; font-weight: bold\"> Packages with Most Source Files:</span>\n",
       "</pre>\n"
      ],
      "text/plain": [
       "\n",
       "\u001b[1;36mTop \u001b[0m\u001b[1;36m10\u001b[0m\u001b[1;36m Packages with Most Source Files:\u001b[0m\n"
      ]
     },
     "metadata": {},
     "output_type": "display_data"
    },
    {
     "data": {
      "text/html": [
       "<pre style=\"white-space:pre;overflow-x:auto;line-height:normal;font-family:Menlo,'DejaVu Sans Mono',consolas,'Courier New',monospace\"><span style=\"font-style: italic\">          Packages with Most Source Files           </span>\n",
       "┏━━━━━━━━━━━━━━━━━━━━━━━━━━━━━━━━┳━━━━━━━━━━━━━━━━━┓\n",
       "┃<span style=\"color: #800080; text-decoration-color: #800080; font-weight: bold\"> Package Name                   </span>┃<span style=\"color: #800080; text-decoration-color: #800080; font-weight: bold\"> Number of Files </span>┃\n",
       "┡━━━━━━━━━━━━━━━━━━━━━━━━━━━━━━━━╇━━━━━━━━━━━━━━━━━┩\n",
       "│<span style=\"color: #008080; text-decoration-color: #008080\"> monado                         </span>│<span style=\"color: #008000; text-decoration-color: #008000\">             393 </span>│\n",
       "│<span style=\"color: #008080; text-decoration-color: #008080\"> sox                            </span>│<span style=\"color: #008000; text-decoration-color: #008000\">             379 </span>│\n",
       "│<span style=\"color: #008080; text-decoration-color: #008080\"> cyclonedds                     </span>│<span style=\"color: #008000; text-decoration-color: #008000\">             270 </span>│\n",
       "│<span style=\"color: #008080; text-decoration-color: #008080\"> bambootracker                  </span>│<span style=\"color: #008000; text-decoration-color: #008000\">             221 </span>│\n",
       "│<span style=\"color: #008080; text-decoration-color: #008080\"> clucene-core                   </span>│<span style=\"color: #008000; text-decoration-color: #008000\">             202 </span>│\n",
       "│<span style=\"color: #008080; text-decoration-color: #008080\"> biosig                         </span>│<span style=\"color: #008000; text-decoration-color: #008000\">             193 </span>│\n",
       "│<span style=\"color: #008080; text-decoration-color: #008080\"> simavr                         </span>│<span style=\"color: #008000; text-decoration-color: #008000\">             180 </span>│\n",
       "│<span style=\"color: #008080; text-decoration-color: #008080\"> form                           </span>│<span style=\"color: #008000; text-decoration-color: #008000\">             171 </span>│\n",
       "│<span style=\"color: #008080; text-decoration-color: #008080\"> nanomsg                        </span>│<span style=\"color: #008000; text-decoration-color: #008000\">             149 </span>│\n",
       "│<span style=\"color: #008080; text-decoration-color: #008080\"> libsfml                        </span>│<span style=\"color: #008000; text-decoration-color: #008000\">             139 </span>│\n",
       "└────────────────────────────────┴─────────────────┘\n",
       "</pre>\n"
      ],
      "text/plain": [
       "\u001b[3m          Packages with Most Source Files           \u001b[0m\n",
       "┏━━━━━━━━━━━━━━━━━━━━━━━━━━━━━━━━┳━━━━━━━━━━━━━━━━━┓\n",
       "┃\u001b[1;35m \u001b[0m\u001b[1;35mPackage Name                  \u001b[0m\u001b[1;35m \u001b[0m┃\u001b[1;35m \u001b[0m\u001b[1;35mNumber of Files\u001b[0m\u001b[1;35m \u001b[0m┃\n",
       "┡━━━━━━━━━━━━━━━━━━━━━━━━━━━━━━━━╇━━━━━━━━━━━━━━━━━┩\n",
       "│\u001b[36m \u001b[0m\u001b[36mmonado                        \u001b[0m\u001b[36m \u001b[0m│\u001b[32m \u001b[0m\u001b[32m            393\u001b[0m\u001b[32m \u001b[0m│\n",
       "│\u001b[36m \u001b[0m\u001b[36msox                           \u001b[0m\u001b[36m \u001b[0m│\u001b[32m \u001b[0m\u001b[32m            379\u001b[0m\u001b[32m \u001b[0m│\n",
       "│\u001b[36m \u001b[0m\u001b[36mcyclonedds                    \u001b[0m\u001b[36m \u001b[0m│\u001b[32m \u001b[0m\u001b[32m            270\u001b[0m\u001b[32m \u001b[0m│\n",
       "│\u001b[36m \u001b[0m\u001b[36mbambootracker                 \u001b[0m\u001b[36m \u001b[0m│\u001b[32m \u001b[0m\u001b[32m            221\u001b[0m\u001b[32m \u001b[0m│\n",
       "│\u001b[36m \u001b[0m\u001b[36mclucene-core                  \u001b[0m\u001b[36m \u001b[0m│\u001b[32m \u001b[0m\u001b[32m            202\u001b[0m\u001b[32m \u001b[0m│\n",
       "│\u001b[36m \u001b[0m\u001b[36mbiosig                        \u001b[0m\u001b[36m \u001b[0m│\u001b[32m \u001b[0m\u001b[32m            193\u001b[0m\u001b[32m \u001b[0m│\n",
       "│\u001b[36m \u001b[0m\u001b[36msimavr                        \u001b[0m\u001b[36m \u001b[0m│\u001b[32m \u001b[0m\u001b[32m            180\u001b[0m\u001b[32m \u001b[0m│\n",
       "│\u001b[36m \u001b[0m\u001b[36mform                          \u001b[0m\u001b[36m \u001b[0m│\u001b[32m \u001b[0m\u001b[32m            171\u001b[0m\u001b[32m \u001b[0m│\n",
       "│\u001b[36m \u001b[0m\u001b[36mnanomsg                       \u001b[0m\u001b[36m \u001b[0m│\u001b[32m \u001b[0m\u001b[32m            149\u001b[0m\u001b[32m \u001b[0m│\n",
       "│\u001b[36m \u001b[0m\u001b[36mlibsfml                       \u001b[0m\u001b[36m \u001b[0m│\u001b[32m \u001b[0m\u001b[32m            139\u001b[0m\u001b[32m \u001b[0m│\n",
       "└────────────────────────────────┴─────────────────┘\n"
      ]
     },
     "metadata": {},
     "output_type": "display_data"
    }
   ],
   "source": [
    "# Average Source Files per Package Analysis\n",
    "\n",
    "console.print(\"\\n[bold][cyan]Source Files per Package Analysis:[/cyan][/bold]\", style=\"bold\")\n",
    "\n",
    "# Count source files per package\n",
    "files_per_package = (df\n",
    "    .group_by(\"package_name\")\n",
    "    .agg([\n",
    "        pl.len().alias(\"file_count\")\n",
    "    ])\n",
    "    .sort(\"file_count\", descending=True)\n",
    ")\n",
    "\n",
    "# Calculate statistics\n",
    "total_packages = files_per_package.height\n",
    "total_files = df.height\n",
    "avg_files_per_package = total_files / total_packages\n",
    "min_files = files_per_package.get_column(\"file_count\").min()\n",
    "max_files = files_per_package.get_column(\"file_count\").max()\n",
    "median_files = files_per_package.get_column(\"file_count\").median()\n",
    "\n",
    "summary_table = Table(title=\"Source Files per Package Summary\", show_header=True, header_style=\"bold magenta\")\n",
    "summary_table.add_column(\"Metric\", style=\"cyan\", no_wrap=True)\n",
    "summary_table.add_column(\"Value\", style=\"green\", justify=\"right\")\n",
    "\n",
    "summary_table.add_row(\"Total Packages\", f\"{total_packages}\")\n",
    "summary_table.add_row(\"Total Source Files\", f\"{total_files}\")\n",
    "summary_table.add_row(\"Average Files per Package\", f\"{avg_files_per_package:.2f}\")\n",
    "summary_table.add_row(\"Median Files per Package\", f\"{median_files:.1f}\")\n",
    "summary_table.add_row(\"Min Files per Package\", f\"{min_files}\")\n",
    "summary_table.add_row(\"Max Files per Package\", f\"{max_files}\")\n",
    "\n",
    "console.print(summary_table)\n",
    "\n",
    "# Show top 10 packages with most files\n",
    "console.print(\"\\n[bold][cyan]Top 10 Packages with Most Source Files:[/cyan][/bold]\", style=\"bold\")\n",
    "\n",
    "top_packages = files_per_package.head(10)\n",
    "\n",
    "top_table = Table(title=\"Packages with Most Source Files\", show_header=True, header_style=\"bold magenta\")\n",
    "top_table.add_column(\"Package Name\", style=\"cyan\", no_wrap=False, width=30)\n",
    "top_table.add_column(\"Number of Files\", style=\"green\", justify=\"right\")\n",
    "\n",
    "for row in top_packages.iter_rows():\n",
    "    package_name, file_count = row\n",
    "    top_table.add_row(package_name, f\"{file_count}\")\n",
    "\n",
    "console.print(top_table)"
   ]
  },
  {
   "cell_type": "code",
   "execution_count": 15,
   "id": "59bb6868",
   "metadata": {},
   "outputs": [
    {
     "data": {
      "text/html": [
       "<pre style=\"white-space:pre;overflow-x:auto;line-height:normal;font-family:Menlo,'DejaVu Sans Mono',consolas,'Courier New',monospace\">\n",
       "<span style=\"color: #008080; text-decoration-color: #008080; font-weight: bold\">Skipped Source Files Analysis:</span>\n",
       "</pre>\n"
      ],
      "text/plain": [
       "\n",
       "\u001b[1;36mSkipped Source Files Analysis:\u001b[0m\n"
      ]
     },
     "metadata": {},
     "output_type": "display_data"
    },
    {
     "data": {
      "text/html": [
       "<pre style=\"white-space:pre;overflow-x:auto;line-height:normal;font-family:Menlo,'DejaVu Sans Mono',consolas,'Courier New',monospace\"><span style=\"font-style: italic\">     Source Files Skip Analysis Summary      </span>\n",
       "┏━━━━━━━━━━━━━━━━━━━━━━┳━━━━━━━┳━━━━━━━━━━━━┓\n",
       "┃<span style=\"color: #800080; text-decoration-color: #800080; font-weight: bold\"> Category             </span>┃<span style=\"color: #800080; text-decoration-color: #800080; font-weight: bold\"> Count </span>┃<span style=\"color: #800080; text-decoration-color: #800080; font-weight: bold\"> Percentage </span>┃\n",
       "┡━━━━━━━━━━━━━━━━━━━━━━╇━━━━━━━╇━━━━━━━━━━━━┩\n",
       "│<span style=\"color: #008080; text-decoration-color: #008080\"> Total Source Files   </span>│<span style=\"color: #008000; text-decoration-color: #008000\">  4612 </span>│<span style=\"color: #808000; text-decoration-color: #808000\">    100.00% </span>│\n",
       "│<span style=\"color: #008080; text-decoration-color: #008080\"> Files Skipped        </span>│<span style=\"color: #008000; text-decoration-color: #008000\">   276 </span>│<span style=\"color: #808000; text-decoration-color: #808000\">      5.98% </span>│\n",
       "│<span style=\"color: #008080; text-decoration-color: #008080\"> Files without Output </span>│<span style=\"color: #008000; text-decoration-color: #008000\">    69 </span>│<span style=\"color: #808000; text-decoration-color: #808000\">      1.50% </span>│\n",
       "└──────────────────────┴───────┴────────────┘\n",
       "</pre>\n"
      ],
      "text/plain": [
       "\u001b[3m     Source Files Skip Analysis Summary      \u001b[0m\n",
       "┏━━━━━━━━━━━━━━━━━━━━━━┳━━━━━━━┳━━━━━━━━━━━━┓\n",
       "┃\u001b[1;35m \u001b[0m\u001b[1;35mCategory            \u001b[0m\u001b[1;35m \u001b[0m┃\u001b[1;35m \u001b[0m\u001b[1;35mCount\u001b[0m\u001b[1;35m \u001b[0m┃\u001b[1;35m \u001b[0m\u001b[1;35mPercentage\u001b[0m\u001b[1;35m \u001b[0m┃\n",
       "┡━━━━━━━━━━━━━━━━━━━━━━╇━━━━━━━╇━━━━━━━━━━━━┩\n",
       "│\u001b[36m \u001b[0m\u001b[36mTotal Source Files  \u001b[0m\u001b[36m \u001b[0m│\u001b[32m \u001b[0m\u001b[32m 4612\u001b[0m\u001b[32m \u001b[0m│\u001b[33m \u001b[0m\u001b[33m   100.00%\u001b[0m\u001b[33m \u001b[0m│\n",
       "│\u001b[36m \u001b[0m\u001b[36mFiles Skipped       \u001b[0m\u001b[36m \u001b[0m│\u001b[32m \u001b[0m\u001b[32m  276\u001b[0m\u001b[32m \u001b[0m│\u001b[33m \u001b[0m\u001b[33m     5.98%\u001b[0m\u001b[33m \u001b[0m│\n",
       "│\u001b[36m \u001b[0m\u001b[36mFiles without Output\u001b[0m\u001b[36m \u001b[0m│\u001b[32m \u001b[0m\u001b[32m   69\u001b[0m\u001b[32m \u001b[0m│\u001b[33m \u001b[0m\u001b[33m     1.50%\u001b[0m\u001b[33m \u001b[0m│\n",
       "└──────────────────────┴───────┴────────────┘\n"
      ]
     },
     "metadata": {},
     "output_type": "display_data"
    }
   ],
   "source": [
    "# Skipped Source Files Analysis\n",
    "\n",
    "console.print(\"\\n[bold][cyan]Skipped Source Files Analysis:[/cyan][/bold]\", style=\"bold\")\n",
    "\n",
    "cmake_files = [\"CMakeCCompilerId.c\", \"CMakeCXXCompilerId.cpp\", \"CMakeCCompilerABI.c\", \"CMakeCXXCompilerABI.cpp\"]\n",
    "test_directories = [\"tests\", \"test\", \"t\", \"testing\", \"unittest\", \"ctest\", \"check\", \"test-suite\", \"testsuite\", \"regression\"]\n",
    "\n",
    "df_with_analysis = df.with_columns([\n",
    "    pl.col(\"file_path\").str.split(\"/\").list.last().alias(\"file_name\"),\n",
    "    pl.col(\"file_path\").str.split(\"/\").list.slice(-2, 1).list.first().alias(\"parent_directory\")\n",
    "])\n",
    "\n",
    "# Identify skipped files\n",
    "skipped_files = df_with_analysis.filter(\n",
    "    pl.col(\"file_name\").is_in(cmake_files) |\n",
    "    pl.col(\"parent_directory\").is_in(test_directories) |\n",
    "    pl.col(\"file_name\").str.to_lowercase().str.contains(\"test\") |\n",
    "    pl.col(\"file_name\").str.to_lowercase().str.contains(\"testing\")\n",
    ")\n",
    "\n",
    "# Count files without output\n",
    "files_without_output = df.filter(\n",
    "    (pl.col(\"output_file\").is_null()) | (pl.col(\"output_file\") == \"\")\n",
    ")\n",
    "\n",
    "total_files = df.height\n",
    "skipped_count = skipped_files.height\n",
    "skipped_percentage = (skipped_count / total_files * 100)\n",
    "no_output_count = files_without_output.height\n",
    "no_output_percentage = (no_output_count / total_files * 100)\n",
    "\n",
    "# Summary table\n",
    "skip_summary = Table(title=\"Source Files Skip Analysis Summary\", show_header=True, header_style=\"bold magenta\")\n",
    "skip_summary.add_column(\"Category\", style=\"cyan\", no_wrap=True)\n",
    "skip_summary.add_column(\"Count\", style=\"green\", justify=\"right\")\n",
    "skip_summary.add_column(\"Percentage\", style=\"yellow\", justify=\"right\")\n",
    "\n",
    "skip_summary.add_row(\"Total Source Files\", f\"{total_files}\", \"100.00%\")\n",
    "skip_summary.add_row(\"Files Skipped\", f\"{skipped_count}\", f\"{skipped_percentage:.2f}%\")\n",
    "skip_summary.add_row(\"Files without Output\", f\"{no_output_count}\", f\"{no_output_percentage:.2f}%\")\n",
    "\n",
    "console.print(skip_summary)"
   ]
  },
  {
   "cell_type": "code",
   "execution_count": 19,
   "id": "bbb92007",
   "metadata": {},
   "outputs": [
    {
     "data": {
      "text/html": [
       "<pre style=\"white-space:pre;overflow-x:auto;line-height:normal;font-family:Menlo,'DejaVu Sans Mono',consolas,'Courier New',monospace\">\n",
       "<span style=\"color: #008080; text-decoration-color: #008080; font-weight: bold\">Success Rate Analysis:</span>\n",
       "</pre>\n"
      ],
      "text/plain": [
       "\n",
       "\u001b[1;36mSuccess Rate Analysis:\u001b[0m\n"
      ]
     },
     "metadata": {},
     "output_type": "display_data"
    },
    {
     "data": {
      "text/html": [
       "<pre style=\"white-space:pre;overflow-x:auto;line-height:normal;font-family:Menlo,'DejaVu Sans Mono',consolas,'Courier New',monospace\"><span style=\"font-style: italic\">                                Success Rate Analysis                                 </span>\n",
       "┏━━━━━━━━━━━━━━━━━━━━━━━━━━━━━━━━━━━━━┳━━━━━━━━━━━━━━━━━━━━━┳━━━━━━━━━━━━━━━━━━━━━━━━┓\n",
       "┃<span style=\"color: #800080; text-decoration-color: #800080; font-weight: bold\"> Metric                              </span>┃<span style=\"color: #800080; text-decoration-color: #800080; font-weight: bold\"> Average per Package </span>┃<span style=\"color: #800080; text-decoration-color: #800080; font-weight: bold\"> Average over All Files </span>┃\n",
       "┡━━━━━━━━━━━━━━━━━━━━━━━━━━━━━━━━━━━━━╇━━━━━━━━━━━━━━━━━━━━━╇━━━━━━━━━━━━━━━━━━━━━━━━┩\n",
       "│<span style=\"color: #008080; text-decoration-color: #008080\"> Source Function Extraction          </span>│<span style=\"color: #008000; text-decoration-color: #008000\">             100.00% </span>│<span style=\"color: #808000; text-decoration-color: #808000\">                100.00% </span>│\n",
       "│<span style=\"color: #008080; text-decoration-color: #008080\"> IR Function Extraction              </span>│<span style=\"color: #008000; text-decoration-color: #008000\">             100.00% </span>│<span style=\"color: #808000; text-decoration-color: #808000\">                100.00% </span>│\n",
       "│<span style=\"color: #008080; text-decoration-color: #008080\"> Random Function Selection           </span>│<span style=\"color: #008000; text-decoration-color: #008000\">              82.02% </span>│<span style=\"color: #808000; text-decoration-color: #808000\">                 83.48% </span>│\n",
       "│<span style=\"color: #008080; text-decoration-color: #008080\"> LLVM IR Generation                  </span>│<span style=\"color: #008000; text-decoration-color: #008000\">              92.08% </span>│<span style=\"color: #808000; text-decoration-color: #808000\">                 94.64% </span>│\n",
       "│<span style=\"color: #008080; text-decoration-color: #008080\"> Random Function IR Generation       </span>│<span style=\"color: #008000; text-decoration-color: #008000\">              82.02% </span>│<span style=\"color: #808000; text-decoration-color: #808000\">                 83.48% </span>│\n",
       "│<span style=\"color: #008080; text-decoration-color: #008080\"> Object File Generation              </span>│<span style=\"color: #008000; text-decoration-color: #008000\">              74.99% </span>│<span style=\"color: #808000; text-decoration-color: #808000\">                 83.65% </span>│\n",
       "│<span style=\"color: #008080; text-decoration-color: #008080\"> Relinked LLVM IR Generation         </span>│<span style=\"color: #008000; text-decoration-color: #008000\">              62.26% </span>│<span style=\"color: #808000; text-decoration-color: #808000\">                 72.14% </span>│\n",
       "│<span style=\"color: #008080; text-decoration-color: #008080\"> Modified Object File Generation     </span>│<span style=\"color: #008000; text-decoration-color: #008000\">              57.93% </span>│<span style=\"color: #808000; text-decoration-color: #808000\">                 65.18% </span>│\n",
       "└─────────────────────────────────────┴─────────────────────┴────────────────────────┘\n",
       "</pre>\n"
      ],
      "text/plain": [
       "\u001b[3m                                Success Rate Analysis                                 \u001b[0m\n",
       "┏━━━━━━━━━━━━━━━━━━━━━━━━━━━━━━━━━━━━━┳━━━━━━━━━━━━━━━━━━━━━┳━━━━━━━━━━━━━━━━━━━━━━━━┓\n",
       "┃\u001b[1;35m \u001b[0m\u001b[1;35mMetric                             \u001b[0m\u001b[1;35m \u001b[0m┃\u001b[1;35m \u001b[0m\u001b[1;35mAverage per Package\u001b[0m\u001b[1;35m \u001b[0m┃\u001b[1;35m \u001b[0m\u001b[1;35mAverage over All Files\u001b[0m\u001b[1;35m \u001b[0m┃\n",
       "┡━━━━━━━━━━━━━━━━━━━━━━━━━━━━━━━━━━━━━╇━━━━━━━━━━━━━━━━━━━━━╇━━━━━━━━━━━━━━━━━━━━━━━━┩\n",
       "│\u001b[36m \u001b[0m\u001b[36mSource Function Extraction         \u001b[0m\u001b[36m \u001b[0m│\u001b[32m \u001b[0m\u001b[32m            100.00%\u001b[0m\u001b[32m \u001b[0m│\u001b[33m \u001b[0m\u001b[33m               100.00%\u001b[0m\u001b[33m \u001b[0m│\n",
       "│\u001b[36m \u001b[0m\u001b[36mIR Function Extraction             \u001b[0m\u001b[36m \u001b[0m│\u001b[32m \u001b[0m\u001b[32m            100.00%\u001b[0m\u001b[32m \u001b[0m│\u001b[33m \u001b[0m\u001b[33m               100.00%\u001b[0m\u001b[33m \u001b[0m│\n",
       "│\u001b[36m \u001b[0m\u001b[36mRandom Function Selection          \u001b[0m\u001b[36m \u001b[0m│\u001b[32m \u001b[0m\u001b[32m             82.02%\u001b[0m\u001b[32m \u001b[0m│\u001b[33m \u001b[0m\u001b[33m                83.48%\u001b[0m\u001b[33m \u001b[0m│\n",
       "│\u001b[36m \u001b[0m\u001b[36mLLVM IR Generation                 \u001b[0m\u001b[36m \u001b[0m│\u001b[32m \u001b[0m\u001b[32m             92.08%\u001b[0m\u001b[32m \u001b[0m│\u001b[33m \u001b[0m\u001b[33m                94.64%\u001b[0m\u001b[33m \u001b[0m│\n",
       "│\u001b[36m \u001b[0m\u001b[36mRandom Function IR Generation      \u001b[0m\u001b[36m \u001b[0m│\u001b[32m \u001b[0m\u001b[32m             82.02%\u001b[0m\u001b[32m \u001b[0m│\u001b[33m \u001b[0m\u001b[33m                83.48%\u001b[0m\u001b[33m \u001b[0m│\n",
       "│\u001b[36m \u001b[0m\u001b[36mObject File Generation             \u001b[0m\u001b[36m \u001b[0m│\u001b[32m \u001b[0m\u001b[32m             74.99%\u001b[0m\u001b[32m \u001b[0m│\u001b[33m \u001b[0m\u001b[33m                83.65%\u001b[0m\u001b[33m \u001b[0m│\n",
       "│\u001b[36m \u001b[0m\u001b[36mRelinked LLVM IR Generation        \u001b[0m\u001b[36m \u001b[0m│\u001b[32m \u001b[0m\u001b[32m             62.26%\u001b[0m\u001b[32m \u001b[0m│\u001b[33m \u001b[0m\u001b[33m                72.14%\u001b[0m\u001b[33m \u001b[0m│\n",
       "│\u001b[36m \u001b[0m\u001b[36mModified Object File Generation    \u001b[0m\u001b[36m \u001b[0m│\u001b[32m \u001b[0m\u001b[32m             57.93%\u001b[0m\u001b[32m \u001b[0m│\u001b[33m \u001b[0m\u001b[33m                65.18%\u001b[0m\u001b[33m \u001b[0m│\n",
       "└─────────────────────────────────────┴─────────────────────┴────────────────────────┘\n"
      ]
     },
     "metadata": {},
     "output_type": "display_data"
    }
   ],
   "source": [
    "# Success Rate Analysis\n",
    "\n",
    "console.print(\"\\n[bold][cyan]Success Rate Analysis:[/cyan][/bold]\", style=\"bold\")\n",
    "\n",
    "# Calculate success rates for each metric\n",
    "success_analysis = df.with_columns([\n",
    "    (pl.col(\"src_functions\").list.len() > 0).alias(\"src_functions_success\"),\n",
    "    \n",
    "    (pl.col(\"ir_functions\").list.len() > 0).alias(\"ir_functions_success\"),\n",
    "    \n",
    "    (pl.col(\"random_function\").is_not_null()).alias(\"random_function_success\"),\n",
    "    \n",
    "    ((pl.col(\"IR_generation_return_code\") == 0) & \n",
    "    (pl.col(\"LLVM_IR\").is_not_null()) & \n",
    "    (pl.col(\"LLVM_IR\") != \"\")).alias(\"llvm_ir_success\"),\n",
    "    \n",
    "    ((pl.col(\"random_function_IR_generation_return_code\") == 0) & \n",
    "    (pl.col(\"random_function_IR\").is_not_null()) & \n",
    "    (pl.col(\"random_function_IR\") != \"\")).alias(\"random_function_ir_success\"),\n",
    "    \n",
    "    (pl.col(\"object_file_generation_return_code\") == 0).alias(\"object_file_success\"),\n",
    "    \n",
    "    (pl.col(\"relinked_llvm_ir\").is_not_null() & (pl.col(\"relinked_llvm_ir\") != \"\")).alias(\"relinked_ir_success\"),\n",
    "    \n",
    "    (pl.col(\"modified_object_file_generation_return_code\") == 0).alias(\"modified_object_success\")\n",
    "])\n",
    "\n",
    "# Calculate per-package averages\n",
    "package_averages = (success_analysis\n",
    "    .group_by(\"package_name\")\n",
    "    .agg([\n",
    "        pl.col(\"src_functions_success\").mean().alias(\"src_functions_avg\"),\n",
    "        pl.col(\"ir_functions_success\").mean().alias(\"ir_functions_avg\"),\n",
    "        pl.col(\"random_function_success\").mean().alias(\"random_function_avg\"),\n",
    "        pl.col(\"llvm_ir_success\").mean().alias(\"llvm_ir_avg\"),\n",
    "        pl.col(\"random_function_ir_success\").mean().alias(\"random_function_ir_avg\"),\n",
    "        pl.col(\"object_file_success\").mean().alias(\"object_file_avg\"),\n",
    "        pl.col(\"relinked_ir_success\").mean().alias(\"relinked_ir_avg\"),\n",
    "        pl.col(\"modified_object_success\").mean().alias(\"modified_object_avg\")\n",
    "    ])\n",
    ")\n",
    "\n",
    "# Calculate overall averages (across all source files)\n",
    "overall_averages = success_analysis.select([\n",
    "    pl.col(\"src_functions_success\").mean().alias(\"src_functions_overall\"),\n",
    "    pl.col(\"ir_functions_success\").mean().alias(\"ir_functions_overall\"),\n",
    "    pl.col(\"random_function_success\").mean().alias(\"random_function_overall\"),\n",
    "    pl.col(\"llvm_ir_success\").mean().alias(\"llvm_ir_overall\"),\n",
    "    pl.col(\"random_function_ir_success\").mean().alias(\"random_function_ir_overall\"),\n",
    "    pl.col(\"object_file_success\").mean().alias(\"object_file_overall\"),\n",
    "    pl.col(\"relinked_ir_success\").mean().alias(\"relinked_ir_overall\"),\n",
    "    pl.col(\"modified_object_success\").mean().alias(\"modified_object_overall\")\n",
    "])\n",
    "\n",
    "# Calculate average per package (mean of package averages)\n",
    "avg_per_package = package_averages.select([\n",
    "    pl.col(\"src_functions_avg\").mean().alias(\"src_functions_pkg_avg\"),\n",
    "    pl.col(\"ir_functions_avg\").mean().alias(\"ir_functions_pkg_avg\"),\n",
    "    pl.col(\"random_function_avg\").mean().alias(\"random_function_pkg_avg\"),\n",
    "    pl.col(\"llvm_ir_avg\").mean().alias(\"llvm_ir_pkg_avg\"),\n",
    "    pl.col(\"random_function_ir_avg\").mean().alias(\"random_function_ir_pkg_avg\"),\n",
    "    pl.col(\"object_file_avg\").mean().alias(\"object_file_pkg_avg\"),\n",
    "    pl.col(\"relinked_ir_avg\").mean().alias(\"relinked_ir_pkg_avg\"),\n",
    "    pl.col(\"modified_object_avg\").mean().alias(\"modified_object_pkg_avg\")\n",
    "])\n",
    "\n",
    "# Create the summary table\n",
    "success_table = Table(title=\"Success Rate Analysis\", show_header=True, header_style=\"bold magenta\")\n",
    "success_table.add_column(\"Metric\", style=\"cyan\", no_wrap=False, width=35)\n",
    "success_table.add_column(\"Average per Package\", style=\"green\", justify=\"right\")\n",
    "success_table.add_column(\"Average over All Files\", style=\"yellow\", justify=\"right\")\n",
    "\n",
    "pkg_avg = avg_per_package.row(0)\n",
    "overall_avg = overall_averages.row(0)\n",
    "\n",
    "metrics = [\n",
    "    (\"Source Function Extraction\", pkg_avg[0], overall_avg[0]),\n",
    "    (\"IR Function Extraction\", pkg_avg[1], overall_avg[1]),\n",
    "    (\"Random Function Selection\", pkg_avg[2], overall_avg[2]),\n",
    "    (\"LLVM IR Generation\", pkg_avg[3], overall_avg[3]),\n",
    "    (\"Random Function IR Generation\", pkg_avg[4], overall_avg[4]),\n",
    "    (\"Object File Generation\", pkg_avg[5], overall_avg[5]),\n",
    "    (\"Relinked LLVM IR Generation\", pkg_avg[6], overall_avg[6]),\n",
    "    (\"Modified Object File Generation\", pkg_avg[7], overall_avg[7])\n",
    "]\n",
    "\n",
    "for metric_name, pkg_rate, overall_rate in metrics:\n",
    "    success_table.add_row(\n",
    "        metric_name,\n",
    "        f\"{pkg_rate:.2%}\" if pkg_rate is not None else \"N/A\",\n",
    "        f\"{overall_rate:.2%}\" if overall_rate is not None else \"N/A\"\n",
    "    )\n",
    "\n",
    "console.print(success_table)"
   ]
  },
  {
   "cell_type": "code",
   "execution_count": 22,
   "id": "c3bbd7f6",
   "metadata": {},
   "outputs": [
    {
     "data": {
      "text/html": [
       "<pre style=\"white-space:pre;overflow-x:auto;line-height:normal;font-family:Menlo,'DejaVu Sans Mono',consolas,'Courier New',monospace\">\n",
       "<span style=\"color: #008080; text-decoration-color: #008080; font-weight: bold\">Packages with Highest and Lowest Success Rates:</span>\n",
       "</pre>\n"
      ],
      "text/plain": [
       "\n",
       "\u001b[1;36mPackages with Highest and Lowest Success Rates:\u001b[0m\n"
      ]
     },
     "metadata": {},
     "output_type": "display_data"
    },
    {
     "data": {
      "text/html": [
       "<pre style=\"white-space:pre;overflow-x:auto;line-height:normal;font-family:Menlo,'DejaVu Sans Mono',consolas,'Courier New',monospace\">\n",
       "<span style=\"color: #800000; text-decoration-color: #800000; font-weight: bold\">Top </span><span style=\"color: #800000; text-decoration-color: #800000; font-weight: bold\">5</span><span style=\"color: #800000; text-decoration-color: #800000; font-weight: bold\"> Packages with Lowest Success Rates:</span>\n",
       "</pre>\n"
      ],
      "text/plain": [
       "\n",
       "\u001b[1;31mTop \u001b[0m\u001b[1;31m5\u001b[0m\u001b[1;31m Packages with Lowest Success Rates:\u001b[0m\n"
      ]
     },
     "metadata": {},
     "output_type": "display_data"
    },
    {
     "data": {
      "text/html": [
       "<pre style=\"white-space:pre;overflow-x:auto;line-height:normal;font-family:Menlo,'DejaVu Sans Mono',consolas,'Courier New',monospace\"><span style=\"font-style: italic\">                                        Packages with Lowest Success Rates                                         </span>\n",
       "┏━━━━━━━━━━━━━━━━━━━━━━━━━━┳━━━━━━━━━┳━━━━━━━━━┳━━━━━━━━━━┳━━━━━━━━━┳━━━━━━━━━┳━━━━━━━━┳━━━━━━━━┳━━━━━━━┳━━━━━━━━━┓\n",
       "┃<span style=\"color: #800080; text-decoration-color: #800080; font-weight: bold\">                          </span>┃<span style=\"color: #800080; text-decoration-color: #800080; font-weight: bold\">     Src </span>┃<span style=\"color: #800080; text-decoration-color: #800080; font-weight: bold\">         </span>┃<span style=\"color: #800080; text-decoration-color: #800080; font-weight: bold\">     Rand </span>┃<span style=\"color: #800080; text-decoration-color: #800080; font-weight: bold\">         </span>┃<span style=\"color: #800080; text-decoration-color: #800080; font-weight: bold\">         </span>┃<span style=\"color: #800080; text-decoration-color: #800080; font-weight: bold\">    Obj </span>┃<span style=\"color: #800080; text-decoration-color: #800080; font-weight: bold\">        </span>┃<span style=\"color: #800080; text-decoration-color: #800080; font-weight: bold\">   Mod </span>┃<span style=\"color: #800080; text-decoration-color: #800080; font-weight: bold\">         </span>┃\n",
       "┃<span style=\"color: #800080; text-decoration-color: #800080; font-weight: bold\"> Package Name             </span>┃<span style=\"color: #800080; text-decoration-color: #800080; font-weight: bold\">    Func </span>┃<span style=\"color: #800080; text-decoration-color: #800080; font-weight: bold\"> IR Func </span>┃<span style=\"color: #800080; text-decoration-color: #800080; font-weight: bold\">     Func </span>┃<span style=\"color: #800080; text-decoration-color: #800080; font-weight: bold\"> LLVM IR </span>┃<span style=\"color: #800080; text-decoration-color: #800080; font-weight: bold\"> Rand IR </span>┃<span style=\"color: #800080; text-decoration-color: #800080; font-weight: bold\">   File </span>┃<span style=\"color: #800080; text-decoration-color: #800080; font-weight: bold\"> Relink </span>┃<span style=\"color: #800080; text-decoration-color: #800080; font-weight: bold\">   Obj </span>┃<span style=\"color: #800080; text-decoration-color: #800080; font-weight: bold\"> Overall </span>┃\n",
       "┡━━━━━━━━━━━━━━━━━━━━━━━━━━╇━━━━━━━━━╇━━━━━━━━━╇━━━━━━━━━━╇━━━━━━━━━╇━━━━━━━━━╇━━━━━━━━╇━━━━━━━━╇━━━━━━━╇━━━━━━━━━┩\n",
       "│<span style=\"color: #008080; text-decoration-color: #008080\"> phoenix-firmware         </span>│<span style=\"color: #800000; text-decoration-color: #800000\">  100.0% </span>│<span style=\"color: #800000; text-decoration-color: #800000\">     N/A </span>│<span style=\"color: #800000; text-decoration-color: #800000\">     0.0% </span>│<span style=\"color: #800000; text-decoration-color: #800000\">    0.0% </span>│<span style=\"color: #800000; text-decoration-color: #800000\">    0.0% </span>│<span style=\"color: #800000; text-decoration-color: #800000\">   0.0% </span>│<span style=\"color: #800000; text-decoration-color: #800000\">   0.0% </span>│<span style=\"color: #800000; text-decoration-color: #800000\">  0.0% </span>│<span style=\"color: #800000; text-decoration-color: #800000; font-weight: bold\">     N/A </span>│\n",
       "│<span style=\"color: #008080; text-decoration-color: #008080\"> libkexiv2                </span>│<span style=\"color: #800000; text-decoration-color: #800000\">  100.0% </span>│<span style=\"color: #800000; text-decoration-color: #800000\">  100.0% </span>│<span style=\"color: #800000; text-decoration-color: #800000\">     3.2% </span>│<span style=\"color: #800000; text-decoration-color: #800000\">   41.9% </span>│<span style=\"color: #800000; text-decoration-color: #800000\">    3.2% </span>│<span style=\"color: #800000; text-decoration-color: #800000\">  41.9% </span>│<span style=\"color: #800000; text-decoration-color: #800000\">   0.0% </span>│<span style=\"color: #800000; text-decoration-color: #800000\">  0.0% </span>│<span style=\"color: #800000; text-decoration-color: #800000; font-weight: bold\">   36.3% </span>│\n",
       "│<span style=\"color: #008080; text-decoration-color: #008080\"> kf6-knotifyconfig        </span>│<span style=\"color: #800000; text-decoration-color: #800000\">  100.0% </span>│<span style=\"color: #800000; text-decoration-color: #800000\">  100.0% </span>│<span style=\"color: #800000; text-decoration-color: #800000\">     0.0% </span>│<span style=\"color: #800000; text-decoration-color: #800000\">   46.2% </span>│<span style=\"color: #800000; text-decoration-color: #800000\">    0.0% </span>│<span style=\"color: #800000; text-decoration-color: #800000\">  46.2% </span>│<span style=\"color: #800000; text-decoration-color: #800000\">   0.0% </span>│<span style=\"color: #800000; text-decoration-color: #800000\">  0.0% </span>│<span style=\"color: #800000; text-decoration-color: #800000; font-weight: bold\">   36.5% </span>│\n",
       "│<span style=\"color: #008080; text-decoration-color: #008080\"> libmmap-allocator        </span>│<span style=\"color: #800000; text-decoration-color: #800000\">  100.0% </span>│<span style=\"color: #800000; text-decoration-color: #800000\">  100.0% </span>│<span style=\"color: #800000; text-decoration-color: #800000\">     0.0% </span>│<span style=\"color: #800000; text-decoration-color: #800000\">   50.0% </span>│<span style=\"color: #800000; text-decoration-color: #800000\">    0.0% </span>│<span style=\"color: #800000; text-decoration-color: #800000\">  50.0% </span>│<span style=\"color: #800000; text-decoration-color: #800000\">   0.0% </span>│<span style=\"color: #800000; text-decoration-color: #800000\">  0.0% </span>│<span style=\"color: #800000; text-decoration-color: #800000; font-weight: bold\">   37.5% </span>│\n",
       "│<span style=\"color: #008080; text-decoration-color: #008080\"> lambda-align             </span>│<span style=\"color: #800000; text-decoration-color: #800000\">  100.0% </span>│<span style=\"color: #800000; text-decoration-color: #800000\">  100.0% </span>│<span style=\"color: #800000; text-decoration-color: #800000\">    50.0% </span>│<span style=\"color: #800000; text-decoration-color: #800000\">   50.0% </span>│<span style=\"color: #800000; text-decoration-color: #800000\">   50.0% </span>│<span style=\"color: #800000; text-decoration-color: #800000\">   0.0% </span>│<span style=\"color: #800000; text-decoration-color: #800000\">   0.0% </span>│<span style=\"color: #800000; text-decoration-color: #800000\">  0.0% </span>│<span style=\"color: #800000; text-decoration-color: #800000; font-weight: bold\">   43.8% </span>│\n",
       "└──────────────────────────┴─────────┴─────────┴──────────┴─────────┴─────────┴────────┴────────┴───────┴─────────┘\n",
       "</pre>\n"
      ],
      "text/plain": [
       "\u001b[3m                                        Packages with Lowest Success Rates                                         \u001b[0m\n",
       "┏━━━━━━━━━━━━━━━━━━━━━━━━━━┳━━━━━━━━━┳━━━━━━━━━┳━━━━━━━━━━┳━━━━━━━━━┳━━━━━━━━━┳━━━━━━━━┳━━━━━━━━┳━━━━━━━┳━━━━━━━━━┓\n",
       "┃\u001b[1;35m                          \u001b[0m┃\u001b[1;35m \u001b[0m\u001b[1;35m    Src\u001b[0m\u001b[1;35m \u001b[0m┃\u001b[1;35m         \u001b[0m┃\u001b[1;35m \u001b[0m\u001b[1;35m    Rand\u001b[0m\u001b[1;35m \u001b[0m┃\u001b[1;35m         \u001b[0m┃\u001b[1;35m         \u001b[0m┃\u001b[1;35m \u001b[0m\u001b[1;35m   Obj\u001b[0m\u001b[1;35m \u001b[0m┃\u001b[1;35m        \u001b[0m┃\u001b[1;35m \u001b[0m\u001b[1;35m  Mod\u001b[0m\u001b[1;35m \u001b[0m┃\u001b[1;35m         \u001b[0m┃\n",
       "┃\u001b[1;35m \u001b[0m\u001b[1;35mPackage Name            \u001b[0m\u001b[1;35m \u001b[0m┃\u001b[1;35m \u001b[0m\u001b[1;35m   Func\u001b[0m\u001b[1;35m \u001b[0m┃\u001b[1;35m \u001b[0m\u001b[1;35mIR Func\u001b[0m\u001b[1;35m \u001b[0m┃\u001b[1;35m \u001b[0m\u001b[1;35m    Func\u001b[0m\u001b[1;35m \u001b[0m┃\u001b[1;35m \u001b[0m\u001b[1;35mLLVM IR\u001b[0m\u001b[1;35m \u001b[0m┃\u001b[1;35m \u001b[0m\u001b[1;35mRand IR\u001b[0m\u001b[1;35m \u001b[0m┃\u001b[1;35m \u001b[0m\u001b[1;35m  File\u001b[0m\u001b[1;35m \u001b[0m┃\u001b[1;35m \u001b[0m\u001b[1;35mRelink\u001b[0m\u001b[1;35m \u001b[0m┃\u001b[1;35m \u001b[0m\u001b[1;35m  Obj\u001b[0m\u001b[1;35m \u001b[0m┃\u001b[1;35m \u001b[0m\u001b[1;35mOverall\u001b[0m\u001b[1;35m \u001b[0m┃\n",
       "┡━━━━━━━━━━━━━━━━━━━━━━━━━━╇━━━━━━━━━╇━━━━━━━━━╇━━━━━━━━━━╇━━━━━━━━━╇━━━━━━━━━╇━━━━━━━━╇━━━━━━━━╇━━━━━━━╇━━━━━━━━━┩\n",
       "│\u001b[36m \u001b[0m\u001b[36mphoenix-firmware        \u001b[0m\u001b[36m \u001b[0m│\u001b[31m \u001b[0m\u001b[31m 100.0%\u001b[0m\u001b[31m \u001b[0m│\u001b[31m \u001b[0m\u001b[31m    N/A\u001b[0m\u001b[31m \u001b[0m│\u001b[31m \u001b[0m\u001b[31m    0.0%\u001b[0m\u001b[31m \u001b[0m│\u001b[31m \u001b[0m\u001b[31m   0.0%\u001b[0m\u001b[31m \u001b[0m│\u001b[31m \u001b[0m\u001b[31m   0.0%\u001b[0m\u001b[31m \u001b[0m│\u001b[31m \u001b[0m\u001b[31m  0.0%\u001b[0m\u001b[31m \u001b[0m│\u001b[31m \u001b[0m\u001b[31m  0.0%\u001b[0m\u001b[31m \u001b[0m│\u001b[31m \u001b[0m\u001b[31m 0.0%\u001b[0m\u001b[31m \u001b[0m│\u001b[1;31m \u001b[0m\u001b[1;31m    N/A\u001b[0m\u001b[1;31m \u001b[0m│\n",
       "│\u001b[36m \u001b[0m\u001b[36mlibkexiv2               \u001b[0m\u001b[36m \u001b[0m│\u001b[31m \u001b[0m\u001b[31m 100.0%\u001b[0m\u001b[31m \u001b[0m│\u001b[31m \u001b[0m\u001b[31m 100.0%\u001b[0m\u001b[31m \u001b[0m│\u001b[31m \u001b[0m\u001b[31m    3.2%\u001b[0m\u001b[31m \u001b[0m│\u001b[31m \u001b[0m\u001b[31m  41.9%\u001b[0m\u001b[31m \u001b[0m│\u001b[31m \u001b[0m\u001b[31m   3.2%\u001b[0m\u001b[31m \u001b[0m│\u001b[31m \u001b[0m\u001b[31m 41.9%\u001b[0m\u001b[31m \u001b[0m│\u001b[31m \u001b[0m\u001b[31m  0.0%\u001b[0m\u001b[31m \u001b[0m│\u001b[31m \u001b[0m\u001b[31m 0.0%\u001b[0m\u001b[31m \u001b[0m│\u001b[1;31m \u001b[0m\u001b[1;31m  36.3%\u001b[0m\u001b[1;31m \u001b[0m│\n",
       "│\u001b[36m \u001b[0m\u001b[36mkf6-knotifyconfig       \u001b[0m\u001b[36m \u001b[0m│\u001b[31m \u001b[0m\u001b[31m 100.0%\u001b[0m\u001b[31m \u001b[0m│\u001b[31m \u001b[0m\u001b[31m 100.0%\u001b[0m\u001b[31m \u001b[0m│\u001b[31m \u001b[0m\u001b[31m    0.0%\u001b[0m\u001b[31m \u001b[0m│\u001b[31m \u001b[0m\u001b[31m  46.2%\u001b[0m\u001b[31m \u001b[0m│\u001b[31m \u001b[0m\u001b[31m   0.0%\u001b[0m\u001b[31m \u001b[0m│\u001b[31m \u001b[0m\u001b[31m 46.2%\u001b[0m\u001b[31m \u001b[0m│\u001b[31m \u001b[0m\u001b[31m  0.0%\u001b[0m\u001b[31m \u001b[0m│\u001b[31m \u001b[0m\u001b[31m 0.0%\u001b[0m\u001b[31m \u001b[0m│\u001b[1;31m \u001b[0m\u001b[1;31m  36.5%\u001b[0m\u001b[1;31m \u001b[0m│\n",
       "│\u001b[36m \u001b[0m\u001b[36mlibmmap-allocator       \u001b[0m\u001b[36m \u001b[0m│\u001b[31m \u001b[0m\u001b[31m 100.0%\u001b[0m\u001b[31m \u001b[0m│\u001b[31m \u001b[0m\u001b[31m 100.0%\u001b[0m\u001b[31m \u001b[0m│\u001b[31m \u001b[0m\u001b[31m    0.0%\u001b[0m\u001b[31m \u001b[0m│\u001b[31m \u001b[0m\u001b[31m  50.0%\u001b[0m\u001b[31m \u001b[0m│\u001b[31m \u001b[0m\u001b[31m   0.0%\u001b[0m\u001b[31m \u001b[0m│\u001b[31m \u001b[0m\u001b[31m 50.0%\u001b[0m\u001b[31m \u001b[0m│\u001b[31m \u001b[0m\u001b[31m  0.0%\u001b[0m\u001b[31m \u001b[0m│\u001b[31m \u001b[0m\u001b[31m 0.0%\u001b[0m\u001b[31m \u001b[0m│\u001b[1;31m \u001b[0m\u001b[1;31m  37.5%\u001b[0m\u001b[1;31m \u001b[0m│\n",
       "│\u001b[36m \u001b[0m\u001b[36mlambda-align            \u001b[0m\u001b[36m \u001b[0m│\u001b[31m \u001b[0m\u001b[31m 100.0%\u001b[0m\u001b[31m \u001b[0m│\u001b[31m \u001b[0m\u001b[31m 100.0%\u001b[0m\u001b[31m \u001b[0m│\u001b[31m \u001b[0m\u001b[31m   50.0%\u001b[0m\u001b[31m \u001b[0m│\u001b[31m \u001b[0m\u001b[31m  50.0%\u001b[0m\u001b[31m \u001b[0m│\u001b[31m \u001b[0m\u001b[31m  50.0%\u001b[0m\u001b[31m \u001b[0m│\u001b[31m \u001b[0m\u001b[31m  0.0%\u001b[0m\u001b[31m \u001b[0m│\u001b[31m \u001b[0m\u001b[31m  0.0%\u001b[0m\u001b[31m \u001b[0m│\u001b[31m \u001b[0m\u001b[31m 0.0%\u001b[0m\u001b[31m \u001b[0m│\u001b[1;31m \u001b[0m\u001b[1;31m  43.8%\u001b[0m\u001b[1;31m \u001b[0m│\n",
       "└──────────────────────────┴─────────┴─────────┴──────────┴─────────┴─────────┴────────┴────────┴───────┴─────────┘\n"
      ]
     },
     "metadata": {},
     "output_type": "display_data"
    },
    {
     "data": {
      "text/html": [
       "<pre style=\"white-space:pre;overflow-x:auto;line-height:normal;font-family:Menlo,'DejaVu Sans Mono',consolas,'Courier New',monospace\">\n",
       "<span style=\"color: #008000; text-decoration-color: #008000; font-weight: bold\">Top </span><span style=\"color: #008000; text-decoration-color: #008000; font-weight: bold\">5</span><span style=\"color: #008000; text-decoration-color: #008000; font-weight: bold\"> Packages with Highest Success Rates:</span>\n",
       "</pre>\n"
      ],
      "text/plain": [
       "\n",
       "\u001b[1;32mTop \u001b[0m\u001b[1;32m5\u001b[0m\u001b[1;32m Packages with Highest Success Rates:\u001b[0m\n"
      ]
     },
     "metadata": {},
     "output_type": "display_data"
    },
    {
     "data": {
      "text/html": [
       "<pre style=\"white-space:pre;overflow-x:auto;line-height:normal;font-family:Menlo,'DejaVu Sans Mono',consolas,'Courier New',monospace\"><span style=\"font-style: italic\">                                        Packages with Highest Success Rates                                        </span>\n",
       "┏━━━━━━━━━━━━━━━━━━━━━━━━━━┳━━━━━━━━━┳━━━━━━━━━┳━━━━━━━━━━┳━━━━━━━━━┳━━━━━━━━━┳━━━━━━━━┳━━━━━━━━┳━━━━━━━┳━━━━━━━━━┓\n",
       "┃<span style=\"color: #800080; text-decoration-color: #800080; font-weight: bold\">                          </span>┃<span style=\"color: #800080; text-decoration-color: #800080; font-weight: bold\">     Src </span>┃<span style=\"color: #800080; text-decoration-color: #800080; font-weight: bold\">         </span>┃<span style=\"color: #800080; text-decoration-color: #800080; font-weight: bold\">     Rand </span>┃<span style=\"color: #800080; text-decoration-color: #800080; font-weight: bold\">         </span>┃<span style=\"color: #800080; text-decoration-color: #800080; font-weight: bold\">         </span>┃<span style=\"color: #800080; text-decoration-color: #800080; font-weight: bold\">    Obj </span>┃<span style=\"color: #800080; text-decoration-color: #800080; font-weight: bold\">        </span>┃<span style=\"color: #800080; text-decoration-color: #800080; font-weight: bold\">   Mod </span>┃<span style=\"color: #800080; text-decoration-color: #800080; font-weight: bold\">         </span>┃\n",
       "┃<span style=\"color: #800080; text-decoration-color: #800080; font-weight: bold\"> Package Name             </span>┃<span style=\"color: #800080; text-decoration-color: #800080; font-weight: bold\">    Func </span>┃<span style=\"color: #800080; text-decoration-color: #800080; font-weight: bold\"> IR Func </span>┃<span style=\"color: #800080; text-decoration-color: #800080; font-weight: bold\">     Func </span>┃<span style=\"color: #800080; text-decoration-color: #800080; font-weight: bold\"> LLVM IR </span>┃<span style=\"color: #800080; text-decoration-color: #800080; font-weight: bold\"> Rand IR </span>┃<span style=\"color: #800080; text-decoration-color: #800080; font-weight: bold\">   File </span>┃<span style=\"color: #800080; text-decoration-color: #800080; font-weight: bold\"> Relink </span>┃<span style=\"color: #800080; text-decoration-color: #800080; font-weight: bold\">   Obj </span>┃<span style=\"color: #800080; text-decoration-color: #800080; font-weight: bold\"> Overall </span>┃\n",
       "┡━━━━━━━━━━━━━━━━━━━━━━━━━━╇━━━━━━━━━╇━━━━━━━━━╇━━━━━━━━━━╇━━━━━━━━━╇━━━━━━━━━╇━━━━━━━━╇━━━━━━━━╇━━━━━━━╇━━━━━━━━━┩\n",
       "│<span style=\"color: #008080; text-decoration-color: #008080\"> fitspng                  </span>│<span style=\"color: #008000; text-decoration-color: #008000\">  100.0% </span>│<span style=\"color: #008000; text-decoration-color: #008000\">  100.0% </span>│<span style=\"color: #008000; text-decoration-color: #008000\">   100.0% </span>│<span style=\"color: #008000; text-decoration-color: #008000\">  100.0% </span>│<span style=\"color: #008000; text-decoration-color: #008000\">  100.0% </span>│<span style=\"color: #008000; text-decoration-color: #008000\"> 100.0% </span>│<span style=\"color: #008000; text-decoration-color: #008000\"> 100.0% </span>│<span style=\"color: #008000; text-decoration-color: #008000\"> 100.… </span>│<span style=\"color: #008000; text-decoration-color: #008000; font-weight: bold\">  100.0% </span>│\n",
       "│<span style=\"color: #008080; text-decoration-color: #008080\"> xfce4-session            </span>│<span style=\"color: #008000; text-decoration-color: #008000\">  100.0% </span>│<span style=\"color: #008000; text-decoration-color: #008000\">  100.0% </span>│<span style=\"color: #008000; text-decoration-color: #008000\">   100.0% </span>│<span style=\"color: #008000; text-decoration-color: #008000\">  100.0% </span>│<span style=\"color: #008000; text-decoration-color: #008000\">  100.0% </span>│<span style=\"color: #008000; text-decoration-color: #008000\"> 100.0% </span>│<span style=\"color: #008000; text-decoration-color: #008000\"> 100.0% </span>│<span style=\"color: #008000; text-decoration-color: #008000\"> 100.… </span>│<span style=\"color: #008000; text-decoration-color: #008000; font-weight: bold\">  100.0% </span>│\n",
       "│<span style=\"color: #008080; text-decoration-color: #008080\"> netmask                  </span>│<span style=\"color: #008000; text-decoration-color: #008000\">  100.0% </span>│<span style=\"color: #008000; text-decoration-color: #008000\">  100.0% </span>│<span style=\"color: #008000; text-decoration-color: #008000\">   100.0% </span>│<span style=\"color: #008000; text-decoration-color: #008000\">  100.0% </span>│<span style=\"color: #008000; text-decoration-color: #008000\">  100.0% </span>│<span style=\"color: #008000; text-decoration-color: #008000\"> 100.0% </span>│<span style=\"color: #008000; text-decoration-color: #008000\"> 100.0% </span>│<span style=\"color: #008000; text-decoration-color: #008000\"> 100.… </span>│<span style=\"color: #008000; text-decoration-color: #008000; font-weight: bold\">  100.0% </span>│\n",
       "│<span style=\"color: #008080; text-decoration-color: #008080\"> jpegoptim                </span>│<span style=\"color: #008000; text-decoration-color: #008000\">  100.0% </span>│<span style=\"color: #008000; text-decoration-color: #008000\">  100.0% </span>│<span style=\"color: #008000; text-decoration-color: #008000\">   100.0% </span>│<span style=\"color: #008000; text-decoration-color: #008000\">  100.0% </span>│<span style=\"color: #008000; text-decoration-color: #008000\">  100.0% </span>│<span style=\"color: #008000; text-decoration-color: #008000\"> 100.0% </span>│<span style=\"color: #008000; text-decoration-color: #008000\"> 100.0% </span>│<span style=\"color: #008000; text-decoration-color: #008000\"> 100.… </span>│<span style=\"color: #008000; text-decoration-color: #008000; font-weight: bold\">  100.0% </span>│\n",
       "│<span style=\"color: #008080; text-decoration-color: #008080\"> pd-hexloader             </span>│<span style=\"color: #008000; text-decoration-color: #008000\">  100.0% </span>│<span style=\"color: #008000; text-decoration-color: #008000\">  100.0% </span>│<span style=\"color: #008000; text-decoration-color: #008000\">   100.0% </span>│<span style=\"color: #008000; text-decoration-color: #008000\">  100.0% </span>│<span style=\"color: #008000; text-decoration-color: #008000\">  100.0% </span>│<span style=\"color: #008000; text-decoration-color: #008000\"> 100.0% </span>│<span style=\"color: #008000; text-decoration-color: #008000\"> 100.0% </span>│<span style=\"color: #008000; text-decoration-color: #008000\"> 100.… </span>│<span style=\"color: #008000; text-decoration-color: #008000; font-weight: bold\">  100.0% </span>│\n",
       "└──────────────────────────┴─────────┴─────────┴──────────┴─────────┴─────────┴────────┴────────┴───────┴─────────┘\n",
       "</pre>\n"
      ],
      "text/plain": [
       "\u001b[3m                                        Packages with Highest Success Rates                                        \u001b[0m\n",
       "┏━━━━━━━━━━━━━━━━━━━━━━━━━━┳━━━━━━━━━┳━━━━━━━━━┳━━━━━━━━━━┳━━━━━━━━━┳━━━━━━━━━┳━━━━━━━━┳━━━━━━━━┳━━━━━━━┳━━━━━━━━━┓\n",
       "┃\u001b[1;35m                          \u001b[0m┃\u001b[1;35m \u001b[0m\u001b[1;35m    Src\u001b[0m\u001b[1;35m \u001b[0m┃\u001b[1;35m         \u001b[0m┃\u001b[1;35m \u001b[0m\u001b[1;35m    Rand\u001b[0m\u001b[1;35m \u001b[0m┃\u001b[1;35m         \u001b[0m┃\u001b[1;35m         \u001b[0m┃\u001b[1;35m \u001b[0m\u001b[1;35m   Obj\u001b[0m\u001b[1;35m \u001b[0m┃\u001b[1;35m        \u001b[0m┃\u001b[1;35m \u001b[0m\u001b[1;35m  Mod\u001b[0m\u001b[1;35m \u001b[0m┃\u001b[1;35m         \u001b[0m┃\n",
       "┃\u001b[1;35m \u001b[0m\u001b[1;35mPackage Name            \u001b[0m\u001b[1;35m \u001b[0m┃\u001b[1;35m \u001b[0m\u001b[1;35m   Func\u001b[0m\u001b[1;35m \u001b[0m┃\u001b[1;35m \u001b[0m\u001b[1;35mIR Func\u001b[0m\u001b[1;35m \u001b[0m┃\u001b[1;35m \u001b[0m\u001b[1;35m    Func\u001b[0m\u001b[1;35m \u001b[0m┃\u001b[1;35m \u001b[0m\u001b[1;35mLLVM IR\u001b[0m\u001b[1;35m \u001b[0m┃\u001b[1;35m \u001b[0m\u001b[1;35mRand IR\u001b[0m\u001b[1;35m \u001b[0m┃\u001b[1;35m \u001b[0m\u001b[1;35m  File\u001b[0m\u001b[1;35m \u001b[0m┃\u001b[1;35m \u001b[0m\u001b[1;35mRelink\u001b[0m\u001b[1;35m \u001b[0m┃\u001b[1;35m \u001b[0m\u001b[1;35m  Obj\u001b[0m\u001b[1;35m \u001b[0m┃\u001b[1;35m \u001b[0m\u001b[1;35mOverall\u001b[0m\u001b[1;35m \u001b[0m┃\n",
       "┡━━━━━━━━━━━━━━━━━━━━━━━━━━╇━━━━━━━━━╇━━━━━━━━━╇━━━━━━━━━━╇━━━━━━━━━╇━━━━━━━━━╇━━━━━━━━╇━━━━━━━━╇━━━━━━━╇━━━━━━━━━┩\n",
       "│\u001b[36m \u001b[0m\u001b[36mfitspng                 \u001b[0m\u001b[36m \u001b[0m│\u001b[32m \u001b[0m\u001b[32m 100.0%\u001b[0m\u001b[32m \u001b[0m│\u001b[32m \u001b[0m\u001b[32m 100.0%\u001b[0m\u001b[32m \u001b[0m│\u001b[32m \u001b[0m\u001b[32m  100.0%\u001b[0m\u001b[32m \u001b[0m│\u001b[32m \u001b[0m\u001b[32m 100.0%\u001b[0m\u001b[32m \u001b[0m│\u001b[32m \u001b[0m\u001b[32m 100.0%\u001b[0m\u001b[32m \u001b[0m│\u001b[32m \u001b[0m\u001b[32m100.0%\u001b[0m\u001b[32m \u001b[0m│\u001b[32m \u001b[0m\u001b[32m100.0%\u001b[0m\u001b[32m \u001b[0m│\u001b[32m \u001b[0m\u001b[32m100.…\u001b[0m\u001b[32m \u001b[0m│\u001b[1;32m \u001b[0m\u001b[1;32m 100.0%\u001b[0m\u001b[1;32m \u001b[0m│\n",
       "│\u001b[36m \u001b[0m\u001b[36mxfce4-session           \u001b[0m\u001b[36m \u001b[0m│\u001b[32m \u001b[0m\u001b[32m 100.0%\u001b[0m\u001b[32m \u001b[0m│\u001b[32m \u001b[0m\u001b[32m 100.0%\u001b[0m\u001b[32m \u001b[0m│\u001b[32m \u001b[0m\u001b[32m  100.0%\u001b[0m\u001b[32m \u001b[0m│\u001b[32m \u001b[0m\u001b[32m 100.0%\u001b[0m\u001b[32m \u001b[0m│\u001b[32m \u001b[0m\u001b[32m 100.0%\u001b[0m\u001b[32m \u001b[0m│\u001b[32m \u001b[0m\u001b[32m100.0%\u001b[0m\u001b[32m \u001b[0m│\u001b[32m \u001b[0m\u001b[32m100.0%\u001b[0m\u001b[32m \u001b[0m│\u001b[32m \u001b[0m\u001b[32m100.…\u001b[0m\u001b[32m \u001b[0m│\u001b[1;32m \u001b[0m\u001b[1;32m 100.0%\u001b[0m\u001b[1;32m \u001b[0m│\n",
       "│\u001b[36m \u001b[0m\u001b[36mnetmask                 \u001b[0m\u001b[36m \u001b[0m│\u001b[32m \u001b[0m\u001b[32m 100.0%\u001b[0m\u001b[32m \u001b[0m│\u001b[32m \u001b[0m\u001b[32m 100.0%\u001b[0m\u001b[32m \u001b[0m│\u001b[32m \u001b[0m\u001b[32m  100.0%\u001b[0m\u001b[32m \u001b[0m│\u001b[32m \u001b[0m\u001b[32m 100.0%\u001b[0m\u001b[32m \u001b[0m│\u001b[32m \u001b[0m\u001b[32m 100.0%\u001b[0m\u001b[32m \u001b[0m│\u001b[32m \u001b[0m\u001b[32m100.0%\u001b[0m\u001b[32m \u001b[0m│\u001b[32m \u001b[0m\u001b[32m100.0%\u001b[0m\u001b[32m \u001b[0m│\u001b[32m \u001b[0m\u001b[32m100.…\u001b[0m\u001b[32m \u001b[0m│\u001b[1;32m \u001b[0m\u001b[1;32m 100.0%\u001b[0m\u001b[1;32m \u001b[0m│\n",
       "│\u001b[36m \u001b[0m\u001b[36mjpegoptim               \u001b[0m\u001b[36m \u001b[0m│\u001b[32m \u001b[0m\u001b[32m 100.0%\u001b[0m\u001b[32m \u001b[0m│\u001b[32m \u001b[0m\u001b[32m 100.0%\u001b[0m\u001b[32m \u001b[0m│\u001b[32m \u001b[0m\u001b[32m  100.0%\u001b[0m\u001b[32m \u001b[0m│\u001b[32m \u001b[0m\u001b[32m 100.0%\u001b[0m\u001b[32m \u001b[0m│\u001b[32m \u001b[0m\u001b[32m 100.0%\u001b[0m\u001b[32m \u001b[0m│\u001b[32m \u001b[0m\u001b[32m100.0%\u001b[0m\u001b[32m \u001b[0m│\u001b[32m \u001b[0m\u001b[32m100.0%\u001b[0m\u001b[32m \u001b[0m│\u001b[32m \u001b[0m\u001b[32m100.…\u001b[0m\u001b[32m \u001b[0m│\u001b[1;32m \u001b[0m\u001b[1;32m 100.0%\u001b[0m\u001b[1;32m \u001b[0m│\n",
       "│\u001b[36m \u001b[0m\u001b[36mpd-hexloader            \u001b[0m\u001b[36m \u001b[0m│\u001b[32m \u001b[0m\u001b[32m 100.0%\u001b[0m\u001b[32m \u001b[0m│\u001b[32m \u001b[0m\u001b[32m 100.0%\u001b[0m\u001b[32m \u001b[0m│\u001b[32m \u001b[0m\u001b[32m  100.0%\u001b[0m\u001b[32m \u001b[0m│\u001b[32m \u001b[0m\u001b[32m 100.0%\u001b[0m\u001b[32m \u001b[0m│\u001b[32m \u001b[0m\u001b[32m 100.0%\u001b[0m\u001b[32m \u001b[0m│\u001b[32m \u001b[0m\u001b[32m100.0%\u001b[0m\u001b[32m \u001b[0m│\u001b[32m \u001b[0m\u001b[32m100.0%\u001b[0m\u001b[32m \u001b[0m│\u001b[32m \u001b[0m\u001b[32m100.…\u001b[0m\u001b[32m \u001b[0m│\u001b[1;32m \u001b[0m\u001b[1;32m 100.0%\u001b[0m\u001b[1;32m \u001b[0m│\n",
       "└──────────────────────────┴─────────┴─────────┴──────────┴─────────┴─────────┴────────┴────────┴───────┴─────────┘\n"
      ]
     },
     "metadata": {},
     "output_type": "display_data"
    }
   ],
   "source": [
    "# Top/Bottom Packages by Success Rate Analysis\n",
    "\n",
    "console.print(\"\\n[bold][cyan]Packages with Highest and Lowest Success Rates:[/cyan][/bold]\", style=\"bold\")\n",
    "\n",
    "# Calculate overall success rate per package (average across all metrics)\n",
    "package_overall_success = package_averages.with_columns([\n",
    "    ((pl.col(\"src_functions_avg\") + pl.col(\"ir_functions_avg\") + pl.col(\"random_function_avg\") + \n",
    "      pl.col(\"llvm_ir_avg\") + pl.col(\"random_function_ir_avg\") + pl.col(\"object_file_avg\") + \n",
    "      pl.col(\"relinked_ir_avg\") + pl.col(\"modified_object_avg\")) / 8).alias(\"overall_success_rate\")\n",
    "]).sort(\"overall_success_rate\")\n",
    "\n",
    "# Get top 5 lowest and highest\n",
    "lowest_3 = package_overall_success.head(5)\n",
    "highest_3 = package_overall_success.tail(5).sort(\"overall_success_rate\", descending=True)\n",
    "\n",
    "# Table for lowest success rates\n",
    "console.print(\"\\n[bold][red]Top 5 Packages with Lowest Success Rates:[/red][/bold]\", style=\"bold\")\n",
    "\n",
    "lowest_table = Table(title=\"Packages with Lowest Success Rates\", show_header=True, header_style=\"bold magenta\")\n",
    "lowest_table.add_column(\"Package Name\", style=\"cyan\", no_wrap=False, width=25)\n",
    "lowest_table.add_column(\"Src Func\", style=\"red\", justify=\"right\", width=8)\n",
    "lowest_table.add_column(\"IR Func\", style=\"red\", justify=\"right\", width=8)\n",
    "lowest_table.add_column(\"Rand Func\", style=\"red\", justify=\"right\", width=9)\n",
    "lowest_table.add_column(\"LLVM IR\", style=\"red\", justify=\"right\", width=8)\n",
    "lowest_table.add_column(\"Rand IR\", style=\"red\", justify=\"right\", width=8)\n",
    "lowest_table.add_column(\"Obj File\", style=\"red\", justify=\"right\", width=8)\n",
    "lowest_table.add_column(\"Relink\", style=\"red\", justify=\"right\", width=7)\n",
    "lowest_table.add_column(\"Mod Obj\", style=\"red\", justify=\"right\", width=7)\n",
    "lowest_table.add_column(\"Overall\", style=\"bold red\", justify=\"right\", width=8)\n",
    "\n",
    "for row in lowest_3.iter_rows():\n",
    "    package_name, src_f, ir_f, rand_f, llvm_ir, rand_ir, obj_f, relink, mod_obj, overall = row\n",
    "    lowest_table.add_row(\n",
    "        package_name,\n",
    "        f\"{src_f:.1%}\" if src_f is not None else \"N/A\",\n",
    "        f\"{ir_f:.1%}\" if ir_f is not None else \"N/A\",\n",
    "        f\"{rand_f:.1%}\" if rand_f is not None else \"N/A\",\n",
    "        f\"{llvm_ir:.1%}\" if llvm_ir is not None else \"N/A\",\n",
    "        f\"{rand_ir:.1%}\" if rand_ir is not None else \"N/A\",\n",
    "        f\"{obj_f:.1%}\" if obj_f is not None else \"N/A\",\n",
    "        f\"{relink:.1%}\" if relink is not None else \"N/A\",\n",
    "        f\"{mod_obj:.1%}\" if mod_obj is not None else \"N/A\",\n",
    "        f\"{overall:.1%}\" if overall is not None else \"N/A\"\n",
    "    )\n",
    "\n",
    "console.print(lowest_table)\n",
    "\n",
    "# Table for highest success rates\n",
    "console.print(\"\\n[bold][green]Top 5 Packages with Highest Success Rates:[/green][/bold]\", style=\"bold\")\n",
    "\n",
    "highest_table = Table(title=\"Packages with Highest Success Rates\", show_header=True, header_style=\"bold magenta\")\n",
    "highest_table.add_column(\"Package Name\", style=\"cyan\", no_wrap=False, width=25)\n",
    "highest_table.add_column(\"Src Func\", style=\"green\", justify=\"right\", width=8)\n",
    "highest_table.add_column(\"IR Func\", style=\"green\", justify=\"right\", width=8)\n",
    "highest_table.add_column(\"Rand Func\", style=\"green\", justify=\"right\", width=9)\n",
    "highest_table.add_column(\"LLVM IR\", style=\"green\", justify=\"right\", width=8)\n",
    "highest_table.add_column(\"Rand IR\", style=\"green\", justify=\"right\", width=8)\n",
    "highest_table.add_column(\"Obj File\", style=\"green\", justify=\"right\", width=8)\n",
    "highest_table.add_column(\"Relink\", style=\"green\", justify=\"right\", width=7)\n",
    "highest_table.add_column(\"Mod Obj\", style=\"green\", justify=\"right\", width=7)\n",
    "highest_table.add_column(\"Overall\", style=\"bold green\", justify=\"right\", width=8)\n",
    "\n",
    "for row in highest_3.iter_rows():\n",
    "    package_name, src_f, ir_f, rand_f, llvm_ir, rand_ir, obj_f, relink, mod_obj, overall = row\n",
    "    highest_table.add_row(\n",
    "        package_name,\n",
    "        f\"{src_f:.1%}\" if src_f is not None else \"N/A\",\n",
    "        f\"{ir_f:.1%}\" if ir_f is not None else \"N/A\",\n",
    "        f\"{rand_f:.1%}\" if rand_f is not None else \"N/A\",\n",
    "        f\"{llvm_ir:.1%}\" if llvm_ir is not None else \"N/A\",\n",
    "        f\"{rand_ir:.1%}\" if rand_ir is not None else \"N/A\",\n",
    "        f\"{obj_f:.1%}\" if obj_f is not None else \"N/A\",\n",
    "        f\"{relink:.1%}\" if relink is not None else \"N/A\",\n",
    "        f\"{mod_obj:.1%}\" if mod_obj is not None else \"N/A\",\n",
    "        f\"{overall:.1%}\" if overall is not None else \"N/A\"\n",
    "    )\n",
    "\n",
    "console.print(highest_table)"
   ]
  },
  {
   "cell_type": "code",
   "execution_count": 31,
   "id": "09d017d9",
   "metadata": {},
   "outputs": [
    {
     "data": {
      "text/html": [
       "<pre style=\"white-space:pre;overflow-x:auto;line-height:normal;font-family:Menlo,'DejaVu Sans Mono',consolas,'Courier New',monospace\">\n",
       "<span style=\"color: #008080; text-decoration-color: #008080; font-weight: bold\">Success Rates for Test-Passed Packages:</span>\n",
       "</pre>\n"
      ],
      "text/plain": [
       "\n",
       "\u001b[1;36mSuccess Rates for Test-Passed Packages:\u001b[0m\n"
      ]
     },
     "metadata": {},
     "output_type": "display_data"
    },
    {
     "data": {
      "text/html": [
       "<pre style=\"white-space:pre;overflow-x:auto;line-height:normal;font-family:Menlo,'DejaVu Sans Mono',consolas,'Courier New',monospace\"><span style=\"font-style: italic\">               Test Success Summary                </span>\n",
       "┏━━━━━━━━━━━━━━━━━━━━━━━━━━━━━━━━━━━━━━━━┳━━━━━━━━┓\n",
       "┃<span style=\"color: #800080; text-decoration-color: #800080; font-weight: bold\"> Metric                                 </span>┃<span style=\"color: #800080; text-decoration-color: #800080; font-weight: bold\">  Value </span>┃\n",
       "┡━━━━━━━━━━━━━━━━━━━━━━━━━━━━━━━━━━━━━━━━╇━━━━━━━━┩\n",
       "│<span style=\"color: #008080; text-decoration-color: #008080\"> Total Packages                         </span>│<span style=\"color: #008000; text-decoration-color: #008000\">    101 </span>│\n",
       "│<span style=\"color: #008080; text-decoration-color: #008080\"> Packages with test_passed = 1          </span>│<span style=\"color: #008000; text-decoration-color: #008000\">     11 </span>│\n",
       "│<span style=\"color: #008080; text-decoration-color: #008080\"> Test Success Rate                      </span>│<span style=\"color: #008000; text-decoration-color: #008000\"> 10.89% </span>│\n",
       "│<span style=\"color: #008080; text-decoration-color: #008080\"> Total Source Files                     </span>│<span style=\"color: #008000; text-decoration-color: #008000\">   4612 </span>│\n",
       "│<span style=\"color: #008080; text-decoration-color: #008080\"> Source Files from Test-Passed Packages </span>│<span style=\"color: #008000; text-decoration-color: #008000\">    494 </span>│\n",
       "│<span style=\"color: #008080; text-decoration-color: #008080\"> Percentage of Source Files             </span>│<span style=\"color: #008000; text-decoration-color: #008000\"> 10.71% </span>│\n",
       "└────────────────────────────────────────┴────────┘\n",
       "</pre>\n"
      ],
      "text/plain": [
       "\u001b[3m               Test Success Summary                \u001b[0m\n",
       "┏━━━━━━━━━━━━━━━━━━━━━━━━━━━━━━━━━━━━━━━━┳━━━━━━━━┓\n",
       "┃\u001b[1;35m \u001b[0m\u001b[1;35mMetric                                \u001b[0m\u001b[1;35m \u001b[0m┃\u001b[1;35m \u001b[0m\u001b[1;35m Value\u001b[0m\u001b[1;35m \u001b[0m┃\n",
       "┡━━━━━━━━━━━━━━━━━━━━━━━━━━━━━━━━━━━━━━━━╇━━━━━━━━┩\n",
       "│\u001b[36m \u001b[0m\u001b[36mTotal Packages                        \u001b[0m\u001b[36m \u001b[0m│\u001b[32m \u001b[0m\u001b[32m   101\u001b[0m\u001b[32m \u001b[0m│\n",
       "│\u001b[36m \u001b[0m\u001b[36mPackages with test_passed = 1         \u001b[0m\u001b[36m \u001b[0m│\u001b[32m \u001b[0m\u001b[32m    11\u001b[0m\u001b[32m \u001b[0m│\n",
       "│\u001b[36m \u001b[0m\u001b[36mTest Success Rate                     \u001b[0m\u001b[36m \u001b[0m│\u001b[32m \u001b[0m\u001b[32m10.89%\u001b[0m\u001b[32m \u001b[0m│\n",
       "│\u001b[36m \u001b[0m\u001b[36mTotal Source Files                    \u001b[0m\u001b[36m \u001b[0m│\u001b[32m \u001b[0m\u001b[32m  4612\u001b[0m\u001b[32m \u001b[0m│\n",
       "│\u001b[36m \u001b[0m\u001b[36mSource Files from Test-Passed Packages\u001b[0m\u001b[36m \u001b[0m│\u001b[32m \u001b[0m\u001b[32m   494\u001b[0m\u001b[32m \u001b[0m│\n",
       "│\u001b[36m \u001b[0m\u001b[36mPercentage of Source Files            \u001b[0m\u001b[36m \u001b[0m│\u001b[32m \u001b[0m\u001b[32m10.71%\u001b[0m\u001b[32m \u001b[0m│\n",
       "└────────────────────────────────────────┴────────┘\n"
      ]
     },
     "metadata": {},
     "output_type": "display_data"
    },
    {
     "data": {
      "text/html": [
       "<pre style=\"white-space:pre;overflow-x:auto;line-height:normal;font-family:Menlo,'DejaVu Sans Mono',consolas,'Courier New',monospace\">\n",
       "<span style=\"color: #008000; text-decoration-color: #008000; font-weight: bold\">Top </span><span style=\"color: #008000; text-decoration-color: #008000; font-weight: bold\">10</span><span style=\"color: #008000; text-decoration-color: #008000; font-weight: bold\"> Test-Passed Packages by Success Rate:</span>\n",
       "</pre>\n"
      ],
      "text/plain": [
       "\n",
       "\u001b[1;32mTop \u001b[0m\u001b[1;32m10\u001b[0m\u001b[1;32m Test-Passed Packages by Success Rate:\u001b[0m\n"
      ]
     },
     "metadata": {},
     "output_type": "display_data"
    },
    {
     "data": {
      "text/html": [
       "<pre style=\"white-space:pre;overflow-x:auto;line-height:normal;font-family:Menlo,'DejaVu Sans Mono',consolas,'Courier New',monospace\"><span style=\"font-style: italic\">                                     Top 10 Test-Passed Packages Success Rates                                     </span>\n",
       "┏━━━━━━━━━━━━━━━━━━━━━━━━━━┳━━━━━━━━━┳━━━━━━━━━┳━━━━━━━━━━┳━━━━━━━━━┳━━━━━━━━━┳━━━━━━━━┳━━━━━━━━┳━━━━━━━┳━━━━━━━━━┓\n",
       "┃<span style=\"color: #800080; text-decoration-color: #800080; font-weight: bold\">                          </span>┃<span style=\"color: #800080; text-decoration-color: #800080; font-weight: bold\">     Src </span>┃<span style=\"color: #800080; text-decoration-color: #800080; font-weight: bold\">         </span>┃<span style=\"color: #800080; text-decoration-color: #800080; font-weight: bold\">     Rand </span>┃<span style=\"color: #800080; text-decoration-color: #800080; font-weight: bold\">         </span>┃<span style=\"color: #800080; text-decoration-color: #800080; font-weight: bold\">         </span>┃<span style=\"color: #800080; text-decoration-color: #800080; font-weight: bold\">    Obj </span>┃<span style=\"color: #800080; text-decoration-color: #800080; font-weight: bold\">        </span>┃<span style=\"color: #800080; text-decoration-color: #800080; font-weight: bold\">   Mod </span>┃<span style=\"color: #800080; text-decoration-color: #800080; font-weight: bold\">         </span>┃\n",
       "┃<span style=\"color: #800080; text-decoration-color: #800080; font-weight: bold\"> Package Name             </span>┃<span style=\"color: #800080; text-decoration-color: #800080; font-weight: bold\">    Func </span>┃<span style=\"color: #800080; text-decoration-color: #800080; font-weight: bold\"> IR Func </span>┃<span style=\"color: #800080; text-decoration-color: #800080; font-weight: bold\">     Func </span>┃<span style=\"color: #800080; text-decoration-color: #800080; font-weight: bold\"> LLVM IR </span>┃<span style=\"color: #800080; text-decoration-color: #800080; font-weight: bold\"> Rand IR </span>┃<span style=\"color: #800080; text-decoration-color: #800080; font-weight: bold\">   File </span>┃<span style=\"color: #800080; text-decoration-color: #800080; font-weight: bold\"> Relink </span>┃<span style=\"color: #800080; text-decoration-color: #800080; font-weight: bold\">   Obj </span>┃<span style=\"color: #800080; text-decoration-color: #800080; font-weight: bold\"> Overall </span>┃\n",
       "┡━━━━━━━━━━━━━━━━━━━━━━━━━━╇━━━━━━━━━╇━━━━━━━━━╇━━━━━━━━━━╇━━━━━━━━━╇━━━━━━━━━╇━━━━━━━━╇━━━━━━━━╇━━━━━━━╇━━━━━━━━━┩\n",
       "│<span style=\"color: #008080; text-decoration-color: #008080\"> netmask                  </span>│<span style=\"color: #008000; text-decoration-color: #008000\">  100.0% </span>│<span style=\"color: #008000; text-decoration-color: #008000\">  100.0% </span>│<span style=\"color: #008000; text-decoration-color: #008000\">   100.0% </span>│<span style=\"color: #008000; text-decoration-color: #008000\">  100.0% </span>│<span style=\"color: #008000; text-decoration-color: #008000\">  100.0% </span>│<span style=\"color: #008000; text-decoration-color: #008000\"> 100.0% </span>│<span style=\"color: #008000; text-decoration-color: #008000\"> 100.0% </span>│<span style=\"color: #008000; text-decoration-color: #008000\"> 100.… </span>│<span style=\"color: #008000; text-decoration-color: #008000; font-weight: bold\">  100.0% </span>│\n",
       "│<span style=\"color: #008080; text-decoration-color: #008080\"> fxt                      </span>│<span style=\"color: #008000; text-decoration-color: #008000\">  100.0% </span>│<span style=\"color: #008000; text-decoration-color: #008000\">  100.0% </span>│<span style=\"color: #008000; text-decoration-color: #008000\">    95.7% </span>│<span style=\"color: #008000; text-decoration-color: #008000\">   95.7% </span>│<span style=\"color: #008000; text-decoration-color: #008000\">   95.7% </span>│<span style=\"color: #008000; text-decoration-color: #008000\">  95.7% </span>│<span style=\"color: #008000; text-decoration-color: #008000\">  95.7% </span>│<span style=\"color: #008000; text-decoration-color: #008000\"> 95.7% </span>│<span style=\"color: #008000; text-decoration-color: #008000; font-weight: bold\">   96.7% </span>│\n",
       "│<span style=\"color: #008080; text-decoration-color: #008080\"> ccze                     </span>│<span style=\"color: #008000; text-decoration-color: #008000\">  100.0% </span>│<span style=\"color: #008000; text-decoration-color: #008000\">  100.0% </span>│<span style=\"color: #008000; text-decoration-color: #008000\">   100.0% </span>│<span style=\"color: #008000; text-decoration-color: #008000\">  100.0% </span>│<span style=\"color: #008000; text-decoration-color: #008000\">  100.0% </span>│<span style=\"color: #008000; text-decoration-color: #008000\">  71.4% </span>│<span style=\"color: #008000; text-decoration-color: #008000\"> 100.0% </span>│<span style=\"color: #008000; text-decoration-color: #008000\"> 71.4% </span>│<span style=\"color: #008000; text-decoration-color: #008000; font-weight: bold\">   92.9% </span>│\n",
       "│<span style=\"color: #008080; text-decoration-color: #008080\"> hello                    </span>│<span style=\"color: #008000; text-decoration-color: #008000\">  100.0% </span>│<span style=\"color: #008000; text-decoration-color: #008000\">  100.0% </span>│<span style=\"color: #008000; text-decoration-color: #008000\">    85.7% </span>│<span style=\"color: #008000; text-decoration-color: #008000\">  100.0% </span>│<span style=\"color: #008000; text-decoration-color: #008000\">   85.7% </span>│<span style=\"color: #008000; text-decoration-color: #008000\"> 100.0% </span>│<span style=\"color: #008000; text-decoration-color: #008000\">  85.7% </span>│<span style=\"color: #008000; text-decoration-color: #008000\"> 85.7% </span>│<span style=\"color: #008000; text-decoration-color: #008000; font-weight: bold\">   92.9% </span>│\n",
       "│<span style=\"color: #008080; text-decoration-color: #008080\"> clucene-core             </span>│<span style=\"color: #008000; text-decoration-color: #008000\">  100.0% </span>│<span style=\"color: #008000; text-decoration-color: #008000\">  100.0% </span>│<span style=\"color: #008000; text-decoration-color: #008000\">    93.1% </span>│<span style=\"color: #008000; text-decoration-color: #008000\">   96.5% </span>│<span style=\"color: #008000; text-decoration-color: #008000\">   93.1% </span>│<span style=\"color: #008000; text-decoration-color: #008000\">  96.5% </span>│<span style=\"color: #008000; text-decoration-color: #008000\">  81.7% </span>│<span style=\"color: #008000; text-decoration-color: #008000\"> 81.7% </span>│<span style=\"color: #008000; text-decoration-color: #008000; font-weight: bold\">   92.8% </span>│\n",
       "│<span style=\"color: #008080; text-decoration-color: #008080\"> volume-key               </span>│<span style=\"color: #008000; text-decoration-color: #008000\">  100.0% </span>│<span style=\"color: #008000; text-decoration-color: #008000\">  100.0% </span>│<span style=\"color: #008000; text-decoration-color: #008000\">    90.0% </span>│<span style=\"color: #008000; text-decoration-color: #008000\">   90.0% </span>│<span style=\"color: #008000; text-decoration-color: #008000\">   90.0% </span>│<span style=\"color: #008000; text-decoration-color: #008000\">  90.0% </span>│<span style=\"color: #008000; text-decoration-color: #008000\">  90.0% </span>│<span style=\"color: #008000; text-decoration-color: #008000\"> 90.0% </span>│<span style=\"color: #008000; text-decoration-color: #008000; font-weight: bold\">   92.5% </span>│\n",
       "│<span style=\"color: #008080; text-decoration-color: #008080\"> libsfml                  </span>│<span style=\"color: #008000; text-decoration-color: #008000\">  100.0% </span>│<span style=\"color: #008000; text-decoration-color: #008000\">  100.0% </span>│<span style=\"color: #008000; text-decoration-color: #008000\">    79.1% </span>│<span style=\"color: #008000; text-decoration-color: #008000\">   89.2% </span>│<span style=\"color: #008000; text-decoration-color: #008000\">   79.1% </span>│<span style=\"color: #008000; text-decoration-color: #008000\">  89.2% </span>│<span style=\"color: #008000; text-decoration-color: #008000\">  64.0% </span>│<span style=\"color: #008000; text-decoration-color: #008000\"> 64.0% </span>│<span style=\"color: #008000; text-decoration-color: #008000; font-weight: bold\">   83.1% </span>│\n",
       "│<span style=\"color: #008080; text-decoration-color: #008080\"> libsecp256k1             </span>│<span style=\"color: #008000; text-decoration-color: #008000\">  100.0% </span>│<span style=\"color: #008000; text-decoration-color: #008000\">  100.0% </span>│<span style=\"color: #008000; text-decoration-color: #008000\">    41.7% </span>│<span style=\"color: #008000; text-decoration-color: #008000\">   75.0% </span>│<span style=\"color: #008000; text-decoration-color: #008000\">   41.7% </span>│<span style=\"color: #008000; text-decoration-color: #008000\">  75.0% </span>│<span style=\"color: #008000; text-decoration-color: #008000\">  41.7% </span>│<span style=\"color: #008000; text-decoration-color: #008000\"> 41.7% </span>│<span style=\"color: #008000; text-decoration-color: #008000; font-weight: bold\">   64.6% </span>│\n",
       "│<span style=\"color: #008080; text-decoration-color: #008080\"> pnc                      </span>│<span style=\"color: #008000; text-decoration-color: #008000\">  100.0% </span>│<span style=\"color: #008000; text-decoration-color: #008000\">  100.0% </span>│<span style=\"color: #008000; text-decoration-color: #008000\">    42.9% </span>│<span style=\"color: #008000; text-decoration-color: #008000\">   42.9% </span>│<span style=\"color: #008000; text-decoration-color: #008000\">   42.9% </span>│<span style=\"color: #008000; text-decoration-color: #008000\">  42.9% </span>│<span style=\"color: #008000; text-decoration-color: #008000\">  42.9% </span>│<span style=\"color: #008000; text-decoration-color: #008000\"> 42.9% </span>│<span style=\"color: #008000; text-decoration-color: #008000; font-weight: bold\">   57.1% </span>│\n",
       "│<span style=\"color: #008080; text-decoration-color: #008080\"> systemsettings           </span>│<span style=\"color: #008000; text-decoration-color: #008000\">  100.0% </span>│<span style=\"color: #008000; text-decoration-color: #008000\">  100.0% </span>│<span style=\"color: #008000; text-decoration-color: #008000\">    13.8% </span>│<span style=\"color: #008000; text-decoration-color: #008000\">   86.2% </span>│<span style=\"color: #008000; text-decoration-color: #008000\">   13.8% </span>│<span style=\"color: #008000; text-decoration-color: #008000\">  86.2% </span>│<span style=\"color: #008000; text-decoration-color: #008000\">  13.8% </span>│<span style=\"color: #008000; text-decoration-color: #008000\"> 13.8% </span>│<span style=\"color: #008000; text-decoration-color: #008000; font-weight: bold\">   53.4% </span>│\n",
       "└──────────────────────────┴─────────┴─────────┴──────────┴─────────┴─────────┴────────┴────────┴───────┴─────────┘\n",
       "</pre>\n"
      ],
      "text/plain": [
       "\u001b[3m                                     Top 10 Test-Passed Packages Success Rates                                     \u001b[0m\n",
       "┏━━━━━━━━━━━━━━━━━━━━━━━━━━┳━━━━━━━━━┳━━━━━━━━━┳━━━━━━━━━━┳━━━━━━━━━┳━━━━━━━━━┳━━━━━━━━┳━━━━━━━━┳━━━━━━━┳━━━━━━━━━┓\n",
       "┃\u001b[1;35m                          \u001b[0m┃\u001b[1;35m \u001b[0m\u001b[1;35m    Src\u001b[0m\u001b[1;35m \u001b[0m┃\u001b[1;35m         \u001b[0m┃\u001b[1;35m \u001b[0m\u001b[1;35m    Rand\u001b[0m\u001b[1;35m \u001b[0m┃\u001b[1;35m         \u001b[0m┃\u001b[1;35m         \u001b[0m┃\u001b[1;35m \u001b[0m\u001b[1;35m   Obj\u001b[0m\u001b[1;35m \u001b[0m┃\u001b[1;35m        \u001b[0m┃\u001b[1;35m \u001b[0m\u001b[1;35m  Mod\u001b[0m\u001b[1;35m \u001b[0m┃\u001b[1;35m         \u001b[0m┃\n",
       "┃\u001b[1;35m \u001b[0m\u001b[1;35mPackage Name            \u001b[0m\u001b[1;35m \u001b[0m┃\u001b[1;35m \u001b[0m\u001b[1;35m   Func\u001b[0m\u001b[1;35m \u001b[0m┃\u001b[1;35m \u001b[0m\u001b[1;35mIR Func\u001b[0m\u001b[1;35m \u001b[0m┃\u001b[1;35m \u001b[0m\u001b[1;35m    Func\u001b[0m\u001b[1;35m \u001b[0m┃\u001b[1;35m \u001b[0m\u001b[1;35mLLVM IR\u001b[0m\u001b[1;35m \u001b[0m┃\u001b[1;35m \u001b[0m\u001b[1;35mRand IR\u001b[0m\u001b[1;35m \u001b[0m┃\u001b[1;35m \u001b[0m\u001b[1;35m  File\u001b[0m\u001b[1;35m \u001b[0m┃\u001b[1;35m \u001b[0m\u001b[1;35mRelink\u001b[0m\u001b[1;35m \u001b[0m┃\u001b[1;35m \u001b[0m\u001b[1;35m  Obj\u001b[0m\u001b[1;35m \u001b[0m┃\u001b[1;35m \u001b[0m\u001b[1;35mOverall\u001b[0m\u001b[1;35m \u001b[0m┃\n",
       "┡━━━━━━━━━━━━━━━━━━━━━━━━━━╇━━━━━━━━━╇━━━━━━━━━╇━━━━━━━━━━╇━━━━━━━━━╇━━━━━━━━━╇━━━━━━━━╇━━━━━━━━╇━━━━━━━╇━━━━━━━━━┩\n",
       "│\u001b[36m \u001b[0m\u001b[36mnetmask                 \u001b[0m\u001b[36m \u001b[0m│\u001b[32m \u001b[0m\u001b[32m 100.0%\u001b[0m\u001b[32m \u001b[0m│\u001b[32m \u001b[0m\u001b[32m 100.0%\u001b[0m\u001b[32m \u001b[0m│\u001b[32m \u001b[0m\u001b[32m  100.0%\u001b[0m\u001b[32m \u001b[0m│\u001b[32m \u001b[0m\u001b[32m 100.0%\u001b[0m\u001b[32m \u001b[0m│\u001b[32m \u001b[0m\u001b[32m 100.0%\u001b[0m\u001b[32m \u001b[0m│\u001b[32m \u001b[0m\u001b[32m100.0%\u001b[0m\u001b[32m \u001b[0m│\u001b[32m \u001b[0m\u001b[32m100.0%\u001b[0m\u001b[32m \u001b[0m│\u001b[32m \u001b[0m\u001b[32m100.…\u001b[0m\u001b[32m \u001b[0m│\u001b[1;32m \u001b[0m\u001b[1;32m 100.0%\u001b[0m\u001b[1;32m \u001b[0m│\n",
       "│\u001b[36m \u001b[0m\u001b[36mfxt                     \u001b[0m\u001b[36m \u001b[0m│\u001b[32m \u001b[0m\u001b[32m 100.0%\u001b[0m\u001b[32m \u001b[0m│\u001b[32m \u001b[0m\u001b[32m 100.0%\u001b[0m\u001b[32m \u001b[0m│\u001b[32m \u001b[0m\u001b[32m   95.7%\u001b[0m\u001b[32m \u001b[0m│\u001b[32m \u001b[0m\u001b[32m  95.7%\u001b[0m\u001b[32m \u001b[0m│\u001b[32m \u001b[0m\u001b[32m  95.7%\u001b[0m\u001b[32m \u001b[0m│\u001b[32m \u001b[0m\u001b[32m 95.7%\u001b[0m\u001b[32m \u001b[0m│\u001b[32m \u001b[0m\u001b[32m 95.7%\u001b[0m\u001b[32m \u001b[0m│\u001b[32m \u001b[0m\u001b[32m95.7%\u001b[0m\u001b[32m \u001b[0m│\u001b[1;32m \u001b[0m\u001b[1;32m  96.7%\u001b[0m\u001b[1;32m \u001b[0m│\n",
       "│\u001b[36m \u001b[0m\u001b[36mccze                    \u001b[0m\u001b[36m \u001b[0m│\u001b[32m \u001b[0m\u001b[32m 100.0%\u001b[0m\u001b[32m \u001b[0m│\u001b[32m \u001b[0m\u001b[32m 100.0%\u001b[0m\u001b[32m \u001b[0m│\u001b[32m \u001b[0m\u001b[32m  100.0%\u001b[0m\u001b[32m \u001b[0m│\u001b[32m \u001b[0m\u001b[32m 100.0%\u001b[0m\u001b[32m \u001b[0m│\u001b[32m \u001b[0m\u001b[32m 100.0%\u001b[0m\u001b[32m \u001b[0m│\u001b[32m \u001b[0m\u001b[32m 71.4%\u001b[0m\u001b[32m \u001b[0m│\u001b[32m \u001b[0m\u001b[32m100.0%\u001b[0m\u001b[32m \u001b[0m│\u001b[32m \u001b[0m\u001b[32m71.4%\u001b[0m\u001b[32m \u001b[0m│\u001b[1;32m \u001b[0m\u001b[1;32m  92.9%\u001b[0m\u001b[1;32m \u001b[0m│\n",
       "│\u001b[36m \u001b[0m\u001b[36mhello                   \u001b[0m\u001b[36m \u001b[0m│\u001b[32m \u001b[0m\u001b[32m 100.0%\u001b[0m\u001b[32m \u001b[0m│\u001b[32m \u001b[0m\u001b[32m 100.0%\u001b[0m\u001b[32m \u001b[0m│\u001b[32m \u001b[0m\u001b[32m   85.7%\u001b[0m\u001b[32m \u001b[0m│\u001b[32m \u001b[0m\u001b[32m 100.0%\u001b[0m\u001b[32m \u001b[0m│\u001b[32m \u001b[0m\u001b[32m  85.7%\u001b[0m\u001b[32m \u001b[0m│\u001b[32m \u001b[0m\u001b[32m100.0%\u001b[0m\u001b[32m \u001b[0m│\u001b[32m \u001b[0m\u001b[32m 85.7%\u001b[0m\u001b[32m \u001b[0m│\u001b[32m \u001b[0m\u001b[32m85.7%\u001b[0m\u001b[32m \u001b[0m│\u001b[1;32m \u001b[0m\u001b[1;32m  92.9%\u001b[0m\u001b[1;32m \u001b[0m│\n",
       "│\u001b[36m \u001b[0m\u001b[36mclucene-core            \u001b[0m\u001b[36m \u001b[0m│\u001b[32m \u001b[0m\u001b[32m 100.0%\u001b[0m\u001b[32m \u001b[0m│\u001b[32m \u001b[0m\u001b[32m 100.0%\u001b[0m\u001b[32m \u001b[0m│\u001b[32m \u001b[0m\u001b[32m   93.1%\u001b[0m\u001b[32m \u001b[0m│\u001b[32m \u001b[0m\u001b[32m  96.5%\u001b[0m\u001b[32m \u001b[0m│\u001b[32m \u001b[0m\u001b[32m  93.1%\u001b[0m\u001b[32m \u001b[0m│\u001b[32m \u001b[0m\u001b[32m 96.5%\u001b[0m\u001b[32m \u001b[0m│\u001b[32m \u001b[0m\u001b[32m 81.7%\u001b[0m\u001b[32m \u001b[0m│\u001b[32m \u001b[0m\u001b[32m81.7%\u001b[0m\u001b[32m \u001b[0m│\u001b[1;32m \u001b[0m\u001b[1;32m  92.8%\u001b[0m\u001b[1;32m \u001b[0m│\n",
       "│\u001b[36m \u001b[0m\u001b[36mvolume-key              \u001b[0m\u001b[36m \u001b[0m│\u001b[32m \u001b[0m\u001b[32m 100.0%\u001b[0m\u001b[32m \u001b[0m│\u001b[32m \u001b[0m\u001b[32m 100.0%\u001b[0m\u001b[32m \u001b[0m│\u001b[32m \u001b[0m\u001b[32m   90.0%\u001b[0m\u001b[32m \u001b[0m│\u001b[32m \u001b[0m\u001b[32m  90.0%\u001b[0m\u001b[32m \u001b[0m│\u001b[32m \u001b[0m\u001b[32m  90.0%\u001b[0m\u001b[32m \u001b[0m│\u001b[32m \u001b[0m\u001b[32m 90.0%\u001b[0m\u001b[32m \u001b[0m│\u001b[32m \u001b[0m\u001b[32m 90.0%\u001b[0m\u001b[32m \u001b[0m│\u001b[32m \u001b[0m\u001b[32m90.0%\u001b[0m\u001b[32m \u001b[0m│\u001b[1;32m \u001b[0m\u001b[1;32m  92.5%\u001b[0m\u001b[1;32m \u001b[0m│\n",
       "│\u001b[36m \u001b[0m\u001b[36mlibsfml                 \u001b[0m\u001b[36m \u001b[0m│\u001b[32m \u001b[0m\u001b[32m 100.0%\u001b[0m\u001b[32m \u001b[0m│\u001b[32m \u001b[0m\u001b[32m 100.0%\u001b[0m\u001b[32m \u001b[0m│\u001b[32m \u001b[0m\u001b[32m   79.1%\u001b[0m\u001b[32m \u001b[0m│\u001b[32m \u001b[0m\u001b[32m  89.2%\u001b[0m\u001b[32m \u001b[0m│\u001b[32m \u001b[0m\u001b[32m  79.1%\u001b[0m\u001b[32m \u001b[0m│\u001b[32m \u001b[0m\u001b[32m 89.2%\u001b[0m\u001b[32m \u001b[0m│\u001b[32m \u001b[0m\u001b[32m 64.0%\u001b[0m\u001b[32m \u001b[0m│\u001b[32m \u001b[0m\u001b[32m64.0%\u001b[0m\u001b[32m \u001b[0m│\u001b[1;32m \u001b[0m\u001b[1;32m  83.1%\u001b[0m\u001b[1;32m \u001b[0m│\n",
       "│\u001b[36m \u001b[0m\u001b[36mlibsecp256k1            \u001b[0m\u001b[36m \u001b[0m│\u001b[32m \u001b[0m\u001b[32m 100.0%\u001b[0m\u001b[32m \u001b[0m│\u001b[32m \u001b[0m\u001b[32m 100.0%\u001b[0m\u001b[32m \u001b[0m│\u001b[32m \u001b[0m\u001b[32m   41.7%\u001b[0m\u001b[32m \u001b[0m│\u001b[32m \u001b[0m\u001b[32m  75.0%\u001b[0m\u001b[32m \u001b[0m│\u001b[32m \u001b[0m\u001b[32m  41.7%\u001b[0m\u001b[32m \u001b[0m│\u001b[32m \u001b[0m\u001b[32m 75.0%\u001b[0m\u001b[32m \u001b[0m│\u001b[32m \u001b[0m\u001b[32m 41.7%\u001b[0m\u001b[32m \u001b[0m│\u001b[32m \u001b[0m\u001b[32m41.7%\u001b[0m\u001b[32m \u001b[0m│\u001b[1;32m \u001b[0m\u001b[1;32m  64.6%\u001b[0m\u001b[1;32m \u001b[0m│\n",
       "│\u001b[36m \u001b[0m\u001b[36mpnc                     \u001b[0m\u001b[36m \u001b[0m│\u001b[32m \u001b[0m\u001b[32m 100.0%\u001b[0m\u001b[32m \u001b[0m│\u001b[32m \u001b[0m\u001b[32m 100.0%\u001b[0m\u001b[32m \u001b[0m│\u001b[32m \u001b[0m\u001b[32m   42.9%\u001b[0m\u001b[32m \u001b[0m│\u001b[32m \u001b[0m\u001b[32m  42.9%\u001b[0m\u001b[32m \u001b[0m│\u001b[32m \u001b[0m\u001b[32m  42.9%\u001b[0m\u001b[32m \u001b[0m│\u001b[32m \u001b[0m\u001b[32m 42.9%\u001b[0m\u001b[32m \u001b[0m│\u001b[32m \u001b[0m\u001b[32m 42.9%\u001b[0m\u001b[32m \u001b[0m│\u001b[32m \u001b[0m\u001b[32m42.9%\u001b[0m\u001b[32m \u001b[0m│\u001b[1;32m \u001b[0m\u001b[1;32m  57.1%\u001b[0m\u001b[1;32m \u001b[0m│\n",
       "│\u001b[36m \u001b[0m\u001b[36msystemsettings          \u001b[0m\u001b[36m \u001b[0m│\u001b[32m \u001b[0m\u001b[32m 100.0%\u001b[0m\u001b[32m \u001b[0m│\u001b[32m \u001b[0m\u001b[32m 100.0%\u001b[0m\u001b[32m \u001b[0m│\u001b[32m \u001b[0m\u001b[32m   13.8%\u001b[0m\u001b[32m \u001b[0m│\u001b[32m \u001b[0m\u001b[32m  86.2%\u001b[0m\u001b[32m \u001b[0m│\u001b[32m \u001b[0m\u001b[32m  13.8%\u001b[0m\u001b[32m \u001b[0m│\u001b[32m \u001b[0m\u001b[32m 86.2%\u001b[0m\u001b[32m \u001b[0m│\u001b[32m \u001b[0m\u001b[32m 13.8%\u001b[0m\u001b[32m \u001b[0m│\u001b[32m \u001b[0m\u001b[32m13.8%\u001b[0m\u001b[32m \u001b[0m│\u001b[1;32m \u001b[0m\u001b[1;32m  53.4%\u001b[0m\u001b[1;32m \u001b[0m│\n",
       "└──────────────────────────┴─────────┴─────────┴──────────┴─────────┴─────────┴────────┴────────┴───────┴─────────┘\n"
      ]
     },
     "metadata": {},
     "output_type": "display_data"
    }
   ],
   "source": [
    "# Test-Passed Packages Success Rate Analysis\n",
    "\n",
    "console.print(\"\\n[bold][cyan]Success Rates for Test-Passed Packages:[/cyan][/bold]\", style=\"bold\")\n",
    "\n",
    "# Filter packages where test_passed = 1\n",
    "successful_test_packages = df_packages.filter(pl.col(\"test_passed\") == 1)\n",
    "successful_package_names = successful_test_packages.get_column(\"name\").to_list()\n",
    "\n",
    "test_passed_package_averages = package_averages.filter(\n",
    "    pl.col(\"package_name\").is_in(successful_package_names)\n",
    ")\n",
    "\n",
    "source_files_from_successful_packages = df.filter(pl.col(\"package_name\").is_in(successful_package_names))\n",
    "\n",
    "# Summary statistics\n",
    "total_packages = df_packages.height\n",
    "test_passed_packages = successful_test_packages.height\n",
    "test_passed_percentage = (test_passed_packages / total_packages * 100) if total_packages > 0 else 0\n",
    "\n",
    "total_source_files = df.height\n",
    "source_files_from_test_passed = source_files_from_successful_packages.height\n",
    "source_files_percentage = (source_files_from_test_passed / total_source_files * 100) if total_source_files > 0 else 0\n",
    "\n",
    "summary_stats = Table(title=\"Test Success Summary\", show_header=True, header_style=\"bold magenta\")\n",
    "summary_stats.add_column(\"Metric\", style=\"cyan\", no_wrap=True)\n",
    "summary_stats.add_column(\"Value\", style=\"green\", justify=\"right\")\n",
    "\n",
    "summary_stats.add_row(\"Total Packages\", f\"{total_packages}\")\n",
    "summary_stats.add_row(\"Packages with test_passed = 1\", f\"{test_passed_packages}\")\n",
    "summary_stats.add_row(\"Test Success Rate\", f\"{test_passed_percentage:.2f}%\")\n",
    "summary_stats.add_row(\"Total Source Files\", f\"{total_source_files}\")\n",
    "summary_stats.add_row(\"Source Files from Test-Passed Packages\", f\"{source_files_from_test_passed}\")\n",
    "summary_stats.add_row(\"Percentage of Source Files\", f\"{source_files_percentage:.2f}%\")\n",
    "\n",
    "console.print(summary_stats)\n",
    "\n",
    "# Calculate overall success rate per test-passed package (average across all metrics)\n",
    "test_passed_overall_success = test_passed_package_averages.with_columns([\n",
    "    ((pl.col(\"src_functions_avg\") + pl.col(\"ir_functions_avg\") + pl.col(\"random_function_avg\") + \n",
    "    pl.col(\"llvm_ir_avg\") + pl.col(\"random_function_ir_avg\") + pl.col(\"object_file_avg\") + \n",
    "    pl.col(\"relinked_ir_avg\") + pl.col(\"modified_object_avg\")) / 8).alias(\"overall_success_rate\")\n",
    "]).sort(\"overall_success_rate\", descending=True)\n",
    "\n",
    "# Get top 10 test-passed packages\n",
    "top_10_test_passed = test_passed_overall_success.head(10)\n",
    "\n",
    "# Table for top 10 test-passed packages\n",
    "console.print(\"\\n[bold][green]Top 10 Test-Passed Packages by Success Rate:[/green][/bold]\", style=\"bold\")\n",
    "\n",
    "test_passed_table = Table(title=\"Top 10 Test-Passed Packages Success Rates\", show_header=True, header_style=\"bold magenta\")\n",
    "test_passed_table.add_column(\"Package Name\", style=\"cyan\", no_wrap=False, width=25)\n",
    "test_passed_table.add_column(\"Src Func\", style=\"green\", justify=\"right\", width=8)\n",
    "test_passed_table.add_column(\"IR Func\", style=\"green\", justify=\"right\", width=8)\n",
    "test_passed_table.add_column(\"Rand Func\", style=\"green\", justify=\"right\", width=9)\n",
    "test_passed_table.add_column(\"LLVM IR\", style=\"green\", justify=\"right\", width=8)\n",
    "test_passed_table.add_column(\"Rand IR\", style=\"green\", justify=\"right\", width=8)\n",
    "test_passed_table.add_column(\"Obj File\", style=\"green\", justify=\"right\", width=8)\n",
    "test_passed_table.add_column(\"Relink\", style=\"green\", justify=\"right\", width=7)\n",
    "test_passed_table.add_column(\"Mod Obj\", style=\"green\", justify=\"right\", width=7)\n",
    "test_passed_table.add_column(\"Overall\", style=\"bold green\", justify=\"right\", width=8)\n",
    "\n",
    "for row in top_10_test_passed.iter_rows():\n",
    "    package_name, src_f, ir_f, rand_f, llvm_ir, rand_ir, obj_f, relink, mod_obj, overall = row\n",
    "    test_passed_table.add_row(\n",
    "        package_name,\n",
    "        f\"{src_f:.1%}\" if src_f is not None else \"N/A\",\n",
    "        f\"{ir_f:.1%}\" if ir_f is not None else \"N/A\",\n",
    "        f\"{rand_f:.1%}\" if rand_f is not None else \"N/A\",\n",
    "        f\"{llvm_ir:.1%}\" if llvm_ir is not None else \"N/A\",\n",
    "        f\"{rand_ir:.1%}\" if rand_ir is not None else \"N/A\",\n",
    "        f\"{obj_f:.1%}\" if obj_f is not None else \"N/A\",\n",
    "        f\"{relink:.1%}\" if relink is not None else \"N/A\",\n",
    "        f\"{mod_obj:.1%}\" if mod_obj is not None else \"N/A\",\n",
    "        f\"{overall:.1%}\" if overall is not None else \"N/A\"\n",
    "    )\n",
    "\n",
    "console.print(test_passed_table)"
   ]
  }
 ],
 "metadata": {
  "kernelspec": {
   "display_name": "LLM_Comp",
   "language": "python",
   "name": "python3"
  },
  "language_info": {
   "codemirror_mode": {
    "name": "ipython",
    "version": 3
   },
   "file_extension": ".py",
   "mimetype": "text/x-python",
   "name": "python",
   "nbconvert_exporter": "python",
   "pygments_lexer": "ipython3",
   "version": "3.12.3"
  }
 },
 "nbformat": 4,
 "nbformat_minor": 5
}
