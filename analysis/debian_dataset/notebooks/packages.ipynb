{
 "cells": [
  {
   "cell_type": "code",
   "execution_count": 1,
   "id": "4323710c",
   "metadata": {},
   "outputs": [],
   "source": [
    "# Imports\n",
    "\n",
    "import polars as pl\n",
    "from rich.console import Console\n",
    "from rich.table import Table\n",
    "console = Console()\n"
   ]
  },
  {
   "cell_type": "code",
   "execution_count": null,
   "id": "89e587a9",
   "metadata": {},
   "outputs": [],
   "source": [
    "# Import Data\n",
    "\n",
    "dataset_path = \"\"\n",
    "df = pl.read_parquet(dataset_path)"
   ]
  },
  {
   "cell_type": "code",
   "execution_count": 3,
   "id": "6954a8a6",
   "metadata": {},
   "outputs": [
    {
     "data": {
      "text/html": [
       "<pre style=\"white-space:pre;overflow-x:auto;line-height:normal;font-family:Menlo,'DejaVu Sans Mono',consolas,'Courier New',monospace\"><span style=\"font-weight: bold\">Schema Inspection:</span>\n",
       "</pre>\n"
      ],
      "text/plain": [
       "\u001b[1mSchema Inspection:\u001b[0m\n"
      ]
     },
     "metadata": {},
     "output_type": "display_data"
    },
    {
     "data": {
      "text/html": [
       "<pre style=\"white-space:pre;overflow-x:auto;line-height:normal;font-family:Menlo,'DejaVu Sans Mono',consolas,'Courier New',monospace\"><span style=\"font-style: italic\">                DataFrame Schema                </span>\n",
       "┏━━━━━━━━━━━━━━━━━━━━━━━━━━━━━━━━━━┳━━━━━━━━━━━┓\n",
       "┃<span style=\"color: #800080; text-decoration-color: #800080; font-weight: bold\"> Column Name                      </span>┃<span style=\"color: #800080; text-decoration-color: #800080; font-weight: bold\"> Data Type </span>┃\n",
       "┡━━━━━━━━━━━━━━━━━━━━━━━━━━━━━━━━━━╇━━━━━━━━━━━┩\n",
       "│<span style=\"color: #008080; text-decoration-color: #008080\"> name                             </span>│<span style=\"color: #008000; text-decoration-color: #008000\"> String    </span>│\n",
       "│<span style=\"color: #008080; text-decoration-color: #008080\"> build_system                     </span>│<span style=\"color: #008000; text-decoration-color: #008000\"> String    </span>│\n",
       "│<span style=\"color: #008080; text-decoration-color: #008080\"> dh_auto_configure                </span>│<span style=\"color: #008000; text-decoration-color: #008000\"> String    </span>│\n",
       "│<span style=\"color: #008080; text-decoration-color: #008080\"> dh_auto_build                    </span>│<span style=\"color: #008000; text-decoration-color: #008000\"> String    </span>│\n",
       "│<span style=\"color: #008080; text-decoration-color: #008080\"> dh_auto_test                     </span>│<span style=\"color: #008000; text-decoration-color: #008000\"> String    </span>│\n",
       "│<span style=\"color: #008080; text-decoration-color: #008080\"> build_stderr                     </span>│<span style=\"color: #008000; text-decoration-color: #008000\"> String    </span>│\n",
       "│<span style=\"color: #008080; text-decoration-color: #008080\"> build_return_code                </span>│<span style=\"color: #008000; text-decoration-color: #008000\"> Int64     </span>│\n",
       "│<span style=\"color: #008080; text-decoration-color: #008080\"> test_stdout                      </span>│<span style=\"color: #008000; text-decoration-color: #008000\"> String    </span>│\n",
       "│<span style=\"color: #008080; text-decoration-color: #008080\"> test_stderr                      </span>│<span style=\"color: #008000; text-decoration-color: #008000\"> String    </span>│\n",
       "│<span style=\"color: #008080; text-decoration-color: #008080\"> test_returncode                  </span>│<span style=\"color: #008000; text-decoration-color: #008000\"> Int64     </span>│\n",
       "│<span style=\"color: #008080; text-decoration-color: #008080\"> test_detected                    </span>│<span style=\"color: #008000; text-decoration-color: #008000\"> Int64     </span>│\n",
       "│<span style=\"color: #008080; text-decoration-color: #008080\"> testing_framework                </span>│<span style=\"color: #008000; text-decoration-color: #008000\"> String    </span>│\n",
       "│<span style=\"color: #008080; text-decoration-color: #008080\"> test_stdout_diff                 </span>│<span style=\"color: #008000; text-decoration-color: #008000\"> String    </span>│\n",
       "│<span style=\"color: #008080; text-decoration-color: #008080\"> test_stderr_diff                 </span>│<span style=\"color: #008000; text-decoration-color: #008000\"> String    </span>│\n",
       "│<span style=\"color: #008080; text-decoration-color: #008080\"> package_viable_for_test_dataset  </span>│<span style=\"color: #008000; text-decoration-color: #008000\"> Int64     </span>│\n",
       "│<span style=\"color: #008080; text-decoration-color: #008080\"> rebuild_stderr                   </span>│<span style=\"color: #008000; text-decoration-color: #008000\"> String    </span>│\n",
       "│<span style=\"color: #008080; text-decoration-color: #008080\"> rebuild_returncode               </span>│<span style=\"color: #008000; text-decoration-color: #008000\"> Int64     </span>│\n",
       "│<span style=\"color: #008080; text-decoration-color: #008080\"> modified_rebuild_stderr          </span>│<span style=\"color: #008000; text-decoration-color: #008000\"> String    </span>│\n",
       "│<span style=\"color: #008080; text-decoration-color: #008080\"> modified_rebuild_returncode      </span>│<span style=\"color: #008000; text-decoration-color: #008000\"> Int64     </span>│\n",
       "│<span style=\"color: #008080; text-decoration-color: #008080\"> test_stdout_for_modified_package </span>│<span style=\"color: #008000; text-decoration-color: #008000\"> String    </span>│\n",
       "│<span style=\"color: #008080; text-decoration-color: #008080\"> test_stderr_for_modified_package </span>│<span style=\"color: #008000; text-decoration-color: #008000\"> String    </span>│\n",
       "│<span style=\"color: #008080; text-decoration-color: #008080\"> test_passed                      </span>│<span style=\"color: #008000; text-decoration-color: #008000\"> Int64     </span>│\n",
       "└──────────────────────────────────┴───────────┘\n",
       "</pre>\n"
      ],
      "text/plain": [
       "\u001b[3m                DataFrame Schema                \u001b[0m\n",
       "┏━━━━━━━━━━━━━━━━━━━━━━━━━━━━━━━━━━┳━━━━━━━━━━━┓\n",
       "┃\u001b[1;35m \u001b[0m\u001b[1;35mColumn Name                     \u001b[0m\u001b[1;35m \u001b[0m┃\u001b[1;35m \u001b[0m\u001b[1;35mData Type\u001b[0m\u001b[1;35m \u001b[0m┃\n",
       "┡━━━━━━━━━━━━━━━━━━━━━━━━━━━━━━━━━━╇━━━━━━━━━━━┩\n",
       "│\u001b[36m \u001b[0m\u001b[36mname                            \u001b[0m\u001b[36m \u001b[0m│\u001b[32m \u001b[0m\u001b[32mString   \u001b[0m\u001b[32m \u001b[0m│\n",
       "│\u001b[36m \u001b[0m\u001b[36mbuild_system                    \u001b[0m\u001b[36m \u001b[0m│\u001b[32m \u001b[0m\u001b[32mString   \u001b[0m\u001b[32m \u001b[0m│\n",
       "│\u001b[36m \u001b[0m\u001b[36mdh_auto_configure               \u001b[0m\u001b[36m \u001b[0m│\u001b[32m \u001b[0m\u001b[32mString   \u001b[0m\u001b[32m \u001b[0m│\n",
       "│\u001b[36m \u001b[0m\u001b[36mdh_auto_build                   \u001b[0m\u001b[36m \u001b[0m│\u001b[32m \u001b[0m\u001b[32mString   \u001b[0m\u001b[32m \u001b[0m│\n",
       "│\u001b[36m \u001b[0m\u001b[36mdh_auto_test                    \u001b[0m\u001b[36m \u001b[0m│\u001b[32m \u001b[0m\u001b[32mString   \u001b[0m\u001b[32m \u001b[0m│\n",
       "│\u001b[36m \u001b[0m\u001b[36mbuild_stderr                    \u001b[0m\u001b[36m \u001b[0m│\u001b[32m \u001b[0m\u001b[32mString   \u001b[0m\u001b[32m \u001b[0m│\n",
       "│\u001b[36m \u001b[0m\u001b[36mbuild_return_code               \u001b[0m\u001b[36m \u001b[0m│\u001b[32m \u001b[0m\u001b[32mInt64    \u001b[0m\u001b[32m \u001b[0m│\n",
       "│\u001b[36m \u001b[0m\u001b[36mtest_stdout                     \u001b[0m\u001b[36m \u001b[0m│\u001b[32m \u001b[0m\u001b[32mString   \u001b[0m\u001b[32m \u001b[0m│\n",
       "│\u001b[36m \u001b[0m\u001b[36mtest_stderr                     \u001b[0m\u001b[36m \u001b[0m│\u001b[32m \u001b[0m\u001b[32mString   \u001b[0m\u001b[32m \u001b[0m│\n",
       "│\u001b[36m \u001b[0m\u001b[36mtest_returncode                 \u001b[0m\u001b[36m \u001b[0m│\u001b[32m \u001b[0m\u001b[32mInt64    \u001b[0m\u001b[32m \u001b[0m│\n",
       "│\u001b[36m \u001b[0m\u001b[36mtest_detected                   \u001b[0m\u001b[36m \u001b[0m│\u001b[32m \u001b[0m\u001b[32mInt64    \u001b[0m\u001b[32m \u001b[0m│\n",
       "│\u001b[36m \u001b[0m\u001b[36mtesting_framework               \u001b[0m\u001b[36m \u001b[0m│\u001b[32m \u001b[0m\u001b[32mString   \u001b[0m\u001b[32m \u001b[0m│\n",
       "│\u001b[36m \u001b[0m\u001b[36mtest_stdout_diff                \u001b[0m\u001b[36m \u001b[0m│\u001b[32m \u001b[0m\u001b[32mString   \u001b[0m\u001b[32m \u001b[0m│\n",
       "│\u001b[36m \u001b[0m\u001b[36mtest_stderr_diff                \u001b[0m\u001b[36m \u001b[0m│\u001b[32m \u001b[0m\u001b[32mString   \u001b[0m\u001b[32m \u001b[0m│\n",
       "│\u001b[36m \u001b[0m\u001b[36mpackage_viable_for_test_dataset \u001b[0m\u001b[36m \u001b[0m│\u001b[32m \u001b[0m\u001b[32mInt64    \u001b[0m\u001b[32m \u001b[0m│\n",
       "│\u001b[36m \u001b[0m\u001b[36mrebuild_stderr                  \u001b[0m\u001b[36m \u001b[0m│\u001b[32m \u001b[0m\u001b[32mString   \u001b[0m\u001b[32m \u001b[0m│\n",
       "│\u001b[36m \u001b[0m\u001b[36mrebuild_returncode              \u001b[0m\u001b[36m \u001b[0m│\u001b[32m \u001b[0m\u001b[32mInt64    \u001b[0m\u001b[32m \u001b[0m│\n",
       "│\u001b[36m \u001b[0m\u001b[36mmodified_rebuild_stderr         \u001b[0m\u001b[36m \u001b[0m│\u001b[32m \u001b[0m\u001b[32mString   \u001b[0m\u001b[32m \u001b[0m│\n",
       "│\u001b[36m \u001b[0m\u001b[36mmodified_rebuild_returncode     \u001b[0m\u001b[36m \u001b[0m│\u001b[32m \u001b[0m\u001b[32mInt64    \u001b[0m\u001b[32m \u001b[0m│\n",
       "│\u001b[36m \u001b[0m\u001b[36mtest_stdout_for_modified_package\u001b[0m\u001b[36m \u001b[0m│\u001b[32m \u001b[0m\u001b[32mString   \u001b[0m\u001b[32m \u001b[0m│\n",
       "│\u001b[36m \u001b[0m\u001b[36mtest_stderr_for_modified_package\u001b[0m\u001b[36m \u001b[0m│\u001b[32m \u001b[0m\u001b[32mString   \u001b[0m\u001b[32m \u001b[0m│\n",
       "│\u001b[36m \u001b[0m\u001b[36mtest_passed                     \u001b[0m\u001b[36m \u001b[0m│\u001b[32m \u001b[0m\u001b[32mInt64    \u001b[0m\u001b[32m \u001b[0m│\n",
       "└──────────────────────────────────┴───────────┘\n"
      ]
     },
     "metadata": {},
     "output_type": "display_data"
    },
    {
     "data": {
      "text/html": [
       "<pre style=\"white-space:pre;overflow-x:auto;line-height:normal;font-family:Menlo,'DejaVu Sans Mono',consolas,'Courier New',monospace\">\n",
       "<span style=\"font-weight: bold\">DataFrame Shape:</span> <span style=\"color: #008080; text-decoration-color: #008080; font-weight: bold\">(</span><span style=\"color: #008080; text-decoration-color: #008080; font-weight: bold\">101</span><span style=\"color: #008080; text-decoration-color: #008080\">, </span><span style=\"color: #008080; text-decoration-color: #008080; font-weight: bold\">22</span><span style=\"color: #008080; text-decoration-color: #008080; font-weight: bold\">)</span>\n",
       "<span style=\"font-weight: bold\">Number of packages:</span> <span style=\"color: #008000; text-decoration-color: #008000; font-weight: bold\">101</span>\n",
       "<span style=\"font-weight: bold\">Number of columns:</span> <span style=\"color: #008000; text-decoration-color: #008000; font-weight: bold\">22</span>\n",
       "\n",
       "</pre>\n"
      ],
      "text/plain": [
       "\n",
       "\u001b[1mDataFrame Shape:\u001b[0m \u001b[1;36m(\u001b[0m\u001b[1;36m101\u001b[0m\u001b[36m, \u001b[0m\u001b[1;36m22\u001b[0m\u001b[1;36m)\u001b[0m\n",
       "\u001b[1mNumber of packages:\u001b[0m \u001b[1;32m101\u001b[0m\n",
       "\u001b[1mNumber of columns:\u001b[0m \u001b[1;32m22\u001b[0m\n",
       "\n"
      ]
     },
     "metadata": {},
     "output_type": "display_data"
    }
   ],
   "source": [
    "# Schema Inspection\n",
    "\n",
    "console.print(\"[bold]Schema Inspection:[/bold]\", style=\"bold\")\n",
    "table = Table(title=\"DataFrame Schema\", show_header=True, header_style=\"bold magenta\")\n",
    "table.add_column(\"Column Name\", style=\"cyan\", no_wrap=True)\n",
    "table.add_column(\"Data Type\", style=\"green\")\n",
    "\n",
    "for name, dtype in df.schema.items():\n",
    "    table.add_row(name, str(dtype))\n",
    "\n",
    "console.print(table)\n",
    "\n",
    "\n",
    "shape_info = f\"\"\"\n",
    "[bold]DataFrame Shape:[/bold] [cyan]({df.shape[0]}, {df.shape[1]})[/cyan]\n",
    "[bold]Number of packages:[/bold] [green]{df.shape[0]}[/green]\n",
    "[bold]Number of columns:[/bold] [green]{df.shape[1]}[/green]\n",
    "\"\"\"\n",
    "\n",
    "console.print(shape_info)"
   ]
  },
  {
   "cell_type": "code",
   "execution_count": 4,
   "id": "c86c1935",
   "metadata": {},
   "outputs": [
    {
     "data": {
      "text/html": [
       "<pre style=\"white-space:pre;overflow-x:auto;line-height:normal;font-family:Menlo,'DejaVu Sans Mono',consolas,'Courier New',monospace\"><span style=\"color: #008080; text-decoration-color: #008080; font-weight: bold\">Build Return Code Analysis:</span>\n",
       "</pre>\n"
      ],
      "text/plain": [
       "\u001b[1;36mBuild Return Code Analysis:\u001b[0m\n"
      ]
     },
     "metadata": {},
     "output_type": "display_data"
    },
    {
     "data": {
      "text/html": [
       "<pre style=\"white-space:pre;overflow-x:auto;line-height:normal;font-family:Menlo,'DejaVu Sans Mono',consolas,'Courier New',monospace\"><span style=\"font-style: italic\">              Build Return Code Distribution               </span>\n",
       "┏━━━━━━━━━━━━━┳━━━━━━━━━━━━━━━━━━┳━━━━━━━┳━━━━━━━━━━━━━━━━┓\n",
       "┃<span style=\"color: #800080; text-decoration-color: #800080; font-weight: bold\"> Return Code </span>┃<span style=\"color: #800080; text-decoration-color: #800080; font-weight: bold\"> Status           </span>┃<span style=\"color: #800080; text-decoration-color: #800080; font-weight: bold\"> Count </span>┃<span style=\"color: #800080; text-decoration-color: #800080; font-weight: bold\"> Percentage (%) </span>┃\n",
       "┡━━━━━━━━━━━━━╇━━━━━━━━━━━━━━━━━━╇━━━━━━━╇━━━━━━━━━━━━━━━━┩\n",
       "│<span style=\"color: #008080; text-decoration-color: #008080\"> 0           </span>│<span style=\"color: #808000; text-decoration-color: #808000\"> Build Successful </span>│<span style=\"color: #008000; text-decoration-color: #008000\">    90 </span>│<span style=\"color: #008000; text-decoration-color: #008000\">         89.11% </span>│\n",
       "│<span style=\"color: #008080; text-decoration-color: #008080\"> 1           </span>│<span style=\"color: #808000; text-decoration-color: #808000\"> Timeout          </span>│<span style=\"color: #008000; text-decoration-color: #008000\">     9 </span>│<span style=\"color: #008000; text-decoration-color: #008000\">          8.91% </span>│\n",
       "│<span style=\"color: #008080; text-decoration-color: #008080\"> 2           </span>│<span style=\"color: #808000; text-decoration-color: #808000\"> Build Failed     </span>│<span style=\"color: #008000; text-decoration-color: #008000\">     2 </span>│<span style=\"color: #008000; text-decoration-color: #008000\">          1.98% </span>│\n",
       "└─────────────┴──────────────────┴───────┴────────────────┘\n",
       "</pre>\n"
      ],
      "text/plain": [
       "\u001b[3m              Build Return Code Distribution               \u001b[0m\n",
       "┏━━━━━━━━━━━━━┳━━━━━━━━━━━━━━━━━━┳━━━━━━━┳━━━━━━━━━━━━━━━━┓\n",
       "┃\u001b[1;35m \u001b[0m\u001b[1;35mReturn Code\u001b[0m\u001b[1;35m \u001b[0m┃\u001b[1;35m \u001b[0m\u001b[1;35mStatus          \u001b[0m\u001b[1;35m \u001b[0m┃\u001b[1;35m \u001b[0m\u001b[1;35mCount\u001b[0m\u001b[1;35m \u001b[0m┃\u001b[1;35m \u001b[0m\u001b[1;35mPercentage (%)\u001b[0m\u001b[1;35m \u001b[0m┃\n",
       "┡━━━━━━━━━━━━━╇━━━━━━━━━━━━━━━━━━╇━━━━━━━╇━━━━━━━━━━━━━━━━┩\n",
       "│\u001b[36m \u001b[0m\u001b[36m0          \u001b[0m\u001b[36m \u001b[0m│\u001b[33m \u001b[0m\u001b[33mBuild Successful\u001b[0m\u001b[33m \u001b[0m│\u001b[32m \u001b[0m\u001b[32m   90\u001b[0m\u001b[32m \u001b[0m│\u001b[32m \u001b[0m\u001b[32m        89.11%\u001b[0m\u001b[32m \u001b[0m│\n",
       "│\u001b[36m \u001b[0m\u001b[36m1          \u001b[0m\u001b[36m \u001b[0m│\u001b[33m \u001b[0m\u001b[33mTimeout         \u001b[0m\u001b[33m \u001b[0m│\u001b[32m \u001b[0m\u001b[32m    9\u001b[0m\u001b[32m \u001b[0m│\u001b[32m \u001b[0m\u001b[32m         8.91%\u001b[0m\u001b[32m \u001b[0m│\n",
       "│\u001b[36m \u001b[0m\u001b[36m2          \u001b[0m\u001b[36m \u001b[0m│\u001b[33m \u001b[0m\u001b[33mBuild Failed    \u001b[0m\u001b[33m \u001b[0m│\u001b[32m \u001b[0m\u001b[32m    2\u001b[0m\u001b[32m \u001b[0m│\u001b[32m \u001b[0m\u001b[32m         1.98%\u001b[0m\u001b[32m \u001b[0m│\n",
       "└─────────────┴──────────────────┴───────┴────────────────┘\n"
      ]
     },
     "metadata": {},
     "output_type": "display_data"
    },
    {
     "data": {
      "text/html": [
       "<pre style=\"white-space:pre;overflow-x:auto;line-height:normal;font-family:Menlo,'DejaVu Sans Mono',consolas,'Courier New',monospace\"><span style=\"color: #008080; text-decoration-color: #008080; font-weight: bold\">Failed Builds Details for max </span><span style=\"color: #008080; text-decoration-color: #008080; font-weight: bold\">10</span><span style=\"color: #008080; text-decoration-color: #008080; font-weight: bold\"> random Packages:</span>\n",
       "</pre>\n"
      ],
      "text/plain": [
       "\u001b[1;36mFailed Builds Details for max \u001b[0m\u001b[1;36m10\u001b[0m\u001b[1;36m random Packages:\u001b[0m\n"
      ]
     },
     "metadata": {},
     "output_type": "display_data"
    },
    {
     "data": {
      "text/html": [
       "<pre style=\"white-space:pre;overflow-x:auto;line-height:normal;font-family:Menlo,'DejaVu Sans Mono',consolas,'Courier New',monospace\"><span style=\"font-weight: bold\">Package:</span> <span style=\"color: #008080; text-decoration-color: #008080\">spglib</span>\n",
       "</pre>\n"
      ],
      "text/plain": [
       "\u001b[1mPackage:\u001b[0m \u001b[36mspglib\u001b[0m\n"
      ]
     },
     "metadata": {},
     "output_type": "display_data"
    },
    {
     "data": {
      "text/html": [
       "<pre style=\"white-space:pre;overflow-x:auto;line-height:normal;font-family:Menlo,'DejaVu Sans Mono',consolas,'Courier New',monospace\"><span style=\"font-weight: bold\">Build STDERR (last </span><span style=\"color: #008080; text-decoration-color: #008080; font-weight: bold\">10</span><span style=\"font-weight: bold\"> lines):</span>\n",
       "  <span style=\"color: #800080; text-decoration-color: #800080\">/worker/spglib-2.6.0/test/</span><span style=\"color: #ff00ff; text-decoration-color: #ff00ff\">CMakeLists.txt</span>:<span style=\"color: #008080; text-decoration-color: #008080; font-weight: bold\">101</span> <span style=\"font-weight: bold\">(</span>FetchContent_MakeAvailable<span style=\"font-weight: bold\">)</span>\n",
       "\n",
       "\n",
       "\n",
       "*** CMake configuration failed\n",
       "E: pybuild pybuil<span style=\"color: #00ff00; text-decoration-color: #00ff00; font-weight: bold\">d:389</span>: build: plugin pyproject failed with: exit <span style=\"color: #808000; text-decoration-color: #808000\">code</span>=<span style=\"color: #008080; text-decoration-color: #008080; font-weight: bold\">1</span>: python3.<span style=\"color: #008080; text-decoration-color: #008080; font-weight: bold\">13</span> -m build \n",
       "--skip-dependency-check --no-isolation --wheel --outdir <span style=\"color: #800080; text-decoration-color: #800080\">/worker/spglib-2.6.0/.pybuild/</span><span style=\"color: #ff00ff; text-decoration-color: #ff00ff\">cpython3_3.13_spglib</span>  \n",
       "dh_auto_build: error: pybuild --build -i python<span style=\"font-weight: bold\">{</span>version<span style=\"font-weight: bold\">}</span> -p <span style=\"color: #008080; text-decoration-color: #008080; font-weight: bold\">3.13</span> --after-build <span style=\"color: #008000; text-decoration-color: #008000\">\"rm -rf {build_dir}/spglib/lib\"</span> \n",
       "returned exit code <span style=\"color: #008080; text-decoration-color: #008080; font-weight: bold\">13</span>\n",
       "make<span style=\"font-weight: bold\">[</span><span style=\"color: #008080; text-decoration-color: #008080; font-weight: bold\">1</span><span style=\"font-weight: bold\">]</span>: ***  Error <span style=\"color: #008080; text-decoration-color: #008080; font-weight: bold\">25</span>\n",
       "make: ***  Error <span style=\"color: #008080; text-decoration-color: #008080; font-weight: bold\">2</span>\n",
       "dpkg-buildpackage: error: debian/rules binary subprocess returned exit status <span style=\"color: #008080; text-decoration-color: #008080; font-weight: bold\">2</span>\n",
       "</pre>\n"
      ],
      "text/plain": [
       "\u001b[1mBuild STDERR \u001b[0m\u001b[1m(\u001b[0m\u001b[1mlast \u001b[0m\u001b[1;36m10\u001b[0m\u001b[1m lines\u001b[0m\u001b[1m)\u001b[0m\u001b[1m:\u001b[0m\n",
       "  \u001b[35m/worker/spglib-2.6.0/test/\u001b[0m\u001b[95mCMakeLists.txt\u001b[0m:\u001b[1;36m101\u001b[0m \u001b[1m(\u001b[0mFetchContent_MakeAvailable\u001b[1m)\u001b[0m\n",
       "\n",
       "\n",
       "\n",
       "*** CMake configuration failed\n",
       "E: pybuild pybuil\u001b[1;92md:389\u001b[0m: build: plugin pyproject failed with: exit \u001b[33mcode\u001b[0m=\u001b[1;36m1\u001b[0m: python3.\u001b[1;36m13\u001b[0m -m build \n",
       "--skip-dependency-check --no-isolation --wheel --outdir \u001b[35m/worker/spglib-2.6.0/.pybuild/\u001b[0m\u001b[95mcpython3_3.13_spglib\u001b[0m  \n",
       "dh_auto_build: error: pybuild --build -i python\u001b[1m{\u001b[0mversion\u001b[1m}\u001b[0m -p \u001b[1;36m3.13\u001b[0m --after-build \u001b[32m\"rm -rf \u001b[0m\u001b[32m{\u001b[0m\u001b[32mbuild_dir\u001b[0m\u001b[32m}\u001b[0m\u001b[32m/spglib/lib\"\u001b[0m \n",
       "returned exit code \u001b[1;36m13\u001b[0m\n",
       "make\u001b[1m[\u001b[0m\u001b[1;36m1\u001b[0m\u001b[1m]\u001b[0m: ***  Error \u001b[1;36m25\u001b[0m\n",
       "make: ***  Error \u001b[1;36m2\u001b[0m\n",
       "dpkg-buildpackage: error: debian/rules binary subprocess returned exit status \u001b[1;36m2\u001b[0m\n"
      ]
     },
     "metadata": {},
     "output_type": "display_data"
    },
    {
     "data": {
      "text/html": [
       "<pre style=\"white-space:pre;overflow-x:auto;line-height:normal;font-family:Menlo,'DejaVu Sans Mono',consolas,'Courier New',monospace\"><span style=\"color: #bfbf7f; text-decoration-color: #bfbf7f\">...</span><span style=\"color: #7f7f7f; text-decoration-color: #7f7f7f\"> </span><span style=\"color: #7f7f7f; text-decoration-color: #7f7f7f; font-weight: bold\">(</span><span style=\"color: #7fbfbf; text-decoration-color: #7fbfbf; font-weight: bold\">158</span><span style=\"color: #7f7f7f; text-decoration-color: #7f7f7f\"> earlier lines truncated</span><span style=\"color: #7f7f7f; text-decoration-color: #7f7f7f; font-weight: bold\">)</span>\n",
       "</pre>\n"
      ],
      "text/plain": [
       "\u001b[2;33m...\u001b[0m\u001b[2m \u001b[0m\u001b[1;2m(\u001b[0m\u001b[1;2;36m158\u001b[0m\u001b[2m earlier lines truncated\u001b[0m\u001b[1;2m)\u001b[0m\n"
      ]
     },
     "metadata": {},
     "output_type": "display_data"
    },
    {
     "data": {
      "text/html": [
       "<pre style=\"white-space:pre;overflow-x:auto;line-height:normal;font-family:Menlo,'DejaVu Sans Mono',consolas,'Courier New',monospace\"><span style=\"color: #00ff00; text-decoration-color: #00ff00\">───────────────────────────────────────────────────────────────────────────────────────────────────────────────────</span>\n",
       "</pre>\n"
      ],
      "text/plain": [
       "\u001b[92m───────────────────────────────────────────────────────────────────────────────────────────────────────────────────\u001b[0m\n"
      ]
     },
     "metadata": {},
     "output_type": "display_data"
    },
    {
     "data": {
      "text/html": [
       "<pre style=\"white-space:pre;overflow-x:auto;line-height:normal;font-family:Menlo,'DejaVu Sans Mono',consolas,'Courier New',monospace\"><span style=\"font-weight: bold\">Package:</span> <span style=\"color: #008080; text-decoration-color: #008080\">libmatthew-java</span>\n",
       "</pre>\n"
      ],
      "text/plain": [
       "\u001b[1mPackage:\u001b[0m \u001b[36mlibmatthew-java\u001b[0m\n"
      ]
     },
     "metadata": {},
     "output_type": "display_data"
    },
    {
     "data": {
      "text/html": [
       "<pre style=\"white-space:pre;overflow-x:auto;line-height:normal;font-family:Menlo,'DejaVu Sans Mono',consolas,'Courier New',monospace\"><span style=\"font-weight: bold\">Build STDERR (last </span><span style=\"color: #008080; text-decoration-color: #008080; font-weight: bold\">10</span><span style=\"font-weight: bold\"> lines):</span>\n",
       "           ^\n",
       "cx/ath/matthew/cgi/MultipleDropDown.jav<span style=\"color: #00ff00; text-decoration-color: #00ff00; font-weight: bold\">a:87</span>: warning: no description for @param\n",
       "         * @param values\n",
       "           ^\n",
       "<span style=\"color: #008080; text-decoration-color: #008080; font-weight: bold\">1</span> error\n",
       "<span style=\"color: #008080; text-decoration-color: #008080; font-weight: bold\">100</span> warnings\n",
       "make<span style=\"font-weight: bold\">[</span><span style=\"color: #008080; text-decoration-color: #008080; font-weight: bold\">2</span><span style=\"font-weight: bold\">]</span>: *** <span style=\"font-weight: bold\">[</span>Makefil<span style=\"color: #00ff00; text-decoration-color: #00ff00; font-weight: bold\">e:115</span>: doc/index.html<span style=\"font-weight: bold\">]</span> Error <span style=\"color: #008080; text-decoration-color: #008080; font-weight: bold\">1</span>\n",
       "make<span style=\"font-weight: bold\">[</span><span style=\"color: #008080; text-decoration-color: #008080; font-weight: bold\">1</span><span style=\"font-weight: bold\">]</span>: ***  Error <span style=\"color: #008080; text-decoration-color: #008080; font-weight: bold\">2</span>\n",
       "make: ***  Error <span style=\"color: #008080; text-decoration-color: #008080; font-weight: bold\">2</span>\n",
       "dpkg-buildpackage: error: debian/rules binary subprocess returned exit status <span style=\"color: #008080; text-decoration-color: #008080; font-weight: bold\">2</span>\n",
       "</pre>\n"
      ],
      "text/plain": [
       "\u001b[1mBuild STDERR \u001b[0m\u001b[1m(\u001b[0m\u001b[1mlast \u001b[0m\u001b[1;36m10\u001b[0m\u001b[1m lines\u001b[0m\u001b[1m)\u001b[0m\u001b[1m:\u001b[0m\n",
       "           ^\n",
       "cx/ath/matthew/cgi/MultipleDropDown.jav\u001b[1;92ma:87\u001b[0m: warning: no description for @param\n",
       "         * @param values\n",
       "           ^\n",
       "\u001b[1;36m1\u001b[0m error\n",
       "\u001b[1;36m100\u001b[0m warnings\n",
       "make\u001b[1m[\u001b[0m\u001b[1;36m2\u001b[0m\u001b[1m]\u001b[0m: *** \u001b[1m[\u001b[0mMakefil\u001b[1;92me:115\u001b[0m: doc/index.html\u001b[1m]\u001b[0m Error \u001b[1;36m1\u001b[0m\n",
       "make\u001b[1m[\u001b[0m\u001b[1;36m1\u001b[0m\u001b[1m]\u001b[0m: ***  Error \u001b[1;36m2\u001b[0m\n",
       "make: ***  Error \u001b[1;36m2\u001b[0m\n",
       "dpkg-buildpackage: error: debian/rules binary subprocess returned exit status \u001b[1;36m2\u001b[0m\n"
      ]
     },
     "metadata": {},
     "output_type": "display_data"
    },
    {
     "data": {
      "text/html": [
       "<pre style=\"white-space:pre;overflow-x:auto;line-height:normal;font-family:Menlo,'DejaVu Sans Mono',consolas,'Courier New',monospace\"><span style=\"color: #bfbf7f; text-decoration-color: #bfbf7f\">...</span><span style=\"color: #7f7f7f; text-decoration-color: #7f7f7f\"> </span><span style=\"color: #7f7f7f; text-decoration-color: #7f7f7f; font-weight: bold\">(</span><span style=\"color: #7fbfbf; text-decoration-color: #7fbfbf; font-weight: bold\">325</span><span style=\"color: #7f7f7f; text-decoration-color: #7f7f7f\"> earlier lines truncated</span><span style=\"color: #7f7f7f; text-decoration-color: #7f7f7f; font-weight: bold\">)</span>\n",
       "</pre>\n"
      ],
      "text/plain": [
       "\u001b[2;33m...\u001b[0m\u001b[2m \u001b[0m\u001b[1;2m(\u001b[0m\u001b[1;2;36m325\u001b[0m\u001b[2m earlier lines truncated\u001b[0m\u001b[1;2m)\u001b[0m\n"
      ]
     },
     "metadata": {},
     "output_type": "display_data"
    },
    {
     "data": {
      "text/html": [
       "<pre style=\"white-space:pre;overflow-x:auto;line-height:normal;font-family:Menlo,'DejaVu Sans Mono',consolas,'Courier New',monospace\"><span style=\"color: #00ff00; text-decoration-color: #00ff00\">───────────────────────────────────────────────────────────────────────────────────────────────────────────────────</span>\n",
       "</pre>\n"
      ],
      "text/plain": [
       "\u001b[92m───────────────────────────────────────────────────────────────────────────────────────────────────────────────────\u001b[0m\n"
      ]
     },
     "metadata": {},
     "output_type": "display_data"
    },
    {
     "data": {
      "text/html": [
       "<pre style=\"white-space:pre;overflow-x:auto;line-height:normal;font-family:Menlo,'DejaVu Sans Mono',consolas,'Courier New',monospace\"><span style=\"color: #008080; text-decoration-color: #008080; font-weight: bold\">Not Attempted Builds Details for max </span><span style=\"color: #008080; text-decoration-color: #008080; font-weight: bold\">10</span><span style=\"color: #008080; text-decoration-color: #008080; font-weight: bold\"> Random packages:</span>\n",
       "</pre>\n"
      ],
      "text/plain": [
       "\u001b[1;36mNot Attempted Builds Details for max \u001b[0m\u001b[1;36m10\u001b[0m\u001b[1;36m Random packages:\u001b[0m\n"
      ]
     },
     "metadata": {},
     "output_type": "display_data"
    },
    {
     "data": {
      "text/html": [
       "<pre style=\"white-space:pre;overflow-x:auto;line-height:normal;font-family:Menlo,'DejaVu Sans Mono',consolas,'Courier New',monospace\"><span style=\"color: #008080; text-decoration-color: #008080; font-weight: bold\">Timed Out Builds - max </span><span style=\"color: #008080; text-decoration-color: #008080; font-weight: bold\">10</span><span style=\"color: #008080; text-decoration-color: #008080; font-weight: bold\"> Random packages:</span>\n",
       "</pre>\n"
      ],
      "text/plain": [
       "\u001b[1;36mTimed Out Builds - max \u001b[0m\u001b[1;36m10\u001b[0m\u001b[1;36m Random packages:\u001b[0m\n"
      ]
     },
     "metadata": {},
     "output_type": "display_data"
    },
    {
     "data": {
      "text/html": [
       "<pre style=\"white-space:pre;overflow-x:auto;line-height:normal;font-family:Menlo,'DejaVu Sans Mono',consolas,'Courier New',monospace\">┏━━━━━━━━━━━━━━┓\n",
       "┃<span style=\"color: #808000; text-decoration-color: #808000; font-weight: bold\"> Package Name </span>┃\n",
       "┡━━━━━━━━━━━━━━┩\n",
       "│<span style=\"color: #008080; text-decoration-color: #008080\"> tarantool    </span>│\n",
       "│<span style=\"color: #008080; text-decoration-color: #008080\"> darkradiant  </span>│\n",
       "│<span style=\"color: #008080; text-decoration-color: #008080\"> bochs        </span>│\n",
       "│<span style=\"color: #008080; text-decoration-color: #008080\"> polyphone    </span>│\n",
       "│<span style=\"color: #008080; text-decoration-color: #008080\"> xnnpack      </span>│\n",
       "│<span style=\"color: #008080; text-decoration-color: #008080\"> rclone       </span>│\n",
       "│<span style=\"color: #008080; text-decoration-color: #008080\"> openafs      </span>│\n",
       "│<span style=\"color: #008080; text-decoration-color: #008080\"> kcmutils     </span>│\n",
       "│<span style=\"color: #008080; text-decoration-color: #008080\"> bobcat       </span>│\n",
       "└──────────────┘\n",
       "</pre>\n"
      ],
      "text/plain": [
       "┏━━━━━━━━━━━━━━┓\n",
       "┃\u001b[1;33m \u001b[0m\u001b[1;33mPackage Name\u001b[0m\u001b[1;33m \u001b[0m┃\n",
       "┡━━━━━━━━━━━━━━┩\n",
       "│\u001b[36m \u001b[0m\u001b[36mtarantool   \u001b[0m\u001b[36m \u001b[0m│\n",
       "│\u001b[36m \u001b[0m\u001b[36mdarkradiant \u001b[0m\u001b[36m \u001b[0m│\n",
       "│\u001b[36m \u001b[0m\u001b[36mbochs       \u001b[0m\u001b[36m \u001b[0m│\n",
       "│\u001b[36m \u001b[0m\u001b[36mpolyphone   \u001b[0m\u001b[36m \u001b[0m│\n",
       "│\u001b[36m \u001b[0m\u001b[36mxnnpack     \u001b[0m\u001b[36m \u001b[0m│\n",
       "│\u001b[36m \u001b[0m\u001b[36mrclone      \u001b[0m\u001b[36m \u001b[0m│\n",
       "│\u001b[36m \u001b[0m\u001b[36mopenafs     \u001b[0m\u001b[36m \u001b[0m│\n",
       "│\u001b[36m \u001b[0m\u001b[36mkcmutils    \u001b[0m\u001b[36m \u001b[0m│\n",
       "│\u001b[36m \u001b[0m\u001b[36mbobcat      \u001b[0m\u001b[36m \u001b[0m│\n",
       "└──────────────┘\n"
      ]
     },
     "metadata": {},
     "output_type": "display_data"
    }
   ],
   "source": [
    "# Build Summary Statistics Table\n",
    "\n",
    "console.print(\"[bold][cyan]Build Return Code Analysis:[/cyan][/bold]\", style=\"bold\")\n",
    "\n",
    "return_code_mapping = {\n",
    "    0: \"Build Successful\",\n",
    "    1: \"Timeout\",\n",
    "    2: \"Build Failed\",\n",
    "    3: \"Not Attempted\",\n",
    "}\n",
    "\n",
    "build_stats = (df\n",
    "            .group_by(\"build_return_code\")\n",
    "            .agg([pl.len().alias(\"count\"),\n",
    "                (pl.len() / df.shape[0] * 100).round(2).alias(\"percentage\")])\n",
    "            .sort(\"build_return_code\"))\n",
    "\n",
    "build_table = Table(title=\"Build Return Code Distribution\", show_header=True, header_style=\"bold magenta\")\n",
    "build_table.add_column(\"Return Code\", style=\"cyan\", no_wrap=True)\n",
    "build_table.add_column(\"Status\", style=\"yellow\")\n",
    "build_table.add_column(\"Count\", style=\"green\", justify=\"right\")\n",
    "build_table.add_column(\"Percentage (%)\", style=\"green\", justify=\"right\")\n",
    "\n",
    "for row in build_stats.iter_rows():\n",
    "    return_code, count, percentage = row\n",
    "    status = return_code_mapping.get(return_code, \"Unknown\")\n",
    "    build_table.add_row(\n",
    "        str(return_code),\n",
    "        status,\n",
    "        f\"{count}\",\n",
    "        f\"{percentage}%\"\n",
    "    )\n",
    "\n",
    "console.print(build_table)\n",
    "\n",
    "# Failed Builds Details\n",
    "console.print(\"[bold][cyan]Failed Builds Details for max 10 random Packages:[/cyan][/bold]\", style=\"bold\")\n",
    "\n",
    "failed_builds_df = df.filter(pl.col(\"build_return_code\") == 2).select([\n",
    "    \"name\",\n",
    "    \"build_stderr\",\n",
    "])\n",
    "\n",
    "failed_builds = failed_builds_df.sample(n=min(10, failed_builds_df.height), with_replacement=False)\n",
    "\n",
    "for row in failed_builds.iter_rows():\n",
    "    name, stderr = row\n",
    "    console.print(f\"[bold]Package:[/bold] [cyan]{name}[/cyan]\")\n",
    "    \n",
    "    if stderr:\n",
    "        # Show last 10 lines of stderr\n",
    "        stderr_lines = stderr.strip().split('\\n')\n",
    "        if len(stderr_lines) > 10:\n",
    "            shown_stderr = '\\n'.join(stderr_lines[-10:])\n",
    "            console.print(f\"[bold]Build STDERR (last 10 lines):[/bold]\\n{shown_stderr}\")\n",
    "            console.print(f\"[dim]... ({len(stderr_lines) - 10} earlier lines truncated)[/dim]\")\n",
    "        else:\n",
    "            console.print(f\"[bold]Build STDERR:[/bold]\\n{stderr}\")\n",
    "    else:\n",
    "        console.print(\"[bold]Build STDERR:[/bold] [yellow]No error message[/yellow]\")\n",
    "    \n",
    "    console.rule()\n",
    "\n",
    "\n",
    "# Not Attempted Builds\n",
    "console.print(\"[bold][cyan]Not Attempted Builds Details for max 10 Random packages:[/cyan][/bold]\", style=\"bold\")\n",
    "not_attempted_builds_df = df.filter(pl.col(\"build_return_code\") == 3).select([\n",
    "    \"name\",\n",
    "    \"build_stderr\",\n",
    "])\n",
    "\n",
    "not_attempted_builds = not_attempted_builds_df.sample(n=min(10, not_attempted_builds_df.height), with_replacement=False)\n",
    "\n",
    "for row in not_attempted_builds.iter_rows():\n",
    "    name, stderr = row\n",
    "    console.print(f\"[bold]Package:[/bold] [cyan]{name}[/cyan]\")\n",
    "    \n",
    "    if stderr:\n",
    "        # Show last 10 lines of stderr\n",
    "        stderr_lines = stderr.strip().split('\\n')\n",
    "        if len(stderr_lines) > 10:\n",
    "            shown_stderr = '\\n'.join(stderr_lines[-10:])\n",
    "            console.print(f\"[bold]Build STDERR (last 10 lines):[/bold]\\n{shown_stderr}\")\n",
    "            console.print(f\"[dim]... ({len(stderr_lines) - 10} earlier lines truncated)[/dim]\")\n",
    "        else:\n",
    "            console.print(f\"[bold]Build STDERR:[/bold]\\n{stderr}\")\n",
    "    else:\n",
    "        console.print(\"[bold]Build STDERR:[/bold] [yellow]No error message[/yellow]\")\n",
    "    \n",
    "    console.rule()\n",
    "\n",
    "# Timed Out Builds\n",
    "\n",
    "console.print(\"[bold][cyan]Timed Out Builds - max 10 Random packages:[/cyan][/bold]\", style=\"bold\")\n",
    "\n",
    "timed_out_names = (df.filter(pl.col(\"build_return_code\") == 1)\n",
    "                    .select(\"name\")\n",
    "                    .sample(n=min(10, df.filter(pl.col(\"build_return_code\") == 1).height), with_replacement=False)\n",
    "                    .get_column(\"name\")\n",
    "                    .to_list())\n",
    "\n",
    "if timed_out_names:\n",
    "    timed_out_table = Table(show_header=True, header_style=\"bold yellow\")\n",
    "    timed_out_table.add_column(\"Package Name\", style=\"cyan\", no_wrap=True)\n",
    "    \n",
    "    for name in timed_out_names:\n",
    "        timed_out_table.add_row(name)\n",
    "    \n",
    "    console.print(timed_out_table)\n",
    "else:\n",
    "    console.print(\"[green]No timed out builds found.[/green]\")"
   ]
  },
  {
   "cell_type": "code",
   "execution_count": 5,
   "id": "4cf927fb",
   "metadata": {},
   "outputs": [
    {
     "data": {
      "text/html": [
       "<pre style=\"white-space:pre;overflow-x:auto;line-height:normal;font-family:Menlo,'DejaVu Sans Mono',consolas,'Courier New',monospace\"><span style=\"color: #008080; text-decoration-color: #008080; font-weight: bold\">Test Dataset Eligibility Analysis:</span>\n",
       "</pre>\n"
      ],
      "text/plain": [
       "\u001b[1;36mTest Dataset Eligibility Analysis:\u001b[0m\n"
      ]
     },
     "metadata": {},
     "output_type": "display_data"
    },
    {
     "data": {
      "text/html": [
       "<pre style=\"white-space:pre;overflow-x:auto;line-height:normal;font-family:Menlo,'DejaVu Sans Mono',consolas,'Courier New',monospace\"><span style=\"font-style: italic\">                Package testing Pipeline Analysis                </span>\n",
       "┏━━━━━━━━━━━━━━━━━━━━━━━━━━━━━━━━━━━━━━━━━━┳━━━━━━━┳━━━━━━━━━━━━┓\n",
       "┃<span style=\"color: #800080; text-decoration-color: #800080; font-weight: bold\"> Stage                                    </span>┃<span style=\"color: #800080; text-decoration-color: #800080; font-weight: bold\"> Count </span>┃<span style=\"color: #800080; text-decoration-color: #800080; font-weight: bold\"> Percentage </span>┃\n",
       "┡━━━━━━━━━━━━━━━━━━━━━━━━━━━━━━━━━━━━━━━━━━╇━━━━━━━╇━━━━━━━━━━━━┩\n",
       "│<span style=\"color: #008080; text-decoration-color: #008080\"> Total Packages                           </span>│<span style=\"color: #008000; text-decoration-color: #008000\">   101 </span>│<span style=\"color: #008000; text-decoration-color: #008000\">    100.00% </span>│\n",
       "│<span style=\"color: #008080; text-decoration-color: #008080\"> Successful Builds (build_return_code=0)  </span>│<span style=\"color: #008000; text-decoration-color: #008000\">    90 </span>│<span style=\"color: #008000; text-decoration-color: #008000\">     89.11% </span>│\n",
       "│<span style=\"color: #008080; text-decoration-color: #008080\"> ├─ No Tests Detected (test_detected=0)   </span>│<span style=\"color: #008000; text-decoration-color: #008000\">    65 </span>│<span style=\"color: #008000; text-decoration-color: #008000\">     64.36% </span>│\n",
       "│<span style=\"color: #008080; text-decoration-color: #008080\"> └─ Tests Detected (test_detected=1)      </span>│<span style=\"color: #008000; text-decoration-color: #008000\">    25 </span>│<span style=\"color: #008000; text-decoration-color: #008000\">     24.75% </span>│\n",
       "│<span style=\"color: #008080; text-decoration-color: #008080\">    ├─ Not Viable for Test Dataset        </span>│<span style=\"color: #008000; text-decoration-color: #008000\">     6 </span>│<span style=\"color: #008000; text-decoration-color: #008000\">      5.94% </span>│\n",
       "│<span style=\"color: #008080; text-decoration-color: #008080\">    └─ Viable for Test Dataset            </span>│<span style=\"color: #008000; text-decoration-color: #008000\">    19 </span>│<span style=\"color: #008000; text-decoration-color: #008000\">     18.81% </span>│\n",
       "└──────────────────────────────────────────┴───────┴────────────┘\n",
       "</pre>\n"
      ],
      "text/plain": [
       "\u001b[3m                Package testing Pipeline Analysis                \u001b[0m\n",
       "┏━━━━━━━━━━━━━━━━━━━━━━━━━━━━━━━━━━━━━━━━━━┳━━━━━━━┳━━━━━━━━━━━━┓\n",
       "┃\u001b[1;35m \u001b[0m\u001b[1;35mStage                                   \u001b[0m\u001b[1;35m \u001b[0m┃\u001b[1;35m \u001b[0m\u001b[1;35mCount\u001b[0m\u001b[1;35m \u001b[0m┃\u001b[1;35m \u001b[0m\u001b[1;35mPercentage\u001b[0m\u001b[1;35m \u001b[0m┃\n",
       "┡━━━━━━━━━━━━━━━━━━━━━━━━━━━━━━━━━━━━━━━━━━╇━━━━━━━╇━━━━━━━━━━━━┩\n",
       "│\u001b[36m \u001b[0m\u001b[36mTotal Packages                          \u001b[0m\u001b[36m \u001b[0m│\u001b[32m \u001b[0m\u001b[32m  101\u001b[0m\u001b[32m \u001b[0m│\u001b[32m \u001b[0m\u001b[32m   100.00%\u001b[0m\u001b[32m \u001b[0m│\n",
       "│\u001b[36m \u001b[0m\u001b[36mSuccessful Builds (build_return_code=0) \u001b[0m\u001b[36m \u001b[0m│\u001b[32m \u001b[0m\u001b[32m   90\u001b[0m\u001b[32m \u001b[0m│\u001b[32m \u001b[0m\u001b[32m    89.11%\u001b[0m\u001b[32m \u001b[0m│\n",
       "│\u001b[36m \u001b[0m\u001b[36m├─ No Tests Detected (test_detected=0)  \u001b[0m\u001b[36m \u001b[0m│\u001b[32m \u001b[0m\u001b[32m   65\u001b[0m\u001b[32m \u001b[0m│\u001b[32m \u001b[0m\u001b[32m    64.36%\u001b[0m\u001b[32m \u001b[0m│\n",
       "│\u001b[36m \u001b[0m\u001b[36m└─ Tests Detected (test_detected=1)     \u001b[0m\u001b[36m \u001b[0m│\u001b[32m \u001b[0m\u001b[32m   25\u001b[0m\u001b[32m \u001b[0m│\u001b[32m \u001b[0m\u001b[32m    24.75%\u001b[0m\u001b[32m \u001b[0m│\n",
       "│\u001b[36m \u001b[0m\u001b[36m   ├─ Not Viable for Test Dataset       \u001b[0m\u001b[36m \u001b[0m│\u001b[32m \u001b[0m\u001b[32m    6\u001b[0m\u001b[32m \u001b[0m│\u001b[32m \u001b[0m\u001b[32m     5.94%\u001b[0m\u001b[32m \u001b[0m│\n",
       "│\u001b[36m \u001b[0m\u001b[36m   └─ Viable for Test Dataset           \u001b[0m\u001b[36m \u001b[0m│\u001b[32m \u001b[0m\u001b[32m   19\u001b[0m\u001b[32m \u001b[0m│\u001b[32m \u001b[0m\u001b[32m    18.81%\u001b[0m\u001b[32m \u001b[0m│\n",
       "└──────────────────────────────────────────┴───────┴────────────┘\n"
      ]
     },
     "metadata": {},
     "output_type": "display_data"
    },
    {
     "data": {
      "text/html": [
       "<pre style=\"white-space:pre;overflow-x:auto;line-height:normal;font-family:Menlo,'DejaVu Sans Mono',consolas,'Courier New',monospace\">\n",
       "<span style=\"color: #008080; text-decoration-color: #008080; font-weight: bold\">Test Output Analysis - Packages with Output but No Tests Detected:</span>\n",
       "</pre>\n"
      ],
      "text/plain": [
       "\n",
       "\u001b[1;36mTest Output Analysis - Packages with Output but No Tests Detected:\u001b[0m\n"
      ]
     },
     "metadata": {},
     "output_type": "display_data"
    },
    {
     "data": {
      "text/html": [
       "<pre style=\"white-space:pre;overflow-x:auto;line-height:normal;font-family:Menlo,'DejaVu Sans Mono',consolas,'Courier New',monospace\">\n",
       "<span style=\"font-weight: bold\">Package:</span> <span style=\"color: #008080; text-decoration-color: #008080\">pbsim</span>\n",
       "</pre>\n"
      ],
      "text/plain": [
       "\n",
       "\u001b[1mPackage:\u001b[0m \u001b[36mpbsim\u001b[0m\n"
      ]
     },
     "metadata": {},
     "output_type": "display_data"
    },
    {
     "data": {
      "text/html": [
       "<pre style=\"white-space:pre;overflow-x:auto;line-height:normal;font-family:Menlo,'DejaVu Sans Mono',consolas,'Courier New',monospace\"><span style=\"font-weight: bold\">Test STDOUT:</span>\n",
       "Making check in src\n",
       "make<span style=\"font-weight: bold\">[</span><span style=\"color: #008080; text-decoration-color: #008080; font-weight: bold\">1</span><span style=\"font-weight: bold\">]</span>: Entering directory <span style=\"color: #008000; text-decoration-color: #008000\">'/worker/pbsim-1.0.3+git20180330.e014b1d+dfsg/src'</span>\n",
       "make<span style=\"font-weight: bold\">[</span><span style=\"color: #008080; text-decoration-color: #008080; font-weight: bold\">1</span><span style=\"font-weight: bold\">]</span>: Nothing to be done for <span style=\"color: #008000; text-decoration-color: #008000\">'check'</span>.\n",
       "make<span style=\"font-weight: bold\">[</span><span style=\"color: #008080; text-decoration-color: #008080; font-weight: bold\">1</span><span style=\"font-weight: bold\">]</span>: Leaving directory <span style=\"color: #008000; text-decoration-color: #008000\">'/worker/pbsim-1.0.3+git20180330.e014b1d+dfsg/src'</span>\n",
       "make<span style=\"font-weight: bold\">[</span><span style=\"color: #008080; text-decoration-color: #008080; font-weight: bold\">1</span><span style=\"font-weight: bold\">]</span>: Entering directory <span style=\"color: #008000; text-decoration-color: #008000\">'/worker/pbsim-1.0.3+git20180330.e014b1d+dfsg'</span>\n",
       "make<span style=\"font-weight: bold\">[</span><span style=\"color: #008080; text-decoration-color: #008080; font-weight: bold\">1</span><span style=\"font-weight: bold\">]</span>: Leaving directory <span style=\"color: #008000; text-decoration-color: #008000\">'/worker/pbsim-1.0.3+git20180330.e014b1d+dfsg'</span>\n",
       "\n",
       "</pre>\n"
      ],
      "text/plain": [
       "\u001b[1mTest STDOUT:\u001b[0m\n",
       "Making check in src\n",
       "make\u001b[1m[\u001b[0m\u001b[1;36m1\u001b[0m\u001b[1m]\u001b[0m: Entering directory \u001b[32m'/worker/pbsim-1.0.3+git20180330.e014b1d+dfsg/src'\u001b[0m\n",
       "make\u001b[1m[\u001b[0m\u001b[1;36m1\u001b[0m\u001b[1m]\u001b[0m: Nothing to be done for \u001b[32m'check'\u001b[0m.\n",
       "make\u001b[1m[\u001b[0m\u001b[1;36m1\u001b[0m\u001b[1m]\u001b[0m: Leaving directory \u001b[32m'/worker/pbsim-1.0.3+git20180330.e014b1d+dfsg/src'\u001b[0m\n",
       "make\u001b[1m[\u001b[0m\u001b[1;36m1\u001b[0m\u001b[1m]\u001b[0m: Entering directory \u001b[32m'/worker/pbsim-1.0.3+git20180330.e014b1d+dfsg'\u001b[0m\n",
       "make\u001b[1m[\u001b[0m\u001b[1;36m1\u001b[0m\u001b[1m]\u001b[0m: Leaving directory \u001b[32m'/worker/pbsim-1.0.3+git20180330.e014b1d+dfsg'\u001b[0m\n",
       "\n"
      ]
     },
     "metadata": {},
     "output_type": "display_data"
    },
    {
     "data": {
      "text/html": [
       "<pre style=\"white-space:pre;overflow-x:auto;line-height:normal;font-family:Menlo,'DejaVu Sans Mono',consolas,'Courier New',monospace\"><span style=\"color: #00ff00; text-decoration-color: #00ff00\">───────────────────────────────────────────────────────────────────────────────────────────────────────────────────</span>\n",
       "</pre>\n"
      ],
      "text/plain": [
       "\u001b[92m───────────────────────────────────────────────────────────────────────────────────────────────────────────────────\u001b[0m\n"
      ]
     },
     "metadata": {},
     "output_type": "display_data"
    },
    {
     "data": {
      "text/html": [
       "<pre style=\"white-space:pre;overflow-x:auto;line-height:normal;font-family:Menlo,'DejaVu Sans Mono',consolas,'Courier New',monospace\">\n",
       "<span style=\"font-weight: bold\">Package:</span> <span style=\"color: #008080; text-decoration-color: #008080\">form</span>\n",
       "</pre>\n"
      ],
      "text/plain": [
       "\n",
       "\u001b[1mPackage:\u001b[0m \u001b[36mform\u001b[0m\n"
      ]
     },
     "metadata": {},
     "output_type": "display_data"
    },
    {
     "data": {
      "text/html": [
       "<pre style=\"white-space:pre;overflow-x:auto;line-height:normal;font-family:Menlo,'DejaVu Sans Mono',consolas,'Courier New',monospace\"><span style=\"font-weight: bold\">Test STDOUT (last </span><span style=\"color: #008080; text-decoration-color: #008080; font-weight: bold\">10</span><span style=\"font-weight: bold\"> lines):</span>\n",
       "FORM <span style=\"color: #008080; text-decoration-color: #008080; font-weight: bold\">5.0</span> <span style=\"font-weight: bold\">(</span>Apr  <span style=\"color: #008080; text-decoration-color: #008080; font-weight: bold\">8</span> <span style=\"color: #008080; text-decoration-color: #008080; font-weight: bold\">2025</span><span style=\"font-weight: bold\">)</span>\n",
       "  <span style=\"color: #008080; text-decoration-color: #008080; font-weight: bold\">0.053333</span> form units in <span style=\"color: #008080; text-decoration-color: #008080; font-weight: bold\">6.877</span> seconds <span style=\"font-weight: bold\">(</span>cpu time<span style=\"font-weight: bold\">)</span>\n",
       "  corresponding to <span style=\"color: #008080; text-decoration-color: #008080; font-weight: bold\">27.91</span> form units per hour\n",
       "PASS: benchmark-fu.sh\n",
       "==========================================================\n",
       "<span style=\"color: #008080; text-decoration-color: #008080; font-weight: bold\">1</span> of <span style=\"color: #008080; text-decoration-color: #008080; font-weight: bold\">2</span> tests failed\n",
       "Please report to <span style=\"color: #0000ff; text-decoration-color: #0000ff; text-decoration: underline\">https://github.com/vermaseren/form/issues</span>\n",
       "==========================================================\n",
       "make<span style=\"font-weight: bold\">[</span><span style=\"color: #008080; text-decoration-color: #008080; font-weight: bold\">2</span><span style=\"font-weight: bold\">]</span>: Leaving directory <span style=\"color: #008000; text-decoration-color: #008000\">'/worker/form-4.3.1+git20250227+ds/check'</span>\n",
       "make<span style=\"font-weight: bold\">[</span><span style=\"color: #008080; text-decoration-color: #008080; font-weight: bold\">1</span><span style=\"font-weight: bold\">]</span>: Leaving directory <span style=\"color: #008000; text-decoration-color: #008000\">'/worker/form-4.3.1+git20250227+ds/check'</span>\n",
       "</pre>\n"
      ],
      "text/plain": [
       "\u001b[1mTest STDOUT \u001b[0m\u001b[1m(\u001b[0m\u001b[1mlast \u001b[0m\u001b[1;36m10\u001b[0m\u001b[1m lines\u001b[0m\u001b[1m)\u001b[0m\u001b[1m:\u001b[0m\n",
       "FORM \u001b[1;36m5.0\u001b[0m \u001b[1m(\u001b[0mApr  \u001b[1;36m8\u001b[0m \u001b[1;36m2025\u001b[0m\u001b[1m)\u001b[0m\n",
       "  \u001b[1;36m0.053333\u001b[0m form units in \u001b[1;36m6.877\u001b[0m seconds \u001b[1m(\u001b[0mcpu time\u001b[1m)\u001b[0m\n",
       "  corresponding to \u001b[1;36m27.91\u001b[0m form units per hour\n",
       "PASS: benchmark-fu.sh\n",
       "==========================================================\n",
       "\u001b[1;36m1\u001b[0m of \u001b[1;36m2\u001b[0m tests failed\n",
       "Please report to \u001b[4;94mhttps://github.com/vermaseren/form/issues\u001b[0m\n",
       "==========================================================\n",
       "make\u001b[1m[\u001b[0m\u001b[1;36m2\u001b[0m\u001b[1m]\u001b[0m: Leaving directory \u001b[32m'/worker/form-4.3.1+git20250227+ds/check'\u001b[0m\n",
       "make\u001b[1m[\u001b[0m\u001b[1;36m1\u001b[0m\u001b[1m]\u001b[0m: Leaving directory \u001b[32m'/worker/form-4.3.1+git20250227+ds/check'\u001b[0m\n"
      ]
     },
     "metadata": {},
     "output_type": "display_data"
    },
    {
     "data": {
      "text/html": [
       "<pre style=\"white-space:pre;overflow-x:auto;line-height:normal;font-family:Menlo,'DejaVu Sans Mono',consolas,'Courier New',monospace\"><span style=\"color: #bfbf7f; text-decoration-color: #bfbf7f\">...</span><span style=\"color: #7f7f7f; text-decoration-color: #7f7f7f\"> </span><span style=\"color: #7f7f7f; text-decoration-color: #7f7f7f; font-weight: bold\">(</span><span style=\"color: #7fbfbf; text-decoration-color: #7fbfbf; font-weight: bold\">171</span><span style=\"color: #7f7f7f; text-decoration-color: #7f7f7f\"> earlier lines truncated</span><span style=\"color: #7f7f7f; text-decoration-color: #7f7f7f; font-weight: bold\">)</span>\n",
       "</pre>\n"
      ],
      "text/plain": [
       "\u001b[2;33m...\u001b[0m\u001b[2m \u001b[0m\u001b[1;2m(\u001b[0m\u001b[1;2;36m171\u001b[0m\u001b[2m earlier lines truncated\u001b[0m\u001b[1;2m)\u001b[0m\n"
      ]
     },
     "metadata": {},
     "output_type": "display_data"
    },
    {
     "data": {
      "text/html": [
       "<pre style=\"white-space:pre;overflow-x:auto;line-height:normal;font-family:Menlo,'DejaVu Sans Mono',consolas,'Courier New',monospace\"><span style=\"color: #00ff00; text-decoration-color: #00ff00\">───────────────────────────────────────────────────────────────────────────────────────────────────────────────────</span>\n",
       "</pre>\n"
      ],
      "text/plain": [
       "\u001b[92m───────────────────────────────────────────────────────────────────────────────────────────────────────────────────\u001b[0m\n"
      ]
     },
     "metadata": {},
     "output_type": "display_data"
    },
    {
     "data": {
      "text/html": [
       "<pre style=\"white-space:pre;overflow-x:auto;line-height:normal;font-family:Menlo,'DejaVu Sans Mono',consolas,'Courier New',monospace\">\n",
       "<span style=\"font-weight: bold\">Package:</span> <span style=\"color: #008080; text-decoration-color: #008080\">tirex</span>\n",
       "</pre>\n"
      ],
      "text/plain": [
       "\n",
       "\u001b[1mPackage:\u001b[0m \u001b[36mtirex\u001b[0m\n"
      ]
     },
     "metadata": {},
     "output_type": "display_data"
    },
    {
     "data": {
      "text/html": [
       "<pre style=\"white-space:pre;overflow-x:auto;line-height:normal;font-family:Menlo,'DejaVu Sans Mono',consolas,'Courier New',monospace\"><span style=\"font-weight: bold\">Test STDOUT (last </span><span style=\"color: #008080; text-decoration-color: #008080; font-weight: bold\">10</span><span style=\"font-weight: bold\"> lines):</span>\n",
       "lib/Tirex/Munin/Tiledir/Tilecount.pm pod syntax OK.\n",
       "lib/Tirex/PrioQueue.pm pod syntax OK.\n",
       "lib/Tirex/Queue.pm pod syntax OK.\n",
       "lib/Tirex/Renderer.pm pod syntax OK.\n",
       "lib/Tirex/Source.pm pod syntax OK.\n",
       "lib/Tirex/Source/Command.pm pod syntax OK.\n",
       "lib/Tirex/Source/ModTile.pm pod syntax OK.\n",
       "lib/Tirex/Source/Test.pm pod syntax OK.\n",
       "lib/Tirex/Status.pm pod syntax OK.\n",
       "lib/Tirex/Zoomrange.pm pod syntax OK.\n",
       "</pre>\n"
      ],
      "text/plain": [
       "\u001b[1mTest STDOUT \u001b[0m\u001b[1m(\u001b[0m\u001b[1mlast \u001b[0m\u001b[1;36m10\u001b[0m\u001b[1m lines\u001b[0m\u001b[1m)\u001b[0m\u001b[1m:\u001b[0m\n",
       "lib/Tirex/Munin/Tiledir/Tilecount.pm pod syntax OK.\n",
       "lib/Tirex/PrioQueue.pm pod syntax OK.\n",
       "lib/Tirex/Queue.pm pod syntax OK.\n",
       "lib/Tirex/Renderer.pm pod syntax OK.\n",
       "lib/Tirex/Source.pm pod syntax OK.\n",
       "lib/Tirex/Source/Command.pm pod syntax OK.\n",
       "lib/Tirex/Source/ModTile.pm pod syntax OK.\n",
       "lib/Tirex/Source/Test.pm pod syntax OK.\n",
       "lib/Tirex/Status.pm pod syntax OK.\n",
       "lib/Tirex/Zoomrange.pm pod syntax OK.\n"
      ]
     },
     "metadata": {},
     "output_type": "display_data"
    },
    {
     "data": {
      "text/html": [
       "<pre style=\"white-space:pre;overflow-x:auto;line-height:normal;font-family:Menlo,'DejaVu Sans Mono',consolas,'Courier New',monospace\"><span style=\"color: #bfbf7f; text-decoration-color: #bfbf7f\">...</span><span style=\"color: #7f7f7f; text-decoration-color: #7f7f7f\"> </span><span style=\"color: #7f7f7f; text-decoration-color: #7f7f7f; font-weight: bold\">(</span><span style=\"color: #7fbfbf; text-decoration-color: #7fbfbf; font-weight: bold\">39</span><span style=\"color: #7f7f7f; text-decoration-color: #7f7f7f\"> earlier lines truncated</span><span style=\"color: #7f7f7f; text-decoration-color: #7f7f7f; font-weight: bold\">)</span>\n",
       "</pre>\n"
      ],
      "text/plain": [
       "\u001b[2;33m...\u001b[0m\u001b[2m \u001b[0m\u001b[1;2m(\u001b[0m\u001b[1;2;36m39\u001b[0m\u001b[2m earlier lines truncated\u001b[0m\u001b[1;2m)\u001b[0m\n"
      ]
     },
     "metadata": {},
     "output_type": "display_data"
    },
    {
     "data": {
      "text/html": [
       "<pre style=\"white-space:pre;overflow-x:auto;line-height:normal;font-family:Menlo,'DejaVu Sans Mono',consolas,'Courier New',monospace\"><span style=\"color: #00ff00; text-decoration-color: #00ff00\">───────────────────────────────────────────────────────────────────────────────────────────────────────────────────</span>\n",
       "</pre>\n"
      ],
      "text/plain": [
       "\u001b[92m───────────────────────────────────────────────────────────────────────────────────────────────────────────────────\u001b[0m\n"
      ]
     },
     "metadata": {},
     "output_type": "display_data"
    },
    {
     "data": {
      "text/html": [
       "<pre style=\"white-space:pre;overflow-x:auto;line-height:normal;font-family:Menlo,'DejaVu Sans Mono',consolas,'Courier New',monospace\">\n",
       "<span style=\"font-weight: bold\">Package:</span> <span style=\"color: #008080; text-decoration-color: #008080\">base-installer</span>\n",
       "</pre>\n"
      ],
      "text/plain": [
       "\n",
       "\u001b[1mPackage:\u001b[0m \u001b[36mbase-installer\u001b[0m\n"
      ]
     },
     "metadata": {},
     "output_type": "display_data"
    },
    {
     "data": {
      "text/html": [
       "<pre style=\"white-space:pre;overflow-x:auto;line-height:normal;font-family:Menlo,'DejaVu Sans Mono',consolas,'Courier New',monospace\"><span style=\"font-weight: bold\">Test STDOUT (last </span><span style=\"color: #008080; text-decoration-color: #008080; font-weight: bold\">10</span><span style=\"font-weight: bold\"> lines):</span>\n",
       "powerpc: <span style=\"color: #008080; text-decoration-color: #008080; font-weight: bold\">134</span> passes, <span style=\"color: #008080; text-decoration-color: #008080; font-weight: bold\">0</span> failures.\n",
       "ppc64: <span style=\"color: #008080; text-decoration-color: #008080; font-weight: bold\">8</span> passes, <span style=\"color: #008080; text-decoration-color: #008080; font-weight: bold\">0</span> failures.\n",
       "ppc64el: <span style=\"color: #008080; text-decoration-color: #008080; font-weight: bold\">16</span> passes, <span style=\"color: #008080; text-decoration-color: #008080; font-weight: bold\">0</span> failures.\n",
       "s39<span style=\"color: #008080; text-decoration-color: #008080; font-weight: bold\">0x</span>: <span style=\"color: #008080; text-decoration-color: #008080; font-weight: bold\">7</span> passes, <span style=\"color: #008080; text-decoration-color: #008080; font-weight: bold\">0</span> failures.\n",
       "sh4: <span style=\"color: #008080; text-decoration-color: #008080; font-weight: bold\">20</span> passes, <span style=\"color: #008080; text-decoration-color: #008080; font-weight: bold\">0</span> failures.\n",
       "sparc: <span style=\"color: #008080; text-decoration-color: #008080; font-weight: bold\">36</span> passes, <span style=\"color: #008080; text-decoration-color: #008080; font-weight: bold\">0</span> failures.\n",
       "sparc64: <span style=\"color: #008080; text-decoration-color: #008080; font-weight: bold\">36</span> passes, <span style=\"color: #008080; text-decoration-color: #008080; font-weight: bold\">0</span> failures.\n",
       "kfreebsd-amd64: <span style=\"color: #008080; text-decoration-color: #008080; font-weight: bold\">16</span> passes, <span style=\"color: #008080; text-decoration-color: #008080; font-weight: bold\">0</span> failures.\n",
       "kfreebsd-i386: <span style=\"color: #008080; text-decoration-color: #008080; font-weight: bold\">32</span> passes, <span style=\"color: #008080; text-decoration-color: #008080; font-weight: bold\">0</span> failures.\n",
       "make<span style=\"font-weight: bold\">[</span><span style=\"color: #008080; text-decoration-color: #008080; font-weight: bold\">1</span><span style=\"font-weight: bold\">]</span>: Leaving directory <span style=\"color: #008000; text-decoration-color: #008000\">'/worker/base-installer-1.226/kernel'</span>\n",
       "</pre>\n"
      ],
      "text/plain": [
       "\u001b[1mTest STDOUT \u001b[0m\u001b[1m(\u001b[0m\u001b[1mlast \u001b[0m\u001b[1;36m10\u001b[0m\u001b[1m lines\u001b[0m\u001b[1m)\u001b[0m\u001b[1m:\u001b[0m\n",
       "powerpc: \u001b[1;36m134\u001b[0m passes, \u001b[1;36m0\u001b[0m failures.\n",
       "ppc64: \u001b[1;36m8\u001b[0m passes, \u001b[1;36m0\u001b[0m failures.\n",
       "ppc64el: \u001b[1;36m16\u001b[0m passes, \u001b[1;36m0\u001b[0m failures.\n",
       "s39\u001b[1;36m0x\u001b[0m: \u001b[1;36m7\u001b[0m passes, \u001b[1;36m0\u001b[0m failures.\n",
       "sh4: \u001b[1;36m20\u001b[0m passes, \u001b[1;36m0\u001b[0m failures.\n",
       "sparc: \u001b[1;36m36\u001b[0m passes, \u001b[1;36m0\u001b[0m failures.\n",
       "sparc64: \u001b[1;36m36\u001b[0m passes, \u001b[1;36m0\u001b[0m failures.\n",
       "kfreebsd-amd64: \u001b[1;36m16\u001b[0m passes, \u001b[1;36m0\u001b[0m failures.\n",
       "kfreebsd-i386: \u001b[1;36m32\u001b[0m passes, \u001b[1;36m0\u001b[0m failures.\n",
       "make\u001b[1m[\u001b[0m\u001b[1;36m1\u001b[0m\u001b[1m]\u001b[0m: Leaving directory \u001b[32m'/worker/base-installer-1.226/kernel'\u001b[0m\n"
      ]
     },
     "metadata": {},
     "output_type": "display_data"
    },
    {
     "data": {
      "text/html": [
       "<pre style=\"white-space:pre;overflow-x:auto;line-height:normal;font-family:Menlo,'DejaVu Sans Mono',consolas,'Courier New',monospace\"><span style=\"color: #bfbf7f; text-decoration-color: #bfbf7f\">...</span><span style=\"color: #7f7f7f; text-decoration-color: #7f7f7f\"> </span><span style=\"color: #7f7f7f; text-decoration-color: #7f7f7f; font-weight: bold\">(</span><span style=\"color: #7fbfbf; text-decoration-color: #7fbfbf; font-weight: bold\">14</span><span style=\"color: #7f7f7f; text-decoration-color: #7f7f7f\"> earlier lines truncated</span><span style=\"color: #7f7f7f; text-decoration-color: #7f7f7f; font-weight: bold\">)</span>\n",
       "</pre>\n"
      ],
      "text/plain": [
       "\u001b[2;33m...\u001b[0m\u001b[2m \u001b[0m\u001b[1;2m(\u001b[0m\u001b[1;2;36m14\u001b[0m\u001b[2m earlier lines truncated\u001b[0m\u001b[1;2m)\u001b[0m\n"
      ]
     },
     "metadata": {},
     "output_type": "display_data"
    },
    {
     "data": {
      "text/html": [
       "<pre style=\"white-space:pre;overflow-x:auto;line-height:normal;font-family:Menlo,'DejaVu Sans Mono',consolas,'Courier New',monospace\"><span style=\"color: #00ff00; text-decoration-color: #00ff00\">───────────────────────────────────────────────────────────────────────────────────────────────────────────────────</span>\n",
       "</pre>\n"
      ],
      "text/plain": [
       "\u001b[92m───────────────────────────────────────────────────────────────────────────────────────────────────────────────────\u001b[0m\n"
      ]
     },
     "metadata": {},
     "output_type": "display_data"
    },
    {
     "data": {
      "text/html": [
       "<pre style=\"white-space:pre;overflow-x:auto;line-height:normal;font-family:Menlo,'DejaVu Sans Mono',consolas,'Courier New',monospace\">\n",
       "<span style=\"font-weight: bold\">Package:</span> <span style=\"color: #008080; text-decoration-color: #008080\">bambootracker</span>\n",
       "</pre>\n"
      ],
      "text/plain": [
       "\n",
       "\u001b[1mPackage:\u001b[0m \u001b[36mbambootracker\u001b[0m\n"
      ]
     },
     "metadata": {},
     "output_type": "display_data"
    },
    {
     "data": {
      "text/html": [
       "<pre style=\"white-space:pre;overflow-x:auto;line-height:normal;font-family:Menlo,'DejaVu Sans Mono',consolas,'Courier New',monospace\"><span style=\"font-weight: bold\">Test STDOUT (last </span><span style=\"color: #008080; text-decoration-color: #008080; font-weight: bold\">10</span><span style=\"font-weight: bold\"> lines):</span>\n",
       "Skipped.\n",
       "make<span style=\"font-weight: bold\">[</span><span style=\"color: #008080; text-decoration-color: #008080; font-weight: bold\">1</span><span style=\"font-weight: bold\">]</span>: Leaving directory <span style=\"color: #008000; text-decoration-color: #008000\">'/worker/bambootracker-0.6.5/submodules/RtMidi'</span>\n",
       "cd BambooTracker/ &amp;&amp; <span style=\"font-weight: bold\">(</span> test -e Makefile || <span style=\"color: #800080; text-decoration-color: #800080\">/usr/lib/qt5/bin/</span><span style=\"color: #ff00ff; text-decoration-color: #ff00ff\">qmake</span> -o Makefile \n",
       "<span style=\"color: #800080; text-decoration-color: #800080\">/worker/bambootracker-0.6.5/BambooTracker/</span><span style=\"color: #ff00ff; text-decoration-color: #ff00ff\">BambooTracker.pro</span> <span style=\"color: #008000; text-decoration-color: #008000\">'QMAKE_CFLAGS_RELEASE=-g -O2 </span>\n",
       "<span style=\"color: #008000; text-decoration-color: #008000\">-Werror=implicit-function-declaration -ffile-prefix-map=/worker/bambootracker-0.6.5=. -fstack-protector-strong </span>\n",
       "<span style=\"color: #008000; text-decoration-color: #008000\">-fstack-clash-protection -Wformat -Werror=format-security -fcf-protection -Wall -pedantic -Wdate-time </span>\n",
       "<span style=\"color: #008000; text-decoration-color: #008000\">-D_FORTIFY_SOURCE=2'</span> <span style=\"color: #008000; text-decoration-color: #008000\">'QMAKE_CFLAGS_DEBUG=-g -O2 -Werror=implicit-function-declaration </span>\n",
       "<span style=\"color: #008000; text-decoration-color: #008000\">-ffile-prefix-map=/worker/bambootracker-0.6.5=. -fstack-protector-strong -fstack-clash-protection -Wformat </span>\n",
       "<span style=\"color: #008000; text-decoration-color: #008000\">-Werror=format-security -fcf-protection -Wall -pedantic -Wdate-time -D_FORTIFY_SOURCE=2'</span> <span style=\"color: #008000; text-decoration-color: #008000\">'QMAKE_CXXFLAGS_RELEASE=-g</span>\n",
       "<span style=\"color: #008000; text-decoration-color: #008000\">-O2 -ffile-prefix-map=/worker/bambootracker-0.6.5=. -fstack-protector-strong -fstack-clash-protection -Wformat </span>\n",
       "<span style=\"color: #008000; text-decoration-color: #008000\">-Werror=format-security -fcf-protection -Wdate-time -D_FORTIFY_SOURCE=2'</span> <span style=\"color: #008000; text-decoration-color: #008000\">'QMAKE_CXXFLAGS_DEBUG=-g -O2 </span>\n",
       "<span style=\"color: #008000; text-decoration-color: #008000\">-ffile-prefix-map=/worker/bambootracker-0.6.5=. -fstack-protector-strong -fstack-clash-protection -Wformat </span>\n",
       "<span style=\"color: #008000; text-decoration-color: #008000\">-Werror=format-security -fcf-protection -Wdate-time -D_FORTIFY_SOURCE=2'</span> <span style=\"color: #008000; text-decoration-color: #008000\">'QMAKE_LFLAGS_RELEASE=-Wl,-z,relro </span>\n",
       "<span style=\"color: #008000; text-decoration-color: #008000\">-Wl,-z,now'</span> <span style=\"color: #008000; text-decoration-color: #008000\">'QMAKE_LFLAGS_DEBUG=-Wl,-z,relro -Wl,-z,now'</span> <span style=\"color: #808000; text-decoration-color: #808000\">QMAKE_STRIP</span>=: <span style=\"color: #808000; text-decoration-color: #808000\">PREFIX</span>=<span style=\"color: #800080; text-decoration-color: #800080\">/</span><span style=\"color: #ff00ff; text-decoration-color: #ff00ff\">usr</span> CONFIG+=system_rtaudio \n",
       "CONFIG+=system_rtmidi <span style=\"font-weight: bold\">)</span> &amp;&amp; make -f Makefile check\n",
       "make<span style=\"font-weight: bold\">[</span><span style=\"color: #008080; text-decoration-color: #008080; font-weight: bold\">1</span><span style=\"font-weight: bold\">]</span>: Entering directory <span style=\"color: #008000; text-decoration-color: #008000\">'/worker/bambootracker-0.6.5/BambooTracker'</span>\n",
       "make<span style=\"font-weight: bold\">[</span><span style=\"color: #008080; text-decoration-color: #008080; font-weight: bold\">1</span><span style=\"font-weight: bold\">]</span>: Nothing to be done for <span style=\"color: #008000; text-decoration-color: #008000\">'check'</span>.\n",
       "make<span style=\"font-weight: bold\">[</span><span style=\"color: #008080; text-decoration-color: #008080; font-weight: bold\">1</span><span style=\"font-weight: bold\">]</span>: Leaving directory <span style=\"color: #008000; text-decoration-color: #008000\">'/worker/bambootracker-0.6.5/BambooTracker'</span>\n",
       "cd data/ &amp;&amp; <span style=\"font-weight: bold\">(</span> test -e Makefile || <span style=\"color: #800080; text-decoration-color: #800080\">/usr/lib/qt5/bin/</span><span style=\"color: #ff00ff; text-decoration-color: #ff00ff\">qmake</span> -o Makefile <span style=\"color: #800080; text-decoration-color: #800080\">/worker/bambootracker-0.6.5/data/</span><span style=\"color: #ff00ff; text-decoration-color: #ff00ff\">data.pro</span> \n",
       "<span style=\"color: #008000; text-decoration-color: #008000\">'QMAKE_CFLAGS_RELEASE=-g -O2 -Werror=implicit-function-declaration -ffile-prefix-map=/worker/bambootracker-0.6.5=. </span>\n",
       "<span style=\"color: #008000; text-decoration-color: #008000\">-fstack-protector-strong -fstack-clash-protection -Wformat -Werror=format-security -fcf-protection -Wall -pedantic </span>\n",
       "<span style=\"color: #008000; text-decoration-color: #008000\">-Wdate-time -D_FORTIFY_SOURCE=2'</span> <span style=\"color: #008000; text-decoration-color: #008000\">'QMAKE_CFLAGS_DEBUG=-g -O2 -Werror=implicit-function-declaration </span>\n",
       "<span style=\"color: #008000; text-decoration-color: #008000\">-ffile-prefix-map=/worker/bambootracker-0.6.5=. -fstack-protector-strong -fstack-clash-protection -Wformat </span>\n",
       "<span style=\"color: #008000; text-decoration-color: #008000\">-Werror=format-security -fcf-protection -Wall -pedantic -Wdate-time -D_FORTIFY_SOURCE=2'</span> <span style=\"color: #008000; text-decoration-color: #008000\">'QMAKE_CXXFLAGS_RELEASE=-g</span>\n",
       "<span style=\"color: #008000; text-decoration-color: #008000\">-O2 -ffile-prefix-map=/worker/bambootracker-0.6.5=. -fstack-protector-strong -fstack-clash-protection -Wformat </span>\n",
       "<span style=\"color: #008000; text-decoration-color: #008000\">-Werror=format-security -fcf-protection -Wdate-time -D_FORTIFY_SOURCE=2'</span> <span style=\"color: #008000; text-decoration-color: #008000\">'QMAKE_CXXFLAGS_DEBUG=-g -O2 </span>\n",
       "<span style=\"color: #008000; text-decoration-color: #008000\">-ffile-prefix-map=/worker/bambootracker-0.6.5=. -fstack-protector-strong -fstack-clash-protection -Wformat </span>\n",
       "<span style=\"color: #008000; text-decoration-color: #008000\">-Werror=format-security -fcf-protection -Wdate-time -D_FORTIFY_SOURCE=2'</span> <span style=\"color: #008000; text-decoration-color: #008000\">'QMAKE_LFLAGS_RELEASE=-Wl,-z,relro </span>\n",
       "<span style=\"color: #008000; text-decoration-color: #008000\">-Wl,-z,now'</span> <span style=\"color: #008000; text-decoration-color: #008000\">'QMAKE_LFLAGS_DEBUG=-Wl,-z,relro -Wl,-z,now'</span> <span style=\"color: #808000; text-decoration-color: #808000\">QMAKE_STRIP</span>=: <span style=\"color: #808000; text-decoration-color: #808000\">PREFIX</span>=<span style=\"color: #800080; text-decoration-color: #800080\">/</span><span style=\"color: #ff00ff; text-decoration-color: #ff00ff\">usr</span> CONFIG+=system_rtaudio \n",
       "CONFIG+=system_rtmidi <span style=\"font-weight: bold\">)</span> &amp;&amp; make -f Makefile check\n",
       "make<span style=\"font-weight: bold\">[</span><span style=\"color: #008080; text-decoration-color: #008080; font-weight: bold\">1</span><span style=\"font-weight: bold\">]</span>: Entering directory <span style=\"color: #008000; text-decoration-color: #008000\">'/worker/bambootracker-0.6.5/data'</span>\n",
       "make<span style=\"font-weight: bold\">[</span><span style=\"color: #008080; text-decoration-color: #008080; font-weight: bold\">1</span><span style=\"font-weight: bold\">]</span>: Nothing to be done for <span style=\"color: #008000; text-decoration-color: #008000\">'check'</span>.\n",
       "make<span style=\"font-weight: bold\">[</span><span style=\"color: #008080; text-decoration-color: #008080; font-weight: bold\">1</span><span style=\"font-weight: bold\">]</span>: Leaving directory <span style=\"color: #008000; text-decoration-color: #008000\">'/worker/bambootracker-0.6.5/data'</span>\n",
       "</pre>\n"
      ],
      "text/plain": [
       "\u001b[1mTest STDOUT \u001b[0m\u001b[1m(\u001b[0m\u001b[1mlast \u001b[0m\u001b[1;36m10\u001b[0m\u001b[1m lines\u001b[0m\u001b[1m)\u001b[0m\u001b[1m:\u001b[0m\n",
       "Skipped.\n",
       "make\u001b[1m[\u001b[0m\u001b[1;36m1\u001b[0m\u001b[1m]\u001b[0m: Leaving directory \u001b[32m'/worker/bambootracker-0.6.5/submodules/RtMidi'\u001b[0m\n",
       "cd BambooTracker/ && \u001b[1m(\u001b[0m test -e Makefile || \u001b[35m/usr/lib/qt5/bin/\u001b[0m\u001b[95mqmake\u001b[0m -o Makefile \n",
       "\u001b[35m/worker/bambootracker-0.6.5/BambooTracker/\u001b[0m\u001b[95mBambooTracker.pro\u001b[0m \u001b[32m'\u001b[0m\u001b[32mQMAKE_CFLAGS_RELEASE\u001b[0m\u001b[32m=-g -O2 \u001b[0m\n",
       "\u001b[32m-\u001b[0m\u001b[32mWerror\u001b[0m\u001b[32m=\u001b[0m\u001b[32mimplicit\u001b[0m\u001b[32m-function-declaration -ffile-prefix-\u001b[0m\u001b[32mmap\u001b[0m\u001b[32m=/worker/bambootracker-0.6.\u001b[0m\u001b[32m5\u001b[0m\u001b[32m=. -fstack-protector-strong \u001b[0m\n",
       "\u001b[32m-fstack-clash-protection -Wformat -\u001b[0m\u001b[32mWerror\u001b[0m\u001b[32m=\u001b[0m\u001b[32mformat\u001b[0m\u001b[32m-security -fcf-protection -Wall -pedantic -Wdate-time \u001b[0m\n",
       "\u001b[32m-\u001b[0m\u001b[32mD_FORTIFY_SOURCE\u001b[0m\u001b[32m=\u001b[0m\u001b[32m2\u001b[0m\u001b[32m'\u001b[0m \u001b[32m'\u001b[0m\u001b[32mQMAKE_CFLAGS_DEBUG\u001b[0m\u001b[32m=-g -O2 -\u001b[0m\u001b[32mWerror\u001b[0m\u001b[32m=\u001b[0m\u001b[32mimplicit\u001b[0m\u001b[32m-function-declaration \u001b[0m\n",
       "\u001b[32m-ffile-prefix-\u001b[0m\u001b[32mmap\u001b[0m\u001b[32m=/worker/bambootracker-0.6.\u001b[0m\u001b[32m5\u001b[0m\u001b[32m=. -fstack-protector-strong -fstack-clash-protection -Wformat \u001b[0m\n",
       "\u001b[32m-\u001b[0m\u001b[32mWerror\u001b[0m\u001b[32m=\u001b[0m\u001b[32mformat\u001b[0m\u001b[32m-security -fcf-protection -Wall -pedantic -Wdate-time -\u001b[0m\u001b[32mD_FORTIFY_SOURCE\u001b[0m\u001b[32m=\u001b[0m\u001b[32m2\u001b[0m\u001b[32m'\u001b[0m \u001b[32m'\u001b[0m\u001b[32mQMAKE_CXXFLAGS_RELEASE\u001b[0m\u001b[32m=-g\u001b[0m\n",
       "\u001b[32m-O2 -ffile-prefix-\u001b[0m\u001b[32mmap\u001b[0m\u001b[32m=/worker/bambootracker-0.6.\u001b[0m\u001b[32m5\u001b[0m\u001b[32m=. -fstack-protector-strong -fstack-clash-protection -Wformat \u001b[0m\n",
       "\u001b[32m-\u001b[0m\u001b[32mWerror\u001b[0m\u001b[32m=\u001b[0m\u001b[32mformat\u001b[0m\u001b[32m-security -fcf-protection -Wdate-time -\u001b[0m\u001b[32mD_FORTIFY_SOURCE\u001b[0m\u001b[32m=\u001b[0m\u001b[32m2\u001b[0m\u001b[32m'\u001b[0m \u001b[32m'\u001b[0m\u001b[32mQMAKE_CXXFLAGS_DEBUG\u001b[0m\u001b[32m=-g -O2 \u001b[0m\n",
       "\u001b[32m-ffile-prefix-\u001b[0m\u001b[32mmap\u001b[0m\u001b[32m=/worker/bambootracker-0.6.\u001b[0m\u001b[32m5\u001b[0m\u001b[32m=. -fstack-protector-strong -fstack-clash-protection -Wformat \u001b[0m\n",
       "\u001b[32m-\u001b[0m\u001b[32mWerror\u001b[0m\u001b[32m=\u001b[0m\u001b[32mformat\u001b[0m\u001b[32m-security -fcf-protection -Wdate-time -\u001b[0m\u001b[32mD_FORTIFY_SOURCE\u001b[0m\u001b[32m=\u001b[0m\u001b[32m2\u001b[0m\u001b[32m'\u001b[0m \u001b[32m'\u001b[0m\u001b[32mQMAKE_LFLAGS_RELEASE\u001b[0m\u001b[32m=-Wl,-z,relro \u001b[0m\n",
       "\u001b[32m-Wl,-z,now'\u001b[0m \u001b[32m'\u001b[0m\u001b[32mQMAKE_LFLAGS_DEBUG\u001b[0m\u001b[32m=-Wl,-z,relro -Wl,-z,now'\u001b[0m \u001b[33mQMAKE_STRIP\u001b[0m=: \u001b[33mPREFIX\u001b[0m=\u001b[35m/\u001b[0m\u001b[95musr\u001b[0m CONFIG+=system_rtaudio \n",
       "CONFIG+=system_rtmidi \u001b[1m)\u001b[0m && make -f Makefile check\n",
       "make\u001b[1m[\u001b[0m\u001b[1;36m1\u001b[0m\u001b[1m]\u001b[0m: Entering directory \u001b[32m'/worker/bambootracker-0.6.5/BambooTracker'\u001b[0m\n",
       "make\u001b[1m[\u001b[0m\u001b[1;36m1\u001b[0m\u001b[1m]\u001b[0m: Nothing to be done for \u001b[32m'check'\u001b[0m.\n",
       "make\u001b[1m[\u001b[0m\u001b[1;36m1\u001b[0m\u001b[1m]\u001b[0m: Leaving directory \u001b[32m'/worker/bambootracker-0.6.5/BambooTracker'\u001b[0m\n",
       "cd data/ && \u001b[1m(\u001b[0m test -e Makefile || \u001b[35m/usr/lib/qt5/bin/\u001b[0m\u001b[95mqmake\u001b[0m -o Makefile \u001b[35m/worker/bambootracker-0.6.5/data/\u001b[0m\u001b[95mdata.pro\u001b[0m \n",
       "\u001b[32m'\u001b[0m\u001b[32mQMAKE_CFLAGS_RELEASE\u001b[0m\u001b[32m=-g -O2 -\u001b[0m\u001b[32mWerror\u001b[0m\u001b[32m=\u001b[0m\u001b[32mimplicit\u001b[0m\u001b[32m-function-declaration -ffile-prefix-\u001b[0m\u001b[32mmap\u001b[0m\u001b[32m=/worker/bambootracker-0.6.\u001b[0m\u001b[32m5\u001b[0m\u001b[32m=. \u001b[0m\n",
       "\u001b[32m-fstack-protector-strong -fstack-clash-protection -Wformat -\u001b[0m\u001b[32mWerror\u001b[0m\u001b[32m=\u001b[0m\u001b[32mformat\u001b[0m\u001b[32m-security -fcf-protection -Wall -pedantic \u001b[0m\n",
       "\u001b[32m-Wdate-time -\u001b[0m\u001b[32mD_FORTIFY_SOURCE\u001b[0m\u001b[32m=\u001b[0m\u001b[32m2\u001b[0m\u001b[32m'\u001b[0m \u001b[32m'\u001b[0m\u001b[32mQMAKE_CFLAGS_DEBUG\u001b[0m\u001b[32m=-g -O2 -\u001b[0m\u001b[32mWerror\u001b[0m\u001b[32m=\u001b[0m\u001b[32mimplicit\u001b[0m\u001b[32m-function-declaration \u001b[0m\n",
       "\u001b[32m-ffile-prefix-\u001b[0m\u001b[32mmap\u001b[0m\u001b[32m=/worker/bambootracker-0.6.\u001b[0m\u001b[32m5\u001b[0m\u001b[32m=. -fstack-protector-strong -fstack-clash-protection -Wformat \u001b[0m\n",
       "\u001b[32m-\u001b[0m\u001b[32mWerror\u001b[0m\u001b[32m=\u001b[0m\u001b[32mformat\u001b[0m\u001b[32m-security -fcf-protection -Wall -pedantic -Wdate-time -\u001b[0m\u001b[32mD_FORTIFY_SOURCE\u001b[0m\u001b[32m=\u001b[0m\u001b[32m2\u001b[0m\u001b[32m'\u001b[0m \u001b[32m'\u001b[0m\u001b[32mQMAKE_CXXFLAGS_RELEASE\u001b[0m\u001b[32m=-g\u001b[0m\n",
       "\u001b[32m-O2 -ffile-prefix-\u001b[0m\u001b[32mmap\u001b[0m\u001b[32m=/worker/bambootracker-0.6.\u001b[0m\u001b[32m5\u001b[0m\u001b[32m=. -fstack-protector-strong -fstack-clash-protection -Wformat \u001b[0m\n",
       "\u001b[32m-\u001b[0m\u001b[32mWerror\u001b[0m\u001b[32m=\u001b[0m\u001b[32mformat\u001b[0m\u001b[32m-security -fcf-protection -Wdate-time -\u001b[0m\u001b[32mD_FORTIFY_SOURCE\u001b[0m\u001b[32m=\u001b[0m\u001b[32m2\u001b[0m\u001b[32m'\u001b[0m \u001b[32m'\u001b[0m\u001b[32mQMAKE_CXXFLAGS_DEBUG\u001b[0m\u001b[32m=-g -O2 \u001b[0m\n",
       "\u001b[32m-ffile-prefix-\u001b[0m\u001b[32mmap\u001b[0m\u001b[32m=/worker/bambootracker-0.6.\u001b[0m\u001b[32m5\u001b[0m\u001b[32m=. -fstack-protector-strong -fstack-clash-protection -Wformat \u001b[0m\n",
       "\u001b[32m-\u001b[0m\u001b[32mWerror\u001b[0m\u001b[32m=\u001b[0m\u001b[32mformat\u001b[0m\u001b[32m-security -fcf-protection -Wdate-time -\u001b[0m\u001b[32mD_FORTIFY_SOURCE\u001b[0m\u001b[32m=\u001b[0m\u001b[32m2\u001b[0m\u001b[32m'\u001b[0m \u001b[32m'\u001b[0m\u001b[32mQMAKE_LFLAGS_RELEASE\u001b[0m\u001b[32m=-Wl,-z,relro \u001b[0m\n",
       "\u001b[32m-Wl,-z,now'\u001b[0m \u001b[32m'\u001b[0m\u001b[32mQMAKE_LFLAGS_DEBUG\u001b[0m\u001b[32m=-Wl,-z,relro -Wl,-z,now'\u001b[0m \u001b[33mQMAKE_STRIP\u001b[0m=: \u001b[33mPREFIX\u001b[0m=\u001b[35m/\u001b[0m\u001b[95musr\u001b[0m CONFIG+=system_rtaudio \n",
       "CONFIG+=system_rtmidi \u001b[1m)\u001b[0m && make -f Makefile check\n",
       "make\u001b[1m[\u001b[0m\u001b[1;36m1\u001b[0m\u001b[1m]\u001b[0m: Entering directory \u001b[32m'/worker/bambootracker-0.6.5/data'\u001b[0m\n",
       "make\u001b[1m[\u001b[0m\u001b[1;36m1\u001b[0m\u001b[1m]\u001b[0m: Nothing to be done for \u001b[32m'check'\u001b[0m.\n",
       "make\u001b[1m[\u001b[0m\u001b[1;36m1\u001b[0m\u001b[1m]\u001b[0m: Leaving directory \u001b[32m'/worker/bambootracker-0.6.5/data'\u001b[0m\n"
      ]
     },
     "metadata": {},
     "output_type": "display_data"
    },
    {
     "data": {
      "text/html": [
       "<pre style=\"white-space:pre;overflow-x:auto;line-height:normal;font-family:Menlo,'DejaVu Sans Mono',consolas,'Courier New',monospace\"><span style=\"color: #bfbf7f; text-decoration-color: #bfbf7f\">...</span><span style=\"color: #7f7f7f; text-decoration-color: #7f7f7f\"> </span><span style=\"color: #7f7f7f; text-decoration-color: #7f7f7f; font-weight: bold\">(</span><span style=\"color: #7fbfbf; text-decoration-color: #7fbfbf; font-weight: bold\">12</span><span style=\"color: #7f7f7f; text-decoration-color: #7f7f7f\"> earlier lines truncated</span><span style=\"color: #7f7f7f; text-decoration-color: #7f7f7f; font-weight: bold\">)</span>\n",
       "</pre>\n"
      ],
      "text/plain": [
       "\u001b[2;33m...\u001b[0m\u001b[2m \u001b[0m\u001b[1;2m(\u001b[0m\u001b[1;2;36m12\u001b[0m\u001b[2m earlier lines truncated\u001b[0m\u001b[1;2m)\u001b[0m\n"
      ]
     },
     "metadata": {},
     "output_type": "display_data"
    },
    {
     "data": {
      "text/html": [
       "<pre style=\"white-space:pre;overflow-x:auto;line-height:normal;font-family:Menlo,'DejaVu Sans Mono',consolas,'Courier New',monospace\"><span style=\"color: #00ff00; text-decoration-color: #00ff00\">───────────────────────────────────────────────────────────────────────────────────────────────────────────────────</span>\n",
       "</pre>\n"
      ],
      "text/plain": [
       "\u001b[92m───────────────────────────────────────────────────────────────────────────────────────────────────────────────────\u001b[0m\n"
      ]
     },
     "metadata": {},
     "output_type": "display_data"
    },
    {
     "data": {
      "text/html": [
       "<pre style=\"white-space:pre;overflow-x:auto;line-height:normal;font-family:Menlo,'DejaVu Sans Mono',consolas,'Courier New',monospace\">\n",
       "<span style=\"font-weight: bold\">Package:</span> <span style=\"color: #008080; text-decoration-color: #008080\">proftpd-mod-kafka</span>\n",
       "</pre>\n"
      ],
      "text/plain": [
       "\n",
       "\u001b[1mPackage:\u001b[0m \u001b[36mproftpd-mod-kafka\u001b[0m\n"
      ]
     },
     "metadata": {},
     "output_type": "display_data"
    },
    {
     "data": {
      "text/html": [
       "<pre style=\"white-space:pre;overflow-x:auto;line-height:normal;font-family:Menlo,'DejaVu Sans Mono',consolas,'Courier New',monospace\"><span style=\"font-weight: bold\">Test STDOUT:</span>\n",
       "test -z <span style=\"color: #008000; text-decoration-color: #008000\">\"\"\"\"</span> || <span style=\"font-weight: bold\">(</span>cd t/ &amp;&amp; make api-tests<span style=\"font-weight: bold\">)</span>\n",
       "\n",
       "</pre>\n"
      ],
      "text/plain": [
       "\u001b[1mTest STDOUT:\u001b[0m\n",
       "test -z \u001b[32m\"\"\u001b[0m\u001b[32m\"\"\u001b[0m || \u001b[1m(\u001b[0mcd t/ && make api-tests\u001b[1m)\u001b[0m\n",
       "\n"
      ]
     },
     "metadata": {},
     "output_type": "display_data"
    },
    {
     "data": {
      "text/html": [
       "<pre style=\"white-space:pre;overflow-x:auto;line-height:normal;font-family:Menlo,'DejaVu Sans Mono',consolas,'Courier New',monospace\"><span style=\"color: #00ff00; text-decoration-color: #00ff00\">───────────────────────────────────────────────────────────────────────────────────────────────────────────────────</span>\n",
       "</pre>\n"
      ],
      "text/plain": [
       "\u001b[92m───────────────────────────────────────────────────────────────────────────────────────────────────────────────────\u001b[0m\n"
      ]
     },
     "metadata": {},
     "output_type": "display_data"
    },
    {
     "data": {
      "text/html": [
       "<pre style=\"white-space:pre;overflow-x:auto;line-height:normal;font-family:Menlo,'DejaVu Sans Mono',consolas,'Courier New',monospace\">\n",
       "<span style=\"font-weight: bold\">Package:</span> <span style=\"color: #008080; text-decoration-color: #008080\">fitspng</span>\n",
       "</pre>\n"
      ],
      "text/plain": [
       "\n",
       "\u001b[1mPackage:\u001b[0m \u001b[36mfitspng\u001b[0m\n"
      ]
     },
     "metadata": {},
     "output_type": "display_data"
    },
    {
     "data": {
      "text/html": [
       "<pre style=\"white-space:pre;overflow-x:auto;line-height:normal;font-family:Menlo,'DejaVu Sans Mono',consolas,'Courier New',monospace\"><span style=\"font-weight: bold\">Test STDOUT:</span>\n",
       "Making check in images\n",
       "make<span style=\"font-weight: bold\">[</span><span style=\"color: #008080; text-decoration-color: #008080; font-weight: bold\">1</span><span style=\"font-weight: bold\">]</span>: Entering directory <span style=\"color: #008000; text-decoration-color: #008000\">'/worker/fitspng-2.0/images'</span>\n",
       "make<span style=\"font-weight: bold\">[</span><span style=\"color: #008080; text-decoration-color: #008080; font-weight: bold\">1</span><span style=\"font-weight: bold\">]</span>: Nothing to be done for <span style=\"color: #008000; text-decoration-color: #008000\">'check'</span>.\n",
       "make<span style=\"font-weight: bold\">[</span><span style=\"color: #008080; text-decoration-color: #008080; font-weight: bold\">1</span><span style=\"font-weight: bold\">]</span>: Leaving directory <span style=\"color: #008000; text-decoration-color: #008000\">'/worker/fitspng-2.0/images'</span>\n",
       "make<span style=\"font-weight: bold\">[</span><span style=\"color: #008080; text-decoration-color: #008080; font-weight: bold\">1</span><span style=\"font-weight: bold\">]</span>: Entering directory <span style=\"color: #008000; text-decoration-color: #008000\">'/worker/fitspng-2.0'</span>\n",
       "make<span style=\"font-weight: bold\">[</span><span style=\"color: #008080; text-decoration-color: #008080; font-weight: bold\">1</span><span style=\"font-weight: bold\">]</span>: Nothing to be done for <span style=\"color: #008000; text-decoration-color: #008000\">'check-am'</span>.\n",
       "make<span style=\"font-weight: bold\">[</span><span style=\"color: #008080; text-decoration-color: #008080; font-weight: bold\">1</span><span style=\"font-weight: bold\">]</span>: Leaving directory <span style=\"color: #008000; text-decoration-color: #008000\">'/worker/fitspng-2.0'</span>\n",
       "\n",
       "</pre>\n"
      ],
      "text/plain": [
       "\u001b[1mTest STDOUT:\u001b[0m\n",
       "Making check in images\n",
       "make\u001b[1m[\u001b[0m\u001b[1;36m1\u001b[0m\u001b[1m]\u001b[0m: Entering directory \u001b[32m'/worker/fitspng-2.0/images'\u001b[0m\n",
       "make\u001b[1m[\u001b[0m\u001b[1;36m1\u001b[0m\u001b[1m]\u001b[0m: Nothing to be done for \u001b[32m'check'\u001b[0m.\n",
       "make\u001b[1m[\u001b[0m\u001b[1;36m1\u001b[0m\u001b[1m]\u001b[0m: Leaving directory \u001b[32m'/worker/fitspng-2.0/images'\u001b[0m\n",
       "make\u001b[1m[\u001b[0m\u001b[1;36m1\u001b[0m\u001b[1m]\u001b[0m: Entering directory \u001b[32m'/worker/fitspng-2.0'\u001b[0m\n",
       "make\u001b[1m[\u001b[0m\u001b[1;36m1\u001b[0m\u001b[1m]\u001b[0m: Nothing to be done for \u001b[32m'check-am'\u001b[0m.\n",
       "make\u001b[1m[\u001b[0m\u001b[1;36m1\u001b[0m\u001b[1m]\u001b[0m: Leaving directory \u001b[32m'/worker/fitspng-2.0'\u001b[0m\n",
       "\n"
      ]
     },
     "metadata": {},
     "output_type": "display_data"
    },
    {
     "data": {
      "text/html": [
       "<pre style=\"white-space:pre;overflow-x:auto;line-height:normal;font-family:Menlo,'DejaVu Sans Mono',consolas,'Courier New',monospace\"><span style=\"color: #00ff00; text-decoration-color: #00ff00\">───────────────────────────────────────────────────────────────────────────────────────────────────────────────────</span>\n",
       "</pre>\n"
      ],
      "text/plain": [
       "\u001b[92m───────────────────────────────────────────────────────────────────────────────────────────────────────────────────\u001b[0m\n"
      ]
     },
     "metadata": {},
     "output_type": "display_data"
    },
    {
     "data": {
      "text/html": [
       "<pre style=\"white-space:pre;overflow-x:auto;line-height:normal;font-family:Menlo,'DejaVu Sans Mono',consolas,'Courier New',monospace\">\n",
       "<span style=\"font-weight: bold\">Package:</span> <span style=\"color: #008080; text-decoration-color: #008080\">sox</span>\n",
       "</pre>\n"
      ],
      "text/plain": [
       "\n",
       "\u001b[1mPackage:\u001b[0m \u001b[36msox\u001b[0m\n"
      ]
     },
     "metadata": {},
     "output_type": "display_data"
    },
    {
     "data": {
      "text/html": [
       "<pre style=\"white-space:pre;overflow-x:auto;line-height:normal;font-family:Menlo,'DejaVu Sans Mono',consolas,'Courier New',monospace\"><span style=\"font-weight: bold\">Test STDOUT (last </span><span style=\"color: #008080; text-decoration-color: #008080; font-weight: bold\">10</span><span style=\"font-weight: bold\"> lines):</span>\n",
       "Making check in libgsm\n",
       "make<span style=\"font-weight: bold\">[</span><span style=\"color: #008080; text-decoration-color: #008080; font-weight: bold\">1</span><span style=\"font-weight: bold\">]</span>: Entering directory <span style=\"color: #008000; text-decoration-color: #008000\">'/worker/sox-14.4.2+git20190427/libgsm'</span>\n",
       "make<span style=\"font-weight: bold\">[</span><span style=\"color: #008080; text-decoration-color: #008080; font-weight: bold\">1</span><span style=\"font-weight: bold\">]</span>: Nothing to be done for <span style=\"color: #008000; text-decoration-color: #008000\">'check'</span>.\n",
       "make<span style=\"font-weight: bold\">[</span><span style=\"color: #008080; text-decoration-color: #008080; font-weight: bold\">1</span><span style=\"font-weight: bold\">]</span>: Leaving directory <span style=\"color: #008000; text-decoration-color: #008000\">'/worker/sox-14.4.2+git20190427/libgsm'</span>\n",
       "Making check in src\n",
       "make<span style=\"font-weight: bold\">[</span><span style=\"color: #008080; text-decoration-color: #008080; font-weight: bold\">1</span><span style=\"font-weight: bold\">]</span>: Entering directory <span style=\"color: #008000; text-decoration-color: #008000\">'/worker/sox-14.4.2+git20190427/src'</span>\n",
       "make<span style=\"font-weight: bold\">[</span><span style=\"color: #008080; text-decoration-color: #008080; font-weight: bold\">1</span><span style=\"font-weight: bold\">]</span>: Leaving directory <span style=\"color: #008000; text-decoration-color: #008000\">'/worker/sox-14.4.2+git20190427/src'</span>\n",
       "make<span style=\"font-weight: bold\">[</span><span style=\"color: #008080; text-decoration-color: #008080; font-weight: bold\">1</span><span style=\"font-weight: bold\">]</span>: Entering directory <span style=\"color: #008000; text-decoration-color: #008000\">'/worker/sox-14.4.2+git20190427'</span>\n",
       "make<span style=\"font-weight: bold\">[</span><span style=\"color: #008080; text-decoration-color: #008080; font-weight: bold\">1</span><span style=\"font-weight: bold\">]</span>: Nothing to be done for <span style=\"color: #008000; text-decoration-color: #008000\">'check-am'</span>.\n",
       "make<span style=\"font-weight: bold\">[</span><span style=\"color: #008080; text-decoration-color: #008080; font-weight: bold\">1</span><span style=\"font-weight: bold\">]</span>: Leaving directory <span style=\"color: #008000; text-decoration-color: #008000\">'/worker/sox-14.4.2+git20190427'</span>\n",
       "</pre>\n"
      ],
      "text/plain": [
       "\u001b[1mTest STDOUT \u001b[0m\u001b[1m(\u001b[0m\u001b[1mlast \u001b[0m\u001b[1;36m10\u001b[0m\u001b[1m lines\u001b[0m\u001b[1m)\u001b[0m\u001b[1m:\u001b[0m\n",
       "Making check in libgsm\n",
       "make\u001b[1m[\u001b[0m\u001b[1;36m1\u001b[0m\u001b[1m]\u001b[0m: Entering directory \u001b[32m'/worker/sox-14.4.2+git20190427/libgsm'\u001b[0m\n",
       "make\u001b[1m[\u001b[0m\u001b[1;36m1\u001b[0m\u001b[1m]\u001b[0m: Nothing to be done for \u001b[32m'check'\u001b[0m.\n",
       "make\u001b[1m[\u001b[0m\u001b[1;36m1\u001b[0m\u001b[1m]\u001b[0m: Leaving directory \u001b[32m'/worker/sox-14.4.2+git20190427/libgsm'\u001b[0m\n",
       "Making check in src\n",
       "make\u001b[1m[\u001b[0m\u001b[1;36m1\u001b[0m\u001b[1m]\u001b[0m: Entering directory \u001b[32m'/worker/sox-14.4.2+git20190427/src'\u001b[0m\n",
       "make\u001b[1m[\u001b[0m\u001b[1;36m1\u001b[0m\u001b[1m]\u001b[0m: Leaving directory \u001b[32m'/worker/sox-14.4.2+git20190427/src'\u001b[0m\n",
       "make\u001b[1m[\u001b[0m\u001b[1;36m1\u001b[0m\u001b[1m]\u001b[0m: Entering directory \u001b[32m'/worker/sox-14.4.2+git20190427'\u001b[0m\n",
       "make\u001b[1m[\u001b[0m\u001b[1;36m1\u001b[0m\u001b[1m]\u001b[0m: Nothing to be done for \u001b[32m'check-am'\u001b[0m.\n",
       "make\u001b[1m[\u001b[0m\u001b[1;36m1\u001b[0m\u001b[1m]\u001b[0m: Leaving directory \u001b[32m'/worker/sox-14.4.2+git20190427'\u001b[0m\n"
      ]
     },
     "metadata": {},
     "output_type": "display_data"
    },
    {
     "data": {
      "text/html": [
       "<pre style=\"white-space:pre;overflow-x:auto;line-height:normal;font-family:Menlo,'DejaVu Sans Mono',consolas,'Courier New',monospace\"><span style=\"color: #bfbf7f; text-decoration-color: #bfbf7f\">...</span><span style=\"color: #7f7f7f; text-decoration-color: #7f7f7f\"> </span><span style=\"color: #7f7f7f; text-decoration-color: #7f7f7f; font-weight: bold\">(</span><span style=\"color: #7fbfbf; text-decoration-color: #7fbfbf; font-weight: bold\">4</span><span style=\"color: #7f7f7f; text-decoration-color: #7f7f7f\"> earlier lines truncated</span><span style=\"color: #7f7f7f; text-decoration-color: #7f7f7f; font-weight: bold\">)</span>\n",
       "</pre>\n"
      ],
      "text/plain": [
       "\u001b[2;33m...\u001b[0m\u001b[2m \u001b[0m\u001b[1;2m(\u001b[0m\u001b[1;2;36m4\u001b[0m\u001b[2m earlier lines truncated\u001b[0m\u001b[1;2m)\u001b[0m\n"
      ]
     },
     "metadata": {},
     "output_type": "display_data"
    },
    {
     "data": {
      "text/html": [
       "<pre style=\"white-space:pre;overflow-x:auto;line-height:normal;font-family:Menlo,'DejaVu Sans Mono',consolas,'Courier New',monospace\"><span style=\"color: #00ff00; text-decoration-color: #00ff00\">───────────────────────────────────────────────────────────────────────────────────────────────────────────────────</span>\n",
       "</pre>\n"
      ],
      "text/plain": [
       "\u001b[92m───────────────────────────────────────────────────────────────────────────────────────────────────────────────────\u001b[0m\n"
      ]
     },
     "metadata": {},
     "output_type": "display_data"
    },
    {
     "data": {
      "text/html": [
       "<pre style=\"white-space:pre;overflow-x:auto;line-height:normal;font-family:Menlo,'DejaVu Sans Mono',consolas,'Courier New',monospace\">\n",
       "<span style=\"font-weight: bold\">Package:</span> <span style=\"color: #008080; text-decoration-color: #008080\">python-lzo</span>\n",
       "</pre>\n"
      ],
      "text/plain": [
       "\n",
       "\u001b[1mPackage:\u001b[0m \u001b[36mpython-lzo\u001b[0m\n"
      ]
     },
     "metadata": {},
     "output_type": "display_data"
    },
    {
     "data": {
      "text/html": [
       "<pre style=\"white-space:pre;overflow-x:auto;line-height:normal;font-family:Menlo,'DejaVu Sans Mono',consolas,'Courier New',monospace\"><span style=\"font-weight: bold\">Test STDOUT:</span>\n",
       "python setup.py build\n",
       "python tests/test.py\n",
       "\n",
       "</pre>\n"
      ],
      "text/plain": [
       "\u001b[1mTest STDOUT:\u001b[0m\n",
       "python setup.py build\n",
       "python tests/test.py\n",
       "\n"
      ]
     },
     "metadata": {},
     "output_type": "display_data"
    },
    {
     "data": {
      "text/html": [
       "<pre style=\"white-space:pre;overflow-x:auto;line-height:normal;font-family:Menlo,'DejaVu Sans Mono',consolas,'Courier New',monospace\"><span style=\"color: #00ff00; text-decoration-color: #00ff00\">───────────────────────────────────────────────────────────────────────────────────────────────────────────────────</span>\n",
       "</pre>\n"
      ],
      "text/plain": [
       "\u001b[92m───────────────────────────────────────────────────────────────────────────────────────────────────────────────────\u001b[0m\n"
      ]
     },
     "metadata": {},
     "output_type": "display_data"
    },
    {
     "data": {
      "text/html": [
       "<pre style=\"white-space:pre;overflow-x:auto;line-height:normal;font-family:Menlo,'DejaVu Sans Mono',consolas,'Courier New',monospace\">\n",
       "<span style=\"font-weight: bold\">Package:</span> <span style=\"color: #008080; text-decoration-color: #008080\">libtracefs</span>\n",
       "</pre>\n"
      ],
      "text/plain": [
       "\n",
       "\u001b[1mPackage:\u001b[0m \u001b[36mlibtracefs\u001b[0m\n"
      ]
     },
     "metadata": {},
     "output_type": "display_data"
    },
    {
     "data": {
      "text/html": [
       "<pre style=\"white-space:pre;overflow-x:auto;line-height:normal;font-family:Menlo,'DejaVu Sans Mono',consolas,'Courier New',monospace\"><span style=\"font-weight: bold\">Test STDOUT:</span>\n",
       "  DESCEND            src libtracefs.a\n",
       "  BUILD STATIC LIB   libtracefs.a\n",
       "  DESCEND            utest test\n",
       "  BUILD              trace-utest\n",
       "\n",
       "</pre>\n"
      ],
      "text/plain": [
       "\u001b[1mTest STDOUT:\u001b[0m\n",
       "  DESCEND            src libtracefs.a\n",
       "  BUILD STATIC LIB   libtracefs.a\n",
       "  DESCEND            utest test\n",
       "  BUILD              trace-utest\n",
       "\n"
      ]
     },
     "metadata": {},
     "output_type": "display_data"
    },
    {
     "data": {
      "text/html": [
       "<pre style=\"white-space:pre;overflow-x:auto;line-height:normal;font-family:Menlo,'DejaVu Sans Mono',consolas,'Courier New',monospace\"><span style=\"color: #00ff00; text-decoration-color: #00ff00\">───────────────────────────────────────────────────────────────────────────────────────────────────────────────────</span>\n",
       "</pre>\n"
      ],
      "text/plain": [
       "\u001b[92m───────────────────────────────────────────────────────────────────────────────────────────────────────────────────\u001b[0m\n"
      ]
     },
     "metadata": {},
     "output_type": "display_data"
    },
    {
     "data": {
      "text/html": [
       "<pre style=\"white-space:pre;overflow-x:auto;line-height:normal;font-family:Menlo,'DejaVu Sans Mono',consolas,'Courier New',monospace\">\n",
       "<span style=\"color: #008080; text-decoration-color: #008080; font-weight: bold\">Test Output Analysis - Packages with Differing Test Outputs Between Runs:</span>\n",
       "</pre>\n"
      ],
      "text/plain": [
       "\n",
       "\u001b[1;36mTest Output Analysis - Packages with Differing Test Outputs Between Runs:\u001b[0m\n"
      ]
     },
     "metadata": {},
     "output_type": "display_data"
    },
    {
     "data": {
      "text/html": [
       "<pre style=\"white-space:pre;overflow-x:auto;line-height:normal;font-family:Menlo,'DejaVu Sans Mono',consolas,'Courier New',monospace\">\n",
       "<span style=\"font-weight: bold\">Package:</span> <span style=\"color: #008080; text-decoration-color: #008080\">pango1.</span><span style=\"color: #008080; text-decoration-color: #008080; font-weight: bold\">0</span>\n",
       "</pre>\n"
      ],
      "text/plain": [
       "\n",
       "\u001b[1mPackage:\u001b[0m \u001b[36mpango1.\u001b[0m\u001b[1;36m0\u001b[0m\n"
      ]
     },
     "metadata": {},
     "output_type": "display_data"
    },
    {
     "data": {
      "text/html": [
       "<pre style=\"white-space:pre;overflow-x:auto;line-height:normal;font-family:Menlo,'DejaVu Sans Mono',consolas,'Courier New',monospace\"><span style=\"font-weight: bold\">Test STDOUT Diff (last </span><span style=\"color: #008080; text-decoration-color: #008080; font-weight: bold\">10</span><span style=\"font-weight: bold\"> lines):</span>\n",
       "\n",
       " <span style=\"color: #008080; text-decoration-color: #008080; font-weight: bold\">27</span>/<span style=\"color: #008080; text-decoration-color: #008080; font-weight: bold\">27</span> test-pangocairo-threads RUNNING       \n",
       "\n",
       "-&gt;&gt;&gt; <span style=\"color: #808000; text-decoration-color: #808000\">srcdir</span>=<span style=\"color: #800080; text-decoration-color: #800080\">/worker/pango1.0-1.56.3/</span><span style=\"color: #ff00ff; text-decoration-color: #ff00ff\">tests</span> <span style=\"color: #808000; text-decoration-color: #808000\">G_TEST_SRCDIR</span>=<span style=\"color: #800080; text-decoration-color: #800080\">/worker/pango1.0-1.56.3/</span><span style=\"color: #ff00ff; text-decoration-color: #ff00ff\">tests</span> \n",
       "<span style=\"color: #808000; text-decoration-color: #808000\">UBSAN_OPTIONS</span>=<span style=\"color: #800080; text-decoration-color: #800080\">halt_on_error</span>=<span style=\"color: #00ff00; text-decoration-color: #00ff00; font-weight: bold\">1:</span><span style=\"color: #00ff00; text-decoration-color: #00ff00; font-weight: bold\">ab</span><span style=\"color: #808000; text-decoration-color: #808000\">ort_on_error</span>=<span style=\"color: #008080; text-decoration-color: #008080; font-weight: bold\">1</span>:<span style=\"color: #808000; text-decoration-color: #808000\">print_summary</span>=<span style=\"color: #008080; text-decoration-color: #008080; font-weight: bold\">1</span>:<span style=\"color: #808000; text-decoration-color: #808000\">print_stacktrace</span>=<span style=\"color: #008080; text-decoration-color: #008080; font-weight: bold\">1</span> <span style=\"color: #808000; text-decoration-color: #808000\">MESON_TEST_ITERATION</span>=<span style=\"color: #008080; text-decoration-color: #008080; font-weight: bold\">1</span> \n",
       "<span style=\"color: #808000; text-decoration-color: #808000\">MALLOC_PERTURB_</span>=<span style=\"color: #008080; text-decoration-color: #008080; font-weight: bold\">236</span> <span style=\"color: #808000; text-decoration-color: #808000\">G_TEST_BUILDDIR</span>=<span style=\"color: #800080; text-decoration-color: #800080\">/worker/pango1.0-1.56.3/obj-x86_64-linux-gnu/</span><span style=\"color: #ff00ff; text-decoration-color: #ff00ff\">tests</span> \n",
       "<span style=\"color: #808000; text-decoration-color: #808000\">LD_LIBRARY_PATH</span>=<span style=\"color: #800080; text-decoration-color: #800080\">/worker/pango1.0-1.56.3/obj-x86_64-linux-gnu/</span><span style=\"color: #ff00ff; text-decoration-color: #ff00ff\">pango</span> <span style=\"color: #808000; text-decoration-color: #808000\">LC_ALL</span>=<span style=\"color: #800080; text-decoration-color: #800080\">en_US</span>.UTF-<span style=\"color: #008080; text-decoration-color: #008080; font-weight: bold\">8</span> \n",
       "<span style=\"color: #808000; text-decoration-color: #808000\">MSAN_OPTIONS</span>=<span style=\"color: #800080; text-decoration-color: #800080\">halt_on_error</span>=<span style=\"color: #00ff00; text-decoration-color: #00ff00; font-weight: bold\">1:</span><span style=\"color: #00ff00; text-decoration-color: #00ff00; font-weight: bold\">ab</span><span style=\"color: #808000; text-decoration-color: #808000\">ort_on_error</span>=<span style=\"color: #008080; text-decoration-color: #008080; font-weight: bold\">1</span>:<span style=\"color: #808000; text-decoration-color: #808000\">print_summary</span>=<span style=\"color: #008080; text-decoration-color: #008080; font-weight: bold\">1</span>:<span style=\"color: #808000; text-decoration-color: #808000\">print_stacktrace</span>=<span style=\"color: #008080; text-decoration-color: #008080; font-weight: bold\">1</span> \n",
       "<span style=\"color: #808000; text-decoration-color: #808000\">ASAN_OPTIONS</span>=<span style=\"color: #800080; text-decoration-color: #800080\">halt_on_error</span>=<span style=\"color: #00ff00; text-decoration-color: #00ff00; font-weight: bold\">1:</span><span style=\"color: #00ff00; text-decoration-color: #00ff00; font-weight: bold\">ab</span><span style=\"color: #808000; text-decoration-color: #808000\">ort_on_error</span>=<span style=\"color: #008080; text-decoration-color: #008080; font-weight: bold\">1</span>:<span style=\"color: #808000; text-decoration-color: #808000\">print_summary</span>=<span style=\"color: #008080; text-decoration-color: #008080; font-weight: bold\">1</span> \n",
       "<span style=\"color: #800080; text-decoration-color: #800080\">/worker/pango1.0-1.56.3/obj-x86_64-linux-gnu/tests/</span><span style=\"color: #ff00ff; text-decoration-color: #ff00ff\">test-pangocairo-threads</span> -k --tap\n",
       "\n",
       "+&gt;&gt;&gt; <span style=\"color: #808000; text-decoration-color: #808000\">UBSAN_OPTIONS</span>=<span style=\"color: #800080; text-decoration-color: #800080\">halt_on_error</span>=<span style=\"color: #00ff00; text-decoration-color: #00ff00; font-weight: bold\">1:</span><span style=\"color: #00ff00; text-decoration-color: #00ff00; font-weight: bold\">ab</span><span style=\"color: #808000; text-decoration-color: #808000\">ort_on_error</span>=<span style=\"color: #008080; text-decoration-color: #008080; font-weight: bold\">1</span>:<span style=\"color: #808000; text-decoration-color: #808000\">print_summary</span>=<span style=\"color: #008080; text-decoration-color: #008080; font-weight: bold\">1</span>:<span style=\"color: #808000; text-decoration-color: #808000\">print_stacktrace</span>=<span style=\"color: #008080; text-decoration-color: #008080; font-weight: bold\">1</span> <span style=\"color: #808000; text-decoration-color: #808000\">MALLOC_PERTURB_</span>=<span style=\"color: #008080; text-decoration-color: #008080; font-weight: bold\">242</span> \n",
       "<span style=\"color: #808000; text-decoration-color: #808000\">MESON_TEST_ITERATION</span>=<span style=\"color: #008080; text-decoration-color: #008080; font-weight: bold\">1</span> <span style=\"color: #808000; text-decoration-color: #808000\">G_TEST_BUILDDIR</span>=<span style=\"color: #800080; text-decoration-color: #800080\">/worker/pango1.0-1.56.3/obj-x86_64-linux-gnu/</span><span style=\"color: #ff00ff; text-decoration-color: #ff00ff\">tests</span> <span style=\"color: #808000; text-decoration-color: #808000\">LC_ALL</span>=<span style=\"color: #800080; text-decoration-color: #800080\">en_US</span>.UTF-<span style=\"color: #008080; text-decoration-color: #008080; font-weight: bold\">8</span> \n",
       "<span style=\"color: #808000; text-decoration-color: #808000\">ASAN_OPTIONS</span>=<span style=\"color: #800080; text-decoration-color: #800080\">halt_on_error</span>=<span style=\"color: #00ff00; text-decoration-color: #00ff00; font-weight: bold\">1:</span><span style=\"color: #00ff00; text-decoration-color: #00ff00; font-weight: bold\">ab</span><span style=\"color: #808000; text-decoration-color: #808000\">ort_on_error</span>=<span style=\"color: #008080; text-decoration-color: #008080; font-weight: bold\">1</span>:<span style=\"color: #808000; text-decoration-color: #808000\">print_summary</span>=<span style=\"color: #008080; text-decoration-color: #008080; font-weight: bold\">1</span> \n",
       "<span style=\"color: #808000; text-decoration-color: #808000\">LD_LIBRARY_PATH</span>=<span style=\"color: #800080; text-decoration-color: #800080\">/worker/pango1.0-1.56.3/obj-x86_64-linux-gnu/</span><span style=\"color: #ff00ff; text-decoration-color: #ff00ff\">pango</span> <span style=\"color: #808000; text-decoration-color: #808000\">srcdir</span>=<span style=\"color: #800080; text-decoration-color: #800080\">/worker/pango1.0-1.56.3/</span><span style=\"color: #ff00ff; text-decoration-color: #ff00ff\">tests</span> \n",
       "<span style=\"color: #808000; text-decoration-color: #808000\">G_TEST_SRCDIR</span>=<span style=\"color: #800080; text-decoration-color: #800080\">/worker/pango1.0-1.56.3/</span><span style=\"color: #ff00ff; text-decoration-color: #ff00ff\">tests</span> \n",
       "<span style=\"color: #808000; text-decoration-color: #808000\">MSAN_OPTIONS</span>=<span style=\"color: #800080; text-decoration-color: #800080\">halt_on_error</span>=<span style=\"color: #00ff00; text-decoration-color: #00ff00; font-weight: bold\">1:</span><span style=\"color: #00ff00; text-decoration-color: #00ff00; font-weight: bold\">ab</span><span style=\"color: #808000; text-decoration-color: #808000\">ort_on_error</span>=<span style=\"color: #008080; text-decoration-color: #008080; font-weight: bold\">1</span>:<span style=\"color: #808000; text-decoration-color: #808000\">print_summary</span>=<span style=\"color: #008080; text-decoration-color: #008080; font-weight: bold\">1</span>:<span style=\"color: #808000; text-decoration-color: #808000\">print_stacktrace</span>=<span style=\"color: #008080; text-decoration-color: #008080; font-weight: bold\">1</span> \n",
       "<span style=\"color: #800080; text-decoration-color: #800080\">/worker/pango1.0-1.56.3/obj-x86_64-linux-gnu/tests/</span><span style=\"color: #ff00ff; text-decoration-color: #ff00ff\">test-pangocairo-threads</span> -k --tap\n",
       "\n",
       " ▶ <span style=\"color: #008080; text-decoration-color: #008080; font-weight: bold\">27</span>/<span style=\"color: #008080; text-decoration-color: #008080; font-weight: bold\">27</span> <span style=\"color: #800080; text-decoration-color: #800080\">/pangocairo/</span><span style=\"color: #ff00ff; text-decoration-color: #ff00ff\">threads</span>   OK            \n",
       "\n",
       " <span style=\"color: #008080; text-decoration-color: #008080; font-weight: bold\">27</span>/<span style=\"color: #008080; text-decoration-color: #008080; font-weight: bold\">27</span> test-pangocairo-threads OK                 <span style=\"color: #008080; text-decoration-color: #008080; font-weight: bold\">1</span> subtests passed\n",
       "</pre>\n"
      ],
      "text/plain": [
       "\u001b[1mTest STDOUT Diff \u001b[0m\u001b[1m(\u001b[0m\u001b[1mlast \u001b[0m\u001b[1;36m10\u001b[0m\u001b[1m lines\u001b[0m\u001b[1m)\u001b[0m\u001b[1m:\u001b[0m\n",
       "\n",
       " \u001b[1;36m27\u001b[0m/\u001b[1;36m27\u001b[0m test-pangocairo-threads RUNNING       \n",
       "\n",
       "->>> \u001b[33msrcdir\u001b[0m=\u001b[35m/worker/pango1.0-1.56.3/\u001b[0m\u001b[95mtests\u001b[0m \u001b[33mG_TEST_SRCDIR\u001b[0m=\u001b[35m/worker/pango1.0-1.56.3/\u001b[0m\u001b[95mtests\u001b[0m \n",
       "\u001b[33mUBSAN_OPTIONS\u001b[0m=\u001b[35mhalt_on_error\u001b[0m=\u001b[1;92m1:\u001b[0m\u001b[1;92mab\u001b[0m\u001b[33mort_on_error\u001b[0m=\u001b[1;36m1\u001b[0m:\u001b[33mprint_summary\u001b[0m=\u001b[1;36m1\u001b[0m:\u001b[33mprint_stacktrace\u001b[0m=\u001b[1;36m1\u001b[0m \u001b[33mMESON_TEST_ITERATION\u001b[0m=\u001b[1;36m1\u001b[0m \n",
       "\u001b[33mMALLOC_PERTURB_\u001b[0m=\u001b[1;36m236\u001b[0m \u001b[33mG_TEST_BUILDDIR\u001b[0m=\u001b[35m/worker/pango1.0-1.56.3/obj-x86_64-linux-gnu/\u001b[0m\u001b[95mtests\u001b[0m \n",
       "\u001b[33mLD_LIBRARY_PATH\u001b[0m=\u001b[35m/worker/pango1.0-1.56.3/obj-x86_64-linux-gnu/\u001b[0m\u001b[95mpango\u001b[0m \u001b[33mLC_ALL\u001b[0m=\u001b[35men_US\u001b[0m.UTF-\u001b[1;36m8\u001b[0m \n",
       "\u001b[33mMSAN_OPTIONS\u001b[0m=\u001b[35mhalt_on_error\u001b[0m=\u001b[1;92m1:\u001b[0m\u001b[1;92mab\u001b[0m\u001b[33mort_on_error\u001b[0m=\u001b[1;36m1\u001b[0m:\u001b[33mprint_summary\u001b[0m=\u001b[1;36m1\u001b[0m:\u001b[33mprint_stacktrace\u001b[0m=\u001b[1;36m1\u001b[0m \n",
       "\u001b[33mASAN_OPTIONS\u001b[0m=\u001b[35mhalt_on_error\u001b[0m=\u001b[1;92m1:\u001b[0m\u001b[1;92mab\u001b[0m\u001b[33mort_on_error\u001b[0m=\u001b[1;36m1\u001b[0m:\u001b[33mprint_summary\u001b[0m=\u001b[1;36m1\u001b[0m \n",
       "\u001b[35m/worker/pango1.0-1.56.3/obj-x86_64-linux-gnu/tests/\u001b[0m\u001b[95mtest-pangocairo-threads\u001b[0m -k --tap\n",
       "\n",
       "+>>> \u001b[33mUBSAN_OPTIONS\u001b[0m=\u001b[35mhalt_on_error\u001b[0m=\u001b[1;92m1:\u001b[0m\u001b[1;92mab\u001b[0m\u001b[33mort_on_error\u001b[0m=\u001b[1;36m1\u001b[0m:\u001b[33mprint_summary\u001b[0m=\u001b[1;36m1\u001b[0m:\u001b[33mprint_stacktrace\u001b[0m=\u001b[1;36m1\u001b[0m \u001b[33mMALLOC_PERTURB_\u001b[0m=\u001b[1;36m242\u001b[0m \n",
       "\u001b[33mMESON_TEST_ITERATION\u001b[0m=\u001b[1;36m1\u001b[0m \u001b[33mG_TEST_BUILDDIR\u001b[0m=\u001b[35m/worker/pango1.0-1.56.3/obj-x86_64-linux-gnu/\u001b[0m\u001b[95mtests\u001b[0m \u001b[33mLC_ALL\u001b[0m=\u001b[35men_US\u001b[0m.UTF-\u001b[1;36m8\u001b[0m \n",
       "\u001b[33mASAN_OPTIONS\u001b[0m=\u001b[35mhalt_on_error\u001b[0m=\u001b[1;92m1:\u001b[0m\u001b[1;92mab\u001b[0m\u001b[33mort_on_error\u001b[0m=\u001b[1;36m1\u001b[0m:\u001b[33mprint_summary\u001b[0m=\u001b[1;36m1\u001b[0m \n",
       "\u001b[33mLD_LIBRARY_PATH\u001b[0m=\u001b[35m/worker/pango1.0-1.56.3/obj-x86_64-linux-gnu/\u001b[0m\u001b[95mpango\u001b[0m \u001b[33msrcdir\u001b[0m=\u001b[35m/worker/pango1.0-1.56.3/\u001b[0m\u001b[95mtests\u001b[0m \n",
       "\u001b[33mG_TEST_SRCDIR\u001b[0m=\u001b[35m/worker/pango1.0-1.56.3/\u001b[0m\u001b[95mtests\u001b[0m \n",
       "\u001b[33mMSAN_OPTIONS\u001b[0m=\u001b[35mhalt_on_error\u001b[0m=\u001b[1;92m1:\u001b[0m\u001b[1;92mab\u001b[0m\u001b[33mort_on_error\u001b[0m=\u001b[1;36m1\u001b[0m:\u001b[33mprint_summary\u001b[0m=\u001b[1;36m1\u001b[0m:\u001b[33mprint_stacktrace\u001b[0m=\u001b[1;36m1\u001b[0m \n",
       "\u001b[35m/worker/pango1.0-1.56.3/obj-x86_64-linux-gnu/tests/\u001b[0m\u001b[95mtest-pangocairo-threads\u001b[0m -k --tap\n",
       "\n",
       " ▶ \u001b[1;36m27\u001b[0m/\u001b[1;36m27\u001b[0m \u001b[35m/pangocairo/\u001b[0m\u001b[95mthreads\u001b[0m   OK            \n",
       "\n",
       " \u001b[1;36m27\u001b[0m/\u001b[1;36m27\u001b[0m test-pangocairo-threads OK                 \u001b[1;36m1\u001b[0m subtests passed\n"
      ]
     },
     "metadata": {},
     "output_type": "display_data"
    },
    {
     "data": {
      "text/html": [
       "<pre style=\"white-space:pre;overflow-x:auto;line-height:normal;font-family:Menlo,'DejaVu Sans Mono',consolas,'Courier New',monospace\"><span style=\"color: #bfbf7f; text-decoration-color: #bfbf7f\">...</span><span style=\"color: #7f7f7f; text-decoration-color: #7f7f7f\"> </span><span style=\"color: #7f7f7f; text-decoration-color: #7f7f7f; font-weight: bold\">(</span><span style=\"color: #7fbfbf; text-decoration-color: #7fbfbf; font-weight: bold\">400</span><span style=\"color: #7f7f7f; text-decoration-color: #7f7f7f\"> earlier lines truncated</span><span style=\"color: #7f7f7f; text-decoration-color: #7f7f7f; font-weight: bold\">)</span>\n",
       "</pre>\n"
      ],
      "text/plain": [
       "\u001b[2;33m...\u001b[0m\u001b[2m \u001b[0m\u001b[1;2m(\u001b[0m\u001b[1;2;36m400\u001b[0m\u001b[2m earlier lines truncated\u001b[0m\u001b[1;2m)\u001b[0m\n"
      ]
     },
     "metadata": {},
     "output_type": "display_data"
    },
    {
     "data": {
      "text/html": [
       "<pre style=\"white-space:pre;overflow-x:auto;line-height:normal;font-family:Menlo,'DejaVu Sans Mono',consolas,'Courier New',monospace\"><span style=\"font-weight: bold\">Test STDERR Diff:</span> <span style=\"color: #808000; text-decoration-color: #808000\">No differences</span>\n",
       "</pre>\n"
      ],
      "text/plain": [
       "\u001b[1mTest STDERR Diff:\u001b[0m \u001b[33mNo differences\u001b[0m\n"
      ]
     },
     "metadata": {},
     "output_type": "display_data"
    },
    {
     "data": {
      "text/html": [
       "<pre style=\"white-space:pre;overflow-x:auto;line-height:normal;font-family:Menlo,'DejaVu Sans Mono',consolas,'Courier New',monospace\"><span style=\"color: #00ff00; text-decoration-color: #00ff00\">───────────────────────────────────────────────────────────────────────────────────────────────────────────────────</span>\n",
       "</pre>\n"
      ],
      "text/plain": [
       "\u001b[92m───────────────────────────────────────────────────────────────────────────────────────────────────────────────────\u001b[0m\n"
      ]
     },
     "metadata": {},
     "output_type": "display_data"
    },
    {
     "data": {
      "text/html": [
       "<pre style=\"white-space:pre;overflow-x:auto;line-height:normal;font-family:Menlo,'DejaVu Sans Mono',consolas,'Courier New',monospace\">\n",
       "<span style=\"font-weight: bold\">Package:</span> <span style=\"color: #008080; text-decoration-color: #008080\">glib-networking</span>\n",
       "</pre>\n"
      ],
      "text/plain": [
       "\n",
       "\u001b[1mPackage:\u001b[0m \u001b[36mglib-networking\u001b[0m\n"
      ]
     },
     "metadata": {},
     "output_type": "display_data"
    },
    {
     "data": {
      "text/html": [
       "<pre style=\"white-space:pre;overflow-x:auto;line-height:normal;font-family:Menlo,'DejaVu Sans Mono',consolas,'Courier New',monospace\"><span style=\"font-weight: bold\">Test STDOUT Diff (last </span><span style=\"color: #008080; text-decoration-color: #008080; font-weight: bold\">10</span><span style=\"font-weight: bold\"> lines):</span>\n",
       "\n",
       "+# GLib-GIO-DEBUG: GSocketClient: Address enumeration succeeded\n",
       "\n",
       "+# GLib-GIO-DEBUG: g_socket_client_enumerator_callback: starting connection attempt <span style=\"color: #008080; text-decoration-color: #008080; font-weight: bold\">0x717d1c00a790</span> for \n",
       "GSocketClientAsyncConnectData <span style=\"color: #008080; text-decoration-color: #008080; font-weight: bold\">0x717d28002b30</span>\n",
       "\n",
       " # GLib-GIO-DEBUG: GSocketClient: Starting TCP connection attempt\n",
       "\n",
       " # GLib-GIO-DEBUG: GSocketClient: TCP connection successful\n",
       "\n",
       " # GLib-GIO-DEBUG: GSocketClient: Starting application layer connection\n",
       "</pre>\n"
      ],
      "text/plain": [
       "\u001b[1mTest STDOUT Diff \u001b[0m\u001b[1m(\u001b[0m\u001b[1mlast \u001b[0m\u001b[1;36m10\u001b[0m\u001b[1m lines\u001b[0m\u001b[1m)\u001b[0m\u001b[1m:\u001b[0m\n",
       "\n",
       "+# GLib-GIO-DEBUG: GSocketClient: Address enumeration succeeded\n",
       "\n",
       "+# GLib-GIO-DEBUG: g_socket_client_enumerator_callback: starting connection attempt \u001b[1;36m0x717d1c00a790\u001b[0m for \n",
       "GSocketClientAsyncConnectData \u001b[1;36m0x717d28002b30\u001b[0m\n",
       "\n",
       " # GLib-GIO-DEBUG: GSocketClient: Starting TCP connection attempt\n",
       "\n",
       " # GLib-GIO-DEBUG: GSocketClient: TCP connection successful\n",
       "\n",
       " # GLib-GIO-DEBUG: GSocketClient: Starting application layer connection\n"
      ]
     },
     "metadata": {},
     "output_type": "display_data"
    },
    {
     "data": {
      "text/html": [
       "<pre style=\"white-space:pre;overflow-x:auto;line-height:normal;font-family:Menlo,'DejaVu Sans Mono',consolas,'Courier New',monospace\"><span style=\"color: #bfbf7f; text-decoration-color: #bfbf7f\">...</span><span style=\"color: #7f7f7f; text-decoration-color: #7f7f7f\"> </span><span style=\"color: #7f7f7f; text-decoration-color: #7f7f7f; font-weight: bold\">(</span><span style=\"color: #7fbfbf; text-decoration-color: #7fbfbf; font-weight: bold\">477</span><span style=\"color: #7f7f7f; text-decoration-color: #7f7f7f\"> earlier lines truncated</span><span style=\"color: #7f7f7f; text-decoration-color: #7f7f7f; font-weight: bold\">)</span>\n",
       "</pre>\n"
      ],
      "text/plain": [
       "\u001b[2;33m...\u001b[0m\u001b[2m \u001b[0m\u001b[1;2m(\u001b[0m\u001b[1;2;36m477\u001b[0m\u001b[2m earlier lines truncated\u001b[0m\u001b[1;2m)\u001b[0m\n"
      ]
     },
     "metadata": {},
     "output_type": "display_data"
    },
    {
     "data": {
      "text/html": [
       "<pre style=\"white-space:pre;overflow-x:auto;line-height:normal;font-family:Menlo,'DejaVu Sans Mono',consolas,'Courier New',monospace\"><span style=\"font-weight: bold\">Test STDERR Diff:</span> <span style=\"color: #808000; text-decoration-color: #808000\">No differences</span>\n",
       "</pre>\n"
      ],
      "text/plain": [
       "\u001b[1mTest STDERR Diff:\u001b[0m \u001b[33mNo differences\u001b[0m\n"
      ]
     },
     "metadata": {},
     "output_type": "display_data"
    },
    {
     "data": {
      "text/html": [
       "<pre style=\"white-space:pre;overflow-x:auto;line-height:normal;font-family:Menlo,'DejaVu Sans Mono',consolas,'Courier New',monospace\"><span style=\"color: #00ff00; text-decoration-color: #00ff00\">───────────────────────────────────────────────────────────────────────────────────────────────────────────────────</span>\n",
       "</pre>\n"
      ],
      "text/plain": [
       "\u001b[92m───────────────────────────────────────────────────────────────────────────────────────────────────────────────────\u001b[0m\n"
      ]
     },
     "metadata": {},
     "output_type": "display_data"
    },
    {
     "data": {
      "text/html": [
       "<pre style=\"white-space:pre;overflow-x:auto;line-height:normal;font-family:Menlo,'DejaVu Sans Mono',consolas,'Courier New',monospace\">\n",
       "<span style=\"font-weight: bold\">Package:</span> <span style=\"color: #008080; text-decoration-color: #008080\">libfile-next-perl</span>\n",
       "</pre>\n"
      ],
      "text/plain": [
       "\n",
       "\u001b[1mPackage:\u001b[0m \u001b[36mlibfile-next-perl\u001b[0m\n"
      ]
     },
     "metadata": {},
     "output_type": "display_data"
    },
    {
     "data": {
      "text/html": [
       "<pre style=\"white-space:pre;overflow-x:auto;line-height:normal;font-family:Menlo,'DejaVu Sans Mono',consolas,'Courier New',monospace\"><span style=\"font-weight: bold\">Test STDOUT Diff:</span> <span style=\"color: #808000; text-decoration-color: #808000\">No differences</span>\n",
       "</pre>\n"
      ],
      "text/plain": [
       "\u001b[1mTest STDOUT Diff:\u001b[0m \u001b[33mNo differences\u001b[0m\n"
      ]
     },
     "metadata": {},
     "output_type": "display_data"
    },
    {
     "data": {
      "text/html": [
       "<pre style=\"white-space:pre;overflow-x:auto;line-height:normal;font-family:Menlo,'DejaVu Sans Mono',consolas,'Courier New',monospace\"><span style=\"font-weight: bold\">Test STDERR Diff:</span>\n",
       "--- original_stderr\n",
       "+++ modified_stderr\n",
       "@@ <span style=\"color: #008080; text-decoration-color: #008080; font-weight: bold\">-1</span>,<span style=\"color: #008080; text-decoration-color: #008080; font-weight: bold\">2</span> +<span style=\"color: #008080; text-decoration-color: #008080; font-weight: bold\">1</span>,<span style=\"color: #008080; text-decoration-color: #008080; font-weight: bold\">2</span> @@\n",
       " # Testing File::Next <span style=\"color: #008080; text-decoration-color: #008080; font-weight: bold\">1.18</span>, Perl <span style=\"color: #008080; text-decoration-color: #008080; font-weight: bold\">5.040001</span>, <span style=\"color: #800080; text-decoration-color: #800080\">/usr/bin/</span><span style=\"color: #ff00ff; text-decoration-color: #ff00ff\">perl</span>\n",
       "\n",
       "-# t/follow.t is working with temp directory <span style=\"color: #800080; text-decoration-color: #800080\">/tmp/</span><span style=\"color: #ff00ff; text-decoration-color: #ff00ff\">trok6CSc1Z</span>\n",
       "\n",
       "+# t/follow.t is working with temp directory <span style=\"color: #800080; text-decoration-color: #800080\">/tmp/</span><span style=\"color: #ff00ff; text-decoration-color: #ff00ff\">B23zEmoKhz</span>\n",
       "\n",
       "</pre>\n"
      ],
      "text/plain": [
       "\u001b[1mTest STDERR Diff:\u001b[0m\n",
       "--- original_stderr\n",
       "+++ modified_stderr\n",
       "@@ \u001b[1;36m-1\u001b[0m,\u001b[1;36m2\u001b[0m +\u001b[1;36m1\u001b[0m,\u001b[1;36m2\u001b[0m @@\n",
       " # Testing File::Next \u001b[1;36m1.18\u001b[0m, Perl \u001b[1;36m5.040001\u001b[0m, \u001b[35m/usr/bin/\u001b[0m\u001b[95mperl\u001b[0m\n",
       "\n",
       "-# t/follow.t is working with temp directory \u001b[35m/tmp/\u001b[0m\u001b[95mtrok6CSc1Z\u001b[0m\n",
       "\n",
       "+# t/follow.t is working with temp directory \u001b[35m/tmp/\u001b[0m\u001b[95mB23zEmoKhz\u001b[0m\n",
       "\n"
      ]
     },
     "metadata": {},
     "output_type": "display_data"
    },
    {
     "data": {
      "text/html": [
       "<pre style=\"white-space:pre;overflow-x:auto;line-height:normal;font-family:Menlo,'DejaVu Sans Mono',consolas,'Courier New',monospace\"><span style=\"color: #00ff00; text-decoration-color: #00ff00\">───────────────────────────────────────────────────────────────────────────────────────────────────────────────────</span>\n",
       "</pre>\n"
      ],
      "text/plain": [
       "\u001b[92m───────────────────────────────────────────────────────────────────────────────────────────────────────────────────\u001b[0m\n"
      ]
     },
     "metadata": {},
     "output_type": "display_data"
    },
    {
     "data": {
      "text/html": [
       "<pre style=\"white-space:pre;overflow-x:auto;line-height:normal;font-family:Menlo,'DejaVu Sans Mono',consolas,'Courier New',monospace\">\n",
       "<span style=\"font-weight: bold\">Package:</span> <span style=\"color: #008080; text-decoration-color: #008080\">python-systemd</span>\n",
       "</pre>\n"
      ],
      "text/plain": [
       "\n",
       "\u001b[1mPackage:\u001b[0m \u001b[36mpython-systemd\u001b[0m\n"
      ]
     },
     "metadata": {},
     "output_type": "display_data"
    },
    {
     "data": {
      "text/html": [
       "<pre style=\"white-space:pre;overflow-x:auto;line-height:normal;font-family:Menlo,'DejaVu Sans Mono',consolas,'Courier New',monospace\"><span style=\"font-weight: bold\">Test STDOUT Diff (last </span><span style=\"color: #008080; text-decoration-color: #008080; font-weight: bold\">10</span><span style=\"font-weight: bold\"> lines):</span>\n",
       "\n",
       "-self = <span style=\"font-weight: bold\">&lt;</span><span style=\"color: #ff00ff; text-decoration-color: #ff00ff; font-weight: bold\">systemd.journal.Reader</span><span style=\"color: #000000; text-decoration-color: #000000\"> object at </span><span style=\"color: #008080; text-decoration-color: #008080; font-weight: bold\">0x7a3d31572150</span><span style=\"color: #000000; text-decoration-color: #000000\">&gt;, machineid = </span><span style=\"color: #800080; text-decoration-color: #800080; font-style: italic\">None</span>\n",
       "\n",
       "<span style=\"color: #000000; text-decoration-color: #000000\">+self = &lt;systemd.journal.Reader object at </span><span style=\"color: #008080; text-decoration-color: #008080; font-weight: bold\">0x79df09bad0d0</span><span style=\"font-weight: bold\">&gt;</span>, machineid = <span style=\"color: #800080; text-decoration-color: #800080; font-style: italic\">None</span>\n",
       "\n",
       " \n",
       "\n",
       "     def <span style=\"color: #800080; text-decoration-color: #800080; font-weight: bold\">this_machine</span><span style=\"font-weight: bold\">(</span>self, <span style=\"color: #808000; text-decoration-color: #808000\">machineid</span>=<span style=\"color: #800080; text-decoration-color: #800080; font-style: italic\">None</span><span style=\"font-weight: bold\">)</span>:\n",
       "\n",
       "         <span style=\"color: #008000; text-decoration-color: #008000\">\"\"</span>\"Add match for _MACHINE_ID equal to the ID of this machine.\n",
       "</pre>\n"
      ],
      "text/plain": [
       "\u001b[1mTest STDOUT Diff \u001b[0m\u001b[1m(\u001b[0m\u001b[1mlast \u001b[0m\u001b[1;36m10\u001b[0m\u001b[1m lines\u001b[0m\u001b[1m)\u001b[0m\u001b[1m:\u001b[0m\n",
       "\n",
       "-self = \u001b[1m<\u001b[0m\u001b[1;95msystemd.journal.Reader\u001b[0m\u001b[39m object at \u001b[0m\u001b[1;36m0x7a3d31572150\u001b[0m\u001b[39m>, machineid = \u001b[0m\u001b[3;35mNone\u001b[0m\n",
       "\n",
       "\u001b[39m+self = <systemd.journal.Reader object at \u001b[0m\u001b[1;36m0x79df09bad0d0\u001b[0m\u001b[1m>\u001b[0m, machineid = \u001b[3;35mNone\u001b[0m\n",
       "\n",
       " \n",
       "\n",
       "     def \u001b[1;35mthis_machine\u001b[0m\u001b[1m(\u001b[0mself, \u001b[33mmachineid\u001b[0m=\u001b[3;35mNone\u001b[0m\u001b[1m)\u001b[0m:\n",
       "\n",
       "         \u001b[32m\"\"\u001b[0m\"Add match for _MACHINE_ID equal to the ID of this machine.\n"
      ]
     },
     "metadata": {},
     "output_type": "display_data"
    },
    {
     "data": {
      "text/html": [
       "<pre style=\"white-space:pre;overflow-x:auto;line-height:normal;font-family:Menlo,'DejaVu Sans Mono',consolas,'Courier New',monospace\"><span style=\"color: #bfbf7f; text-decoration-color: #bfbf7f\">...</span><span style=\"color: #7f7f7f; text-decoration-color: #7f7f7f\"> </span><span style=\"color: #7f7f7f; text-decoration-color: #7f7f7f; font-weight: bold\">(</span><span style=\"color: #7fbfbf; text-decoration-color: #7fbfbf; font-weight: bold\">98</span><span style=\"color: #7f7f7f; text-decoration-color: #7f7f7f\"> earlier lines truncated</span><span style=\"color: #7f7f7f; text-decoration-color: #7f7f7f; font-weight: bold\">)</span>\n",
       "</pre>\n"
      ],
      "text/plain": [
       "\u001b[2;33m...\u001b[0m\u001b[2m \u001b[0m\u001b[1;2m(\u001b[0m\u001b[1;2;36m98\u001b[0m\u001b[2m earlier lines truncated\u001b[0m\u001b[1;2m)\u001b[0m\n"
      ]
     },
     "metadata": {},
     "output_type": "display_data"
    },
    {
     "data": {
      "text/html": [
       "<pre style=\"white-space:pre;overflow-x:auto;line-height:normal;font-family:Menlo,'DejaVu Sans Mono',consolas,'Courier New',monospace\"><span style=\"font-weight: bold\">Test STDERR Diff:</span> <span style=\"color: #808000; text-decoration-color: #808000\">No differences</span>\n",
       "</pre>\n"
      ],
      "text/plain": [
       "\u001b[1mTest STDERR Diff:\u001b[0m \u001b[33mNo differences\u001b[0m\n"
      ]
     },
     "metadata": {},
     "output_type": "display_data"
    },
    {
     "data": {
      "text/html": [
       "<pre style=\"white-space:pre;overflow-x:auto;line-height:normal;font-family:Menlo,'DejaVu Sans Mono',consolas,'Courier New',monospace\"><span style=\"color: #00ff00; text-decoration-color: #00ff00\">───────────────────────────────────────────────────────────────────────────────────────────────────────────────────</span>\n",
       "</pre>\n"
      ],
      "text/plain": [
       "\u001b[92m───────────────────────────────────────────────────────────────────────────────────────────────────────────────────\u001b[0m\n"
      ]
     },
     "metadata": {},
     "output_type": "display_data"
    },
    {
     "data": {
      "text/html": [
       "<pre style=\"white-space:pre;overflow-x:auto;line-height:normal;font-family:Menlo,'DejaVu Sans Mono',consolas,'Courier New',monospace\">\n",
       "<span style=\"font-weight: bold\">Package:</span> <span style=\"color: #008080; text-decoration-color: #008080\">libmmap-allocator</span>\n",
       "</pre>\n"
      ],
      "text/plain": [
       "\n",
       "\u001b[1mPackage:\u001b[0m \u001b[36mlibmmap-allocator\u001b[0m\n"
      ]
     },
     "metadata": {},
     "output_type": "display_data"
    },
    {
     "data": {
      "text/html": [
       "<pre style=\"white-space:pre;overflow-x:auto;line-height:normal;font-family:Menlo,'DejaVu Sans Mono',consolas,'Courier New',monospace\"><span style=\"font-weight: bold\">Test STDOUT Diff:</span> <span style=\"color: #808000; text-decoration-color: #808000\">No differences</span>\n",
       "</pre>\n"
      ],
      "text/plain": [
       "\u001b[1mTest STDOUT Diff:\u001b[0m \u001b[33mNo differences\u001b[0m\n"
      ]
     },
     "metadata": {},
     "output_type": "display_data"
    },
    {
     "data": {
      "text/html": [
       "<pre style=\"white-space:pre;overflow-x:auto;line-height:normal;font-family:Menlo,'DejaVu Sans Mono',consolas,'Courier New',monospace\"><span style=\"font-weight: bold\">Test STDERR Diff (last </span><span style=\"color: #008080; text-decoration-color: #008080; font-weight: bold\">10</span><span style=\"font-weight: bold\"> lines):</span>\n",
       "\n",
       "-Dealloc <span style=\"color: #008080; text-decoration-color: #008080; font-weight: bold\">4096</span> bytes <span style=\"font-weight: bold\">(</span><span style=\"color: #008080; text-decoration-color: #008080; font-weight: bold\">0x71cd8447a000</span><span style=\"font-weight: bold\">)</span>.\n",
       "\n",
       "-Dealloc <span style=\"color: #008080; text-decoration-color: #008080; font-weight: bold\">4096</span> bytes <span style=\"font-weight: bold\">(</span><span style=\"color: #008080; text-decoration-color: #008080; font-weight: bold\">0x71cd8447a000</span><span style=\"font-weight: bold\">)</span>.\n",
       "\n",
       "+pointer = <span style=\"color: #008080; text-decoration-color: #008080; font-weight: bold\">0x7fb0b2a0e000</span>\n",
       "\n",
       "+Dealloc <span style=\"color: #008080; text-decoration-color: #008080; font-weight: bold\">4096</span> bytes <span style=\"font-weight: bold\">(</span><span style=\"color: #008080; text-decoration-color: #008080; font-weight: bold\">0x7fb0b2a0e000</span><span style=\"font-weight: bold\">)</span>.\n",
       "\n",
       "+Dealloc <span style=\"color: #008080; text-decoration-color: #008080; font-weight: bold\">4096</span> bytes <span style=\"font-weight: bold\">(</span><span style=\"color: #008080; text-decoration-color: #008080; font-weight: bold\">0x7fb0b2a0e000</span><span style=\"font-weight: bold\">)</span>.\n",
       "</pre>\n"
      ],
      "text/plain": [
       "\u001b[1mTest STDERR Diff \u001b[0m\u001b[1m(\u001b[0m\u001b[1mlast \u001b[0m\u001b[1;36m10\u001b[0m\u001b[1m lines\u001b[0m\u001b[1m)\u001b[0m\u001b[1m:\u001b[0m\n",
       "\n",
       "-Dealloc \u001b[1;36m4096\u001b[0m bytes \u001b[1m(\u001b[0m\u001b[1;36m0x71cd8447a000\u001b[0m\u001b[1m)\u001b[0m.\n",
       "\n",
       "-Dealloc \u001b[1;36m4096\u001b[0m bytes \u001b[1m(\u001b[0m\u001b[1;36m0x71cd8447a000\u001b[0m\u001b[1m)\u001b[0m.\n",
       "\n",
       "+pointer = \u001b[1;36m0x7fb0b2a0e000\u001b[0m\n",
       "\n",
       "+Dealloc \u001b[1;36m4096\u001b[0m bytes \u001b[1m(\u001b[0m\u001b[1;36m0x7fb0b2a0e000\u001b[0m\u001b[1m)\u001b[0m.\n",
       "\n",
       "+Dealloc \u001b[1;36m4096\u001b[0m bytes \u001b[1m(\u001b[0m\u001b[1;36m0x7fb0b2a0e000\u001b[0m\u001b[1m)\u001b[0m.\n"
      ]
     },
     "metadata": {},
     "output_type": "display_data"
    },
    {
     "data": {
      "text/html": [
       "<pre style=\"white-space:pre;overflow-x:auto;line-height:normal;font-family:Menlo,'DejaVu Sans Mono',consolas,'Courier New',monospace\"><span style=\"color: #bfbf7f; text-decoration-color: #bfbf7f\">...</span><span style=\"color: #7f7f7f; text-decoration-color: #7f7f7f\"> </span><span style=\"color: #7f7f7f; text-decoration-color: #7f7f7f; font-weight: bold\">(</span><span style=\"color: #7fbfbf; text-decoration-color: #7fbfbf; font-weight: bold\">416</span><span style=\"color: #7f7f7f; text-decoration-color: #7f7f7f\"> earlier lines truncated</span><span style=\"color: #7f7f7f; text-decoration-color: #7f7f7f; font-weight: bold\">)</span>\n",
       "</pre>\n"
      ],
      "text/plain": [
       "\u001b[2;33m...\u001b[0m\u001b[2m \u001b[0m\u001b[1;2m(\u001b[0m\u001b[1;2;36m416\u001b[0m\u001b[2m earlier lines truncated\u001b[0m\u001b[1;2m)\u001b[0m\n"
      ]
     },
     "metadata": {},
     "output_type": "display_data"
    },
    {
     "data": {
      "text/html": [
       "<pre style=\"white-space:pre;overflow-x:auto;line-height:normal;font-family:Menlo,'DejaVu Sans Mono',consolas,'Courier New',monospace\"><span style=\"color: #00ff00; text-decoration-color: #00ff00\">───────────────────────────────────────────────────────────────────────────────────────────────────────────────────</span>\n",
       "</pre>\n"
      ],
      "text/plain": [
       "\u001b[92m───────────────────────────────────────────────────────────────────────────────────────────────────────────────────\u001b[0m\n"
      ]
     },
     "metadata": {},
     "output_type": "display_data"
    },
    {
     "data": {
      "text/html": [
       "<pre style=\"white-space:pre;overflow-x:auto;line-height:normal;font-family:Menlo,'DejaVu Sans Mono',consolas,'Courier New',monospace\">\n",
       "<span style=\"font-weight: bold\">Package:</span> <span style=\"color: #008080; text-decoration-color: #008080\">monado</span>\n",
       "</pre>\n"
      ],
      "text/plain": [
       "\n",
       "\u001b[1mPackage:\u001b[0m \u001b[36mmonado\u001b[0m\n"
      ]
     },
     "metadata": {},
     "output_type": "display_data"
    },
    {
     "data": {
      "text/html": [
       "<pre style=\"white-space:pre;overflow-x:auto;line-height:normal;font-family:Menlo,'DejaVu Sans Mono',consolas,'Courier New',monospace\"><span style=\"font-weight: bold\">Test STDOUT Diff (last </span><span style=\"color: #008080; text-decoration-color: #008080; font-weight: bold\">10</span><span style=\"font-weight: bold\"> lines):</span>\n",
       "\n",
       "<span style=\"color: #008080; text-decoration-color: #008080; font-weight: bold\">-22</span>: Randomness seeded to: <span style=\"color: #008080; text-decoration-color: #008080; font-weight: bold\">1678045610</span>\n",
       "\n",
       "+<span style=\"color: #008080; text-decoration-color: #008080; font-weight: bold\">22</span>: Randomness seeded to: <span style=\"color: #008080; text-decoration-color: #008080; font-weight: bold\">215391490</span>\n",
       "\n",
       " <span style=\"color: #008080; text-decoration-color: #008080; font-weight: bold\">22</span>: ===============================================================================\n",
       "\n",
       " <span style=\"color: #008080; text-decoration-color: #008080; font-weight: bold\">22</span>: No tests ran\n",
       "\n",
       " <span style=\"color: #008080; text-decoration-color: #008080; font-weight: bold\">22</span>:\n",
       "</pre>\n"
      ],
      "text/plain": [
       "\u001b[1mTest STDOUT Diff \u001b[0m\u001b[1m(\u001b[0m\u001b[1mlast \u001b[0m\u001b[1;36m10\u001b[0m\u001b[1m lines\u001b[0m\u001b[1m)\u001b[0m\u001b[1m:\u001b[0m\n",
       "\n",
       "\u001b[1;36m-22\u001b[0m: Randomness seeded to: \u001b[1;36m1678045610\u001b[0m\n",
       "\n",
       "+\u001b[1;36m22\u001b[0m: Randomness seeded to: \u001b[1;36m215391490\u001b[0m\n",
       "\n",
       " \u001b[1;36m22\u001b[0m: ===============================================================================\n",
       "\n",
       " \u001b[1;36m22\u001b[0m: No tests ran\n",
       "\n",
       " \u001b[1;36m22\u001b[0m:\n"
      ]
     },
     "metadata": {},
     "output_type": "display_data"
    },
    {
     "data": {
      "text/html": [
       "<pre style=\"white-space:pre;overflow-x:auto;line-height:normal;font-family:Menlo,'DejaVu Sans Mono',consolas,'Courier New',monospace\"><span style=\"color: #bfbf7f; text-decoration-color: #bfbf7f\">...</span><span style=\"color: #7f7f7f; text-decoration-color: #7f7f7f\"> </span><span style=\"color: #7f7f7f; text-decoration-color: #7f7f7f; font-weight: bold\">(</span><span style=\"color: #7fbfbf; text-decoration-color: #7fbfbf; font-weight: bold\">1729</span><span style=\"color: #7f7f7f; text-decoration-color: #7f7f7f\"> earlier lines truncated</span><span style=\"color: #7f7f7f; text-decoration-color: #7f7f7f; font-weight: bold\">)</span>\n",
       "</pre>\n"
      ],
      "text/plain": [
       "\u001b[2;33m...\u001b[0m\u001b[2m \u001b[0m\u001b[1;2m(\u001b[0m\u001b[1;2;36m1729\u001b[0m\u001b[2m earlier lines truncated\u001b[0m\u001b[1;2m)\u001b[0m\n"
      ]
     },
     "metadata": {},
     "output_type": "display_data"
    },
    {
     "data": {
      "text/html": [
       "<pre style=\"white-space:pre;overflow-x:auto;line-height:normal;font-family:Menlo,'DejaVu Sans Mono',consolas,'Courier New',monospace\"><span style=\"font-weight: bold\">Test STDERR Diff:</span> <span style=\"color: #808000; text-decoration-color: #808000\">No differences</span>\n",
       "</pre>\n"
      ],
      "text/plain": [
       "\u001b[1mTest STDERR Diff:\u001b[0m \u001b[33mNo differences\u001b[0m\n"
      ]
     },
     "metadata": {},
     "output_type": "display_data"
    },
    {
     "data": {
      "text/html": [
       "<pre style=\"white-space:pre;overflow-x:auto;line-height:normal;font-family:Menlo,'DejaVu Sans Mono',consolas,'Courier New',monospace\"><span style=\"color: #00ff00; text-decoration-color: #00ff00\">───────────────────────────────────────────────────────────────────────────────────────────────────────────────────</span>\n",
       "</pre>\n"
      ],
      "text/plain": [
       "\u001b[92m───────────────────────────────────────────────────────────────────────────────────────────────────────────────────\u001b[0m\n"
      ]
     },
     "metadata": {},
     "output_type": "display_data"
    }
   ],
   "source": [
    "# Test Statistics\n",
    "\n",
    "console.print(\"[bold][cyan]Test Dataset Eligibility Analysis:[/cyan][/bold]\", style=\"bold\")\n",
    "\n",
    "successful_builds = df.filter(pl.col(\"build_return_code\") == 0)\n",
    "\n",
    "pipeline_stats = []\n",
    "\n",
    "total_packages = df.height\n",
    "pipeline_stats.append((\"Total Packages\", total_packages, 100.0))\n",
    "\n",
    "successful_count = successful_builds.height\n",
    "successful_pct = (successful_count / total_packages * 100)\n",
    "pipeline_stats.append((\"Successful Builds (build_return_code=0)\", successful_count, successful_pct))\n",
    "\n",
    "\n",
    "test_detected_stats = successful_builds.group_by(\"test_detected\").agg(pl.len().alias(\"count\"))\n",
    "\n",
    "test_detected_0 = test_detected_stats.filter(pl.col(\"test_detected\") == 0)\n",
    "test_detected_0_count = test_detected_0.get_column(\"count\").sum() if test_detected_0.height > 0 else 0\n",
    "test_detected_0_pct = (test_detected_0_count / total_packages * 100)\n",
    "pipeline_stats.append((\"├─ No Tests Detected (test_detected=0)\", test_detected_0_count, test_detected_0_pct))\n",
    "\n",
    "test_detected_1 = test_detected_stats.filter(pl.col(\"test_detected\") == 1)\n",
    "test_detected_1_count = test_detected_1.get_column(\"count\").sum() if test_detected_1.height > 0 else 0\n",
    "test_detected_1_pct = (test_detected_1_count / total_packages * 100)\n",
    "pipeline_stats.append((\"└─ Tests Detected (test_detected=1)\", test_detected_1_count, test_detected_1_pct))\n",
    "\n",
    "viable_candidates = successful_builds.filter(pl.col(\"test_detected\") == 1)\n",
    "if viable_candidates.height > 0:\n",
    "    viable_stats = viable_candidates.group_by(\"package_viable_for_test_dataset\").agg(pl.len().alias(\"count\"))\n",
    "    \n",
    "    viable_0 = viable_stats.filter(pl.col(\"package_viable_for_test_dataset\") == 0)\n",
    "    viable_0_count = viable_0.get_column(\"count\").sum() if viable_0.height > 0 else 0\n",
    "    viable_0_pct = (viable_0_count / total_packages * 100)\n",
    "    pipeline_stats.append((\"   ├─ Not Viable for Test Dataset\", viable_0_count, viable_0_pct))\n",
    "    \n",
    "    viable_1 = viable_stats.filter(pl.col(\"package_viable_for_test_dataset\") == 1)\n",
    "    viable_1_count = viable_1.get_column(\"count\").sum() if viable_1.height > 0 else 0\n",
    "    viable_1_pct = (viable_1_count / total_packages * 100)\n",
    "    pipeline_stats.append((\"   └─ Viable for Test Dataset\", viable_1_count, viable_1_pct))\n",
    "else:\n",
    "    pipeline_stats.append((\"   └─ No packages with detected tests\", 0, 0.0))\n",
    "\n",
    "pipeline_table = Table(title=\"Package testing Pipeline Analysis\", show_header=True, header_style=\"bold magenta\")\n",
    "pipeline_table.add_column(\"Stage\", style=\"cyan\", no_wrap=False, width=40)\n",
    "pipeline_table.add_column(\"Count\", style=\"green\", justify=\"right\")\n",
    "pipeline_table.add_column(\"Percentage\", style=\"green\", justify=\"right\")\n",
    "\n",
    "for stage, count, percentage in pipeline_stats:\n",
    "    pipeline_table.add_row(stage, f\"{count}\", f\"{percentage:.2f}%\")\n",
    "\n",
    "console.print(pipeline_table)\n",
    "\n",
    "\n",
    "\n",
    "# Test output for max 10 packages where output is not empty but test_detected = 0\n",
    "\n",
    "console.print(\"\\n[bold][cyan]Test Output Analysis - Packages with Output but No Tests Detected:[/cyan][/bold]\", style=\"bold\")\n",
    "\n",
    "packages_with_output_no_tests = (df\n",
    "    .filter(\n",
    "        (pl.col(\"test_detected\") == 0) & \n",
    "        (pl.col(\"test_stdout\").is_not_null()) & \n",
    "        (pl.col(\"test_stdout\") != \"\")\n",
    "    )\n",
    "    .select([\"name\", \"test_stdout\"])\n",
    "    .sample(n=min(10, df.filter(\n",
    "        (pl.col(\"test_detected\") == 0) & \n",
    "        (pl.col(\"test_stdout\").is_not_null()) & \n",
    "        (pl.col(\"test_stdout\") != \"\")\n",
    "    ).height), with_replacement=False)\n",
    ")\n",
    "\n",
    "if packages_with_output_no_tests.height > 0:\n",
    "    \n",
    "    for row in packages_with_output_no_tests.iter_rows():\n",
    "        name, test_stdout = row\n",
    "        console.print(f\"\\n[bold]Package:[/bold] [cyan]{name}[/cyan]\")\n",
    "        \n",
    "        if test_stdout:\n",
    "            stdout_lines = test_stdout.strip().split('\\n')\n",
    "            if len(stdout_lines) > 10:\n",
    "                shown_stdout = '\\n'.join(stdout_lines[-10:])\n",
    "                console.print(f\"[bold]Test STDOUT (last 10 lines):[/bold]\\n{shown_stdout}\")\n",
    "                console.print(f\"[dim]... ({len(stdout_lines) - 10} earlier lines truncated)[/dim]\")\n",
    "            else:\n",
    "                console.print(f\"[bold]Test STDOUT:[/bold]\\n{test_stdout}\")\n",
    "        \n",
    "        console.rule()\n",
    "else:\n",
    "    console.print(\"[green]No packages found with test output but test_detected=0[/green]\")\n",
    "\n",
    "# Test Output Diff for max 10 packages where output differs between runs\n",
    "\n",
    "console.print(\"\\n[bold][cyan]Test Output Analysis - Packages with Differing Test Outputs Between Runs:[/cyan][/bold]\", style=\"bold\")\n",
    "\n",
    "packages_with_diff = (df\n",
    "    .filter(\n",
    "        (pl.col(\"test_detected\") == 1) & \n",
    "        (pl.col(\"package_viable_for_test_dataset\") == 0) \n",
    "    )\n",
    "    .select([\"name\", \"test_stdout_diff\", \"test_stderr_diff\"])\n",
    "    .sample(n=min(10, df.filter(\n",
    "        (pl.col(\"test_detected\") == 1) & \n",
    "        (pl.col(\"package_viable_for_test_dataset\") == 0)\n",
    "    ).height), with_replacement=False)\n",
    ")\n",
    "\n",
    "if packages_with_diff.height > 0:\n",
    "    \n",
    "    for row in packages_with_diff.iter_rows():\n",
    "        name, stdout_diff, stderr_diff = row\n",
    "        console.print(f\"\\n[bold]Package:[/bold] [cyan]{name}[/cyan]\")\n",
    "        \n",
    "        if stdout_diff:\n",
    "            stdout_diff_lines = stdout_diff.strip().split('\\n')\n",
    "            if len(stdout_diff_lines) > 10:\n",
    "                shown_stdout_diff = '\\n'.join(stdout_diff_lines[-10:])\n",
    "                console.print(f\"[bold]Test STDOUT Diff (last 10 lines):[/bold]\\n{shown_stdout_diff}\")\n",
    "                console.print(f\"[dim]... ({len(stdout_diff_lines) - 10} earlier lines truncated)[/dim]\")\n",
    "            else:\n",
    "                console.print(f\"[bold]Test STDOUT Diff:[/bold]\\n{stdout_diff}\")\n",
    "        else:\n",
    "            console.print(\"[bold]Test STDOUT Diff:[/bold] [yellow]No differences[/yellow]\")\n",
    "        \n",
    "        if stderr_diff:\n",
    "            stderr_diff_lines = stderr_diff.strip().split('\\n')\n",
    "            if len(stderr_diff_lines) > 10:\n",
    "                shown_stderr_diff = '\\n'.join(stderr_diff_lines[-10:])\n",
    "                console.print(f\"[bold]Test STDERR Diff (last 10 lines):[/bold]\\n{shown_stderr_diff}\")\n",
    "                console.print(f\"[dim]... ({len(stderr_diff_lines) - 10} earlier lines truncated)[/dim]\")\n",
    "            else:\n",
    "                console.print(f\"[bold]Test STDERR Diff:[/bold]\\n{stderr_diff}\")\n",
    "        else:\n",
    "            console.print(\"[bold]Test STDERR Diff:[/bold] [yellow]No differences[/yellow]\")\n",
    "        \n",
    "        console.rule()\n",
    "else:\n",
    "    console.print(\"[green]No packages found with test output differences (test_detected=1 but not viable)[/green]\")\n"
   ]
  },
  {
   "cell_type": "code",
   "execution_count": 21,
   "id": "9eb1cb7a",
   "metadata": {},
   "outputs": [
    {
     "data": {
      "text/html": [
       "<pre style=\"white-space:pre;overflow-x:auto;line-height:normal;font-family:Menlo,'DejaVu Sans Mono',consolas,'Courier New',monospace\">\n",
       "<span style=\"color: #008080; text-decoration-color: #008080; font-weight: bold\">Rebuild and Modified Rebuild Analysis - Package Behavior after Triggering Linking Phase for modified and </span>\n",
       "<span style=\"color: #008080; text-decoration-color: #008080; font-weight: bold\">non-modified packages </span>\n",
       "</pre>\n"
      ],
      "text/plain": [
       "\n",
       "\u001b[1;36mRebuild and Modified Rebuild Analysis - Package Behavior after Triggering Linking Phase for modified and \u001b[0m\n",
       "\u001b[1;36mnon-modified packages \u001b[0m\n"
      ]
     },
     "metadata": {},
     "output_type": "display_data"
    },
    {
     "data": {
      "text/html": [
       "<pre style=\"white-space:pre;overflow-x:auto;line-height:normal;font-family:Menlo,'DejaVu Sans Mono',consolas,'Courier New',monospace\"><span style=\"color: #008080; text-decoration-color: #008080; font-weight: bold\">Rebuild Return Code Analysis:</span>\n",
       "</pre>\n"
      ],
      "text/plain": [
       "\u001b[1;36mRebuild Return Code Analysis:\u001b[0m\n"
      ]
     },
     "metadata": {},
     "output_type": "display_data"
    },
    {
     "data": {
      "text/html": [
       "<pre style=\"white-space:pre;overflow-x:auto;line-height:normal;font-family:Menlo,'DejaVu Sans Mono',consolas,'Courier New',monospace\"><span style=\"font-style: italic\">        Rebuild Return Code Distribution        </span>\n",
       "┏━━━━━━━━━━━━━━━━━━━━━┳━━━━━━━┳━━━━━━━━━━━━━━━━┓\n",
       "┃<span style=\"color: #800080; text-decoration-color: #800080; font-weight: bold\"> Rebuild Return Code </span>┃<span style=\"color: #800080; text-decoration-color: #800080; font-weight: bold\"> Count </span>┃<span style=\"color: #800080; text-decoration-color: #800080; font-weight: bold\"> Percentage (%) </span>┃\n",
       "┡━━━━━━━━━━━━━━━━━━━━━╇━━━━━━━╇━━━━━━━━━━━━━━━━┩\n",
       "│<span style=\"color: #008080; text-decoration-color: #008080\"> 0                   </span>│<span style=\"color: #008000; text-decoration-color: #008000\">    68 </span>│<span style=\"color: #008000; text-decoration-color: #008000\">         67.33% </span>│\n",
       "│<span style=\"color: #008080; text-decoration-color: #008080\"> 2                   </span>│<span style=\"color: #008000; text-decoration-color: #008000\">     6 </span>│<span style=\"color: #008000; text-decoration-color: #008000\">          5.94% </span>│\n",
       "│<span style=\"color: #008080; text-decoration-color: #008080\"> 3                   </span>│<span style=\"color: #008000; text-decoration-color: #008000\">    27 </span>│<span style=\"color: #008000; text-decoration-color: #008000\">         26.73% </span>│\n",
       "└─────────────────────┴───────┴────────────────┘\n",
       "</pre>\n"
      ],
      "text/plain": [
       "\u001b[3m        Rebuild Return Code Distribution        \u001b[0m\n",
       "┏━━━━━━━━━━━━━━━━━━━━━┳━━━━━━━┳━━━━━━━━━━━━━━━━┓\n",
       "┃\u001b[1;35m \u001b[0m\u001b[1;35mRebuild Return Code\u001b[0m\u001b[1;35m \u001b[0m┃\u001b[1;35m \u001b[0m\u001b[1;35mCount\u001b[0m\u001b[1;35m \u001b[0m┃\u001b[1;35m \u001b[0m\u001b[1;35mPercentage (%)\u001b[0m\u001b[1;35m \u001b[0m┃\n",
       "┡━━━━━━━━━━━━━━━━━━━━━╇━━━━━━━╇━━━━━━━━━━━━━━━━┩\n",
       "│\u001b[36m \u001b[0m\u001b[36m0                  \u001b[0m\u001b[36m \u001b[0m│\u001b[32m \u001b[0m\u001b[32m   68\u001b[0m\u001b[32m \u001b[0m│\u001b[32m \u001b[0m\u001b[32m        67.33%\u001b[0m\u001b[32m \u001b[0m│\n",
       "│\u001b[36m \u001b[0m\u001b[36m2                  \u001b[0m\u001b[36m \u001b[0m│\u001b[32m \u001b[0m\u001b[32m    6\u001b[0m\u001b[32m \u001b[0m│\u001b[32m \u001b[0m\u001b[32m         5.94%\u001b[0m\u001b[32m \u001b[0m│\n",
       "│\u001b[36m \u001b[0m\u001b[36m3                  \u001b[0m\u001b[36m \u001b[0m│\u001b[32m \u001b[0m\u001b[32m   27\u001b[0m\u001b[32m \u001b[0m│\u001b[32m \u001b[0m\u001b[32m        26.73%\u001b[0m\u001b[32m \u001b[0m│\n",
       "└─────────────────────┴───────┴────────────────┘\n"
      ]
     },
     "metadata": {},
     "output_type": "display_data"
    },
    {
     "data": {
      "text/html": [
       "<pre style=\"white-space:pre;overflow-x:auto;line-height:normal;font-family:Menlo,'DejaVu Sans Mono',consolas,'Courier New',monospace\"><span style=\"color: #008080; text-decoration-color: #008080; font-weight: bold\">Modified Rebuild Return Code Analysis:</span>\n",
       "</pre>\n"
      ],
      "text/plain": [
       "\u001b[1;36mModified Rebuild Return Code Analysis:\u001b[0m\n"
      ]
     },
     "metadata": {},
     "output_type": "display_data"
    },
    {
     "data": {
      "text/html": [
       "<pre style=\"white-space:pre;overflow-x:auto;line-height:normal;font-family:Menlo,'DejaVu Sans Mono',consolas,'Courier New',monospace\"><span style=\"font-style: italic\">        Modified Rebuild Return Code Distribution        </span>\n",
       "┏━━━━━━━━━━━━━━━━━━━━━━━━━━━━━━┳━━━━━━━┳━━━━━━━━━━━━━━━━┓\n",
       "┃<span style=\"color: #800080; text-decoration-color: #800080; font-weight: bold\"> Modified Rebuild Return Code </span>┃<span style=\"color: #800080; text-decoration-color: #800080; font-weight: bold\"> Count </span>┃<span style=\"color: #800080; text-decoration-color: #800080; font-weight: bold\"> Percentage (%) </span>┃\n",
       "┡━━━━━━━━━━━━━━━━━━━━━━━━━━━━━━╇━━━━━━━╇━━━━━━━━━━━━━━━━┩\n",
       "│<span style=\"color: #008080; text-decoration-color: #008080\"> 0                            </span>│<span style=\"color: #008000; text-decoration-color: #008000\">    57 </span>│<span style=\"color: #008000; text-decoration-color: #008000\">         56.44% </span>│\n",
       "│<span style=\"color: #008080; text-decoration-color: #008080\"> 2                            </span>│<span style=\"color: #008000; text-decoration-color: #008000\">     8 </span>│<span style=\"color: #008000; text-decoration-color: #008000\">          7.92% </span>│\n",
       "│<span style=\"color: #008080; text-decoration-color: #008080\"> 3                            </span>│<span style=\"color: #008000; text-decoration-color: #008000\">    36 </span>│<span style=\"color: #008000; text-decoration-color: #008000\">         35.64% </span>│\n",
       "└──────────────────────────────┴───────┴────────────────┘\n",
       "</pre>\n"
      ],
      "text/plain": [
       "\u001b[3m        Modified Rebuild Return Code Distribution        \u001b[0m\n",
       "┏━━━━━━━━━━━━━━━━━━━━━━━━━━━━━━┳━━━━━━━┳━━━━━━━━━━━━━━━━┓\n",
       "┃\u001b[1;35m \u001b[0m\u001b[1;35mModified Rebuild Return Code\u001b[0m\u001b[1;35m \u001b[0m┃\u001b[1;35m \u001b[0m\u001b[1;35mCount\u001b[0m\u001b[1;35m \u001b[0m┃\u001b[1;35m \u001b[0m\u001b[1;35mPercentage (%)\u001b[0m\u001b[1;35m \u001b[0m┃\n",
       "┡━━━━━━━━━━━━━━━━━━━━━━━━━━━━━━╇━━━━━━━╇━━━━━━━━━━━━━━━━┩\n",
       "│\u001b[36m \u001b[0m\u001b[36m0                           \u001b[0m\u001b[36m \u001b[0m│\u001b[32m \u001b[0m\u001b[32m   57\u001b[0m\u001b[32m \u001b[0m│\u001b[32m \u001b[0m\u001b[32m        56.44%\u001b[0m\u001b[32m \u001b[0m│\n",
       "│\u001b[36m \u001b[0m\u001b[36m2                           \u001b[0m\u001b[36m \u001b[0m│\u001b[32m \u001b[0m\u001b[32m    8\u001b[0m\u001b[32m \u001b[0m│\u001b[32m \u001b[0m\u001b[32m         7.92%\u001b[0m\u001b[32m \u001b[0m│\n",
       "│\u001b[36m \u001b[0m\u001b[36m3                           \u001b[0m\u001b[36m \u001b[0m│\u001b[32m \u001b[0m\u001b[32m   36\u001b[0m\u001b[32m \u001b[0m│\u001b[32m \u001b[0m\u001b[32m        35.64%\u001b[0m\u001b[32m \u001b[0m│\n",
       "└──────────────────────────────┴───────┴────────────────┘\n"
      ]
     },
     "metadata": {},
     "output_type": "display_data"
    },
    {
     "data": {
      "text/html": [
       "<pre style=\"white-space:pre;overflow-x:auto;line-height:normal;font-family:Menlo,'DejaVu Sans Mono',consolas,'Courier New',monospace\">\n",
       "<span style=\"color: #008080; text-decoration-color: #008080; font-weight: bold\">Failed Rebuild Details for max </span><span style=\"color: #008080; text-decoration-color: #008080; font-weight: bold\">10</span><span style=\"color: #008080; text-decoration-color: #008080; font-weight: bold\"> random Packages:</span>\n",
       "</pre>\n"
      ],
      "text/plain": [
       "\n",
       "\u001b[1;36mFailed Rebuild Details for max \u001b[0m\u001b[1;36m10\u001b[0m\u001b[1;36m random Packages:\u001b[0m\n"
      ]
     },
     "metadata": {},
     "output_type": "display_data"
    },
    {
     "data": {
      "text/html": [
       "<pre style=\"white-space:pre;overflow-x:auto;line-height:normal;font-family:Menlo,'DejaVu Sans Mono',consolas,'Courier New',monospace\"><span style=\"font-weight: bold\">Package:</span> <span style=\"color: #008080; text-decoration-color: #008080\">pd-lyonpotpourri</span>\n",
       "</pre>\n"
      ],
      "text/plain": [
       "\u001b[1mPackage:\u001b[0m \u001b[36mpd-lyonpotpourri\u001b[0m\n"
      ]
     },
     "metadata": {},
     "output_type": "display_data"
    },
    {
     "data": {
      "text/html": [
       "<pre style=\"white-space:pre;overflow-x:auto;line-height:normal;font-family:Menlo,'DejaVu Sans Mono',consolas,'Courier New',monospace\"><span style=\"font-weight: bold\">Rebuild STDERR (last </span><span style=\"color: #008080; text-decoration-color: #008080; font-weight: bold\">10</span><span style=\"font-weight: bold\"> lines):</span>\n",
       "</pre>\n"
      ],
      "text/plain": [
       "\u001b[1mRebuild STDERR \u001b[0m\u001b[1m(\u001b[0m\u001b[1mlast \u001b[0m\u001b[1;36m10\u001b[0m\u001b[1m lines\u001b[0m\u001b[1m)\u001b[0m\u001b[1m:\u001b[0m\n"
      ]
     },
     "metadata": {},
     "output_type": "display_data"
    },
    {
     "data": {
      "text/html": [
       "<pre style=\"white-space:pre;overflow-x:auto;line-height:normal;font-family:Menlo,'DejaVu Sans Mono',consolas,'Courier New',monospace\">make<span style=\"font-weight: bold\">[</span><span style=\"color: #008080; text-decoration-color: #008080; font-weight: bold\">1</span><span style=\"font-weight: bold\">]</span>: *** Waiting for unfinished jobs<span style=\"color: #808000; text-decoration-color: #808000\">...</span>.\n",
       "make<span style=\"font-weight: bold\">[</span><span style=\"color: #008080; text-decoration-color: #008080; font-weight: bold\">1</span><span style=\"font-weight: bold\">]</span>: *** <span style=\"font-weight: bold\">[</span><span style=\"color: #800080; text-decoration-color: #800080\">/usr/share/pd-lib-builder//</span><span style=\"color: #ff00ff; text-decoration-color: #ff00ff\">Makefile.pdlibbuilder</span>:<span style=\"color: #008080; text-decoration-color: #008080; font-weight: bold\">918</span>: arrayfilt~.pd_linux<span style=\"font-weight: bold\">]</span> Error <span style=\"color: #008080; text-decoration-color: #008080; font-weight: bold\">1</span>\n",
       "<span style=\"color: #800080; text-decoration-color: #800080\">/usr/bin/</span><span style=\"color: #ff00ff; text-decoration-color: #ff00ff\">ld</span>: cartopol~.pd_linux.o: warning: relocation against `cartopol_perform' in read-only section `.text'\n",
       "<span style=\"color: #800080; text-decoration-color: #800080\">/usr/bin/</span><span style=\"color: #ff00ff; text-decoration-color: #ff00ff\">ld</span>: cartopol~.pd_linux.o: relocation R_X86_64_PC32 against symbol `cartopol_perform' can not be used when \n",
       "making a shared object; recompile with -fPIC\n",
       "<span style=\"color: #800080; text-decoration-color: #800080\">/usr/bin/</span><span style=\"color: #ff00ff; text-decoration-color: #ff00ff\">ld</span>: final link failed: bad value\n",
       "collect2: error: ld returned <span style=\"color: #008080; text-decoration-color: #008080; font-weight: bold\">1</span> exit status\n",
       "make<span style=\"font-weight: bold\">[</span><span style=\"color: #008080; text-decoration-color: #008080; font-weight: bold\">1</span><span style=\"font-weight: bold\">]</span>: *** <span style=\"font-weight: bold\">[</span><span style=\"color: #800080; text-decoration-color: #800080\">/usr/share/pd-lib-builder//</span><span style=\"color: #ff00ff; text-decoration-color: #ff00ff\">Makefile.pdlibbuilder</span>:<span style=\"color: #008080; text-decoration-color: #008080; font-weight: bold\">918</span>: cartopol~.pd_linux<span style=\"font-weight: bold\">]</span> Error <span style=\"color: #008080; text-decoration-color: #008080; font-weight: bold\">1</span>\n",
       "dh_auto_install: error: make -j20 install <span style=\"color: #808000; text-decoration-color: #808000\">DESTDIR</span>=<span style=\"color: #800080; text-decoration-color: #800080\">/worker/pd-lyonpotpourri-3.0.2/debian/</span><span style=\"color: #ff00ff; text-decoration-color: #ff00ff\">pd-lyonpotpourri</span> \n",
       "<span style=\"color: #808000; text-decoration-color: #808000\">AM_UPDATE_INFO_DIR</span>=<span style=\"color: #800080; text-decoration-color: #800080\">no</span> <span style=\"color: #008000; text-decoration-color: #008000\">\"INSTALL=install --strip-program=true\"</span> <span style=\"color: #808000; text-decoration-color: #808000\">pkglibdir</span>=<span style=\"color: #800080; text-decoration-color: #800080\">/usr/lib/pd/</span><span style=\"color: #ff00ff; text-decoration-color: #ff00ff\">extra</span> <span style=\"color: #808000; text-decoration-color: #808000\">prefix</span>=<span style=\"color: #800080; text-decoration-color: #800080\">/</span><span style=\"color: #ff00ff; text-decoration-color: #ff00ff\">usr</span> \n",
       "<span style=\"color: #808000; text-decoration-color: #808000\">PDLIBBUILDER_DIR</span>=<span style=\"color: #800080; text-decoration-color: #800080\">/usr/share/pd-lib-builder/</span> returned exit code <span style=\"color: #008080; text-decoration-color: #008080; font-weight: bold\">2</span>\n",
       "make: *** <span style=\"font-weight: bold\">[</span>debian/rules:<span style=\"color: #008080; text-decoration-color: #008080; font-weight: bold\">10</span>: binary<span style=\"font-weight: bold\">]</span> Error <span style=\"color: #008080; text-decoration-color: #008080; font-weight: bold\">25</span>\n",
       "dpkg-buildpackage: error: debian/rules binary subprocess returned exit status <span style=\"color: #008080; text-decoration-color: #008080; font-weight: bold\">2</span>\n",
       "</pre>\n"
      ],
      "text/plain": [
       "make\u001b[1m[\u001b[0m\u001b[1;36m1\u001b[0m\u001b[1m]\u001b[0m: *** Waiting for unfinished jobs\u001b[33m...\u001b[0m.\n",
       "make\u001b[1m[\u001b[0m\u001b[1;36m1\u001b[0m\u001b[1m]\u001b[0m: *** \u001b[1m[\u001b[0m\u001b[35m/usr/share/pd-lib-builder/\u001b[0m\u001b[35m/\u001b[0m\u001b[95mMakefile.pdlibbuilder\u001b[0m:\u001b[1;36m918\u001b[0m: arrayfilt~.pd_linux\u001b[1m]\u001b[0m Error \u001b[1;36m1\u001b[0m\n",
       "\u001b[35m/usr/bin/\u001b[0m\u001b[95mld\u001b[0m: cartopol~.pd_linux.o: warning: relocation against `cartopol_perform' in read-only section `.text'\n",
       "\u001b[35m/usr/bin/\u001b[0m\u001b[95mld\u001b[0m: cartopol~.pd_linux.o: relocation R_X86_64_PC32 against symbol `cartopol_perform' can not be used when \n",
       "making a shared object; recompile with -fPIC\n",
       "\u001b[35m/usr/bin/\u001b[0m\u001b[95mld\u001b[0m: final link failed: bad value\n",
       "collect2: error: ld returned \u001b[1;36m1\u001b[0m exit status\n",
       "make\u001b[1m[\u001b[0m\u001b[1;36m1\u001b[0m\u001b[1m]\u001b[0m: *** \u001b[1m[\u001b[0m\u001b[35m/usr/share/pd-lib-builder/\u001b[0m\u001b[35m/\u001b[0m\u001b[95mMakefile.pdlibbuilder\u001b[0m:\u001b[1;36m918\u001b[0m: cartopol~.pd_linux\u001b[1m]\u001b[0m Error \u001b[1;36m1\u001b[0m\n",
       "dh_auto_install: error: make -j20 install \u001b[33mDESTDIR\u001b[0m=\u001b[35m/worker/pd-lyonpotpourri-3.0.2/debian/\u001b[0m\u001b[95mpd-lyonpotpourri\u001b[0m \n",
       "\u001b[33mAM_UPDATE_INFO_DIR\u001b[0m=\u001b[35mno\u001b[0m \u001b[32m\"\u001b[0m\u001b[32mINSTALL\u001b[0m\u001b[32m=\u001b[0m\u001b[32minstall\u001b[0m\u001b[32m --strip-\u001b[0m\u001b[32mprogram\u001b[0m\u001b[32m=\u001b[0m\u001b[32mtrue\"\u001b[0m \u001b[33mpkglibdir\u001b[0m=\u001b[35m/usr/lib/pd/\u001b[0m\u001b[95mextra\u001b[0m \u001b[33mprefix\u001b[0m=\u001b[35m/\u001b[0m\u001b[95musr\u001b[0m \n",
       "\u001b[33mPDLIBBUILDER_DIR\u001b[0m=\u001b[35m/usr/share/pd-lib-builder/\u001b[0m returned exit code \u001b[1;36m2\u001b[0m\n",
       "make: *** \u001b[1m[\u001b[0mdebian/rules:\u001b[1;36m10\u001b[0m: binary\u001b[1m]\u001b[0m Error \u001b[1;36m25\u001b[0m\n",
       "dpkg-buildpackage: error: debian/rules binary subprocess returned exit status \u001b[1;36m2\u001b[0m\n"
      ]
     },
     "metadata": {},
     "output_type": "display_data"
    },
    {
     "data": {
      "text/html": [
       "<pre style=\"white-space:pre;overflow-x:auto;line-height:normal;font-family:Menlo,'DejaVu Sans Mono',consolas,'Courier New',monospace\"><span style=\"color: #bfbf7f; text-decoration-color: #bfbf7f\">...</span><span style=\"color: #7f7f7f; text-decoration-color: #7f7f7f\"> </span><span style=\"color: #7f7f7f; text-decoration-color: #7f7f7f; font-weight: bold\">(</span><span style=\"color: #7fbfbf; text-decoration-color: #7fbfbf; font-weight: bold\">11</span><span style=\"color: #7f7f7f; text-decoration-color: #7f7f7f\"> earlier lines truncated</span><span style=\"color: #7f7f7f; text-decoration-color: #7f7f7f; font-weight: bold\">)</span>\n",
       "</pre>\n"
      ],
      "text/plain": [
       "\u001b[2;33m...\u001b[0m\u001b[2m \u001b[0m\u001b[1;2m(\u001b[0m\u001b[1;2;36m11\u001b[0m\u001b[2m earlier lines truncated\u001b[0m\u001b[1;2m)\u001b[0m\n"
      ]
     },
     "metadata": {},
     "output_type": "display_data"
    },
    {
     "data": {
      "text/html": [
       "<pre style=\"white-space:pre;overflow-x:auto;line-height:normal;font-family:Menlo,'DejaVu Sans Mono',consolas,'Courier New',monospace\"><span style=\"color: #00ff00; text-decoration-color: #00ff00\">───────────────────────────────────────────────────────────────────────────────────────────────────────────────────</span>\n",
       "</pre>\n"
      ],
      "text/plain": [
       "\u001b[92m───────────────────────────────────────────────────────────────────────────────────────────────────────────────────\u001b[0m\n"
      ]
     },
     "metadata": {},
     "output_type": "display_data"
    },
    {
     "data": {
      "text/html": [
       "<pre style=\"white-space:pre;overflow-x:auto;line-height:normal;font-family:Menlo,'DejaVu Sans Mono',consolas,'Courier New',monospace\"><span style=\"font-weight: bold\">Package:</span> <span style=\"color: #008080; text-decoration-color: #008080\">biosig</span>\n",
       "</pre>\n"
      ],
      "text/plain": [
       "\u001b[1mPackage:\u001b[0m \u001b[36mbiosig\u001b[0m\n"
      ]
     },
     "metadata": {},
     "output_type": "display_data"
    },
    {
     "data": {
      "text/html": [
       "<pre style=\"white-space:pre;overflow-x:auto;line-height:normal;font-family:Menlo,'DejaVu Sans Mono',consolas,'Courier New',monospace\"><span style=\"font-weight: bold\">Rebuild STDERR (last </span><span style=\"color: #008080; text-decoration-color: #008080; font-weight: bold\">10</span><span style=\"font-weight: bold\"> lines):</span>\n",
       "</pre>\n"
      ],
      "text/plain": [
       "\u001b[1mRebuild STDERR \u001b[0m\u001b[1m(\u001b[0m\u001b[1mlast \u001b[0m\u001b[1;36m10\u001b[0m\u001b[1m lines\u001b[0m\u001b[1m)\u001b[0m\u001b[1m:\u001b[0m\n"
      ]
     },
     "metadata": {},
     "output_type": "display_data"
    },
    {
     "data": {
      "text/html": [
       "<pre style=\"white-space:pre;overflow-x:auto;line-height:normal;font-family:Menlo,'DejaVu Sans Mono',consolas,'Courier New',monospace\"><span style=\"color: #800080; text-decoration-color: #800080\">/usr/bin/</span><span style=\"color: #ff00ff; text-decoration-color: #ff00ff\">ld</span>: sopen_cfs_read.o: warning: relocation against `Signal6_StateTable' in read-only section `.text'\n",
       "<span style=\"color: #800080; text-decoration-color: #800080\">/usr/bin/</span><span style=\"color: #ff00ff; text-decoration-color: #ff00ff\">ld</span>: sopen_dcmtk_read.o: relocation R_X86_64_PC32 against symbol `_ZTV9DcmTagKey' can not be used when \n",
       "making a shared object; recompile with -fPIC\n",
       "<span style=\"color: #800080; text-decoration-color: #800080\">/usr/bin/</span><span style=\"color: #ff00ff; text-decoration-color: #ff00ff\">ld</span>: final link failed: bad value\n",
       "collect2: error: ld returned <span style=\"color: #008080; text-decoration-color: #008080; font-weight: bold\">1</span> exit status\n",
       "make<span style=\"font-weight: bold\">[</span><span style=\"color: #008080; text-decoration-color: #008080; font-weight: bold\">3</span><span style=\"font-weight: bold\">]</span>: *** <span style=\"font-weight: bold\">[</span>Makefil<span style=\"color: #00ff00; text-decoration-color: #00ff00; font-weight: bold\">e:723</span>: libbiosig.so.<span style=\"color: #008080; text-decoration-color: #008080; font-weight: bold\">3</span><span style=\"font-weight: bold\">]</span> Error <span style=\"color: #008080; text-decoration-color: #008080; font-weight: bold\">1</span>\n",
       "make<span style=\"font-weight: bold\">[</span><span style=\"color: #008080; text-decoration-color: #008080; font-weight: bold\">2</span><span style=\"font-weight: bold\">]</span>: *** <span style=\"font-weight: bold\">[</span>Makefil<span style=\"color: #00ff00; text-decoration-color: #00ff00; font-weight: bold\">e:32</span>: install<span style=\"font-weight: bold\">]</span> Error <span style=\"color: #008080; text-decoration-color: #008080; font-weight: bold\">2</span>\n",
       "dh_auto_install: error: make -j20 install <span style=\"color: #808000; text-decoration-color: #808000\">DESTDIR</span>=<span style=\"color: #800080; text-decoration-color: #800080\">/worker/biosig-3.9.0/debian/</span><span style=\"color: #ff00ff; text-decoration-color: #ff00ff\">tmp</span> <span style=\"color: #808000; text-decoration-color: #808000\">AM_UPDATE_INFO_DIR</span>=<span style=\"color: #800080; text-decoration-color: #800080\">no</span> returned \n",
       "exit code <span style=\"color: #008080; text-decoration-color: #008080; font-weight: bold\">2</span>\n",
       "make<span style=\"font-weight: bold\">[</span><span style=\"color: #008080; text-decoration-color: #008080; font-weight: bold\">1</span><span style=\"font-weight: bold\">]</span>: *** <span style=\"font-weight: bold\">[</span>debian/rules:<span style=\"color: #008080; text-decoration-color: #008080; font-weight: bold\">24</span>: override_dh_auto_install<span style=\"font-weight: bold\">]</span> Error <span style=\"color: #008080; text-decoration-color: #008080; font-weight: bold\">25</span>\n",
       "make: *** <span style=\"font-weight: bold\">[</span>debian/rules:<span style=\"color: #008080; text-decoration-color: #008080; font-weight: bold\">12</span>: binary<span style=\"font-weight: bold\">]</span> Error <span style=\"color: #008080; text-decoration-color: #008080; font-weight: bold\">2</span>\n",
       "dpkg-buildpackage: error: debian/rules binary subprocess returned exit status <span style=\"color: #008080; text-decoration-color: #008080; font-weight: bold\">2</span>\n",
       "</pre>\n"
      ],
      "text/plain": [
       "\u001b[35m/usr/bin/\u001b[0m\u001b[95mld\u001b[0m: sopen_cfs_read.o: warning: relocation against `Signal6_StateTable' in read-only section `.text'\n",
       "\u001b[35m/usr/bin/\u001b[0m\u001b[95mld\u001b[0m: sopen_dcmtk_read.o: relocation R_X86_64_PC32 against symbol `_ZTV9DcmTagKey' can not be used when \n",
       "making a shared object; recompile with -fPIC\n",
       "\u001b[35m/usr/bin/\u001b[0m\u001b[95mld\u001b[0m: final link failed: bad value\n",
       "collect2: error: ld returned \u001b[1;36m1\u001b[0m exit status\n",
       "make\u001b[1m[\u001b[0m\u001b[1;36m3\u001b[0m\u001b[1m]\u001b[0m: *** \u001b[1m[\u001b[0mMakefil\u001b[1;92me:723\u001b[0m: libbiosig.so.\u001b[1;36m3\u001b[0m\u001b[1m]\u001b[0m Error \u001b[1;36m1\u001b[0m\n",
       "make\u001b[1m[\u001b[0m\u001b[1;36m2\u001b[0m\u001b[1m]\u001b[0m: *** \u001b[1m[\u001b[0mMakefil\u001b[1;92me:32\u001b[0m: install\u001b[1m]\u001b[0m Error \u001b[1;36m2\u001b[0m\n",
       "dh_auto_install: error: make -j20 install \u001b[33mDESTDIR\u001b[0m=\u001b[35m/worker/biosig-3.9.0/debian/\u001b[0m\u001b[95mtmp\u001b[0m \u001b[33mAM_UPDATE_INFO_DIR\u001b[0m=\u001b[35mno\u001b[0m returned \n",
       "exit code \u001b[1;36m2\u001b[0m\n",
       "make\u001b[1m[\u001b[0m\u001b[1;36m1\u001b[0m\u001b[1m]\u001b[0m: *** \u001b[1m[\u001b[0mdebian/rules:\u001b[1;36m24\u001b[0m: override_dh_auto_install\u001b[1m]\u001b[0m Error \u001b[1;36m25\u001b[0m\n",
       "make: *** \u001b[1m[\u001b[0mdebian/rules:\u001b[1;36m12\u001b[0m: binary\u001b[1m]\u001b[0m Error \u001b[1;36m2\u001b[0m\n",
       "dpkg-buildpackage: error: debian/rules binary subprocess returned exit status \u001b[1;36m2\u001b[0m\n"
      ]
     },
     "metadata": {},
     "output_type": "display_data"
    },
    {
     "data": {
      "text/html": [
       "<pre style=\"white-space:pre;overflow-x:auto;line-height:normal;font-family:Menlo,'DejaVu Sans Mono',consolas,'Courier New',monospace\"><span style=\"color: #bfbf7f; text-decoration-color: #bfbf7f\">...</span><span style=\"color: #7f7f7f; text-decoration-color: #7f7f7f\"> </span><span style=\"color: #7f7f7f; text-decoration-color: #7f7f7f; font-weight: bold\">(</span><span style=\"color: #7fbfbf; text-decoration-color: #7fbfbf; font-weight: bold\">2</span><span style=\"color: #7f7f7f; text-decoration-color: #7f7f7f\"> earlier lines truncated</span><span style=\"color: #7f7f7f; text-decoration-color: #7f7f7f; font-weight: bold\">)</span>\n",
       "</pre>\n"
      ],
      "text/plain": [
       "\u001b[2;33m...\u001b[0m\u001b[2m \u001b[0m\u001b[1;2m(\u001b[0m\u001b[1;2;36m2\u001b[0m\u001b[2m earlier lines truncated\u001b[0m\u001b[1;2m)\u001b[0m\n"
      ]
     },
     "metadata": {},
     "output_type": "display_data"
    },
    {
     "data": {
      "text/html": [
       "<pre style=\"white-space:pre;overflow-x:auto;line-height:normal;font-family:Menlo,'DejaVu Sans Mono',consolas,'Courier New',monospace\"><span style=\"color: #00ff00; text-decoration-color: #00ff00\">───────────────────────────────────────────────────────────────────────────────────────────────────────────────────</span>\n",
       "</pre>\n"
      ],
      "text/plain": [
       "\u001b[92m───────────────────────────────────────────────────────────────────────────────────────────────────────────────────\u001b[0m\n"
      ]
     },
     "metadata": {},
     "output_type": "display_data"
    },
    {
     "data": {
      "text/html": [
       "<pre style=\"white-space:pre;overflow-x:auto;line-height:normal;font-family:Menlo,'DejaVu Sans Mono',consolas,'Courier New',monospace\"><span style=\"font-weight: bold\">Package:</span> <span style=\"color: #008080; text-decoration-color: #008080\">nanomsg</span>\n",
       "</pre>\n"
      ],
      "text/plain": [
       "\u001b[1mPackage:\u001b[0m \u001b[36mnanomsg\u001b[0m\n"
      ]
     },
     "metadata": {},
     "output_type": "display_data"
    },
    {
     "data": {
      "text/html": [
       "<pre style=\"white-space:pre;overflow-x:auto;line-height:normal;font-family:Menlo,'DejaVu Sans Mono',consolas,'Courier New',monospace\"><span style=\"font-weight: bold\">Rebuild STDERR (last </span><span style=\"color: #008080; text-decoration-color: #008080; font-weight: bold\">10</span><span style=\"font-weight: bold\"> lines):</span>\n",
       "</pre>\n"
      ],
      "text/plain": [
       "\u001b[1mRebuild STDERR \u001b[0m\u001b[1m(\u001b[0m\u001b[1mlast \u001b[0m\u001b[1;36m10\u001b[0m\u001b[1m lines\u001b[0m\u001b[1m)\u001b[0m\u001b[1m:\u001b[0m\n"
      ]
     },
     "metadata": {},
     "output_type": "display_data"
    },
    {
     "data": {
      "text/html": [
       "<pre style=\"white-space:pre;overflow-x:auto;line-height:normal;font-family:Menlo,'DejaVu Sans Mono',consolas,'Courier New',monospace\"><span style=\"color: #800080; text-decoration-color: #800080\">/usr/bin/</span><span style=\"color: #ff00ff; text-decoration-color: #ff00ff\">ld</span>: CMakeFiles/nanomsg.dir/protocols/reqrep/req.c.o: warning: relocation against `nn_req_handler' in \n",
       "read-only section `.text'\n",
       "<span style=\"color: #800080; text-decoration-color: #800080\">/usr/bin/</span><span style=\"color: #ff00ff; text-decoration-color: #ff00ff\">ld</span>: CMakeFiles/nanomsg.dir/core/global.c.o: relocation R_X86_64_PC32 against symbol `nn_transports' can \n",
       "not be used when making a shared object; recompile with -fPIC\n",
       "<span style=\"color: #800080; text-decoration-color: #800080\">/usr/bin/</span><span style=\"color: #ff00ff; text-decoration-color: #ff00ff\">ld</span>: final link failed: bad value\n",
       "collect2: error: ld returned <span style=\"color: #008080; text-decoration-color: #008080; font-weight: bold\">1</span> exit status\n",
       "make<span style=\"font-weight: bold\">[</span><span style=\"color: #008080; text-decoration-color: #008080; font-weight: bold\">3</span><span style=\"font-weight: bold\">]</span>: *** <span style=\"font-weight: bold\">[</span>src/CMakeFiles/nanomsg.dir/build.mak<span style=\"color: #00ff00; text-decoration-color: #00ff00; font-weight: bold\">e:1624</span>: libnanomsg.so.<span style=\"color: #008080; text-decoration-color: #008080; font-weight: bold\">5.1</span>.<span style=\"color: #008080; text-decoration-color: #008080; font-weight: bold\">0</span><span style=\"font-weight: bold\">]</span> Error <span style=\"color: #008080; text-decoration-color: #008080; font-weight: bold\">1</span>\n",
       "make<span style=\"font-weight: bold\">[</span><span style=\"color: #008080; text-decoration-color: #008080; font-weight: bold\">2</span><span style=\"font-weight: bold\">]</span>: *** <span style=\"font-weight: bold\">[</span>CMakeFiles/Makefil<span style=\"color: #00ff00; text-decoration-color: #00ff00; font-weight: bold\">e2:1962</span>: src/CMakeFiles/nanomsg.dir/all<span style=\"font-weight: bold\">]</span> Error <span style=\"color: #008080; text-decoration-color: #008080; font-weight: bold\">2</span>\n",
       "make<span style=\"font-weight: bold\">[</span><span style=\"color: #008080; text-decoration-color: #008080; font-weight: bold\">1</span><span style=\"font-weight: bold\">]</span>: *** <span style=\"font-weight: bold\">[</span>Makefil<span style=\"color: #00ff00; text-decoration-color: #00ff00; font-weight: bold\">e:169</span>: all<span style=\"font-weight: bold\">]</span> Error <span style=\"color: #008080; text-decoration-color: #008080; font-weight: bold\">2</span>\n",
       "dh_auto_install: error: cd obj-x86_64-linux-gnu &amp;&amp; make -j20 install <span style=\"color: #808000; text-decoration-color: #808000\">DESTDIR</span>=<span style=\"color: #800080; text-decoration-color: #800080\">/worker/</span><span style=\"color: #ff00ff; text-decoration-color: #ff00ff\">nanomsg-1.1.5</span>\\+dfsg/debian/tmp\n",
       "<span style=\"color: #808000; text-decoration-color: #808000\">AM_UPDATE_INFO_DIR</span>=<span style=\"color: #800080; text-decoration-color: #800080\">no</span> <span style=\"color: #008000; text-decoration-color: #008000\">\"INSTALL=install --strip-program=true\"</span> returned exit code <span style=\"color: #008080; text-decoration-color: #008080; font-weight: bold\">2</span>\n",
       "make: *** <span style=\"font-weight: bold\">[</span>debian/rules:<span style=\"color: #008080; text-decoration-color: #008080; font-weight: bold\">5</span>: binary<span style=\"font-weight: bold\">]</span> Error <span style=\"color: #008080; text-decoration-color: #008080; font-weight: bold\">25</span>\n",
       "dpkg-buildpackage: error: debian/rules binary subprocess returned exit status <span style=\"color: #008080; text-decoration-color: #008080; font-weight: bold\">2</span>\n",
       "</pre>\n"
      ],
      "text/plain": [
       "\u001b[35m/usr/bin/\u001b[0m\u001b[95mld\u001b[0m: CMakeFiles/nanomsg.dir/protocols/reqrep/req.c.o: warning: relocation against `nn_req_handler' in \n",
       "read-only section `.text'\n",
       "\u001b[35m/usr/bin/\u001b[0m\u001b[95mld\u001b[0m: CMakeFiles/nanomsg.dir/core/global.c.o: relocation R_X86_64_PC32 against symbol `nn_transports' can \n",
       "not be used when making a shared object; recompile with -fPIC\n",
       "\u001b[35m/usr/bin/\u001b[0m\u001b[95mld\u001b[0m: final link failed: bad value\n",
       "collect2: error: ld returned \u001b[1;36m1\u001b[0m exit status\n",
       "make\u001b[1m[\u001b[0m\u001b[1;36m3\u001b[0m\u001b[1m]\u001b[0m: *** \u001b[1m[\u001b[0msrc/CMakeFiles/nanomsg.dir/build.mak\u001b[1;92me:1624\u001b[0m: libnanomsg.so.\u001b[1;36m5.1\u001b[0m.\u001b[1;36m0\u001b[0m\u001b[1m]\u001b[0m Error \u001b[1;36m1\u001b[0m\n",
       "make\u001b[1m[\u001b[0m\u001b[1;36m2\u001b[0m\u001b[1m]\u001b[0m: *** \u001b[1m[\u001b[0mCMakeFiles/Makefil\u001b[1;92me2:1962\u001b[0m: src/CMakeFiles/nanomsg.dir/all\u001b[1m]\u001b[0m Error \u001b[1;36m2\u001b[0m\n",
       "make\u001b[1m[\u001b[0m\u001b[1;36m1\u001b[0m\u001b[1m]\u001b[0m: *** \u001b[1m[\u001b[0mMakefil\u001b[1;92me:169\u001b[0m: all\u001b[1m]\u001b[0m Error \u001b[1;36m2\u001b[0m\n",
       "dh_auto_install: error: cd obj-x86_64-linux-gnu && make -j20 install \u001b[33mDESTDIR\u001b[0m=\u001b[35m/worker/\u001b[0m\u001b[95mnanomsg-1.1.5\u001b[0m\\+dfsg/debian/tmp\n",
       "\u001b[33mAM_UPDATE_INFO_DIR\u001b[0m=\u001b[35mno\u001b[0m \u001b[32m\"\u001b[0m\u001b[32mINSTALL\u001b[0m\u001b[32m=\u001b[0m\u001b[32minstall\u001b[0m\u001b[32m --strip-\u001b[0m\u001b[32mprogram\u001b[0m\u001b[32m=\u001b[0m\u001b[32mtrue\"\u001b[0m returned exit code \u001b[1;36m2\u001b[0m\n",
       "make: *** \u001b[1m[\u001b[0mdebian/rules:\u001b[1;36m5\u001b[0m: binary\u001b[1m]\u001b[0m Error \u001b[1;36m25\u001b[0m\n",
       "dpkg-buildpackage: error: debian/rules binary subprocess returned exit status \u001b[1;36m2\u001b[0m\n"
      ]
     },
     "metadata": {},
     "output_type": "display_data"
    },
    {
     "data": {
      "text/html": [
       "<pre style=\"white-space:pre;overflow-x:auto;line-height:normal;font-family:Menlo,'DejaVu Sans Mono',consolas,'Courier New',monospace\"><span style=\"color: #bfbf7f; text-decoration-color: #bfbf7f\">...</span><span style=\"color: #7f7f7f; text-decoration-color: #7f7f7f\"> </span><span style=\"color: #7f7f7f; text-decoration-color: #7f7f7f; font-weight: bold\">(</span><span style=\"color: #7fbfbf; text-decoration-color: #7fbfbf; font-weight: bold\">2</span><span style=\"color: #7f7f7f; text-decoration-color: #7f7f7f\"> earlier lines truncated</span><span style=\"color: #7f7f7f; text-decoration-color: #7f7f7f; font-weight: bold\">)</span>\n",
       "</pre>\n"
      ],
      "text/plain": [
       "\u001b[2;33m...\u001b[0m\u001b[2m \u001b[0m\u001b[1;2m(\u001b[0m\u001b[1;2;36m2\u001b[0m\u001b[2m earlier lines truncated\u001b[0m\u001b[1;2m)\u001b[0m\n"
      ]
     },
     "metadata": {},
     "output_type": "display_data"
    },
    {
     "data": {
      "text/html": [
       "<pre style=\"white-space:pre;overflow-x:auto;line-height:normal;font-family:Menlo,'DejaVu Sans Mono',consolas,'Courier New',monospace\"><span style=\"color: #00ff00; text-decoration-color: #00ff00\">───────────────────────────────────────────────────────────────────────────────────────────────────────────────────</span>\n",
       "</pre>\n"
      ],
      "text/plain": [
       "\u001b[92m───────────────────────────────────────────────────────────────────────────────────────────────────────────────────\u001b[0m\n"
      ]
     },
     "metadata": {},
     "output_type": "display_data"
    },
    {
     "data": {
      "text/html": [
       "<pre style=\"white-space:pre;overflow-x:auto;line-height:normal;font-family:Menlo,'DejaVu Sans Mono',consolas,'Courier New',monospace\"><span style=\"font-weight: bold\">Package:</span> <span style=\"color: #008080; text-decoration-color: #008080\">libtracefs</span>\n",
       "</pre>\n"
      ],
      "text/plain": [
       "\u001b[1mPackage:\u001b[0m \u001b[36mlibtracefs\u001b[0m\n"
      ]
     },
     "metadata": {},
     "output_type": "display_data"
    },
    {
     "data": {
      "text/html": [
       "<pre style=\"white-space:pre;overflow-x:auto;line-height:normal;font-family:Menlo,'DejaVu Sans Mono',consolas,'Courier New',monospace\"><span style=\"font-weight: bold\">Rebuild STDERR (last </span><span style=\"color: #008080; text-decoration-color: #008080; font-weight: bold\">10</span><span style=\"font-weight: bold\"> lines):</span>\n",
       "</pre>\n"
      ],
      "text/plain": [
       "\u001b[1mRebuild STDERR \u001b[0m\u001b[1m(\u001b[0m\u001b[1mlast \u001b[0m\u001b[1;36m10\u001b[0m\u001b[1m lines\u001b[0m\u001b[1m)\u001b[0m\u001b[1m:\u001b[0m\n"
      ]
     },
     "metadata": {},
     "output_type": "display_data"
    },
    {
     "data": {
      "text/html": [
       "<pre style=\"white-space:pre;overflow-x:auto;line-height:normal;font-family:Menlo,'DejaVu Sans Mono',consolas,'Courier New',monospace\"><span style=\"color: #800080; text-decoration-color: #800080\">/usr/bin/</span><span style=\"color: #ff00ff; text-decoration-color: #ff00ff\">ld</span>: <span style=\"color: #800080; text-decoration-color: #800080\">/worker/libtracefs-1.8.1/src/</span><span style=\"color: #ff00ff; text-decoration-color: #ff00ff\">tracefs-dynevents.o</span>: warning: relocation against `dynevents' in read-only\n",
       "section `.text'\n",
       "<span style=\"color: #800080; text-decoration-color: #800080\">/usr/bin/</span><span style=\"color: #ff00ff; text-decoration-color: #ff00ff\">ld</span>: <span style=\"color: #800080; text-decoration-color: #800080\">/worker/libtracefs-1.8.1/src/</span><span style=\"color: #ff00ff; text-decoration-color: #ff00ff\">tracefs-instance.o</span>: relocation R_X86_64_PC32 against symbol \n",
       "`toplevel_supported_opts' can not be used when making a shared object; recompile with -fPIC\n",
       "<span style=\"color: #800080; text-decoration-color: #800080\">/usr/bin/</span><span style=\"color: #ff00ff; text-decoration-color: #ff00ff\">ld</span>: final link failed: bad value\n",
       "collect2: error: ld returned <span style=\"color: #008080; text-decoration-color: #008080; font-weight: bold\">1</span> exit status\n",
       "make<span style=\"font-weight: bold\">[</span><span style=\"color: #008080; text-decoration-color: #008080; font-weight: bold\">3</span><span style=\"font-weight: bold\">]</span>: *** <span style=\"font-weight: bold\">[</span>Makefil<span style=\"color: #00ff00; text-decoration-color: #00ff00; font-weight: bold\">e:38</span>: <span style=\"color: #800080; text-decoration-color: #800080\">/worker/libtracefs-1.8.1/lib/</span><span style=\"color: #ff00ff; text-decoration-color: #ff00ff\">libtracefs.so.1.8.1</span><span style=\"font-weight: bold\">]</span> Error <span style=\"color: #008080; text-decoration-color: #008080; font-weight: bold\">1</span>\n",
       "make<span style=\"font-weight: bold\">[</span><span style=\"color: #008080; text-decoration-color: #008080; font-weight: bold\">2</span><span style=\"font-weight: bold\">]</span>: *** <span style=\"font-weight: bold\">[</span>Makefil<span style=\"color: #00ff00; text-decoration-color: #00ff00; font-weight: bold\">e:393</span>: <span style=\"color: #800080; text-decoration-color: #800080\">/worker/libtracefs-1.8.1/lib/</span><span style=\"color: #ff00ff; text-decoration-color: #ff00ff\">libtracefs.so.1.8.1</span><span style=\"font-weight: bold\">]</span> Error <span style=\"color: #008080; text-decoration-color: #008080; font-weight: bold\">2</span>\n",
       "dh_auto_install: error: make -j1 install <span style=\"color: #808000; text-decoration-color: #808000\">DESTDIR</span>=<span style=\"color: #800080; text-decoration-color: #800080\">/worker/libtracefs-1.8.1/debian/</span><span style=\"color: #ff00ff; text-decoration-color: #ff00ff\">tmp</span> <span style=\"color: #808000; text-decoration-color: #808000\">AM_UPDATE_INFO_DIR</span>=<span style=\"color: #800080; text-decoration-color: #800080\">no</span> \n",
       "<span style=\"color: #008000; text-decoration-color: #008000\">\"INSTALL=install --strip-program=true\"</span> install_doc <span style=\"color: #808000; text-decoration-color: #808000\">prefix</span>=<span style=\"color: #800080; text-decoration-color: #800080\">/</span><span style=\"color: #ff00ff; text-decoration-color: #ff00ff\">usr</span> <span style=\"color: #808000; text-decoration-color: #808000\">libdir_relative</span>=<span style=\"color: #800080; text-decoration-color: #800080\">lib</span>/x86_64-linux-gnu \n",
       "<span style=\"color: #808000; text-decoration-color: #808000\">pkgconfig_dir</span>=<span style=\"color: #800080; text-decoration-color: #800080\">/usr/lib/x86_64-linux-gnu/</span><span style=\"color: #ff00ff; text-decoration-color: #ff00ff\">pkgconfig</span> <span style=\"color: #808000; text-decoration-color: #808000\">V</span>=<span style=\"color: #008080; text-decoration-color: #008080; font-weight: bold\">1</span> returned exit code <span style=\"color: #008080; text-decoration-color: #008080; font-weight: bold\">2</span>\n",
       "make<span style=\"font-weight: bold\">[</span><span style=\"color: #008080; text-decoration-color: #008080; font-weight: bold\">1</span><span style=\"font-weight: bold\">]</span>: *** <span style=\"font-weight: bold\">[</span>debian/rules:<span style=\"color: #008080; text-decoration-color: #008080; font-weight: bold\">21</span>: override_dh_auto_install<span style=\"font-weight: bold\">]</span> Error <span style=\"color: #008080; text-decoration-color: #008080; font-weight: bold\">25</span>\n",
       "make: *** <span style=\"font-weight: bold\">[</span>debian/rules:<span style=\"color: #008080; text-decoration-color: #008080; font-weight: bold\">15</span>: binary<span style=\"font-weight: bold\">]</span> Error <span style=\"color: #008080; text-decoration-color: #008080; font-weight: bold\">2</span>\n",
       "dpkg-buildpackage: error: debian/rules binary subprocess returned exit status <span style=\"color: #008080; text-decoration-color: #008080; font-weight: bold\">2</span>\n",
       "</pre>\n"
      ],
      "text/plain": [
       "\u001b[35m/usr/bin/\u001b[0m\u001b[95mld\u001b[0m: \u001b[35m/worker/libtracefs-1.8.1/src/\u001b[0m\u001b[95mtracefs-dynevents.o\u001b[0m: warning: relocation against `dynevents' in read-only\n",
       "section `.text'\n",
       "\u001b[35m/usr/bin/\u001b[0m\u001b[95mld\u001b[0m: \u001b[35m/worker/libtracefs-1.8.1/src/\u001b[0m\u001b[95mtracefs-instance.o\u001b[0m: relocation R_X86_64_PC32 against symbol \n",
       "`toplevel_supported_opts' can not be used when making a shared object; recompile with -fPIC\n",
       "\u001b[35m/usr/bin/\u001b[0m\u001b[95mld\u001b[0m: final link failed: bad value\n",
       "collect2: error: ld returned \u001b[1;36m1\u001b[0m exit status\n",
       "make\u001b[1m[\u001b[0m\u001b[1;36m3\u001b[0m\u001b[1m]\u001b[0m: *** \u001b[1m[\u001b[0mMakefil\u001b[1;92me:38\u001b[0m: \u001b[35m/worker/libtracefs-1.8.1/lib/\u001b[0m\u001b[95mlibtracefs.so.1.8.1\u001b[0m\u001b[1m]\u001b[0m Error \u001b[1;36m1\u001b[0m\n",
       "make\u001b[1m[\u001b[0m\u001b[1;36m2\u001b[0m\u001b[1m]\u001b[0m: *** \u001b[1m[\u001b[0mMakefil\u001b[1;92me:393\u001b[0m: \u001b[35m/worker/libtracefs-1.8.1/lib/\u001b[0m\u001b[95mlibtracefs.so.1.8.1\u001b[0m\u001b[1m]\u001b[0m Error \u001b[1;36m2\u001b[0m\n",
       "dh_auto_install: error: make -j1 install \u001b[33mDESTDIR\u001b[0m=\u001b[35m/worker/libtracefs-1.8.1/debian/\u001b[0m\u001b[95mtmp\u001b[0m \u001b[33mAM_UPDATE_INFO_DIR\u001b[0m=\u001b[35mno\u001b[0m \n",
       "\u001b[32m\"\u001b[0m\u001b[32mINSTALL\u001b[0m\u001b[32m=\u001b[0m\u001b[32minstall\u001b[0m\u001b[32m --strip-\u001b[0m\u001b[32mprogram\u001b[0m\u001b[32m=\u001b[0m\u001b[32mtrue\"\u001b[0m install_doc \u001b[33mprefix\u001b[0m=\u001b[35m/\u001b[0m\u001b[95musr\u001b[0m \u001b[33mlibdir_relative\u001b[0m=\u001b[35mlib\u001b[0m/x86_64-linux-gnu \n",
       "\u001b[33mpkgconfig_dir\u001b[0m=\u001b[35m/usr/lib/x86_64-linux-gnu/\u001b[0m\u001b[95mpkgconfig\u001b[0m \u001b[33mV\u001b[0m=\u001b[1;36m1\u001b[0m returned exit code \u001b[1;36m2\u001b[0m\n",
       "make\u001b[1m[\u001b[0m\u001b[1;36m1\u001b[0m\u001b[1m]\u001b[0m: *** \u001b[1m[\u001b[0mdebian/rules:\u001b[1;36m21\u001b[0m: override_dh_auto_install\u001b[1m]\u001b[0m Error \u001b[1;36m25\u001b[0m\n",
       "make: *** \u001b[1m[\u001b[0mdebian/rules:\u001b[1;36m15\u001b[0m: binary\u001b[1m]\u001b[0m Error \u001b[1;36m2\u001b[0m\n",
       "dpkg-buildpackage: error: debian/rules binary subprocess returned exit status \u001b[1;36m2\u001b[0m\n"
      ]
     },
     "metadata": {},
     "output_type": "display_data"
    },
    {
     "data": {
      "text/html": [
       "<pre style=\"white-space:pre;overflow-x:auto;line-height:normal;font-family:Menlo,'DejaVu Sans Mono',consolas,'Courier New',monospace\"><span style=\"color: #bfbf7f; text-decoration-color: #bfbf7f\">...</span><span style=\"color: #7f7f7f; text-decoration-color: #7f7f7f\"> </span><span style=\"color: #7f7f7f; text-decoration-color: #7f7f7f; font-weight: bold\">(</span><span style=\"color: #7fbfbf; text-decoration-color: #7fbfbf; font-weight: bold\">2</span><span style=\"color: #7f7f7f; text-decoration-color: #7f7f7f\"> earlier lines truncated</span><span style=\"color: #7f7f7f; text-decoration-color: #7f7f7f; font-weight: bold\">)</span>\n",
       "</pre>\n"
      ],
      "text/plain": [
       "\u001b[2;33m...\u001b[0m\u001b[2m \u001b[0m\u001b[1;2m(\u001b[0m\u001b[1;2;36m2\u001b[0m\u001b[2m earlier lines truncated\u001b[0m\u001b[1;2m)\u001b[0m\n"
      ]
     },
     "metadata": {},
     "output_type": "display_data"
    },
    {
     "data": {
      "text/html": [
       "<pre style=\"white-space:pre;overflow-x:auto;line-height:normal;font-family:Menlo,'DejaVu Sans Mono',consolas,'Courier New',monospace\"><span style=\"color: #00ff00; text-decoration-color: #00ff00\">───────────────────────────────────────────────────────────────────────────────────────────────────────────────────</span>\n",
       "</pre>\n"
      ],
      "text/plain": [
       "\u001b[92m───────────────────────────────────────────────────────────────────────────────────────────────────────────────────\u001b[0m\n"
      ]
     },
     "metadata": {},
     "output_type": "display_data"
    },
    {
     "data": {
      "text/html": [
       "<pre style=\"white-space:pre;overflow-x:auto;line-height:normal;font-family:Menlo,'DejaVu Sans Mono',consolas,'Courier New',monospace\"><span style=\"font-weight: bold\">Package:</span> <span style=\"color: #008080; text-decoration-color: #008080\">proftpd-mod-kafka</span>\n",
       "</pre>\n"
      ],
      "text/plain": [
       "\u001b[1mPackage:\u001b[0m \u001b[36mproftpd-mod-kafka\u001b[0m\n"
      ]
     },
     "metadata": {},
     "output_type": "display_data"
    },
    {
     "data": {
      "text/html": [
       "<pre style=\"white-space:pre;overflow-x:auto;line-height:normal;font-family:Menlo,'DejaVu Sans Mono',consolas,'Courier New',monospace\"><span style=\"font-weight: bold\">Rebuild STDERR (last </span><span style=\"color: #008080; text-decoration-color: #008080; font-weight: bold\">10</span><span style=\"font-weight: bold\"> lines):</span>\n",
       "</pre>\n"
      ],
      "text/plain": [
       "\u001b[1mRebuild STDERR \u001b[0m\u001b[1m(\u001b[0m\u001b[1mlast \u001b[0m\u001b[1;36m10\u001b[0m\u001b[1m lines\u001b[0m\u001b[1m)\u001b[0m\u001b[1m:\u001b[0m\n"
      ]
     },
     "metadata": {},
     "output_type": "display_data"
    },
    {
     "data": {
      "text/html": [
       "<pre style=\"white-space:pre;overflow-x:auto;line-height:normal;font-family:Menlo,'DejaVu Sans Mono',consolas,'Courier New',monospace\">configure: WARNING: unrecognized options: --with-modules, --enable-dso\n",
       "configure: WARNING: unrecognized options: --with-modules, --enable-dso\n",
       "<span style=\"color: #800080; text-decoration-color: #800080\">/usr/bin/</span><span style=\"color: #ff00ff; text-decoration-color: #ff00ff\">ld</span>: .libs/mod_kafka.o: warning: relocation against `kafka_module' in read-only section `.text'\n",
       "<span style=\"color: #800080; text-decoration-color: #800080\">/usr/bin/</span><span style=\"color: #ff00ff; text-decoration-color: #ff00ff\">ld</span>: .libs/mod_kafka.o: relocation R_X86_64_PC32 against symbol `kafka_module' can not be used when making \n",
       "a shared object; recompile with -fPIC\n",
       "<span style=\"color: #800080; text-decoration-color: #800080\">/usr/bin/</span><span style=\"color: #ff00ff; text-decoration-color: #ff00ff\">ld</span>: final link failed: bad value\n",
       "collect2: error: ld returned <span style=\"color: #008080; text-decoration-color: #008080; font-weight: bold\">1</span> exit status\n",
       "make<span style=\"font-weight: bold\">[</span><span style=\"color: #008080; text-decoration-color: #008080; font-weight: bold\">1</span><span style=\"font-weight: bold\">]</span>: *** <span style=\"font-weight: bold\">[</span>Makefil<span style=\"color: #00ff00; text-decoration-color: #00ff00; font-weight: bold\">e:30</span>: shared<span style=\"font-weight: bold\">]</span> Error <span style=\"color: #008080; text-decoration-color: #008080; font-weight: bold\">1</span>\n",
       "dh_auto_build: error: make -j1 returned exit code <span style=\"color: #008080; text-decoration-color: #008080; font-weight: bold\">2</span>\n",
       "make: *** <span style=\"font-weight: bold\">[</span>debian/rules:<span style=\"color: #008080; text-decoration-color: #008080; font-weight: bold\">10</span>: build<span style=\"font-weight: bold\">]</span> Error <span style=\"color: #008080; text-decoration-color: #008080; font-weight: bold\">25</span>\n",
       "dpkg-buildpackage: error: debian/rules build subprocess returned exit status <span style=\"color: #008080; text-decoration-color: #008080; font-weight: bold\">2</span>\n",
       "</pre>\n"
      ],
      "text/plain": [
       "configure: WARNING: unrecognized options: --with-modules, --enable-dso\n",
       "configure: WARNING: unrecognized options: --with-modules, --enable-dso\n",
       "\u001b[35m/usr/bin/\u001b[0m\u001b[95mld\u001b[0m: .libs/mod_kafka.o: warning: relocation against `kafka_module' in read-only section `.text'\n",
       "\u001b[35m/usr/bin/\u001b[0m\u001b[95mld\u001b[0m: .libs/mod_kafka.o: relocation R_X86_64_PC32 against symbol `kafka_module' can not be used when making \n",
       "a shared object; recompile with -fPIC\n",
       "\u001b[35m/usr/bin/\u001b[0m\u001b[95mld\u001b[0m: final link failed: bad value\n",
       "collect2: error: ld returned \u001b[1;36m1\u001b[0m exit status\n",
       "make\u001b[1m[\u001b[0m\u001b[1;36m1\u001b[0m\u001b[1m]\u001b[0m: *** \u001b[1m[\u001b[0mMakefil\u001b[1;92me:30\u001b[0m: shared\u001b[1m]\u001b[0m Error \u001b[1;36m1\u001b[0m\n",
       "dh_auto_build: error: make -j1 returned exit code \u001b[1;36m2\u001b[0m\n",
       "make: *** \u001b[1m[\u001b[0mdebian/rules:\u001b[1;36m10\u001b[0m: build\u001b[1m]\u001b[0m Error \u001b[1;36m25\u001b[0m\n",
       "dpkg-buildpackage: error: debian/rules build subprocess returned exit status \u001b[1;36m2\u001b[0m\n"
      ]
     },
     "metadata": {},
     "output_type": "display_data"
    },
    {
     "data": {
      "text/html": [
       "<pre style=\"white-space:pre;overflow-x:auto;line-height:normal;font-family:Menlo,'DejaVu Sans Mono',consolas,'Courier New',monospace\"><span style=\"color: #bfbf7f; text-decoration-color: #bfbf7f\">...</span><span style=\"color: #7f7f7f; text-decoration-color: #7f7f7f\"> </span><span style=\"color: #7f7f7f; text-decoration-color: #7f7f7f; font-weight: bold\">(</span><span style=\"color: #7fbfbf; text-decoration-color: #7fbfbf; font-weight: bold\">2</span><span style=\"color: #7f7f7f; text-decoration-color: #7f7f7f\"> earlier lines truncated</span><span style=\"color: #7f7f7f; text-decoration-color: #7f7f7f; font-weight: bold\">)</span>\n",
       "</pre>\n"
      ],
      "text/plain": [
       "\u001b[2;33m...\u001b[0m\u001b[2m \u001b[0m\u001b[1;2m(\u001b[0m\u001b[1;2;36m2\u001b[0m\u001b[2m earlier lines truncated\u001b[0m\u001b[1;2m)\u001b[0m\n"
      ]
     },
     "metadata": {},
     "output_type": "display_data"
    },
    {
     "data": {
      "text/html": [
       "<pre style=\"white-space:pre;overflow-x:auto;line-height:normal;font-family:Menlo,'DejaVu Sans Mono',consolas,'Courier New',monospace\"><span style=\"color: #00ff00; text-decoration-color: #00ff00\">───────────────────────────────────────────────────────────────────────────────────────────────────────────────────</span>\n",
       "</pre>\n"
      ],
      "text/plain": [
       "\u001b[92m───────────────────────────────────────────────────────────────────────────────────────────────────────────────────\u001b[0m\n"
      ]
     },
     "metadata": {},
     "output_type": "display_data"
    },
    {
     "data": {
      "text/html": [
       "<pre style=\"white-space:pre;overflow-x:auto;line-height:normal;font-family:Menlo,'DejaVu Sans Mono',consolas,'Courier New',monospace\"><span style=\"font-weight: bold\">Package:</span> <span style=\"color: #008080; text-decoration-color: #008080\">gnarwl</span>\n",
       "</pre>\n"
      ],
      "text/plain": [
       "\u001b[1mPackage:\u001b[0m \u001b[36mgnarwl\u001b[0m\n"
      ]
     },
     "metadata": {},
     "output_type": "display_data"
    },
    {
     "data": {
      "text/html": [
       "<pre style=\"white-space:pre;overflow-x:auto;line-height:normal;font-family:Menlo,'DejaVu Sans Mono',consolas,'Courier New',monospace\"><span style=\"font-weight: bold\">Rebuild STDERR (last </span><span style=\"color: #008080; text-decoration-color: #008080; font-weight: bold\">10</span><span style=\"font-weight: bold\"> lines):</span>\n",
       "</pre>\n"
      ],
      "text/plain": [
       "\u001b[1mRebuild STDERR \u001b[0m\u001b[1m(\u001b[0m\u001b[1mlast \u001b[0m\u001b[1;36m10\u001b[0m\u001b[1m lines\u001b[0m\u001b[1m)\u001b[0m\u001b[1m:\u001b[0m\n"
      ]
     },
     "metadata": {},
     "output_type": "display_data"
    },
    {
     "data": {
      "text/html": [
       "<pre style=\"white-space:pre;overflow-x:auto;line-height:normal;font-family:Menlo,'DejaVu Sans Mono',consolas,'Courier New',monospace\">gzip: warning: GZIP environment variable is deprecated; use an alias or script\n",
       "gzip: warning: GZIP environment variable is deprecated; use an alias or script\n",
       "gzip: warning: GZIP environment variable is deprecated; use an alias or script\n",
       "<span style=\"color: #800080; text-decoration-color: #800080\">/bin/</span><span style=\"color: #ff00ff; text-decoration-color: #ff00ff\">sh</span>: <span style=\"color: #008080; text-decoration-color: #008080; font-weight: bold\">1</span>: <span style=\"color: #800080; text-decoration-color: #800080\">/worker/gnarwl-3.6.dfsg/debian/gnarwl/usr/sbin/</span><span style=\"color: #ff00ff; text-decoration-color: #ff00ff\">damnit</span>: Exec format error\n",
       "make<span style=\"font-weight: bold\">[</span><span style=\"color: #008080; text-decoration-color: #008080; font-weight: bold\">3</span><span style=\"font-weight: bold\">]</span>: *** <span style=\"font-weight: bold\">[</span>Makefil<span style=\"color: #00ff00; text-decoration-color: #00ff00; font-weight: bold\">e:22</span>: install<span style=\"font-weight: bold\">]</span> Error <span style=\"color: #008080; text-decoration-color: #008080; font-weight: bold\">126</span>\n",
       "make<span style=\"font-weight: bold\">[</span><span style=\"color: #008080; text-decoration-color: #008080; font-weight: bold\">2</span><span style=\"font-weight: bold\">]</span>: *** <span style=\"font-weight: bold\">[</span>Makefil<span style=\"color: #00ff00; text-decoration-color: #00ff00; font-weight: bold\">e:84</span>: install<span style=\"font-weight: bold\">]</span> Error <span style=\"color: #008080; text-decoration-color: #008080; font-weight: bold\">2</span>\n",
       "dh_auto_install: error: make -j20 install <span style=\"color: #808000; text-decoration-color: #808000\">DESTDIR</span>=<span style=\"color: #800080; text-decoration-color: #800080\">/worker/gnarwl-3.6.dfsg/debian/</span><span style=\"color: #ff00ff; text-decoration-color: #ff00ff\">gnarwl</span> <span style=\"color: #808000; text-decoration-color: #808000\">AM_UPDATE_INFO_DIR</span>=<span style=\"color: #800080; text-decoration-color: #800080\">no</span> \n",
       "<span style=\"color: #808000; text-decoration-color: #808000\">GZIP</span>=-9n returned exit code <span style=\"color: #008080; text-decoration-color: #008080; font-weight: bold\">2</span>\n",
       "make<span style=\"font-weight: bold\">[</span><span style=\"color: #008080; text-decoration-color: #008080; font-weight: bold\">1</span><span style=\"font-weight: bold\">]</span>: *** <span style=\"font-weight: bold\">[</span>debian/rules:<span style=\"color: #008080; text-decoration-color: #008080; font-weight: bold\">19</span>: override_dh_auto_install<span style=\"font-weight: bold\">]</span> Error <span style=\"color: #008080; text-decoration-color: #008080; font-weight: bold\">25</span>\n",
       "make: *** <span style=\"font-weight: bold\">[</span>debian/rules:<span style=\"color: #008080; text-decoration-color: #008080; font-weight: bold\">6</span>: binary<span style=\"font-weight: bold\">]</span> Error <span style=\"color: #008080; text-decoration-color: #008080; font-weight: bold\">2</span>\n",
       "dpkg-buildpackage: error: debian/rules binary subprocess returned exit status <span style=\"color: #008080; text-decoration-color: #008080; font-weight: bold\">2</span>\n",
       "</pre>\n"
      ],
      "text/plain": [
       "gzip: warning: GZIP environment variable is deprecated; use an alias or script\n",
       "gzip: warning: GZIP environment variable is deprecated; use an alias or script\n",
       "gzip: warning: GZIP environment variable is deprecated; use an alias or script\n",
       "\u001b[35m/bin/\u001b[0m\u001b[95msh\u001b[0m: \u001b[1;36m1\u001b[0m: \u001b[35m/worker/gnarwl-3.6.dfsg/debian/gnarwl/usr/sbin/\u001b[0m\u001b[95mdamnit\u001b[0m: Exec format error\n",
       "make\u001b[1m[\u001b[0m\u001b[1;36m3\u001b[0m\u001b[1m]\u001b[0m: *** \u001b[1m[\u001b[0mMakefil\u001b[1;92me:22\u001b[0m: install\u001b[1m]\u001b[0m Error \u001b[1;36m126\u001b[0m\n",
       "make\u001b[1m[\u001b[0m\u001b[1;36m2\u001b[0m\u001b[1m]\u001b[0m: *** \u001b[1m[\u001b[0mMakefil\u001b[1;92me:84\u001b[0m: install\u001b[1m]\u001b[0m Error \u001b[1;36m2\u001b[0m\n",
       "dh_auto_install: error: make -j20 install \u001b[33mDESTDIR\u001b[0m=\u001b[35m/worker/gnarwl-3.6.dfsg/debian/\u001b[0m\u001b[95mgnarwl\u001b[0m \u001b[33mAM_UPDATE_INFO_DIR\u001b[0m=\u001b[35mno\u001b[0m \n",
       "\u001b[33mGZIP\u001b[0m=-9n returned exit code \u001b[1;36m2\u001b[0m\n",
       "make\u001b[1m[\u001b[0m\u001b[1;36m1\u001b[0m\u001b[1m]\u001b[0m: *** \u001b[1m[\u001b[0mdebian/rules:\u001b[1;36m19\u001b[0m: override_dh_auto_install\u001b[1m]\u001b[0m Error \u001b[1;36m25\u001b[0m\n",
       "make: *** \u001b[1m[\u001b[0mdebian/rules:\u001b[1;36m6\u001b[0m: binary\u001b[1m]\u001b[0m Error \u001b[1;36m2\u001b[0m\n",
       "dpkg-buildpackage: error: debian/rules binary subprocess returned exit status \u001b[1;36m2\u001b[0m\n"
      ]
     },
     "metadata": {},
     "output_type": "display_data"
    },
    {
     "data": {
      "text/html": [
       "<pre style=\"white-space:pre;overflow-x:auto;line-height:normal;font-family:Menlo,'DejaVu Sans Mono',consolas,'Courier New',monospace\"><span style=\"color: #bfbf7f; text-decoration-color: #bfbf7f\">...</span><span style=\"color: #7f7f7f; text-decoration-color: #7f7f7f\"> </span><span style=\"color: #7f7f7f; text-decoration-color: #7f7f7f; font-weight: bold\">(</span><span style=\"color: #7fbfbf; text-decoration-color: #7fbfbf; font-weight: bold\">3</span><span style=\"color: #7f7f7f; text-decoration-color: #7f7f7f\"> earlier lines truncated</span><span style=\"color: #7f7f7f; text-decoration-color: #7f7f7f; font-weight: bold\">)</span>\n",
       "</pre>\n"
      ],
      "text/plain": [
       "\u001b[2;33m...\u001b[0m\u001b[2m \u001b[0m\u001b[1;2m(\u001b[0m\u001b[1;2;36m3\u001b[0m\u001b[2m earlier lines truncated\u001b[0m\u001b[1;2m)\u001b[0m\n"
      ]
     },
     "metadata": {},
     "output_type": "display_data"
    },
    {
     "data": {
      "text/html": [
       "<pre style=\"white-space:pre;overflow-x:auto;line-height:normal;font-family:Menlo,'DejaVu Sans Mono',consolas,'Courier New',monospace\"><span style=\"color: #00ff00; text-decoration-color: #00ff00\">───────────────────────────────────────────────────────────────────────────────────────────────────────────────────</span>\n",
       "</pre>\n"
      ],
      "text/plain": [
       "\u001b[92m───────────────────────────────────────────────────────────────────────────────────────────────────────────────────\u001b[0m\n"
      ]
     },
     "metadata": {},
     "output_type": "display_data"
    },
    {
     "data": {
      "text/html": [
       "<pre style=\"white-space:pre;overflow-x:auto;line-height:normal;font-family:Menlo,'DejaVu Sans Mono',consolas,'Courier New',monospace\">\n",
       "<span style=\"color: #008080; text-decoration-color: #008080; font-weight: bold\">Modified Rebuild Failed Details for max </span><span style=\"color: #008080; text-decoration-color: #008080; font-weight: bold\">10</span><span style=\"color: #008080; text-decoration-color: #008080; font-weight: bold\"> random Packages:</span>\n",
       "</pre>\n"
      ],
      "text/plain": [
       "\n",
       "\u001b[1;36mModified Rebuild Failed Details for max \u001b[0m\u001b[1;36m10\u001b[0m\u001b[1;36m random Packages:\u001b[0m\n"
      ]
     },
     "metadata": {},
     "output_type": "display_data"
    },
    {
     "data": {
      "text/html": [
       "<pre style=\"white-space:pre;overflow-x:auto;line-height:normal;font-family:Menlo,'DejaVu Sans Mono',consolas,'Courier New',monospace\"><span style=\"font-weight: bold\">Package:</span> <span style=\"color: #008080; text-decoration-color: #008080\">mupen64plus-video-arachnoid</span>\n",
       "</pre>\n"
      ],
      "text/plain": [
       "\u001b[1mPackage:\u001b[0m \u001b[36mmupen64plus-video-arachnoid\u001b[0m\n"
      ]
     },
     "metadata": {},
     "output_type": "display_data"
    },
    {
     "data": {
      "text/html": [
       "<pre style=\"white-space:pre;overflow-x:auto;line-height:normal;font-family:Menlo,'DejaVu Sans Mono',consolas,'Courier New',monospace\"><span style=\"font-weight: bold\">Modified Rebuild STDERR (last </span><span style=\"color: #008080; text-decoration-color: #008080; font-weight: bold\">10</span><span style=\"font-weight: bold\"> lines):</span>\n",
       "</pre>\n"
      ],
      "text/plain": [
       "\u001b[1mModified Rebuild STDERR \u001b[0m\u001b[1m(\u001b[0m\u001b[1mlast \u001b[0m\u001b[1;36m10\u001b[0m\u001b[1m lines\u001b[0m\u001b[1m)\u001b[0m\u001b[1m:\u001b[0m\n"
      ]
     },
     "metadata": {},
     "output_type": "display_data"
    },
    {
     "data": {
      "text/html": [
       "<pre style=\"white-space:pre;overflow-x:auto;line-height:normal;font-family:Menlo,'DejaVu Sans Mono',consolas,'Courier New',monospace\"><span style=\"color: #800080; text-decoration-color: #800080\">/worker/mupen64plus-video-arachnoid-2.6.0/projects/unix/../../src/math/</span><span style=\"color: #ff00ff; text-decoration-color: #ff00ff\">Matrix4.cpp</span>:<span style=\"font-weight: bold\">(</span>.text.startup+<span style=\"color: #008080; text-decoration-color: #008080; font-weight: bold\">0xb0</span><span style=\"font-weight: bold\">)</span>: multiple \n",
       "definition of `__cxx_global_var_init.<span style=\"color: #008080; text-decoration-color: #008080; font-weight: bold\">2</span>'; \n",
       "_obj/main.o:<span style=\"color: #800080; text-decoration-color: #800080\">/worker/mupen64plus-video-arachnoid-2.6.0/projects/unix/../../src/</span><span style=\"color: #ff00ff; text-decoration-color: #ff00ff\">main.cpp</span>:<span style=\"font-weight: bold\">(</span>.text.startup+<span style=\"color: #008080; text-decoration-color: #008080; font-weight: bold\">0xa0</span><span style=\"font-weight: bold\">)</span>: first \n",
       "defined here\n",
       "<span style=\"color: #800080; text-decoration-color: #800080\">/usr/bin/</span><span style=\"color: #ff00ff; text-decoration-color: #ff00ff\">ld</span>: _obj/texture/ImageFormatSelector.o: in function `__cxx_global_var_init':\n",
       "<span style=\"color: #800080; text-decoration-color: #800080\">/worker/mupen64plus-video-arachnoid-2.6.0/projects/unix/../../src/texture/</span><span style=\"color: #ff00ff; text-decoration-color: #ff00ff\">ImageFormatSelector.cpp</span>:<span style=\"font-weight: bold\">(</span>.text.startup+<span style=\"color: #008080; text-decoration-color: #008080; font-weight: bold\">0x</span>\n",
       "<span style=\"color: #008080; text-decoration-color: #008080; font-weight: bold\">10</span><span style=\"font-weight: bold\">)</span>: multiple definition of `__cxx_global_var_init'; \n",
       "_obj/main.o:<span style=\"color: #800080; text-decoration-color: #800080\">/worker/mupen64plus-video-arachnoid-2.6.0/projects/unix/../../src/</span><span style=\"color: #ff00ff; text-decoration-color: #ff00ff\">main.cpp</span>:<span style=\"font-weight: bold\">(</span>.text.startup+<span style=\"color: #008080; text-decoration-color: #008080; font-weight: bold\">0x20</span><span style=\"font-weight: bold\">)</span>: first \n",
       "defined here\n",
       "collect2: error: ld returned <span style=\"color: #008080; text-decoration-color: #008080; font-weight: bold\">1</span> exit status\n",
       "make<span style=\"font-weight: bold\">[</span><span style=\"color: #008080; text-decoration-color: #008080; font-weight: bold\">3</span><span style=\"font-weight: bold\">]</span>: *** <span style=\"font-weight: bold\">[</span>Makefil<span style=\"color: #00ff00; text-decoration-color: #00ff00; font-weight: bold\">e:407</span>: mupen64plus-video-arachnoid.so<span style=\"font-weight: bold\">]</span> Error <span style=\"color: #008080; text-decoration-color: #008080; font-weight: bold\">1</span>\n",
       "dh_auto_install: error: cd projects/unix &amp;&amp; make -j20 install \n",
       "<span style=\"color: #808000; text-decoration-color: #808000\">DESTDIR</span>=<span style=\"color: #800080; text-decoration-color: #800080\">/worker/mupen64plus-video-arachnoid-2.6.0/debian/</span><span style=\"color: #ff00ff; text-decoration-color: #ff00ff\">mupen64plus-video-arachnoid</span> <span style=\"color: #808000; text-decoration-color: #808000\">AM_UPDATE_INFO_DIR</span>=<span style=\"color: #800080; text-decoration-color: #800080\">no</span> \n",
       "<span style=\"color: #008000; text-decoration-color: #008000\">\"INSTALL=install --strip-program=true\"</span> <span style=\"color: #808000; text-decoration-color: #808000\">V</span>=<span style=\"color: #008080; text-decoration-color: #008080; font-weight: bold\">1</span> <span style=\"color: #808000; text-decoration-color: #808000\">UNAME</span>=<span style=\"color: #800080; text-decoration-color: #800080\">linux</span> <span style=\"color: #808000; text-decoration-color: #808000\">HOST_CPU</span>=<span style=\"color: #800080; text-decoration-color: #800080\">x86_64</span> <span style=\"color: #808000; text-decoration-color: #808000\">APIDIR</span>=<span style=\"color: #800080; text-decoration-color: #800080\">/usr/include/mupen64plus/</span> <span style=\"color: #808000; text-decoration-color: #808000\">DEBUG</span>=<span style=\"color: #008080; text-decoration-color: #008080; font-weight: bold\">1</span> \n",
       "<span style=\"color: #808000; text-decoration-color: #808000\">PREFIX</span>=<span style=\"color: #800080; text-decoration-color: #800080\">/usr/</span> <span style=\"color: #808000; text-decoration-color: #808000\">LIBDIR</span>=<span style=\"color: #800080; text-decoration-color: #800080\">/usr/lib/</span><span style=\"color: #ff00ff; text-decoration-color: #ff00ff\">x86_64-linux-gnu</span> <span style=\"color: #808000; text-decoration-color: #808000\">PIC</span>=<span style=\"color: #008080; text-decoration-color: #008080; font-weight: bold\">1</span> <span style=\"color: #808000; text-decoration-color: #808000\">OPTFLAGS</span>=-DNDEBUG returned exit code <span style=\"color: #008080; text-decoration-color: #008080; font-weight: bold\">2</span>\n",
       "make<span style=\"font-weight: bold\">[</span><span style=\"color: #008080; text-decoration-color: #008080; font-weight: bold\">2</span><span style=\"font-weight: bold\">]</span>: *** <span style=\"font-weight: bold\">[</span>debian/rules:<span style=\"color: #008080; text-decoration-color: #008080; font-weight: bold\">31</span>: override_dh_auto_install<span style=\"font-weight: bold\">]</span> Error <span style=\"color: #008080; text-decoration-color: #008080; font-weight: bold\">25</span>\n",
       "make<span style=\"font-weight: bold\">[</span><span style=\"color: #008080; text-decoration-color: #008080; font-weight: bold\">1</span><span style=\"font-weight: bold\">]</span>: *** <span style=\"font-weight: bold\">[</span>debian/rules:<span style=\"color: #008080; text-decoration-color: #008080; font-weight: bold\">19</span>: install<span style=\"font-weight: bold\">]</span> Error <span style=\"color: #008080; text-decoration-color: #008080; font-weight: bold\">2</span>\n",
       "make: *** <span style=\"font-weight: bold\">[</span>debian/rules:<span style=\"color: #008080; text-decoration-color: #008080; font-weight: bold\">19</span>: binary<span style=\"font-weight: bold\">]</span> Error <span style=\"color: #008080; text-decoration-color: #008080; font-weight: bold\">2</span>\n",
       "dpkg-buildpackage: error: debian/rules binary subprocess returned exit status <span style=\"color: #008080; text-decoration-color: #008080; font-weight: bold\">2</span>\n",
       "</pre>\n"
      ],
      "text/plain": [
       "\u001b[35m/worker/mupen64plus-video-arachnoid-2.6.0/projects/unix/../../src/math/\u001b[0m\u001b[95mMatrix4.cpp\u001b[0m:\u001b[1m(\u001b[0m.text.startup+\u001b[1;36m0xb0\u001b[0m\u001b[1m)\u001b[0m: multiple \n",
       "definition of `__cxx_global_var_init.\u001b[1;36m2\u001b[0m'; \n",
       "_obj/main.o:\u001b[35m/worker/mupen64plus-video-arachnoid-2.6.0/projects/unix/../../src/\u001b[0m\u001b[95mmain.cpp\u001b[0m:\u001b[1m(\u001b[0m.text.startup+\u001b[1;36m0xa0\u001b[0m\u001b[1m)\u001b[0m: first \n",
       "defined here\n",
       "\u001b[35m/usr/bin/\u001b[0m\u001b[95mld\u001b[0m: _obj/texture/ImageFormatSelector.o: in function `__cxx_global_var_init':\n",
       "\u001b[35m/worker/mupen64plus-video-arachnoid-2.6.0/projects/unix/../../src/texture/\u001b[0m\u001b[95mImageFormatSelector.cpp\u001b[0m:\u001b[1m(\u001b[0m.text.startup+\u001b[1;36m0x\u001b[0m\n",
       "\u001b[1;36m10\u001b[0m\u001b[1m)\u001b[0m: multiple definition of `__cxx_global_var_init'; \n",
       "_obj/main.o:\u001b[35m/worker/mupen64plus-video-arachnoid-2.6.0/projects/unix/../../src/\u001b[0m\u001b[95mmain.cpp\u001b[0m:\u001b[1m(\u001b[0m.text.startup+\u001b[1;36m0x20\u001b[0m\u001b[1m)\u001b[0m: first \n",
       "defined here\n",
       "collect2: error: ld returned \u001b[1;36m1\u001b[0m exit status\n",
       "make\u001b[1m[\u001b[0m\u001b[1;36m3\u001b[0m\u001b[1m]\u001b[0m: *** \u001b[1m[\u001b[0mMakefil\u001b[1;92me:407\u001b[0m: mupen64plus-video-arachnoid.so\u001b[1m]\u001b[0m Error \u001b[1;36m1\u001b[0m\n",
       "dh_auto_install: error: cd projects/unix && make -j20 install \n",
       "\u001b[33mDESTDIR\u001b[0m=\u001b[35m/worker/mupen64plus-video-arachnoid-2.6.0/debian/\u001b[0m\u001b[95mmupen64plus-video-arachnoid\u001b[0m \u001b[33mAM_UPDATE_INFO_DIR\u001b[0m=\u001b[35mno\u001b[0m \n",
       "\u001b[32m\"\u001b[0m\u001b[32mINSTALL\u001b[0m\u001b[32m=\u001b[0m\u001b[32minstall\u001b[0m\u001b[32m --strip-\u001b[0m\u001b[32mprogram\u001b[0m\u001b[32m=\u001b[0m\u001b[32mtrue\"\u001b[0m \u001b[33mV\u001b[0m=\u001b[1;36m1\u001b[0m \u001b[33mUNAME\u001b[0m=\u001b[35mlinux\u001b[0m \u001b[33mHOST_CPU\u001b[0m=\u001b[35mx86_64\u001b[0m \u001b[33mAPIDIR\u001b[0m=\u001b[35m/usr/include/mupen64plus/\u001b[0m \u001b[33mDEBUG\u001b[0m=\u001b[1;36m1\u001b[0m \n",
       "\u001b[33mPREFIX\u001b[0m=\u001b[35m/usr/\u001b[0m \u001b[33mLIBDIR\u001b[0m=\u001b[35m/usr/lib/\u001b[0m\u001b[95mx86_64-linux-gnu\u001b[0m \u001b[33mPIC\u001b[0m=\u001b[1;36m1\u001b[0m \u001b[33mOPTFLAGS\u001b[0m=-DNDEBUG returned exit code \u001b[1;36m2\u001b[0m\n",
       "make\u001b[1m[\u001b[0m\u001b[1;36m2\u001b[0m\u001b[1m]\u001b[0m: *** \u001b[1m[\u001b[0mdebian/rules:\u001b[1;36m31\u001b[0m: override_dh_auto_install\u001b[1m]\u001b[0m Error \u001b[1;36m25\u001b[0m\n",
       "make\u001b[1m[\u001b[0m\u001b[1;36m1\u001b[0m\u001b[1m]\u001b[0m: *** \u001b[1m[\u001b[0mdebian/rules:\u001b[1;36m19\u001b[0m: install\u001b[1m]\u001b[0m Error \u001b[1;36m2\u001b[0m\n",
       "make: *** \u001b[1m[\u001b[0mdebian/rules:\u001b[1;36m19\u001b[0m: binary\u001b[1m]\u001b[0m Error \u001b[1;36m2\u001b[0m\n",
       "dpkg-buildpackage: error: debian/rules binary subprocess returned exit status \u001b[1;36m2\u001b[0m\n"
      ]
     },
     "metadata": {},
     "output_type": "display_data"
    },
    {
     "data": {
      "text/html": [
       "<pre style=\"white-space:pre;overflow-x:auto;line-height:normal;font-family:Menlo,'DejaVu Sans Mono',consolas,'Courier New',monospace\"><span style=\"color: #bfbf7f; text-decoration-color: #bfbf7f\">...</span><span style=\"color: #7f7f7f; text-decoration-color: #7f7f7f\"> </span><span style=\"color: #7f7f7f; text-decoration-color: #7f7f7f; font-weight: bold\">(</span><span style=\"color: #7fbfbf; text-decoration-color: #7fbfbf; font-weight: bold\">7</span><span style=\"color: #7f7f7f; text-decoration-color: #7f7f7f\"> earlier lines truncated</span><span style=\"color: #7f7f7f; text-decoration-color: #7f7f7f; font-weight: bold\">)</span>\n",
       "</pre>\n"
      ],
      "text/plain": [
       "\u001b[2;33m...\u001b[0m\u001b[2m \u001b[0m\u001b[1;2m(\u001b[0m\u001b[1;2;36m7\u001b[0m\u001b[2m earlier lines truncated\u001b[0m\u001b[1;2m)\u001b[0m\n"
      ]
     },
     "metadata": {},
     "output_type": "display_data"
    },
    {
     "data": {
      "text/html": [
       "<pre style=\"white-space:pre;overflow-x:auto;line-height:normal;font-family:Menlo,'DejaVu Sans Mono',consolas,'Courier New',monospace\"><span style=\"color: #00ff00; text-decoration-color: #00ff00\">───────────────────────────────────────────────────────────────────────────────────────────────────────────────────</span>\n",
       "</pre>\n"
      ],
      "text/plain": [
       "\u001b[92m───────────────────────────────────────────────────────────────────────────────────────────────────────────────────\u001b[0m\n"
      ]
     },
     "metadata": {},
     "output_type": "display_data"
    },
    {
     "data": {
      "text/html": [
       "<pre style=\"white-space:pre;overflow-x:auto;line-height:normal;font-family:Menlo,'DejaVu Sans Mono',consolas,'Courier New',monospace\"><span style=\"font-weight: bold\">Package:</span> <span style=\"color: #008080; text-decoration-color: #008080\">gnubg</span>\n",
       "</pre>\n"
      ],
      "text/plain": [
       "\u001b[1mPackage:\u001b[0m \u001b[36mgnubg\u001b[0m\n"
      ]
     },
     "metadata": {},
     "output_type": "display_data"
    },
    {
     "data": {
      "text/html": [
       "<pre style=\"white-space:pre;overflow-x:auto;line-height:normal;font-family:Menlo,'DejaVu Sans Mono',consolas,'Courier New',monospace\"><span style=\"font-weight: bold\">Modified Rebuild STDERR (last </span><span style=\"color: #008080; text-decoration-color: #008080; font-weight: bold\">10</span><span style=\"font-weight: bold\"> lines):</span>\n",
       "</pre>\n"
      ],
      "text/plain": [
       "\u001b[1mModified Rebuild STDERR \u001b[0m\u001b[1m(\u001b[0m\u001b[1mlast \u001b[0m\u001b[1;36m10\u001b[0m\u001b[1m lines\u001b[0m\u001b[1m)\u001b[0m\u001b[1m:\u001b[0m\n"
      ]
     },
     "metadata": {},
     "output_type": "display_data"
    },
    {
     "data": {
      "text/html": [
       "<pre style=\"white-space:pre;overflow-x:auto;line-height:normal;font-family:Menlo,'DejaVu Sans Mono',consolas,'Courier New',monospace\"><span style=\"color: #800080; text-decoration-color: #800080\">/worker/gnubg-1.08.003/</span><span style=\"color: #ff00ff; text-decoration-color: #ff00ff\">gtkscoremap.c</span>:<span style=\"color: #008080; text-decoration-color: #008080; font-weight: bold\">2669</span>: multiple definition of `DestroyDialog'; \n",
       "gtktempmap.o:<span style=\"color: #800080; text-decoration-color: #800080\">/worker/gnubg-1.08.003/</span><span style=\"color: #ff00ff; text-decoration-color: #ff00ff\">gtktempmap.c</span>:<span style=\"color: #008080; text-decoration-color: #008080; font-weight: bold\">546</span>: first defined here\n",
       "<span style=\"color: #800080; text-decoration-color: #800080\">/usr/bin/</span><span style=\"color: #ff00ff; text-decoration-color: #ff00ff\">ld</span>: board3d/.libs/<span style=\"color: #800080; text-decoration-color: #800080; font-weight: bold\">libboard3d.a</span><span style=\"font-weight: bold\">(</span>libboard3d_la-drawboard3d.o<span style=\"font-weight: bold\">)</span>: in function `RenderGlyph':\n",
       ".<span style=\"color: #800080; text-decoration-color: #800080\">/board3d/./board3d/</span><span style=\"color: #ff00ff; text-decoration-color: #ff00ff\">drawboard3d.c</span>:<span style=\"color: #008080; text-decoration-color: #008080; font-weight: bold\">2962</span>: multiple definition of `RenderGlyph'; \n",
       "render.o:<span style=\"color: #800080; text-decoration-color: #800080\">/worker/gnubg-1.08.003/</span><span style=\"color: #ff00ff; text-decoration-color: #ff00ff\">render.c</span>:<span style=\"color: #008080; text-decoration-color: #008080; font-weight: bold\">1396</span>: first defined here\n",
       "collect2: error: ld returned <span style=\"color: #008080; text-decoration-color: #008080; font-weight: bold\">1</span> exit status\n",
       "make<span style=\"font-weight: bold\">[</span><span style=\"color: #008080; text-decoration-color: #008080; font-weight: bold\">4</span><span style=\"font-weight: bold\">]</span>: *** <span style=\"font-weight: bold\">[</span>Makefil<span style=\"color: #00ff00; text-decoration-color: #00ff00; font-weight: bold\">e:866</span>: gnubg<span style=\"font-weight: bold\">]</span> Error <span style=\"color: #008080; text-decoration-color: #008080; font-weight: bold\">1</span>\n",
       "make<span style=\"font-weight: bold\">[</span><span style=\"color: #008080; text-decoration-color: #008080; font-weight: bold\">3</span><span style=\"font-weight: bold\">]</span>: *** <span style=\"font-weight: bold\">[</span>Makefil<span style=\"color: #00ff00; text-decoration-color: #00ff00; font-weight: bold\">e:1042</span>: install-recursive<span style=\"font-weight: bold\">]</span> Error <span style=\"color: #008080; text-decoration-color: #008080; font-weight: bold\">1</span>\n",
       "make<span style=\"font-weight: bold\">[</span><span style=\"color: #008080; text-decoration-color: #008080; font-weight: bold\">2</span><span style=\"font-weight: bold\">]</span>: *** <span style=\"font-weight: bold\">[</span>Makefil<span style=\"color: #00ff00; text-decoration-color: #00ff00; font-weight: bold\">e:1347</span>: install<span style=\"font-weight: bold\">]</span> Error <span style=\"color: #008080; text-decoration-color: #008080; font-weight: bold\">2</span>\n",
       "make<span style=\"font-weight: bold\">[</span><span style=\"color: #008080; text-decoration-color: #008080; font-weight: bold\">1</span><span style=\"font-weight: bold\">]</span>: *** <span style=\"font-weight: bold\">[</span>debian/rules:<span style=\"color: #008080; text-decoration-color: #008080; font-weight: bold\">66</span>: override_dh_auto_install<span style=\"font-weight: bold\">]</span> Error <span style=\"color: #008080; text-decoration-color: #008080; font-weight: bold\">2</span>\n",
       "make: *** <span style=\"font-weight: bold\">[</span>debian/rules:<span style=\"color: #008080; text-decoration-color: #008080; font-weight: bold\">35</span>: binary<span style=\"font-weight: bold\">]</span> Error <span style=\"color: #008080; text-decoration-color: #008080; font-weight: bold\">2</span>\n",
       "dpkg-buildpackage: error: debian/rules binary subprocess returned exit status <span style=\"color: #008080; text-decoration-color: #008080; font-weight: bold\">2</span>\n",
       "</pre>\n"
      ],
      "text/plain": [
       "\u001b[35m/worker/gnubg-1.08.003/\u001b[0m\u001b[95mgtkscoremap.c\u001b[0m:\u001b[1;36m2669\u001b[0m: multiple definition of `DestroyDialog'; \n",
       "gtktempmap.o:\u001b[35m/worker/gnubg-1.08.003/\u001b[0m\u001b[95mgtktempmap.c\u001b[0m:\u001b[1;36m546\u001b[0m: first defined here\n",
       "\u001b[35m/usr/bin/\u001b[0m\u001b[95mld\u001b[0m: board3d/.libs/\u001b[1;35mlibboard3d.a\u001b[0m\u001b[1m(\u001b[0mlibboard3d_la-drawboard3d.o\u001b[1m)\u001b[0m: in function `RenderGlyph':\n",
       ".\u001b[35m/board3d/./board3d/\u001b[0m\u001b[95mdrawboard3d.c\u001b[0m:\u001b[1;36m2962\u001b[0m: multiple definition of `RenderGlyph'; \n",
       "render.o:\u001b[35m/worker/gnubg-1.08.003/\u001b[0m\u001b[95mrender.c\u001b[0m:\u001b[1;36m1396\u001b[0m: first defined here\n",
       "collect2: error: ld returned \u001b[1;36m1\u001b[0m exit status\n",
       "make\u001b[1m[\u001b[0m\u001b[1;36m4\u001b[0m\u001b[1m]\u001b[0m: *** \u001b[1m[\u001b[0mMakefil\u001b[1;92me:866\u001b[0m: gnubg\u001b[1m]\u001b[0m Error \u001b[1;36m1\u001b[0m\n",
       "make\u001b[1m[\u001b[0m\u001b[1;36m3\u001b[0m\u001b[1m]\u001b[0m: *** \u001b[1m[\u001b[0mMakefil\u001b[1;92me:1042\u001b[0m: install-recursive\u001b[1m]\u001b[0m Error \u001b[1;36m1\u001b[0m\n",
       "make\u001b[1m[\u001b[0m\u001b[1;36m2\u001b[0m\u001b[1m]\u001b[0m: *** \u001b[1m[\u001b[0mMakefil\u001b[1;92me:1347\u001b[0m: install\u001b[1m]\u001b[0m Error \u001b[1;36m2\u001b[0m\n",
       "make\u001b[1m[\u001b[0m\u001b[1;36m1\u001b[0m\u001b[1m]\u001b[0m: *** \u001b[1m[\u001b[0mdebian/rules:\u001b[1;36m66\u001b[0m: override_dh_auto_install\u001b[1m]\u001b[0m Error \u001b[1;36m2\u001b[0m\n",
       "make: *** \u001b[1m[\u001b[0mdebian/rules:\u001b[1;36m35\u001b[0m: binary\u001b[1m]\u001b[0m Error \u001b[1;36m2\u001b[0m\n",
       "dpkg-buildpackage: error: debian/rules binary subprocess returned exit status \u001b[1;36m2\u001b[0m\n"
      ]
     },
     "metadata": {},
     "output_type": "display_data"
    },
    {
     "data": {
      "text/html": [
       "<pre style=\"white-space:pre;overflow-x:auto;line-height:normal;font-family:Menlo,'DejaVu Sans Mono',consolas,'Courier New',monospace\"><span style=\"color: #bfbf7f; text-decoration-color: #bfbf7f\">...</span><span style=\"color: #7f7f7f; text-decoration-color: #7f7f7f\"> </span><span style=\"color: #7f7f7f; text-decoration-color: #7f7f7f; font-weight: bold\">(</span><span style=\"color: #7fbfbf; text-decoration-color: #7fbfbf; font-weight: bold\">43</span><span style=\"color: #7f7f7f; text-decoration-color: #7f7f7f\"> earlier lines truncated</span><span style=\"color: #7f7f7f; text-decoration-color: #7f7f7f; font-weight: bold\">)</span>\n",
       "</pre>\n"
      ],
      "text/plain": [
       "\u001b[2;33m...\u001b[0m\u001b[2m \u001b[0m\u001b[1;2m(\u001b[0m\u001b[1;2;36m43\u001b[0m\u001b[2m earlier lines truncated\u001b[0m\u001b[1;2m)\u001b[0m\n"
      ]
     },
     "metadata": {},
     "output_type": "display_data"
    },
    {
     "data": {
      "text/html": [
       "<pre style=\"white-space:pre;overflow-x:auto;line-height:normal;font-family:Menlo,'DejaVu Sans Mono',consolas,'Courier New',monospace\"><span style=\"color: #00ff00; text-decoration-color: #00ff00\">───────────────────────────────────────────────────────────────────────────────────────────────────────────────────</span>\n",
       "</pre>\n"
      ],
      "text/plain": [
       "\u001b[92m───────────────────────────────────────────────────────────────────────────────────────────────────────────────────\u001b[0m\n"
      ]
     },
     "metadata": {},
     "output_type": "display_data"
    },
    {
     "data": {
      "text/html": [
       "<pre style=\"white-space:pre;overflow-x:auto;line-height:normal;font-family:Menlo,'DejaVu Sans Mono',consolas,'Courier New',monospace\"><span style=\"font-weight: bold\">Package:</span> <span style=\"color: #008080; text-decoration-color: #008080\">ukui-system-monitor</span>\n",
       "</pre>\n"
      ],
      "text/plain": [
       "\u001b[1mPackage:\u001b[0m \u001b[36mukui-system-monitor\u001b[0m\n"
      ]
     },
     "metadata": {},
     "output_type": "display_data"
    },
    {
     "data": {
      "text/html": [
       "<pre style=\"white-space:pre;overflow-x:auto;line-height:normal;font-family:Menlo,'DejaVu Sans Mono',consolas,'Courier New',monospace\"><span style=\"font-weight: bold\">Modified Rebuild STDERR (last </span><span style=\"color: #008080; text-decoration-color: #008080; font-weight: bold\">10</span><span style=\"font-weight: bold\"> lines):</span>\n",
       "</pre>\n"
      ],
      "text/plain": [
       "\u001b[1mModified Rebuild STDERR \u001b[0m\u001b[1m(\u001b[0m\u001b[1mlast \u001b[0m\u001b[1;36m10\u001b[0m\u001b[1m lines\u001b[0m\u001b[1m)\u001b[0m\u001b[1m:\u001b[0m\n"
      ]
     },
     "metadata": {},
     "output_type": "display_data"
    },
    {
     "data": {
      "text/html": [
       "<pre style=\"white-space:pre;overflow-x:auto;line-height:normal;font-family:Menlo,'DejaVu Sans Mono',consolas,'Courier New',monospace\"><span style=\"color: #800080; text-decoration-color: #800080\">/usr/bin/</span><span style=\"color: #ff00ff; text-decoration-color: #ff00ff\">ld</span>: .obj/moc_processdialog.o: in function `__cxx_global_var_init':\n",
       "<span style=\"color: #800080; text-decoration-color: #800080\">/worker/ukui-system-monitor-1.0.4/src/.moc/</span><span style=\"color: #ff00ff; text-decoration-color: #ff00ff\">moc_processdialog.cpp</span>:<span style=\"font-weight: bold\">(</span>.text.startup+<span style=\"color: #008080; text-decoration-color: #008080; font-weight: bold\">0x10</span><span style=\"font-weight: bold\">)</span>: multiple definition of \n",
       "`__cxx_global_var_init'; .obj/main.o:<span style=\"color: #800080; text-decoration-color: #800080\">/worker/ukui-system-monitor-1.0.4/src/</span><span style=\"color: #ff00ff; text-decoration-color: #ff00ff\">main.cpp</span>:<span style=\"font-weight: bold\">(</span>.text.startup+<span style=\"color: #008080; text-decoration-color: #008080; font-weight: bold\">0x10</span><span style=\"font-weight: bold\">)</span>: first \n",
       "defined here\n",
       "<span style=\"color: #800080; text-decoration-color: #800080\">/usr/bin/</span><span style=\"color: #ff00ff; text-decoration-color: #ff00ff\">ld</span>: .obj/moc_processdialog.o: in function `__cxx_global_var_init.<span style=\"color: #008080; text-decoration-color: #008080; font-weight: bold\">1</span>':\n",
       "<span style=\"color: #800080; text-decoration-color: #800080\">/worker/ukui-system-monitor-1.0.4/src/.moc/</span><span style=\"color: #ff00ff; text-decoration-color: #ff00ff\">moc_processdialog.cpp</span>:<span style=\"font-weight: bold\">(</span>.text.startup+<span style=\"color: #008080; text-decoration-color: #008080; font-weight: bold\">0x50</span><span style=\"font-weight: bold\">)</span>: multiple definition of \n",
       "`__cxx_global_var_init.<span style=\"color: #008080; text-decoration-color: #008080; font-weight: bold\">1</span>'; .obj/main.o:<span style=\"color: #800080; text-decoration-color: #800080\">/worker/ukui-system-monitor-1.0.4/src/</span><span style=\"color: #ff00ff; text-decoration-color: #ff00ff\">main.cpp</span>:<span style=\"font-weight: bold\">(</span>.text.startup+<span style=\"color: #008080; text-decoration-color: #008080; font-weight: bold\">0x50</span><span style=\"font-weight: bold\">)</span>: first \n",
       "defined here\n",
       "collect2: error: ld returned <span style=\"color: #008080; text-decoration-color: #008080; font-weight: bold\">1</span> exit status\n",
       "make<span style=\"font-weight: bold\">[</span><span style=\"color: #008080; text-decoration-color: #008080; font-weight: bold\">2</span><span style=\"font-weight: bold\">]</span>: *** <span style=\"font-weight: bold\">[</span>Makefil<span style=\"color: #00ff00; text-decoration-color: #00ff00; font-weight: bold\">e:411</span>: ..<span style=\"color: #800080; text-decoration-color: #800080\">/</span><span style=\"color: #ff00ff; text-decoration-color: #ff00ff\">ukui-system-monitor</span><span style=\"font-weight: bold\">]</span> Error <span style=\"color: #008080; text-decoration-color: #008080; font-weight: bold\">1</span>\n",
       "make<span style=\"font-weight: bold\">[</span><span style=\"color: #008080; text-decoration-color: #008080; font-weight: bold\">1</span><span style=\"font-weight: bold\">]</span>: *** <span style=\"font-weight: bold\">[</span>Makefil<span style=\"color: #00ff00; text-decoration-color: #00ff00; font-weight: bold\">e:71</span>: sub-src-install_subtargets-ordered<span style=\"font-weight: bold\">]</span> Error <span style=\"color: #008080; text-decoration-color: #008080; font-weight: bold\">2</span>\n",
       "dh_auto_install: error: make -j20 install <span style=\"color: #808000; text-decoration-color: #808000\">DESTDIR</span>=<span style=\"color: #800080; text-decoration-color: #800080\">/worker/ukui-system-monitor-1.0.4/debian/</span><span style=\"color: #ff00ff; text-decoration-color: #ff00ff\">ukui-system-monitor</span> \n",
       "<span style=\"color: #808000; text-decoration-color: #808000\">AM_UPDATE_INFO_DIR</span>=<span style=\"color: #800080; text-decoration-color: #800080\">no</span> <span style=\"color: #808000; text-decoration-color: #808000\">INSTALL_ROOT</span>=<span style=\"color: #800080; text-decoration-color: #800080\">/worker/ukui-system-monitor-1.0.4/debian/</span><span style=\"color: #ff00ff; text-decoration-color: #ff00ff\">ukui-system-monitor</span> returned exit code \n",
       "<span style=\"color: #008080; text-decoration-color: #008080; font-weight: bold\">2</span>\n",
       "make: *** <span style=\"font-weight: bold\">[</span>debian/rules:<span style=\"color: #008080; text-decoration-color: #008080; font-weight: bold\">10</span>: binary<span style=\"font-weight: bold\">]</span> Error <span style=\"color: #008080; text-decoration-color: #008080; font-weight: bold\">25</span>\n",
       "dpkg-buildpackage: error: debian/rules binary subprocess returned exit status <span style=\"color: #008080; text-decoration-color: #008080; font-weight: bold\">2</span>\n",
       "</pre>\n"
      ],
      "text/plain": [
       "\u001b[35m/usr/bin/\u001b[0m\u001b[95mld\u001b[0m: .obj/moc_processdialog.o: in function `__cxx_global_var_init':\n",
       "\u001b[35m/worker/ukui-system-monitor-1.0.4/src/.moc/\u001b[0m\u001b[95mmoc_processdialog.cpp\u001b[0m:\u001b[1m(\u001b[0m.text.startup+\u001b[1;36m0x10\u001b[0m\u001b[1m)\u001b[0m: multiple definition of \n",
       "`__cxx_global_var_init'; .obj/main.o:\u001b[35m/worker/ukui-system-monitor-1.0.4/src/\u001b[0m\u001b[95mmain.cpp\u001b[0m:\u001b[1m(\u001b[0m.text.startup+\u001b[1;36m0x10\u001b[0m\u001b[1m)\u001b[0m: first \n",
       "defined here\n",
       "\u001b[35m/usr/bin/\u001b[0m\u001b[95mld\u001b[0m: .obj/moc_processdialog.o: in function `__cxx_global_var_init.\u001b[1;36m1\u001b[0m':\n",
       "\u001b[35m/worker/ukui-system-monitor-1.0.4/src/.moc/\u001b[0m\u001b[95mmoc_processdialog.cpp\u001b[0m:\u001b[1m(\u001b[0m.text.startup+\u001b[1;36m0x50\u001b[0m\u001b[1m)\u001b[0m: multiple definition of \n",
       "`__cxx_global_var_init.\u001b[1;36m1\u001b[0m'; .obj/main.o:\u001b[35m/worker/ukui-system-monitor-1.0.4/src/\u001b[0m\u001b[95mmain.cpp\u001b[0m:\u001b[1m(\u001b[0m.text.startup+\u001b[1;36m0x50\u001b[0m\u001b[1m)\u001b[0m: first \n",
       "defined here\n",
       "collect2: error: ld returned \u001b[1;36m1\u001b[0m exit status\n",
       "make\u001b[1m[\u001b[0m\u001b[1;36m2\u001b[0m\u001b[1m]\u001b[0m: *** \u001b[1m[\u001b[0mMakefil\u001b[1;92me:411\u001b[0m: ..\u001b[35m/\u001b[0m\u001b[95mukui-system-monitor\u001b[0m\u001b[1m]\u001b[0m Error \u001b[1;36m1\u001b[0m\n",
       "make\u001b[1m[\u001b[0m\u001b[1;36m1\u001b[0m\u001b[1m]\u001b[0m: *** \u001b[1m[\u001b[0mMakefil\u001b[1;92me:71\u001b[0m: sub-src-install_subtargets-ordered\u001b[1m]\u001b[0m Error \u001b[1;36m2\u001b[0m\n",
       "dh_auto_install: error: make -j20 install \u001b[33mDESTDIR\u001b[0m=\u001b[35m/worker/ukui-system-monitor-1.0.4/debian/\u001b[0m\u001b[95mukui-system-monitor\u001b[0m \n",
       "\u001b[33mAM_UPDATE_INFO_DIR\u001b[0m=\u001b[35mno\u001b[0m \u001b[33mINSTALL_ROOT\u001b[0m=\u001b[35m/worker/ukui-system-monitor-1.0.4/debian/\u001b[0m\u001b[95mukui-system-monitor\u001b[0m returned exit code \n",
       "\u001b[1;36m2\u001b[0m\n",
       "make: *** \u001b[1m[\u001b[0mdebian/rules:\u001b[1;36m10\u001b[0m: binary\u001b[1m]\u001b[0m Error \u001b[1;36m25\u001b[0m\n",
       "dpkg-buildpackage: error: debian/rules binary subprocess returned exit status \u001b[1;36m2\u001b[0m\n"
      ]
     },
     "metadata": {},
     "output_type": "display_data"
    },
    {
     "data": {
      "text/html": [
       "<pre style=\"white-space:pre;overflow-x:auto;line-height:normal;font-family:Menlo,'DejaVu Sans Mono',consolas,'Courier New',monospace\"><span style=\"color: #bfbf7f; text-decoration-color: #bfbf7f\">...</span><span style=\"color: #7f7f7f; text-decoration-color: #7f7f7f\"> </span><span style=\"color: #7f7f7f; text-decoration-color: #7f7f7f; font-weight: bold\">(</span><span style=\"color: #7fbfbf; text-decoration-color: #7fbfbf; font-weight: bold\">28</span><span style=\"color: #7f7f7f; text-decoration-color: #7f7f7f\"> earlier lines truncated</span><span style=\"color: #7f7f7f; text-decoration-color: #7f7f7f; font-weight: bold\">)</span>\n",
       "</pre>\n"
      ],
      "text/plain": [
       "\u001b[2;33m...\u001b[0m\u001b[2m \u001b[0m\u001b[1;2m(\u001b[0m\u001b[1;2;36m28\u001b[0m\u001b[2m earlier lines truncated\u001b[0m\u001b[1;2m)\u001b[0m\n"
      ]
     },
     "metadata": {},
     "output_type": "display_data"
    },
    {
     "data": {
      "text/html": [
       "<pre style=\"white-space:pre;overflow-x:auto;line-height:normal;font-family:Menlo,'DejaVu Sans Mono',consolas,'Courier New',monospace\"><span style=\"color: #00ff00; text-decoration-color: #00ff00\">───────────────────────────────────────────────────────────────────────────────────────────────────────────────────</span>\n",
       "</pre>\n"
      ],
      "text/plain": [
       "\u001b[92m───────────────────────────────────────────────────────────────────────────────────────────────────────────────────\u001b[0m\n"
      ]
     },
     "metadata": {},
     "output_type": "display_data"
    },
    {
     "data": {
      "text/html": [
       "<pre style=\"white-space:pre;overflow-x:auto;line-height:normal;font-family:Menlo,'DejaVu Sans Mono',consolas,'Courier New',monospace\"><span style=\"font-weight: bold\">Package:</span> <span style=\"color: #008080; text-decoration-color: #008080\">schism</span>\n",
       "</pre>\n"
      ],
      "text/plain": [
       "\u001b[1mPackage:\u001b[0m \u001b[36mschism\u001b[0m\n"
      ]
     },
     "metadata": {},
     "output_type": "display_data"
    },
    {
     "data": {
      "text/html": [
       "<pre style=\"white-space:pre;overflow-x:auto;line-height:normal;font-family:Menlo,'DejaVu Sans Mono',consolas,'Courier New',monospace\"><span style=\"font-weight: bold\">Modified Rebuild STDERR (last </span><span style=\"color: #008080; text-decoration-color: #008080; font-weight: bold\">10</span><span style=\"font-weight: bold\"> lines):</span>\n",
       "</pre>\n"
      ],
      "text/plain": [
       "\u001b[1mModified Rebuild STDERR \u001b[0m\u001b[1m(\u001b[0m\u001b[1mlast \u001b[0m\u001b[1;36m10\u001b[0m\u001b[1m lines\u001b[0m\u001b[1m)\u001b[0m\u001b[1m:\u001b[0m\n"
      ]
     },
     "metadata": {},
     "output_type": "display_data"
    },
    {
     "data": {
      "text/html": [
       "<pre style=\"white-space:pre;overflow-x:auto;line-height:normal;font-family:Menlo,'DejaVu Sans Mono',consolas,'Courier New',monospace\"><span style=\"color: #800080; text-decoration-color: #800080\">/usr/bin/</span><span style=\"color: #ff00ff; text-decoration-color: #ff00ff\">ld</span>: schism/schismtracker-page_waterfall.o: in function `draw_screen':\n",
       "<span style=\"color: #800080; text-decoration-color: #800080\">/worker/schism-20250313/schism/</span><span style=\"color: #ff00ff; text-decoration-color: #ff00ff\">page_waterfall.c</span>:<span style=\"color: #008080; text-decoration-color: #008080; font-weight: bold\">328</span>: multiple definition of `draw_screen'; \n",
       "schism/schismtracker-itf.o:<span style=\"color: #800080; text-decoration-color: #800080\">/worker/schism-20250313/schism/</span><span style=\"color: #ff00ff; text-decoration-color: #ff00ff\">itf.c</span>:<span style=\"color: #008080; text-decoration-color: #008080; font-weight: bold\">436</span>: first defined here\n",
       "<span style=\"color: #800080; text-decoration-color: #800080\">/usr/bin/</span><span style=\"color: #ff00ff; text-decoration-color: #ff00ff\">ld</span>: schism/schismtracker-page_waterfall.o: in function `do_nil':\n",
       "<span style=\"color: #800080; text-decoration-color: #800080\">/worker/schism-20250313/schism/</span><span style=\"color: #ff00ff; text-decoration-color: #ff00ff\">page_waterfall.c</span>:<span style=\"color: #008080; text-decoration-color: #008080; font-weight: bold\">487</span>: multiple definition of `do_nil'; \n",
       "schism/schismtracker-itf.o:<span style=\"color: #800080; text-decoration-color: #800080\">/worker/schism-20250313/schism/</span><span style=\"color: #ff00ff; text-decoration-color: #ff00ff\">itf.c</span>:<span style=\"color: #008080; text-decoration-color: #008080; font-weight: bold\">1108</span>: first defined here\n",
       "collect2: error: ld returned <span style=\"color: #008080; text-decoration-color: #008080; font-weight: bold\">1</span> exit status\n",
       "make<span style=\"font-weight: bold\">[</span><span style=\"color: #008080; text-decoration-color: #008080; font-weight: bold\">2</span><span style=\"font-weight: bold\">]</span>: *** <span style=\"font-weight: bold\">[</span>Makefil<span style=\"color: #00ff00; text-decoration-color: #00ff00; font-weight: bold\">e:1866</span>: schismtracker<span style=\"font-weight: bold\">]</span> Error <span style=\"color: #008080; text-decoration-color: #008080; font-weight: bold\">1</span>\n",
       "dh_auto_install: error: make -j20 install <span style=\"color: #808000; text-decoration-color: #808000\">DESTDIR</span>=<span style=\"color: #800080; text-decoration-color: #800080\">/worker/schism-20250313/debian/</span><span style=\"color: #ff00ff; text-decoration-color: #ff00ff\">schism</span> <span style=\"color: #808000; text-decoration-color: #808000\">AM_UPDATE_INFO_DIR</span>=<span style=\"color: #800080; text-decoration-color: #800080\">no</span> \n",
       "returned exit code <span style=\"color: #008080; text-decoration-color: #008080; font-weight: bold\">2</span>\n",
       "make<span style=\"font-weight: bold\">[</span><span style=\"color: #008080; text-decoration-color: #008080; font-weight: bold\">1</span><span style=\"font-weight: bold\">]</span>: *** <span style=\"font-weight: bold\">[</span>debian/rules:<span style=\"color: #008080; text-decoration-color: #008080; font-weight: bold\">21</span>: override_dh_auto_install<span style=\"font-weight: bold\">]</span> Error <span style=\"color: #008080; text-decoration-color: #008080; font-weight: bold\">25</span>\n",
       "make: *** <span style=\"font-weight: bold\">[</span>debian/rules:<span style=\"color: #008080; text-decoration-color: #008080; font-weight: bold\">10</span>: binary<span style=\"font-weight: bold\">]</span> Error <span style=\"color: #008080; text-decoration-color: #008080; font-weight: bold\">2</span>\n",
       "dpkg-buildpackage: error: debian/rules binary subprocess returned exit status <span style=\"color: #008080; text-decoration-color: #008080; font-weight: bold\">2</span>\n",
       "</pre>\n"
      ],
      "text/plain": [
       "\u001b[35m/usr/bin/\u001b[0m\u001b[95mld\u001b[0m: schism/schismtracker-page_waterfall.o: in function `draw_screen':\n",
       "\u001b[35m/worker/schism-20250313/schism/\u001b[0m\u001b[95mpage_waterfall.c\u001b[0m:\u001b[1;36m328\u001b[0m: multiple definition of `draw_screen'; \n",
       "schism/schismtracker-itf.o:\u001b[35m/worker/schism-20250313/schism/\u001b[0m\u001b[95mitf.c\u001b[0m:\u001b[1;36m436\u001b[0m: first defined here\n",
       "\u001b[35m/usr/bin/\u001b[0m\u001b[95mld\u001b[0m: schism/schismtracker-page_waterfall.o: in function `do_nil':\n",
       "\u001b[35m/worker/schism-20250313/schism/\u001b[0m\u001b[95mpage_waterfall.c\u001b[0m:\u001b[1;36m487\u001b[0m: multiple definition of `do_nil'; \n",
       "schism/schismtracker-itf.o:\u001b[35m/worker/schism-20250313/schism/\u001b[0m\u001b[95mitf.c\u001b[0m:\u001b[1;36m1108\u001b[0m: first defined here\n",
       "collect2: error: ld returned \u001b[1;36m1\u001b[0m exit status\n",
       "make\u001b[1m[\u001b[0m\u001b[1;36m2\u001b[0m\u001b[1m]\u001b[0m: *** \u001b[1m[\u001b[0mMakefil\u001b[1;92me:1866\u001b[0m: schismtracker\u001b[1m]\u001b[0m Error \u001b[1;36m1\u001b[0m\n",
       "dh_auto_install: error: make -j20 install \u001b[33mDESTDIR\u001b[0m=\u001b[35m/worker/schism-20250313/debian/\u001b[0m\u001b[95mschism\u001b[0m \u001b[33mAM_UPDATE_INFO_DIR\u001b[0m=\u001b[35mno\u001b[0m \n",
       "returned exit code \u001b[1;36m2\u001b[0m\n",
       "make\u001b[1m[\u001b[0m\u001b[1;36m1\u001b[0m\u001b[1m]\u001b[0m: *** \u001b[1m[\u001b[0mdebian/rules:\u001b[1;36m21\u001b[0m: override_dh_auto_install\u001b[1m]\u001b[0m Error \u001b[1;36m25\u001b[0m\n",
       "make: *** \u001b[1m[\u001b[0mdebian/rules:\u001b[1;36m10\u001b[0m: binary\u001b[1m]\u001b[0m Error \u001b[1;36m2\u001b[0m\n",
       "dpkg-buildpackage: error: debian/rules binary subprocess returned exit status \u001b[1;36m2\u001b[0m\n"
      ]
     },
     "metadata": {},
     "output_type": "display_data"
    },
    {
     "data": {
      "text/html": [
       "<pre style=\"white-space:pre;overflow-x:auto;line-height:normal;font-family:Menlo,'DejaVu Sans Mono',consolas,'Courier New',monospace\"><span style=\"color: #bfbf7f; text-decoration-color: #bfbf7f\">...</span><span style=\"color: #7f7f7f; text-decoration-color: #7f7f7f\"> </span><span style=\"color: #7f7f7f; text-decoration-color: #7f7f7f; font-weight: bold\">(</span><span style=\"color: #7fbfbf; text-decoration-color: #7fbfbf; font-weight: bold\">64</span><span style=\"color: #7f7f7f; text-decoration-color: #7f7f7f\"> earlier lines truncated</span><span style=\"color: #7f7f7f; text-decoration-color: #7f7f7f; font-weight: bold\">)</span>\n",
       "</pre>\n"
      ],
      "text/plain": [
       "\u001b[2;33m...\u001b[0m\u001b[2m \u001b[0m\u001b[1;2m(\u001b[0m\u001b[1;2;36m64\u001b[0m\u001b[2m earlier lines truncated\u001b[0m\u001b[1;2m)\u001b[0m\n"
      ]
     },
     "metadata": {},
     "output_type": "display_data"
    },
    {
     "data": {
      "text/html": [
       "<pre style=\"white-space:pre;overflow-x:auto;line-height:normal;font-family:Menlo,'DejaVu Sans Mono',consolas,'Courier New',monospace\"><span style=\"color: #00ff00; text-decoration-color: #00ff00\">───────────────────────────────────────────────────────────────────────────────────────────────────────────────────</span>\n",
       "</pre>\n"
      ],
      "text/plain": [
       "\u001b[92m───────────────────────────────────────────────────────────────────────────────────────────────────────────────────\u001b[0m\n"
      ]
     },
     "metadata": {},
     "output_type": "display_data"
    },
    {
     "data": {
      "text/html": [
       "<pre style=\"white-space:pre;overflow-x:auto;line-height:normal;font-family:Menlo,'DejaVu Sans Mono',consolas,'Courier New',monospace\"><span style=\"font-weight: bold\">Package:</span> <span style=\"color: #008080; text-decoration-color: #008080\">fityk</span>\n",
       "</pre>\n"
      ],
      "text/plain": [
       "\u001b[1mPackage:\u001b[0m \u001b[36mfityk\u001b[0m\n"
      ]
     },
     "metadata": {},
     "output_type": "display_data"
    },
    {
     "data": {
      "text/html": [
       "<pre style=\"white-space:pre;overflow-x:auto;line-height:normal;font-family:Menlo,'DejaVu Sans Mono',consolas,'Courier New',monospace\"><span style=\"font-weight: bold\">Modified Rebuild STDERR (last </span><span style=\"color: #008080; text-decoration-color: #008080; font-weight: bold\">10</span><span style=\"font-weight: bold\"> lines):</span>\n",
       "</pre>\n"
      ],
      "text/plain": [
       "\u001b[1mModified Rebuild STDERR \u001b[0m\u001b[1m(\u001b[0m\u001b[1mlast \u001b[0m\u001b[1;36m10\u001b[0m\u001b[1m lines\u001b[0m\u001b[1m)\u001b[0m\u001b[1m:\u001b[0m\n"
      ]
     },
     "metadata": {},
     "output_type": "display_data"
    },
    {
     "data": {
      "text/html": [
       "<pre style=\"white-space:pre;overflow-x:auto;line-height:normal;font-family:Menlo,'DejaVu Sans Mono',consolas,'Courier New',monospace\"><span style=\"color: #800080; text-decoration-color: #800080\">/worker/fityk-1.3.2/wxgui/</span><span style=\"color: #ff00ff; text-decoration-color: #ff00ff\">merge.cpp</span>:<span style=\"font-weight: bold\">(</span>.text.startup+<span style=\"color: #008080; text-decoration-color: #008080; font-weight: bold\">0xf0</span><span style=\"font-weight: bold\">)</span>: multiple definition of `__cxx_global_array_dtor'; \n",
       "fityk-cmn.o:<span style=\"color: #800080; text-decoration-color: #800080\">/worker/fityk-1.3.2/wxgui/</span><span style=\"color: #ff00ff; text-decoration-color: #ff00ff\">cmn.cpp</span>:<span style=\"font-weight: bold\">(</span>.text.startup+<span style=\"color: #008080; text-decoration-color: #008080; font-weight: bold\">0xf0</span><span style=\"font-weight: bold\">)</span>: first defined here\n",
       "<span style=\"color: #800080; text-decoration-color: #800080\">/usr/bin/</span><span style=\"color: #ff00ff; text-decoration-color: #ff00ff\">ld</span>: fityk-app.o: in function `__cxx_global_var_init':\n",
       "<span style=\"color: #800080; text-decoration-color: #800080\">/worker/fityk-1.3.2/wxgui/</span><span style=\"color: #ff00ff; text-decoration-color: #ff00ff\">app.cpp</span>:<span style=\"font-weight: bold\">(</span>.text.startup+<span style=\"color: #008080; text-decoration-color: #008080; font-weight: bold\">0x10</span><span style=\"font-weight: bold\">)</span>: multiple definition of `__cxx_global_var_init'; \n",
       "fityk-cmn.o:<span style=\"color: #800080; text-decoration-color: #800080\">/worker/fityk-1.3.2/wxgui/</span><span style=\"color: #ff00ff; text-decoration-color: #ff00ff\">cmn.cpp</span>:<span style=\"font-weight: bold\">(</span>.text.startup+<span style=\"color: #008080; text-decoration-color: #008080; font-weight: bold\">0x10</span><span style=\"font-weight: bold\">)</span>: first defined here\n",
       "collect2: error: ld returned <span style=\"color: #008080; text-decoration-color: #008080; font-weight: bold\">1</span> exit status\n",
       "make<span style=\"font-weight: bold\">[</span><span style=\"color: #008080; text-decoration-color: #008080; font-weight: bold\">3</span><span style=\"font-weight: bold\">]</span>: *** <span style=\"font-weight: bold\">[</span>Makefil<span style=\"color: #00ff00; text-decoration-color: #00ff00; font-weight: bold\">e:661</span>: fityk<span style=\"font-weight: bold\">]</span> Error <span style=\"color: #008080; text-decoration-color: #008080; font-weight: bold\">1</span>\n",
       "make<span style=\"font-weight: bold\">[</span><span style=\"color: #008080; text-decoration-color: #008080; font-weight: bold\">2</span><span style=\"font-weight: bold\">]</span>: *** <span style=\"font-weight: bold\">[</span>Makefil<span style=\"color: #00ff00; text-decoration-color: #00ff00; font-weight: bold\">e:1371</span>: install-recursive<span style=\"font-weight: bold\">]</span> Error <span style=\"color: #008080; text-decoration-color: #008080; font-weight: bold\">1</span>\n",
       "dh_auto_install: error: make -j1 install <span style=\"color: #808000; text-decoration-color: #808000\">DESTDIR</span>=<span style=\"color: #800080; text-decoration-color: #800080\">/worker/fityk-1.3.2/debian/</span><span style=\"color: #ff00ff; text-decoration-color: #ff00ff\">fityk</span> <span style=\"color: #808000; text-decoration-color: #808000\">AM_UPDATE_INFO_DIR</span>=<span style=\"color: #800080; text-decoration-color: #800080\">no</span> returned \n",
       "exit code <span style=\"color: #008080; text-decoration-color: #008080; font-weight: bold\">2</span>\n",
       "make<span style=\"font-weight: bold\">[</span><span style=\"color: #008080; text-decoration-color: #008080; font-weight: bold\">1</span><span style=\"font-weight: bold\">]</span>: *** <span style=\"font-weight: bold\">[</span>debian/rules:<span style=\"color: #008080; text-decoration-color: #008080; font-weight: bold\">17</span>: override_dh_auto_install<span style=\"font-weight: bold\">]</span> Error <span style=\"color: #008080; text-decoration-color: #008080; font-weight: bold\">25</span>\n",
       "make: *** <span style=\"font-weight: bold\">[</span>debian/rules:<span style=\"color: #008080; text-decoration-color: #008080; font-weight: bold\">7</span>: binary<span style=\"font-weight: bold\">]</span> Error <span style=\"color: #008080; text-decoration-color: #008080; font-weight: bold\">2</span>\n",
       "dpkg-buildpackage: error: debian/rules binary subprocess returned exit status <span style=\"color: #008080; text-decoration-color: #008080; font-weight: bold\">2</span>\n",
       "</pre>\n"
      ],
      "text/plain": [
       "\u001b[35m/worker/fityk-1.3.2/wxgui/\u001b[0m\u001b[95mmerge.cpp\u001b[0m:\u001b[1m(\u001b[0m.text.startup+\u001b[1;36m0xf0\u001b[0m\u001b[1m)\u001b[0m: multiple definition of `__cxx_global_array_dtor'; \n",
       "fityk-cmn.o:\u001b[35m/worker/fityk-1.3.2/wxgui/\u001b[0m\u001b[95mcmn.cpp\u001b[0m:\u001b[1m(\u001b[0m.text.startup+\u001b[1;36m0xf0\u001b[0m\u001b[1m)\u001b[0m: first defined here\n",
       "\u001b[35m/usr/bin/\u001b[0m\u001b[95mld\u001b[0m: fityk-app.o: in function `__cxx_global_var_init':\n",
       "\u001b[35m/worker/fityk-1.3.2/wxgui/\u001b[0m\u001b[95mapp.cpp\u001b[0m:\u001b[1m(\u001b[0m.text.startup+\u001b[1;36m0x10\u001b[0m\u001b[1m)\u001b[0m: multiple definition of `__cxx_global_var_init'; \n",
       "fityk-cmn.o:\u001b[35m/worker/fityk-1.3.2/wxgui/\u001b[0m\u001b[95mcmn.cpp\u001b[0m:\u001b[1m(\u001b[0m.text.startup+\u001b[1;36m0x10\u001b[0m\u001b[1m)\u001b[0m: first defined here\n",
       "collect2: error: ld returned \u001b[1;36m1\u001b[0m exit status\n",
       "make\u001b[1m[\u001b[0m\u001b[1;36m3\u001b[0m\u001b[1m]\u001b[0m: *** \u001b[1m[\u001b[0mMakefil\u001b[1;92me:661\u001b[0m: fityk\u001b[1m]\u001b[0m Error \u001b[1;36m1\u001b[0m\n",
       "make\u001b[1m[\u001b[0m\u001b[1;36m2\u001b[0m\u001b[1m]\u001b[0m: *** \u001b[1m[\u001b[0mMakefil\u001b[1;92me:1371\u001b[0m: install-recursive\u001b[1m]\u001b[0m Error \u001b[1;36m1\u001b[0m\n",
       "dh_auto_install: error: make -j1 install \u001b[33mDESTDIR\u001b[0m=\u001b[35m/worker/fityk-1.3.2/debian/\u001b[0m\u001b[95mfityk\u001b[0m \u001b[33mAM_UPDATE_INFO_DIR\u001b[0m=\u001b[35mno\u001b[0m returned \n",
       "exit code \u001b[1;36m2\u001b[0m\n",
       "make\u001b[1m[\u001b[0m\u001b[1;36m1\u001b[0m\u001b[1m]\u001b[0m: *** \u001b[1m[\u001b[0mdebian/rules:\u001b[1;36m17\u001b[0m: override_dh_auto_install\u001b[1m]\u001b[0m Error \u001b[1;36m25\u001b[0m\n",
       "make: *** \u001b[1m[\u001b[0mdebian/rules:\u001b[1;36m7\u001b[0m: binary\u001b[1m]\u001b[0m Error \u001b[1;36m2\u001b[0m\n",
       "dpkg-buildpackage: error: debian/rules binary subprocess returned exit status \u001b[1;36m2\u001b[0m\n"
      ]
     },
     "metadata": {},
     "output_type": "display_data"
    },
    {
     "data": {
      "text/html": [
       "<pre style=\"white-space:pre;overflow-x:auto;line-height:normal;font-family:Menlo,'DejaVu Sans Mono',consolas,'Courier New',monospace\"><span style=\"color: #bfbf7f; text-decoration-color: #bfbf7f\">...</span><span style=\"color: #7f7f7f; text-decoration-color: #7f7f7f\"> </span><span style=\"color: #7f7f7f; text-decoration-color: #7f7f7f; font-weight: bold\">(</span><span style=\"color: #7fbfbf; text-decoration-color: #7fbfbf; font-weight: bold\">64</span><span style=\"color: #7f7f7f; text-decoration-color: #7f7f7f\"> earlier lines truncated</span><span style=\"color: #7f7f7f; text-decoration-color: #7f7f7f; font-weight: bold\">)</span>\n",
       "</pre>\n"
      ],
      "text/plain": [
       "\u001b[2;33m...\u001b[0m\u001b[2m \u001b[0m\u001b[1;2m(\u001b[0m\u001b[1;2;36m64\u001b[0m\u001b[2m earlier lines truncated\u001b[0m\u001b[1;2m)\u001b[0m\n"
      ]
     },
     "metadata": {},
     "output_type": "display_data"
    },
    {
     "data": {
      "text/html": [
       "<pre style=\"white-space:pre;overflow-x:auto;line-height:normal;font-family:Menlo,'DejaVu Sans Mono',consolas,'Courier New',monospace\"><span style=\"color: #00ff00; text-decoration-color: #00ff00\">───────────────────────────────────────────────────────────────────────────────────────────────────────────────────</span>\n",
       "</pre>\n"
      ],
      "text/plain": [
       "\u001b[92m───────────────────────────────────────────────────────────────────────────────────────────────────────────────────\u001b[0m\n"
      ]
     },
     "metadata": {},
     "output_type": "display_data"
    },
    {
     "data": {
      "text/html": [
       "<pre style=\"white-space:pre;overflow-x:auto;line-height:normal;font-family:Menlo,'DejaVu Sans Mono',consolas,'Courier New',monospace\"><span style=\"font-weight: bold\">Package:</span> <span style=\"color: #008080; text-decoration-color: #008080\">xfce4-session</span>\n",
       "</pre>\n"
      ],
      "text/plain": [
       "\u001b[1mPackage:\u001b[0m \u001b[36mxfce4-session\u001b[0m\n"
      ]
     },
     "metadata": {},
     "output_type": "display_data"
    },
    {
     "data": {
      "text/html": [
       "<pre style=\"white-space:pre;overflow-x:auto;line-height:normal;font-family:Menlo,'DejaVu Sans Mono',consolas,'Courier New',monospace\"><span style=\"font-weight: bold\">Modified Rebuild STDERR (last </span><span style=\"color: #008080; text-decoration-color: #008080; font-weight: bold\">10</span><span style=\"font-weight: bold\"> lines):</span>\n",
       "</pre>\n"
      ],
      "text/plain": [
       "\u001b[1mModified Rebuild STDERR \u001b[0m\u001b[1m(\u001b[0m\u001b[1mlast \u001b[0m\u001b[1;36m10\u001b[0m\u001b[1m lines\u001b[0m\u001b[1m)\u001b[0m\u001b[1m:\u001b[0m\n"
      ]
     },
     "metadata": {},
     "output_type": "display_data"
    },
    {
     "data": {
      "text/html": [
       "<pre style=\"white-space:pre;overflow-x:auto;line-height:normal;font-family:Menlo,'DejaVu Sans Mono',consolas,'Courier New',monospace\"><span style=\"color: #800080; text-decoration-color: #800080\">/worker/xfce4-session-4.20.2/settings/</span><span style=\"color: #ff00ff; text-decoration-color: #ff00ff\">xfsm-manager-dbus-client.c</span>:<span style=\"color: #008080; text-decoration-color: #008080; font-weight: bold\">208</span>: multiple definition of \n",
       "`_g_dbus_codegen_marshal_VOID__UINT_UINT'; \n",
       "xfce4_session_settings-xfsm-client-dbus-client.o:<span style=\"color: #800080; text-decoration-color: #800080\">/worker/xfce4-session-4.20.2/settings/</span><span style=\"color: #ff00ff; text-decoration-color: #ff00ff\">xfsm-client-dbus-client.c</span>:<span style=\"color: #008080; text-decoration-color: #008080; font-weight: bold\">20</span>\n",
       "<span style=\"color: #008080; text-decoration-color: #008080; font-weight: bold\">8</span>: first defined here\n",
       "<span style=\"color: #800080; text-decoration-color: #800080\">/usr/bin/</span><span style=\"color: #ff00ff; text-decoration-color: #ff00ff\">ld</span>: xfce4_session_settings-xfsm-manager-dbus-client.o: in function `_changed_property_free':\n",
       "<span style=\"color: #800080; text-decoration-color: #800080\">/worker/xfce4-session-4.20.2/settings/</span><span style=\"color: #ff00ff; text-decoration-color: #ff00ff\">xfsm-manager-dbus-client.c</span>:<span style=\"color: #008080; text-decoration-color: #008080; font-weight: bold\">108</span>: multiple definition of \n",
       "`_changed_property_free'; \n",
       "xfce4_session_settings-xfsm-client-dbus-client.o:<span style=\"color: #800080; text-decoration-color: #800080\">/worker/xfce4-session-4.20.2/settings/</span><span style=\"color: #ff00ff; text-decoration-color: #ff00ff\">xfsm-client-dbus-client.c</span>:<span style=\"color: #008080; text-decoration-color: #008080; font-weight: bold\">10</span>\n",
       "<span style=\"color: #008080; text-decoration-color: #008080; font-weight: bold\">8</span>: first defined here\n",
       "collect2: error: ld returned <span style=\"color: #008080; text-decoration-color: #008080; font-weight: bold\">1</span> exit status\n",
       "make<span style=\"font-weight: bold\">[</span><span style=\"color: #008080; text-decoration-color: #008080; font-weight: bold\">3</span><span style=\"font-weight: bold\">]</span>: *** <span style=\"font-weight: bold\">[</span>Makefil<span style=\"color: #00ff00; text-decoration-color: #00ff00; font-weight: bold\">e:609</span>: xfce4-session-settings<span style=\"font-weight: bold\">]</span> Error <span style=\"color: #008080; text-decoration-color: #008080; font-weight: bold\">1</span>\n",
       "make<span style=\"font-weight: bold\">[</span><span style=\"color: #008080; text-decoration-color: #008080; font-weight: bold\">2</span><span style=\"font-weight: bold\">]</span>: *** <span style=\"font-weight: bold\">[</span>Makefil<span style=\"color: #00ff00; text-decoration-color: #00ff00; font-weight: bold\">e:921</span>: install<span style=\"font-weight: bold\">]</span> Error <span style=\"color: #008080; text-decoration-color: #008080; font-weight: bold\">2</span>\n",
       "make<span style=\"font-weight: bold\">[</span><span style=\"color: #008080; text-decoration-color: #008080; font-weight: bold\">1</span><span style=\"font-weight: bold\">]</span>: *** <span style=\"font-weight: bold\">[</span>Makefil<span style=\"color: #00ff00; text-decoration-color: #00ff00; font-weight: bold\">e:617</span>: install-recursive<span style=\"font-weight: bold\">]</span> Error <span style=\"color: #008080; text-decoration-color: #008080; font-weight: bold\">1</span>\n",
       "dh_auto_install: error: make -j1 install <span style=\"color: #808000; text-decoration-color: #808000\">DESTDIR</span>=<span style=\"color: #800080; text-decoration-color: #800080\">/worker/xfce4-session-4.20.2/debian/</span><span style=\"color: #ff00ff; text-decoration-color: #ff00ff\">xfce4-session</span> \n",
       "<span style=\"color: #808000; text-decoration-color: #808000\">AM_UPDATE_INFO_DIR</span>=<span style=\"color: #800080; text-decoration-color: #800080\">no</span> returned exit code <span style=\"color: #008080; text-decoration-color: #008080; font-weight: bold\">2</span>\n",
       "make: *** <span style=\"font-weight: bold\">[</span>debian/rules:<span style=\"color: #008080; text-decoration-color: #008080; font-weight: bold\">16</span>: binary<span style=\"font-weight: bold\">]</span> Error <span style=\"color: #008080; text-decoration-color: #008080; font-weight: bold\">25</span>\n",
       "dpkg-buildpackage: error: debian/rules binary subprocess returned exit status <span style=\"color: #008080; text-decoration-color: #008080; font-weight: bold\">2</span>\n",
       "</pre>\n"
      ],
      "text/plain": [
       "\u001b[35m/worker/xfce4-session-4.20.2/settings/\u001b[0m\u001b[95mxfsm-manager-dbus-client.c\u001b[0m:\u001b[1;36m208\u001b[0m: multiple definition of \n",
       "`_g_dbus_codegen_marshal_VOID__UINT_UINT'; \n",
       "xfce4_session_settings-xfsm-client-dbus-client.o:\u001b[35m/worker/xfce4-session-4.20.2/settings/\u001b[0m\u001b[95mxfsm-client-dbus-client.c\u001b[0m:\u001b[1;36m20\u001b[0m\n",
       "\u001b[1;36m8\u001b[0m: first defined here\n",
       "\u001b[35m/usr/bin/\u001b[0m\u001b[95mld\u001b[0m: xfce4_session_settings-xfsm-manager-dbus-client.o: in function `_changed_property_free':\n",
       "\u001b[35m/worker/xfce4-session-4.20.2/settings/\u001b[0m\u001b[95mxfsm-manager-dbus-client.c\u001b[0m:\u001b[1;36m108\u001b[0m: multiple definition of \n",
       "`_changed_property_free'; \n",
       "xfce4_session_settings-xfsm-client-dbus-client.o:\u001b[35m/worker/xfce4-session-4.20.2/settings/\u001b[0m\u001b[95mxfsm-client-dbus-client.c\u001b[0m:\u001b[1;36m10\u001b[0m\n",
       "\u001b[1;36m8\u001b[0m: first defined here\n",
       "collect2: error: ld returned \u001b[1;36m1\u001b[0m exit status\n",
       "make\u001b[1m[\u001b[0m\u001b[1;36m3\u001b[0m\u001b[1m]\u001b[0m: *** \u001b[1m[\u001b[0mMakefil\u001b[1;92me:609\u001b[0m: xfce4-session-settings\u001b[1m]\u001b[0m Error \u001b[1;36m1\u001b[0m\n",
       "make\u001b[1m[\u001b[0m\u001b[1;36m2\u001b[0m\u001b[1m]\u001b[0m: *** \u001b[1m[\u001b[0mMakefil\u001b[1;92me:921\u001b[0m: install\u001b[1m]\u001b[0m Error \u001b[1;36m2\u001b[0m\n",
       "make\u001b[1m[\u001b[0m\u001b[1;36m1\u001b[0m\u001b[1m]\u001b[0m: *** \u001b[1m[\u001b[0mMakefil\u001b[1;92me:617\u001b[0m: install-recursive\u001b[1m]\u001b[0m Error \u001b[1;36m1\u001b[0m\n",
       "dh_auto_install: error: make -j1 install \u001b[33mDESTDIR\u001b[0m=\u001b[35m/worker/xfce4-session-4.20.2/debian/\u001b[0m\u001b[95mxfce4-session\u001b[0m \n",
       "\u001b[33mAM_UPDATE_INFO_DIR\u001b[0m=\u001b[35mno\u001b[0m returned exit code \u001b[1;36m2\u001b[0m\n",
       "make: *** \u001b[1m[\u001b[0mdebian/rules:\u001b[1;36m16\u001b[0m: binary\u001b[1m]\u001b[0m Error \u001b[1;36m25\u001b[0m\n",
       "dpkg-buildpackage: error: debian/rules binary subprocess returned exit status \u001b[1;36m2\u001b[0m\n"
      ]
     },
     "metadata": {},
     "output_type": "display_data"
    },
    {
     "data": {
      "text/html": [
       "<pre style=\"white-space:pre;overflow-x:auto;line-height:normal;font-family:Menlo,'DejaVu Sans Mono',consolas,'Courier New',monospace\"><span style=\"color: #bfbf7f; text-decoration-color: #bfbf7f\">...</span><span style=\"color: #7f7f7f; text-decoration-color: #7f7f7f\"> </span><span style=\"color: #7f7f7f; text-decoration-color: #7f7f7f; font-weight: bold\">(</span><span style=\"color: #7fbfbf; text-decoration-color: #7fbfbf; font-weight: bold\">5</span><span style=\"color: #7f7f7f; text-decoration-color: #7f7f7f\"> earlier lines truncated</span><span style=\"color: #7f7f7f; text-decoration-color: #7f7f7f; font-weight: bold\">)</span>\n",
       "</pre>\n"
      ],
      "text/plain": [
       "\u001b[2;33m...\u001b[0m\u001b[2m \u001b[0m\u001b[1;2m(\u001b[0m\u001b[1;2;36m5\u001b[0m\u001b[2m earlier lines truncated\u001b[0m\u001b[1;2m)\u001b[0m\n"
      ]
     },
     "metadata": {},
     "output_type": "display_data"
    },
    {
     "data": {
      "text/html": [
       "<pre style=\"white-space:pre;overflow-x:auto;line-height:normal;font-family:Menlo,'DejaVu Sans Mono',consolas,'Courier New',monospace\"><span style=\"color: #00ff00; text-decoration-color: #00ff00\">───────────────────────────────────────────────────────────────────────────────────────────────────────────────────</span>\n",
       "</pre>\n"
      ],
      "text/plain": [
       "\u001b[92m───────────────────────────────────────────────────────────────────────────────────────────────────────────────────\u001b[0m\n"
      ]
     },
     "metadata": {},
     "output_type": "display_data"
    },
    {
     "data": {
      "text/html": [
       "<pre style=\"white-space:pre;overflow-x:auto;line-height:normal;font-family:Menlo,'DejaVu Sans Mono',consolas,'Courier New',monospace\"><span style=\"font-weight: bold\">Package:</span> <span style=\"color: #008080; text-decoration-color: #008080\">knews</span>\n",
       "</pre>\n"
      ],
      "text/plain": [
       "\u001b[1mPackage:\u001b[0m \u001b[36mknews\u001b[0m\n"
      ]
     },
     "metadata": {},
     "output_type": "display_data"
    },
    {
     "data": {
      "text/html": [
       "<pre style=\"white-space:pre;overflow-x:auto;line-height:normal;font-family:Menlo,'DejaVu Sans Mono',consolas,'Courier New',monospace\"><span style=\"font-weight: bold\">Modified Rebuild STDERR (last </span><span style=\"color: #008080; text-decoration-color: #008080; font-weight: bold\">10</span><span style=\"font-weight: bold\"> lines):</span>\n",
       "</pre>\n"
      ],
      "text/plain": [
       "\u001b[1mModified Rebuild STDERR \u001b[0m\u001b[1m(\u001b[0m\u001b[1mlast \u001b[0m\u001b[1;36m10\u001b[0m\u001b[1m lines\u001b[0m\u001b[1m)\u001b[0m\u001b[1m:\u001b[0m\n"
      ]
     },
     "metadata": {},
     "output_type": "display_data"
    },
    {
     "data": {
      "text/html": [
       "<pre style=\"white-space:pre;overflow-x:auto;line-height:normal;font-family:Menlo,'DejaVu Sans Mono',consolas,'Courier New',monospace\"><span style=\"color: #800080; text-decoration-color: #800080\">/worker/knews-1.0b.1/src/</span><span style=\"color: #ff00ff; text-decoration-color: #ff00ff\">search.c</span>:<span style=\"color: #008080; text-decoration-color: #008080; font-weight: bold\">740</span>: multiple definition of `scope_callback'; \n",
       "k_edit.o:<span style=\"color: #800080; text-decoration-color: #800080\">/worker/knews-1.0b.1/src/</span><span style=\"color: #ff00ff; text-decoration-color: #ff00ff\">k_edit.c</span>:<span style=\"color: #008080; text-decoration-color: #008080; font-weight: bold\">299</span>: first defined here\n",
       "<span style=\"color: #800080; text-decoration-color: #800080\">/usr/bin/</span><span style=\"color: #ff00ff; text-decoration-color: #ff00ff\">ld</span>: <span style=\"color: #800080; text-decoration-color: #800080\">/usr/bin/</span><span style=\"color: #ff00ff; text-decoration-color: #ff00ff\">ld</span>: DWARF error: mangled line number section <span style=\"font-weight: bold\">(</span>bad file number<span style=\"font-weight: bold\">)</span>\n",
       "file.o: in function `create_temp_fd':\n",
       "<span style=\"color: #800080; text-decoration-color: #800080\">/worker/knews-1.0b.1/src/</span><span style=\"color: #ff00ff; text-decoration-color: #ff00ff\">file.c</span>:<span style=\"color: #008080; text-decoration-color: #008080; font-weight: bold\">189</span>:<span style=\"font-weight: bold\">(</span>.text+<span style=\"color: #008080; text-decoration-color: #008080; font-weight: bold\">0x4ef</span><span style=\"font-weight: bold\">)</span>: warning: the use of `tmpnam' is dangerous, better use `mkstemp'\n",
       "collect2: error: ld returned <span style=\"color: #008080; text-decoration-color: #008080; font-weight: bold\">1</span> exit status\n",
       "make<span style=\"font-weight: bold\">[</span><span style=\"color: #008080; text-decoration-color: #008080; font-weight: bold\">3</span><span style=\"font-weight: bold\">]</span>: *** <span style=\"font-weight: bold\">[</span>Makefil<span style=\"color: #00ff00; text-decoration-color: #00ff00; font-weight: bold\">e:1076</span>: knews<span style=\"font-weight: bold\">]</span> Error <span style=\"color: #008080; text-decoration-color: #008080; font-weight: bold\">1</span>\n",
       "make<span style=\"font-weight: bold\">[</span><span style=\"color: #008080; text-decoration-color: #008080; font-weight: bold\">2</span><span style=\"font-weight: bold\">]</span>: *** <span style=\"font-weight: bold\">[</span>Makefil<span style=\"color: #00ff00; text-decoration-color: #00ff00; font-weight: bold\">e:1127</span>: install<span style=\"font-weight: bold\">]</span> Error <span style=\"color: #008080; text-decoration-color: #008080; font-weight: bold\">2</span>\n",
       "make<span style=\"font-weight: bold\">[</span><span style=\"color: #008080; text-decoration-color: #008080; font-weight: bold\">1</span><span style=\"font-weight: bold\">]</span>: *** <span style=\"font-weight: bold\">[</span>debian/rules:<span style=\"color: #008080; text-decoration-color: #008080; font-weight: bold\">23</span>: override_dh_auto_install<span style=\"font-weight: bold\">]</span> Error <span style=\"color: #008080; text-decoration-color: #008080; font-weight: bold\">2</span>\n",
       "make: *** <span style=\"font-weight: bold\">[</span>debian/rules:<span style=\"color: #008080; text-decoration-color: #008080; font-weight: bold\">3</span>: binary<span style=\"font-weight: bold\">]</span> Error <span style=\"color: #008080; text-decoration-color: #008080; font-weight: bold\">2</span>\n",
       "dpkg-buildpackage: error: debian/rules binary subprocess returned exit status <span style=\"color: #008080; text-decoration-color: #008080; font-weight: bold\">2</span>\n",
       "</pre>\n"
      ],
      "text/plain": [
       "\u001b[35m/worker/knews-1.0b.1/src/\u001b[0m\u001b[95msearch.c\u001b[0m:\u001b[1;36m740\u001b[0m: multiple definition of `scope_callback'; \n",
       "k_edit.o:\u001b[35m/worker/knews-1.0b.1/src/\u001b[0m\u001b[95mk_edit.c\u001b[0m:\u001b[1;36m299\u001b[0m: first defined here\n",
       "\u001b[35m/usr/bin/\u001b[0m\u001b[95mld\u001b[0m: \u001b[35m/usr/bin/\u001b[0m\u001b[95mld\u001b[0m: DWARF error: mangled line number section \u001b[1m(\u001b[0mbad file number\u001b[1m)\u001b[0m\n",
       "file.o: in function `create_temp_fd':\n",
       "\u001b[35m/worker/knews-1.0b.1/src/\u001b[0m\u001b[95mfile.c\u001b[0m:\u001b[1;36m189\u001b[0m:\u001b[1m(\u001b[0m.text+\u001b[1;36m0x4ef\u001b[0m\u001b[1m)\u001b[0m: warning: the use of `tmpnam' is dangerous, better use `mkstemp'\n",
       "collect2: error: ld returned \u001b[1;36m1\u001b[0m exit status\n",
       "make\u001b[1m[\u001b[0m\u001b[1;36m3\u001b[0m\u001b[1m]\u001b[0m: *** \u001b[1m[\u001b[0mMakefil\u001b[1;92me:1076\u001b[0m: knews\u001b[1m]\u001b[0m Error \u001b[1;36m1\u001b[0m\n",
       "make\u001b[1m[\u001b[0m\u001b[1;36m2\u001b[0m\u001b[1m]\u001b[0m: *** \u001b[1m[\u001b[0mMakefil\u001b[1;92me:1127\u001b[0m: install\u001b[1m]\u001b[0m Error \u001b[1;36m2\u001b[0m\n",
       "make\u001b[1m[\u001b[0m\u001b[1;36m1\u001b[0m\u001b[1m]\u001b[0m: *** \u001b[1m[\u001b[0mdebian/rules:\u001b[1;36m23\u001b[0m: override_dh_auto_install\u001b[1m]\u001b[0m Error \u001b[1;36m2\u001b[0m\n",
       "make: *** \u001b[1m[\u001b[0mdebian/rules:\u001b[1;36m3\u001b[0m: binary\u001b[1m]\u001b[0m Error \u001b[1;36m2\u001b[0m\n",
       "dpkg-buildpackage: error: debian/rules binary subprocess returned exit status \u001b[1;36m2\u001b[0m\n"
      ]
     },
     "metadata": {},
     "output_type": "display_data"
    },
    {
     "data": {
      "text/html": [
       "<pre style=\"white-space:pre;overflow-x:auto;line-height:normal;font-family:Menlo,'DejaVu Sans Mono',consolas,'Courier New',monospace\"><span style=\"color: #bfbf7f; text-decoration-color: #bfbf7f\">...</span><span style=\"color: #7f7f7f; text-decoration-color: #7f7f7f\"> </span><span style=\"color: #7f7f7f; text-decoration-color: #7f7f7f; font-weight: bold\">(</span><span style=\"color: #7fbfbf; text-decoration-color: #7fbfbf; font-weight: bold\">19</span><span style=\"color: #7f7f7f; text-decoration-color: #7f7f7f\"> earlier lines truncated</span><span style=\"color: #7f7f7f; text-decoration-color: #7f7f7f; font-weight: bold\">)</span>\n",
       "</pre>\n"
      ],
      "text/plain": [
       "\u001b[2;33m...\u001b[0m\u001b[2m \u001b[0m\u001b[1;2m(\u001b[0m\u001b[1;2;36m19\u001b[0m\u001b[2m earlier lines truncated\u001b[0m\u001b[1;2m)\u001b[0m\n"
      ]
     },
     "metadata": {},
     "output_type": "display_data"
    },
    {
     "data": {
      "text/html": [
       "<pre style=\"white-space:pre;overflow-x:auto;line-height:normal;font-family:Menlo,'DejaVu Sans Mono',consolas,'Courier New',monospace\"><span style=\"color: #00ff00; text-decoration-color: #00ff00\">───────────────────────────────────────────────────────────────────────────────────────────────────────────────────</span>\n",
       "</pre>\n"
      ],
      "text/plain": [
       "\u001b[92m───────────────────────────────────────────────────────────────────────────────────────────────────────────────────\u001b[0m\n"
      ]
     },
     "metadata": {},
     "output_type": "display_data"
    },
    {
     "data": {
      "text/html": [
       "<pre style=\"white-space:pre;overflow-x:auto;line-height:normal;font-family:Menlo,'DejaVu Sans Mono',consolas,'Courier New',monospace\"><span style=\"font-weight: bold\">Package:</span> <span style=\"color: #008080; text-decoration-color: #008080\">form</span>\n",
       "</pre>\n"
      ],
      "text/plain": [
       "\u001b[1mPackage:\u001b[0m \u001b[36mform\u001b[0m\n"
      ]
     },
     "metadata": {},
     "output_type": "display_data"
    },
    {
     "data": {
      "text/html": [
       "<pre style=\"white-space:pre;overflow-x:auto;line-height:normal;font-family:Menlo,'DejaVu Sans Mono',consolas,'Courier New',monospace\"><span style=\"font-weight: bold\">Modified Rebuild STDERR (last </span><span style=\"color: #008080; text-decoration-color: #008080; font-weight: bold\">10</span><span style=\"font-weight: bold\"> lines):</span>\n",
       "</pre>\n"
      ],
      "text/plain": [
       "\u001b[1mModified Rebuild STDERR \u001b[0m\u001b[1m(\u001b[0m\u001b[1mlast \u001b[0m\u001b[1;36m10\u001b[0m\u001b[1m lines\u001b[0m\u001b[1m)\u001b[0m\u001b[1m:\u001b[0m\n"
      ]
     },
     "metadata": {},
     "output_type": "display_data"
    },
    {
     "data": {
      "text/html": [
       "<pre style=\"white-space:pre;overflow-x:auto;line-height:normal;font-family:Menlo,'DejaVu Sans Mono',consolas,'Courier New',monospace\">make<span style=\"font-weight: bold\">[</span><span style=\"color: #008080; text-decoration-color: #008080; font-weight: bold\">3</span><span style=\"font-weight: bold\">]</span>: *** Waiting for unfinished jobs<span style=\"color: #808000; text-decoration-color: #808000\">...</span>.\n",
       "collect2: error: ld returned <span style=\"color: #008080; text-decoration-color: #008080; font-weight: bold\">1</span> exit status\n",
       "make<span style=\"font-weight: bold\">[</span><span style=\"color: #008080; text-decoration-color: #008080; font-weight: bold\">3</span><span style=\"font-weight: bold\">]</span>: *** <span style=\"font-weight: bold\">[</span>Makefil<span style=\"color: #00ff00; text-decoration-color: #00ff00; font-weight: bold\">e:977</span>: tform<span style=\"font-weight: bold\">]</span> Error <span style=\"color: #008080; text-decoration-color: #008080; font-weight: bold\">1</span>\n",
       "collect2: error: ld returned <span style=\"color: #008080; text-decoration-color: #008080; font-weight: bold\">1</span> exit status\n",
       "make<span style=\"font-weight: bold\">[</span><span style=\"color: #008080; text-decoration-color: #008080; font-weight: bold\">3</span><span style=\"font-weight: bold\">]</span>: *** <span style=\"font-weight: bold\">[</span>Makefil<span style=\"color: #00ff00; text-decoration-color: #00ff00; font-weight: bold\">e:969</span>: parform<span style=\"font-weight: bold\">]</span> Error <span style=\"color: #008080; text-decoration-color: #008080; font-weight: bold\">1</span>\n",
       "make<span style=\"font-weight: bold\">[</span><span style=\"color: #008080; text-decoration-color: #008080; font-weight: bold\">2</span><span style=\"font-weight: bold\">]</span>: *** <span style=\"font-weight: bold\">[</span>Makefil<span style=\"color: #00ff00; text-decoration-color: #00ff00; font-weight: bold\">e:411</span>: install-recursive<span style=\"font-weight: bold\">]</span> Error <span style=\"color: #008080; text-decoration-color: #008080; font-weight: bold\">1</span>\n",
       "dh_auto_install: error: make -j20 install <span style=\"color: #808000; text-decoration-color: #808000\">DESTDIR</span>=<span style=\"color: #800080; text-decoration-color: #800080\">/worker/</span><span style=\"color: #ff00ff; text-decoration-color: #ff00ff\">form-4.3.1</span>\\+git20250227\\+ds/debian/tmp \n",
       "<span style=\"color: #808000; text-decoration-color: #808000\">AM_UPDATE_INFO_DIR</span>=<span style=\"color: #800080; text-decoration-color: #800080\">no</span> returned exit code <span style=\"color: #008080; text-decoration-color: #008080; font-weight: bold\">2</span>\n",
       "make<span style=\"font-weight: bold\">[</span><span style=\"color: #008080; text-decoration-color: #008080; font-weight: bold\">1</span><span style=\"font-weight: bold\">]</span>: *** <span style=\"font-weight: bold\">[</span>debian/rules:<span style=\"color: #008080; text-decoration-color: #008080; font-weight: bold\">22</span>: override_dh_auto_install<span style=\"font-weight: bold\">]</span> Error <span style=\"color: #008080; text-decoration-color: #008080; font-weight: bold\">25</span>\n",
       "make: *** <span style=\"font-weight: bold\">[</span>debian/rules:<span style=\"color: #008080; text-decoration-color: #008080; font-weight: bold\">11</span>: binary<span style=\"font-weight: bold\">]</span> Error <span style=\"color: #008080; text-decoration-color: #008080; font-weight: bold\">2</span>\n",
       "dpkg-buildpackage: error: debian/rules binary subprocess returned exit status <span style=\"color: #008080; text-decoration-color: #008080; font-weight: bold\">2</span>\n",
       "</pre>\n"
      ],
      "text/plain": [
       "make\u001b[1m[\u001b[0m\u001b[1;36m3\u001b[0m\u001b[1m]\u001b[0m: *** Waiting for unfinished jobs\u001b[33m...\u001b[0m.\n",
       "collect2: error: ld returned \u001b[1;36m1\u001b[0m exit status\n",
       "make\u001b[1m[\u001b[0m\u001b[1;36m3\u001b[0m\u001b[1m]\u001b[0m: *** \u001b[1m[\u001b[0mMakefil\u001b[1;92me:977\u001b[0m: tform\u001b[1m]\u001b[0m Error \u001b[1;36m1\u001b[0m\n",
       "collect2: error: ld returned \u001b[1;36m1\u001b[0m exit status\n",
       "make\u001b[1m[\u001b[0m\u001b[1;36m3\u001b[0m\u001b[1m]\u001b[0m: *** \u001b[1m[\u001b[0mMakefil\u001b[1;92me:969\u001b[0m: parform\u001b[1m]\u001b[0m Error \u001b[1;36m1\u001b[0m\n",
       "make\u001b[1m[\u001b[0m\u001b[1;36m2\u001b[0m\u001b[1m]\u001b[0m: *** \u001b[1m[\u001b[0mMakefil\u001b[1;92me:411\u001b[0m: install-recursive\u001b[1m]\u001b[0m Error \u001b[1;36m1\u001b[0m\n",
       "dh_auto_install: error: make -j20 install \u001b[33mDESTDIR\u001b[0m=\u001b[35m/worker/\u001b[0m\u001b[95mform-4.3.1\u001b[0m\\+git20250227\\+ds/debian/tmp \n",
       "\u001b[33mAM_UPDATE_INFO_DIR\u001b[0m=\u001b[35mno\u001b[0m returned exit code \u001b[1;36m2\u001b[0m\n",
       "make\u001b[1m[\u001b[0m\u001b[1;36m1\u001b[0m\u001b[1m]\u001b[0m: *** \u001b[1m[\u001b[0mdebian/rules:\u001b[1;36m22\u001b[0m: override_dh_auto_install\u001b[1m]\u001b[0m Error \u001b[1;36m25\u001b[0m\n",
       "make: *** \u001b[1m[\u001b[0mdebian/rules:\u001b[1;36m11\u001b[0m: binary\u001b[1m]\u001b[0m Error \u001b[1;36m2\u001b[0m\n",
       "dpkg-buildpackage: error: debian/rules binary subprocess returned exit status \u001b[1;36m2\u001b[0m\n"
      ]
     },
     "metadata": {},
     "output_type": "display_data"
    },
    {
     "data": {
      "text/html": [
       "<pre style=\"white-space:pre;overflow-x:auto;line-height:normal;font-family:Menlo,'DejaVu Sans Mono',consolas,'Courier New',monospace\"><span style=\"color: #bfbf7f; text-decoration-color: #bfbf7f\">...</span><span style=\"color: #7f7f7f; text-decoration-color: #7f7f7f\"> </span><span style=\"color: #7f7f7f; text-decoration-color: #7f7f7f; font-weight: bold\">(</span><span style=\"color: #7fbfbf; text-decoration-color: #7fbfbf; font-weight: bold\">22</span><span style=\"color: #7f7f7f; text-decoration-color: #7f7f7f\"> earlier lines truncated</span><span style=\"color: #7f7f7f; text-decoration-color: #7f7f7f; font-weight: bold\">)</span>\n",
       "</pre>\n"
      ],
      "text/plain": [
       "\u001b[2;33m...\u001b[0m\u001b[2m \u001b[0m\u001b[1;2m(\u001b[0m\u001b[1;2;36m22\u001b[0m\u001b[2m earlier lines truncated\u001b[0m\u001b[1;2m)\u001b[0m\n"
      ]
     },
     "metadata": {},
     "output_type": "display_data"
    },
    {
     "data": {
      "text/html": [
       "<pre style=\"white-space:pre;overflow-x:auto;line-height:normal;font-family:Menlo,'DejaVu Sans Mono',consolas,'Courier New',monospace\"><span style=\"color: #00ff00; text-decoration-color: #00ff00\">───────────────────────────────────────────────────────────────────────────────────────────────────────────────────</span>\n",
       "</pre>\n"
      ],
      "text/plain": [
       "\u001b[92m───────────────────────────────────────────────────────────────────────────────────────────────────────────────────\u001b[0m\n"
      ]
     },
     "metadata": {},
     "output_type": "display_data"
    }
   ],
   "source": [
    "# Rebuild and Modified Rebuild Analysis\n",
    "\n",
    "console.print(\"\\n[bold][cyan]Rebuild and Modified Rebuild Analysis - Package Behavior after Triggering Linking Phase for modified and non-modified packages [/cyan][/bold]\", style=\"bold\")\n",
    "\n",
    "\n",
    "console.print(\"[bold][cyan]Rebuild Return Code Analysis:[/cyan][/bold]\", style=\"bold\")\n",
    "\n",
    "rebuild_stats = (df\n",
    "                .group_by(\"rebuild_returncode\")\n",
    "                .agg([pl.len().alias(\"count\"),\n",
    "                    (pl.len() / df.shape[0] * 100).round(2).alias(\"percentage\")])\n",
    "                .sort(\"rebuild_returncode\"))\n",
    "\n",
    "\n",
    "rebuild_table = Table(title=\"Rebuild Return Code Distribution\", show_header=True, header_style=\"bold magenta\")\n",
    "rebuild_table.add_column(\"Rebuild Return Code\", style=\"cyan\", no_wrap=True)\n",
    "rebuild_table.add_column(\"Count\", style=\"green\", justify=\"right\")\n",
    "rebuild_table.add_column(\"Percentage (%)\", style=\"green\", justify=\"right\")\n",
    "\n",
    "for row in rebuild_stats.iter_rows():\n",
    "    return_code, count, percentage = row\n",
    "    rebuild_table.add_row(\n",
    "        str(return_code),\n",
    "        f\"{count}\",\n",
    "        f\"{percentage}%\"\n",
    "    )\n",
    "\n",
    "console.print(rebuild_table)\n",
    "\n",
    "# Modified Rebuild Return Code Analysis\n",
    "\n",
    "console.print(\"[bold][cyan]Modified Rebuild Return Code Analysis:[/cyan][/bold]\", style=\"bold\")\n",
    "\n",
    "modified_rebuild_stats = (df\n",
    "                .group_by(\"modified_rebuild_returncode\")\n",
    "                .agg([pl.len().alias(\"count\"),\n",
    "                    (pl.len() / df.shape[0] * 100).round(2).alias(\"percentage\")])\n",
    "                .sort(\"modified_rebuild_returncode\"))\n",
    "\n",
    "modified_rebuild_table = Table(title=\"Modified Rebuild Return Code Distribution\", show_header=True, header_style=\"bold magenta\")\n",
    "modified_rebuild_table.add_column(\"Modified Rebuild Return Code\", style=\"cyan\", no_wrap=True)\n",
    "modified_rebuild_table.add_column(\"Count\", style=\"green\", justify=\"right\")\n",
    "modified_rebuild_table.add_column(\"Percentage (%)\", style=\"green\", justify=\"right\")\n",
    "\n",
    "for row in modified_rebuild_stats.iter_rows():\n",
    "    return_code, count, percentage = row\n",
    "    modified_rebuild_table.add_row(\n",
    "        str(return_code),\n",
    "        f\"{count}\",\n",
    "        f\"{percentage}%\"\n",
    "    )\n",
    "\n",
    "console.print(modified_rebuild_table)\n",
    "\n",
    "\n",
    "# Failed Rebuild Details\n",
    "\n",
    "console.print(\"\\n[bold][cyan]Failed Rebuild Details for max 10 random Packages:[/cyan][/bold]\", style=\"bold\")\n",
    "\n",
    "failed_rebuild_df = df.filter(pl.col(\"rebuild_returncode\") == 2).select([\n",
    "    \"name\",\n",
    "    \"rebuild_stderr\",\n",
    "])\n",
    "\n",
    "if failed_rebuild_df.height > 0:\n",
    "    failed_rebuilds = failed_rebuild_df.sample(n=min(10, failed_rebuild_df.height), with_replacement=False)\n",
    "    \n",
    "    for row in failed_rebuilds.iter_rows():\n",
    "        name, stderr = row\n",
    "        console.print(f\"[bold]Package:[/bold] [cyan]{name}[/cyan]\")\n",
    "        \n",
    "        if stderr:\n",
    "            stderr_lines = stderr.strip().split('\\n')\n",
    "            if len(stderr_lines) > 10:\n",
    "                shown_stderr = '\\n'.join(stderr_lines[-10:])\n",
    "                console.print(f\"[bold]Rebuild STDERR (last 10 lines):[/bold]\")\n",
    "                console.print(shown_stderr, markup=False)\n",
    "                console.print(f\"[dim]... ({len(stderr_lines) - 10} earlier lines truncated)[/dim]\")\n",
    "            else:\n",
    "                console.print(f\"[bold]Rebuild STDERR:[/bold]\")\n",
    "                console.print(stderr, markup=False)\n",
    "        else:\n",
    "            console.print(\"[bold]Rebuild STDERR:[/bold] [yellow]No error message[/yellow]\")\n",
    "        \n",
    "        console.rule()\n",
    "else:\n",
    "    console.print(\"[green]No failed rebuilds found.[/green]\")\n",
    "\n",
    "# Modified Rebuild Failed Details\n",
    "\n",
    "console.print(\"\\n[bold][cyan]Modified Rebuild Failed Details for max 10 random Packages:[/cyan][/bold]\", style=\"bold\")\n",
    "\n",
    "modified_failed_rebuild_df = df.filter(pl.col(\"modified_rebuild_returncode\") == 2).select([\n",
    "    \"name\",\n",
    "    \"modified_rebuild_stderr\",\n",
    "])\n",
    "\n",
    "if modified_failed_rebuild_df.height > 0:\n",
    "    modified_failed_rebuilds = modified_failed_rebuild_df.sample(n=min(10, modified_failed_rebuild_df.height), with_replacement=False)\n",
    "    \n",
    "    for row in modified_failed_rebuilds.iter_rows():\n",
    "        name, stderr = row\n",
    "        console.print(f\"[bold]Package:[/bold] [cyan]{name}[/cyan]\")\n",
    "        \n",
    "        if stderr:\n",
    "            stderr_lines = stderr.strip().split('\\n')\n",
    "            if len(stderr_lines) > 10:\n",
    "                shown_stderr = '\\n'.join(stderr_lines[-10:])\n",
    "                console.print(f\"[bold]Modified Rebuild STDERR (last 10 lines):[/bold]\")\n",
    "                console.print(shown_stderr, markup=False)\n",
    "                console.print(f\"[dim]... ({len(stderr_lines) - 10} earlier lines truncated)[/dim]\")\n",
    "            else:\n",
    "                console.print(f\"[bold]Modified Rebuild STDERR:[/bold]\")\n",
    "                console.print(stderr, markup=False)\n",
    "        else:\n",
    "            console.print(\"[bold]Modified Rebuild STDERR:[/bold] [yellow]No error message[/yellow]\")\n",
    "        \n",
    "        console.rule()\n",
    "else:\n",
    "    console.print(\"[green]No failed modified rebuilds found.[/green]\")"
   ]
  },
  {
   "cell_type": "code",
   "execution_count": 25,
   "id": "06a410e8",
   "metadata": {},
   "outputs": [
    {
     "data": {
      "text/html": [
       "<pre style=\"white-space:pre;overflow-x:auto;line-height:normal;font-family:Menlo,'DejaVu Sans Mono',consolas,'Courier New',monospace\">\n",
       "<span style=\"color: #008080; text-decoration-color: #008080; font-weight: bold\">Comprehensive Build and Test Pipeline Analysis:</span>\n",
       "</pre>\n"
      ],
      "text/plain": [
       "\n",
       "\u001b[1;36mComprehensive Build and Test Pipeline Analysis:\u001b[0m\n"
      ]
     },
     "metadata": {},
     "output_type": "display_data"
    },
    {
     "data": {
      "text/html": [
       "<pre style=\"white-space:pre;overflow-x:auto;line-height:normal;font-family:Menlo,'DejaVu Sans Mono',consolas,'Courier New',monospace\"><span style=\"font-style: italic\">                 Complete Build and Test Pipeline Analysis                 </span>\n",
       "┏━━━━━━━━━━━━━━━━━━━━━━━━━━━━━━━━━━━━━━━━━━━━━━━━━━━━┳━━━━━━━┳━━━━━━━━━━━━┓\n",
       "┃<span style=\"color: #800080; text-decoration-color: #800080; font-weight: bold\"> Pipeline Stage                                     </span>┃<span style=\"color: #800080; text-decoration-color: #800080; font-weight: bold\"> Count </span>┃<span style=\"color: #800080; text-decoration-color: #800080; font-weight: bold\"> Percentage </span>┃\n",
       "┡━━━━━━━━━━━━━━━━━━━━━━━━━━━━━━━━━━━━━━━━━━━━━━━━━━━━╇━━━━━━━╇━━━━━━━━━━━━┩\n",
       "│<span style=\"color: #c0c0c0; text-decoration-color: #c0c0c0\"> Total Packages                                     </span>│<span style=\"color: #c0c0c0; text-decoration-color: #c0c0c0\">   101 </span>│<span style=\"color: #c0c0c0; text-decoration-color: #c0c0c0\">    100.00% </span>│\n",
       "│<span style=\"color: #c0c0c0; text-decoration-color: #c0c0c0\"> ├─ Successful Original Builds                      </span>│<span style=\"color: #c0c0c0; text-decoration-color: #c0c0c0\">    90 </span>│<span style=\"color: #c0c0c0; text-decoration-color: #c0c0c0\">     89.11% </span>│\n",
       "│<span style=\"color: #c0c0c0; text-decoration-color: #c0c0c0\"> (build_return_code=0)                              </span>│<span style=\"color: #c0c0c0; text-decoration-color: #c0c0c0\">       </span>│<span style=\"color: #c0c0c0; text-decoration-color: #c0c0c0\">            </span>│\n",
       "│<span style=\"color: #c0c0c0; text-decoration-color: #c0c0c0\"> │  ├─ No Tests Detected (test_detected=0)          </span>│<span style=\"color: #c0c0c0; text-decoration-color: #c0c0c0\">    65 </span>│<span style=\"color: #c0c0c0; text-decoration-color: #c0c0c0\">     64.36% </span>│\n",
       "│<span style=\"color: #c0c0c0; text-decoration-color: #c0c0c0\"> │  └─ Tests Detected (test_detected=1)             </span>│<span style=\"color: #c0c0c0; text-decoration-color: #c0c0c0\">    25 </span>│<span style=\"color: #c0c0c0; text-decoration-color: #c0c0c0\">     24.75% </span>│\n",
       "│<span style=\"color: #c0c0c0; text-decoration-color: #c0c0c0\"> │     ├─ Not Viable for Test Dataset               </span>│<span style=\"color: #c0c0c0; text-decoration-color: #c0c0c0\">     6 </span>│<span style=\"color: #c0c0c0; text-decoration-color: #c0c0c0\">      5.94% </span>│\n",
       "│<span style=\"color: #c0c0c0; text-decoration-color: #c0c0c0\"> │     └─ Viable for Test Dataset                   </span>│<span style=\"color: #c0c0c0; text-decoration-color: #c0c0c0\">    19 </span>│<span style=\"color: #c0c0c0; text-decoration-color: #c0c0c0\">     18.81% </span>│\n",
       "│<span style=\"color: #c0c0c0; text-decoration-color: #c0c0c0\"> │        ├─ Successful Rebuild                     </span>│<span style=\"color: #c0c0c0; text-decoration-color: #c0c0c0\">    16 </span>│<span style=\"color: #c0c0c0; text-decoration-color: #c0c0c0\">     15.84% </span>│\n",
       "│<span style=\"color: #c0c0c0; text-decoration-color: #c0c0c0\"> (rebuild_returncode=0)                             </span>│<span style=\"color: #c0c0c0; text-decoration-color: #c0c0c0\">       </span>│<span style=\"color: #c0c0c0; text-decoration-color: #c0c0c0\">            </span>│\n",
       "│<span style=\"color: #800000; text-decoration-color: #800000\"> │        ├─ Failed/Timeout Rebuild                 </span>│<span style=\"color: #800000; text-decoration-color: #800000\">     3 </span>│<span style=\"color: #800000; text-decoration-color: #800000\">      2.97% </span>│\n",
       "│<span style=\"color: #c0c0c0; text-decoration-color: #c0c0c0\"> │        │  ├─ Successful Modified Rebuild         </span>│<span style=\"color: #c0c0c0; text-decoration-color: #c0c0c0\">    13 </span>│<span style=\"color: #c0c0c0; text-decoration-color: #c0c0c0\">     12.87% </span>│\n",
       "│<span style=\"color: #800000; text-decoration-color: #800000\"> │        │  ├─ Failed/Timeout Modified Rebuild     </span>│<span style=\"color: #800000; text-decoration-color: #800000\">     3 </span>│<span style=\"color: #800000; text-decoration-color: #800000\">      2.97% </span>│\n",
       "│<span style=\"color: #008000; text-decoration-color: #008000\"> │        │  │  ├─ Tests Passed (test_passed=1)     </span>│<span style=\"color: #008000; text-decoration-color: #008000\">    11 </span>│<span style=\"color: #008000; text-decoration-color: #008000\">     10.89% </span>│\n",
       "│<span style=\"color: #800000; text-decoration-color: #800000\"> │        │  │  └─ Tests Failed (test_passed=0)     </span>│<span style=\"color: #800000; text-decoration-color: #800000\">     2 </span>│<span style=\"color: #800000; text-decoration-color: #800000\">      1.98% </span>│\n",
       "│<span style=\"color: #008000; text-decoration-color: #008000; font-weight: bold\"> └─ COMPLETE SUCCESS: Ready for Dataset             </span>│<span style=\"color: #008000; text-decoration-color: #008000; font-weight: bold\">    11 </span>│<span style=\"color: #008000; text-decoration-color: #008000; font-weight: bold\">     10.89% </span>│\n",
       "└────────────────────────────────────────────────────┴───────┴────────────┘\n",
       "</pre>\n"
      ],
      "text/plain": [
       "\u001b[3m                 Complete Build and Test Pipeline Analysis                 \u001b[0m\n",
       "┏━━━━━━━━━━━━━━━━━━━━━━━━━━━━━━━━━━━━━━━━━━━━━━━━━━━━┳━━━━━━━┳━━━━━━━━━━━━┓\n",
       "┃\u001b[1;35m \u001b[0m\u001b[1;35mPipeline Stage                                    \u001b[0m\u001b[1;35m \u001b[0m┃\u001b[1;35m \u001b[0m\u001b[1;35mCount\u001b[0m\u001b[1;35m \u001b[0m┃\u001b[1;35m \u001b[0m\u001b[1;35mPercentage\u001b[0m\u001b[1;35m \u001b[0m┃\n",
       "┡━━━━━━━━━━━━━━━━━━━━━━━━━━━━━━━━━━━━━━━━━━━━━━━━━━━━╇━━━━━━━╇━━━━━━━━━━━━┩\n",
       "│\u001b[37m \u001b[0m\u001b[37mTotal Packages                                    \u001b[0m\u001b[37m \u001b[0m│\u001b[37m \u001b[0m\u001b[37m  101\u001b[0m\u001b[37m \u001b[0m│\u001b[37m \u001b[0m\u001b[37m   100.00%\u001b[0m\u001b[37m \u001b[0m│\n",
       "│\u001b[37m \u001b[0m\u001b[37m├─ Successful Original Builds                     \u001b[0m\u001b[37m \u001b[0m│\u001b[37m \u001b[0m\u001b[37m   90\u001b[0m\u001b[37m \u001b[0m│\u001b[37m \u001b[0m\u001b[37m    89.11%\u001b[0m\u001b[37m \u001b[0m│\n",
       "│\u001b[37m \u001b[0m\u001b[37m(build_return_code=0)                             \u001b[0m\u001b[37m \u001b[0m│\u001b[37m       \u001b[0m│\u001b[37m            \u001b[0m│\n",
       "│\u001b[37m \u001b[0m\u001b[37m│  ├─ No Tests Detected (test_detected=0)         \u001b[0m\u001b[37m \u001b[0m│\u001b[37m \u001b[0m\u001b[37m   65\u001b[0m\u001b[37m \u001b[0m│\u001b[37m \u001b[0m\u001b[37m    64.36%\u001b[0m\u001b[37m \u001b[0m│\n",
       "│\u001b[37m \u001b[0m\u001b[37m│  └─ Tests Detected (test_detected=1)            \u001b[0m\u001b[37m \u001b[0m│\u001b[37m \u001b[0m\u001b[37m   25\u001b[0m\u001b[37m \u001b[0m│\u001b[37m \u001b[0m\u001b[37m    24.75%\u001b[0m\u001b[37m \u001b[0m│\n",
       "│\u001b[37m \u001b[0m\u001b[37m│     ├─ Not Viable for Test Dataset              \u001b[0m\u001b[37m \u001b[0m│\u001b[37m \u001b[0m\u001b[37m    6\u001b[0m\u001b[37m \u001b[0m│\u001b[37m \u001b[0m\u001b[37m     5.94%\u001b[0m\u001b[37m \u001b[0m│\n",
       "│\u001b[37m \u001b[0m\u001b[37m│     └─ Viable for Test Dataset                  \u001b[0m\u001b[37m \u001b[0m│\u001b[37m \u001b[0m\u001b[37m   19\u001b[0m\u001b[37m \u001b[0m│\u001b[37m \u001b[0m\u001b[37m    18.81%\u001b[0m\u001b[37m \u001b[0m│\n",
       "│\u001b[37m \u001b[0m\u001b[37m│        ├─ Successful Rebuild                    \u001b[0m\u001b[37m \u001b[0m│\u001b[37m \u001b[0m\u001b[37m   16\u001b[0m\u001b[37m \u001b[0m│\u001b[37m \u001b[0m\u001b[37m    15.84%\u001b[0m\u001b[37m \u001b[0m│\n",
       "│\u001b[37m \u001b[0m\u001b[37m(rebuild_returncode=0)                            \u001b[0m\u001b[37m \u001b[0m│\u001b[37m       \u001b[0m│\u001b[37m            \u001b[0m│\n",
       "│\u001b[31m \u001b[0m\u001b[31m│        ├─ Failed/Timeout Rebuild                \u001b[0m\u001b[31m \u001b[0m│\u001b[31m \u001b[0m\u001b[31m    3\u001b[0m\u001b[31m \u001b[0m│\u001b[31m \u001b[0m\u001b[31m     2.97%\u001b[0m\u001b[31m \u001b[0m│\n",
       "│\u001b[37m \u001b[0m\u001b[37m│        │  ├─ Successful Modified Rebuild        \u001b[0m\u001b[37m \u001b[0m│\u001b[37m \u001b[0m\u001b[37m   13\u001b[0m\u001b[37m \u001b[0m│\u001b[37m \u001b[0m\u001b[37m    12.87%\u001b[0m\u001b[37m \u001b[0m│\n",
       "│\u001b[31m \u001b[0m\u001b[31m│        │  ├─ Failed/Timeout Modified Rebuild    \u001b[0m\u001b[31m \u001b[0m│\u001b[31m \u001b[0m\u001b[31m    3\u001b[0m\u001b[31m \u001b[0m│\u001b[31m \u001b[0m\u001b[31m     2.97%\u001b[0m\u001b[31m \u001b[0m│\n",
       "│\u001b[32m \u001b[0m\u001b[32m│        │  │  ├─ Tests Passed (test_passed=1)    \u001b[0m\u001b[32m \u001b[0m│\u001b[32m \u001b[0m\u001b[32m   11\u001b[0m\u001b[32m \u001b[0m│\u001b[32m \u001b[0m\u001b[32m    10.89%\u001b[0m\u001b[32m \u001b[0m│\n",
       "│\u001b[31m \u001b[0m\u001b[31m│        │  │  └─ Tests Failed (test_passed=0)    \u001b[0m\u001b[31m \u001b[0m│\u001b[31m \u001b[0m\u001b[31m    2\u001b[0m\u001b[31m \u001b[0m│\u001b[31m \u001b[0m\u001b[31m     1.98%\u001b[0m\u001b[31m \u001b[0m│\n",
       "│\u001b[1;32m \u001b[0m\u001b[1;32m└─ COMPLETE SUCCESS: Ready for Dataset            \u001b[0m\u001b[1;32m \u001b[0m│\u001b[1;32m \u001b[0m\u001b[1;32m   11\u001b[0m\u001b[1;32m \u001b[0m│\u001b[1;32m \u001b[0m\u001b[1;32m    10.89%\u001b[0m\u001b[1;32m \u001b[0m│\n",
       "└────────────────────────────────────────────────────┴───────┴────────────┘\n"
      ]
     },
     "metadata": {},
     "output_type": "display_data"
    },
    {
     "data": {
      "text/html": [
       "<pre style=\"white-space:pre;overflow-x:auto;line-height:normal;font-family:Menlo,'DejaVu Sans Mono',consolas,'Courier New',monospace\">\n",
       "<span style=\"color: #008080; text-decoration-color: #008080; font-weight: bold\">Pipeline Summary:</span>\n",
       "</pre>\n"
      ],
      "text/plain": [
       "\n",
       "\u001b[1;36mPipeline Summary:\u001b[0m\n"
      ]
     },
     "metadata": {},
     "output_type": "display_data"
    },
    {
     "data": {
      "text/html": [
       "<pre style=\"white-space:pre;overflow-x:auto;line-height:normal;font-family:Menlo,'DejaVu Sans Mono',consolas,'Courier New',monospace\">\n",
       "<span style=\"font-weight: bold\">Total Packages:</span> <span style=\"color: #008080; text-decoration-color: #008080; font-weight: bold\">101</span>\n",
       "<span style=\"font-weight: bold\">Successful Original Builds:</span> <span style=\"color: #008000; text-decoration-color: #008000; font-weight: bold\">90</span> <span style=\"font-weight: bold\">(</span><span style=\"color: #008000; text-decoration-color: #008000; font-weight: bold\">89.11</span><span style=\"color: #008000; text-decoration-color: #008000\">%</span><span style=\"font-weight: bold\">)</span>\n",
       "<span style=\"font-weight: bold\">Complete Pipeline Success:</span> <span style=\"color: #008000; text-decoration-color: #008000; font-weight: bold\">11</span> <span style=\"font-weight: bold\">(</span><span style=\"color: #008000; text-decoration-color: #008000; font-weight: bold\">10.89</span><span style=\"color: #008000; text-decoration-color: #008000; font-weight: bold\">%</span><span style=\"font-weight: bold\">)</span>\n",
       "<span style=\"font-weight: bold\">Pipeline Efficiency:</span> <span style=\"color: #808000; text-decoration-color: #808000; font-weight: bold\">12.22</span><span style=\"color: #808000; text-decoration-color: #808000\">%</span> of successful builds complete the full pipeline\n",
       "\n",
       "</pre>\n"
      ],
      "text/plain": [
       "\n",
       "\u001b[1mTotal Packages:\u001b[0m \u001b[1;36m101\u001b[0m\n",
       "\u001b[1mSuccessful Original Builds:\u001b[0m \u001b[1;32m90\u001b[0m \u001b[1m(\u001b[0m\u001b[1;32m89.11\u001b[0m\u001b[32m%\u001b[0m\u001b[1m)\u001b[0m\n",
       "\u001b[1mComplete Pipeline Success:\u001b[0m \u001b[1;32m11\u001b[0m \u001b[1m(\u001b[0m\u001b[1;32m10.89\u001b[0m\u001b[1;32m%\u001b[0m\u001b[1m)\u001b[0m\n",
       "\u001b[1mPipeline Efficiency:\u001b[0m \u001b[1;33m12.22\u001b[0m\u001b[33m%\u001b[0m of successful builds complete the full pipeline\n",
       "\n"
      ]
     },
     "metadata": {},
     "output_type": "display_data"
    }
   ],
   "source": [
    "# Comprehensive Build and Test Pipeline Analysis\n",
    "\n",
    "console.print(\"\\n[bold][cyan]Comprehensive Build and Test Pipeline Analysis:[/cyan][/bold]\", style=\"bold\")\n",
    "\n",
    "pipeline_stats = []\n",
    "\n",
    "total_packages = df.height\n",
    "pipeline_stats.append((\"Total Packages\", total_packages, 100.0))\n",
    "\n",
    "# Step 1: Original build success (return_code=0)\n",
    "successful_builds = df.filter(pl.col(\"build_return_code\") == 0)\n",
    "successful_count = successful_builds.height\n",
    "successful_pct = (successful_count / total_packages * 100)\n",
    "pipeline_stats.append((\"├─ Successful Original Builds (build_return_code=0)\", successful_count, successful_pct))\n",
    "\n",
    "if successful_builds.height > 0:\n",
    "    # Step 2: Test detection\n",
    "    test_detected_stats = successful_builds.group_by(\"test_detected\").agg(pl.len().alias(\"count\"))\n",
    "    \n",
    "    test_detected_0 = test_detected_stats.filter(pl.col(\"test_detected\") == 0)\n",
    "    test_detected_0_count = test_detected_0.get_column(\"count\").sum() if test_detected_0.height > 0 else 0\n",
    "    test_detected_0_pct = (test_detected_0_count / total_packages * 100)\n",
    "    pipeline_stats.append((\"│  ├─ No Tests Detected (test_detected=0)\", test_detected_0_count, test_detected_0_pct))\n",
    "    \n",
    "    test_detected_1 = test_detected_stats.filter(pl.col(\"test_detected\") == 1)\n",
    "    test_detected_1_count = test_detected_1.get_column(\"count\").sum() if test_detected_1.height > 0 else 0\n",
    "    test_detected_1_pct = (test_detected_1_count / total_packages * 100)\n",
    "    pipeline_stats.append((\"│  └─ Tests Detected (test_detected=1)\", test_detected_1_count, test_detected_1_pct))\n",
    "    \n",
    "    # Step 3: Package viability for test dataset (only for packages with tests)\n",
    "    viable_candidates = successful_builds.filter(pl.col(\"test_detected\") == 1)\n",
    "    if viable_candidates.height > 0:\n",
    "        viable_stats = viable_candidates.group_by(\"package_viable_for_test_dataset\").agg(pl.len().alias(\"count\"))\n",
    "        \n",
    "        viable_0 = viable_stats.filter(pl.col(\"package_viable_for_test_dataset\") == 0)\n",
    "        viable_0_count = viable_0.get_column(\"count\").sum() if viable_0.height > 0 else 0\n",
    "        viable_0_pct = (viable_0_count / total_packages * 100)\n",
    "        pipeline_stats.append((\"│     ├─ Not Viable for Test Dataset\", viable_0_count, viable_0_pct))\n",
    "        \n",
    "        viable_1 = viable_stats.filter(pl.col(\"package_viable_for_test_dataset\") == 1)\n",
    "        viable_1_count = viable_1.get_column(\"count\").sum() if viable_1.height > 0 else 0\n",
    "        viable_1_pct = (viable_1_count / total_packages * 100)\n",
    "        pipeline_stats.append((\"│     └─ Viable for Test Dataset\", viable_1_count, viable_1_pct))\n",
    "        \n",
    "        # Step 4: Rebuild success (only for viable packages)\n",
    "        viable_packages = viable_candidates.filter(pl.col(\"package_viable_for_test_dataset\") == 1)\n",
    "        if viable_packages.height > 0:\n",
    "            rebuild_stats = viable_packages.group_by(\"rebuild_returncode\").agg(pl.len().alias(\"count\"))\n",
    "            \n",
    "            rebuild_0 = rebuild_stats.filter(pl.col(\"rebuild_returncode\") == 0)\n",
    "            rebuild_0_count = rebuild_0.get_column(\"count\").sum() if rebuild_0.height > 0 else 0\n",
    "            rebuild_0_pct = (rebuild_0_count / total_packages * 100)\n",
    "            pipeline_stats.append((\"│        ├─ Successful Rebuild (rebuild_returncode=0)\", rebuild_0_count, rebuild_0_pct))\n",
    "            \n",
    "            rebuild_non_0 = viable_packages.filter(pl.col(\"rebuild_returncode\") != 0).height\n",
    "            rebuild_non_0_pct = (rebuild_non_0 / total_packages * 100)\n",
    "            pipeline_stats.append((\"│        ├─ Failed/Timeout Rebuild\", rebuild_non_0, rebuild_non_0_pct))\n",
    "            \n",
    "            # Step 5: Modified rebuild success (only for successful rebuilds)\n",
    "            successful_rebuilds = viable_packages.filter(pl.col(\"rebuild_returncode\") == 0)\n",
    "            if successful_rebuilds.height > 0:\n",
    "                modified_rebuild_stats = successful_rebuilds.group_by(\"modified_rebuild_returncode\").agg(pl.len().alias(\"count\"))\n",
    "                \n",
    "                modified_rebuild_0 = modified_rebuild_stats.filter(pl.col(\"modified_rebuild_returncode\") == 0)\n",
    "                modified_rebuild_0_count = modified_rebuild_0.get_column(\"count\").sum() if modified_rebuild_0.height > 0 else 0\n",
    "                modified_rebuild_0_pct = (modified_rebuild_0_count / total_packages * 100)\n",
    "                pipeline_stats.append((\"│        │  ├─ Successful Modified Rebuild\", modified_rebuild_0_count, modified_rebuild_0_pct))\n",
    "                \n",
    "                modified_rebuild_non_0 = successful_rebuilds.filter(pl.col(\"modified_rebuild_returncode\") != 0).height\n",
    "                modified_rebuild_non_0_pct = (modified_rebuild_non_0 / total_packages * 100)\n",
    "                pipeline_stats.append((\"│        │  ├─ Failed/Timeout Modified Rebuild\", modified_rebuild_non_0, modified_rebuild_non_0_pct))\n",
    "                \n",
    "                # Step 6: Test results (only for successful modified rebuilds)\n",
    "                successful_modified_rebuilds = successful_rebuilds.filter(pl.col(\"modified_rebuild_returncode\") == 0)\n",
    "                if successful_modified_rebuilds.height > 0:\n",
    "                    test_results = successful_modified_rebuilds.filter(pl.col(\"test_passed\").is_not_null())\n",
    "                    if test_results.height > 0:\n",
    "                        test_passed_stats = test_results.group_by(\"test_passed\").agg(pl.len().alias(\"count\"))\n",
    "                        \n",
    "                        test_passed_1 = test_passed_stats.filter(pl.col(\"test_passed\") == 1)\n",
    "                        test_passed_1_count = test_passed_1.get_column(\"count\").sum() if test_passed_1.height > 0 else 0\n",
    "                        test_passed_1_pct = (test_passed_1_count / total_packages * 100)\n",
    "                        pipeline_stats.append((\"│        │  │  ├─ Tests Passed (test_passed=1)\", test_passed_1_count, test_passed_1_pct))\n",
    "                        \n",
    "                        test_passed_0 = test_passed_stats.filter(pl.col(\"test_passed\") == 0)\n",
    "                        test_passed_0_count = test_passed_0.get_column(\"count\").sum() if test_passed_0.height > 0 else 0\n",
    "                        test_passed_0_pct = (test_passed_0_count / total_packages * 100)\n",
    "                        pipeline_stats.append((\"│        │  │  └─ Tests Failed (test_passed=0)\", test_passed_0_count, test_passed_0_pct))\n",
    "                        \n",
    "                        # Final success: Complete pipeline\n",
    "                        complete_success_pct = (test_passed_1_count / total_packages * 100)\n",
    "                        pipeline_stats.append((\"└─ COMPLETE SUCCESS: Ready for Dataset\", test_passed_1_count, complete_success_pct))\n",
    "                    else:\n",
    "                        pipeline_stats.append((\"│        │  │  └─ No test results available\", 0, 0.0))\n",
    "                        pipeline_stats.append((\"└─ COMPLETE SUCCESS: Ready for Dataset\", 0, 0.0))\n",
    "                else:\n",
    "                    pipeline_stats.append((\"│        │  └─ No successful modified rebuilds\", 0, 0.0))\n",
    "                    pipeline_stats.append((\"└─ COMPLETE SUCCESS: Ready for Dataset\", 0, 0.0))\n",
    "            else:\n",
    "                pipeline_stats.append((\"│        └─ No successful rebuilds\", 0, 0.0))\n",
    "                pipeline_stats.append((\"└─ COMPLETE SUCCESS: Ready for Dataset\", 0, 0.0))\n",
    "        else:\n",
    "            pipeline_stats.append((\"│     └─ No viable packages for rebuild testing\", 0, 0.0))\n",
    "            pipeline_stats.append((\"└─ COMPLETE SUCCESS: Ready for Dataset\", 0, 0.0))\n",
    "    else:\n",
    "        pipeline_stats.append((\"│  └─ No packages with detected tests\", 0, 0.0))\n",
    "        pipeline_stats.append((\"└─ COMPLETE SUCCESS: Ready for Dataset\", 0, 0.0))\n",
    "else:\n",
    "    pipeline_stats.append((\"└─ No successful builds\", 0, 0.0))\n",
    "    pipeline_stats.append((\"└─ COMPLETE SUCCESS: Ready for Dataset\", 0, 0.0))\n",
    "\n",
    "pipeline_table = Table(title=\"Complete Build and Test Pipeline Analysis\", show_header=True, header_style=\"bold magenta\")\n",
    "pipeline_table.add_column(\"Pipeline Stage\", style=\"cyan\", no_wrap=False, width=50)\n",
    "pipeline_table.add_column(\"Count\", style=\"green\", justify=\"right\")\n",
    "pipeline_table.add_column(\"Percentage\", style=\"green\", justify=\"right\")\n",
    "\n",
    "for stage, count, percentage in pipeline_stats:\n",
    "\n",
    "    if \"COMPLETE SUCCESS\" in stage:\n",
    "        style = \"bold green\"\n",
    "    elif \"Failed\" in stage or \"Timeout\" in stage:\n",
    "        style = \"red\"\n",
    "    elif \"Tests Passed\" in stage:\n",
    "        style = \"green\"\n",
    "    elif \"Tests Failed\" in stage:\n",
    "        style = \"yellow\"\n",
    "    else:\n",
    "        style = \"white\"\n",
    "    \n",
    "    pipeline_table.add_row(stage, f\"{count}\", f\"{percentage:.2f}%\", style=style)\n",
    "\n",
    "console.print(pipeline_table)\n",
    "\n",
    "console.print(\"\\n[bold][cyan]Pipeline Summary:[/cyan][/bold]\", style=\"bold\")\n",
    "\n",
    "final_success_count = 0\n",
    "for stage, count, percentage in pipeline_stats:\n",
    "    if \"COMPLETE SUCCESS\" in stage:\n",
    "        final_success_count = count\n",
    "        break\n",
    "\n",
    "summary_info = f\"\"\"\n",
    "[bold]Total Packages:[/bold] [cyan]{total_packages}[/cyan]\n",
    "[bold]Successful Original Builds:[/bold] [green]{successful_count}[/green] ([green]{successful_pct:.2f}%[/green])\n",
    "[bold]Complete Pipeline Success:[/bold] [bold green]{final_success_count}[/bold green] ([bold green]{(final_success_count/total_packages*100):.2f}%[/bold green])\n",
    "[bold]Pipeline Efficiency:[/bold] [yellow]{(final_success_count/successful_count*100) if successful_count > 0 else 0:.2f}%[/yellow] of successful builds complete the full pipeline\n",
    "\"\"\"\n",
    "\n",
    "console.print(summary_info)"
   ]
  }
 ],
 "metadata": {
  "kernelspec": {
   "display_name": "LLM_Comp",
   "language": "python",
   "name": "python3"
  },
  "language_info": {
   "codemirror_mode": {
    "name": "ipython",
    "version": 3
   },
   "file_extension": ".py",
   "mimetype": "text/x-python",
   "name": "python",
   "nbconvert_exporter": "python",
   "pygments_lexer": "ipython3",
   "version": "3.12.3"
  }
 },
 "nbformat": 4,
 "nbformat_minor": 5
}
